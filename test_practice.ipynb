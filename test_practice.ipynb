{
 "cells": [
  {
   "cell_type": "markdown",
   "id": "65397185",
   "metadata": {},
   "source": [
    "# Linear Regression"
   ]
  },
  {
   "cell_type": "code",
   "execution_count": 1,
   "id": "386f7906",
   "metadata": {},
   "outputs": [],
   "source": [
    "import numpy as np\n",
    "import matplotlib.pyplot as plt\n",
    "import seaborn as sns"
   ]
  },
  {
   "cell_type": "markdown",
   "id": "fa8786ec",
   "metadata": {},
   "source": [
    "## Training Data"
   ]
  },
  {
   "cell_type": "code",
   "execution_count": 51,
   "id": "1fe42b9c",
   "metadata": {},
   "outputs": [],
   "source": [
    "X= np.random.normal(size = 100)\n",
    "w0,w1 = (3,4)\n",
    "\n",
    "y = w0 + w1*X + np.random.normal(size = 100)"
   ]
  },
  {
   "cell_type": "code",
   "execution_count": 52,
   "id": "91912458",
   "metadata": {},
   "outputs": [
    {
     "data": {
      "text/plain": [
       "Text(0, 0.5, '$\\\\mathbf{Y}$')"
      ]
     },
     "execution_count": 52,
     "metadata": {},
     "output_type": "execute_result"
    },
    {
     "data": {
      "image/png": "[encoded data removed]",
      "text/plain": [
       "<Figure size 432x288 with 1 Axes>"
      ]
     },
     "metadata": {
      "needs_background": "light"
     },
     "output_type": "display_data"
    }
   ],
   "source": [
    "plt.plot(X,y,'.b')\n",
    "plt.grid(True)\n",
    "plt.xlabel(\"$\\mathbf{X}$\")\n",
    "plt.ylabel(\"$\\mathbf{Y}$\")"
   ]
  },
  {
   "cell_type": "markdown",
   "id": "035092c9",
   "metadata": {},
   "source": [
    "## Adding dummy feature to the feature matrix"
   ]
  },
  {
   "cell_type": "code",
   "execution_count": 53,
   "id": "bb5e357b",
   "metadata": {},
   "outputs": [],
   "source": [
    "def add_dummy_feature(X):\n",
    "    return np.column_stack((np.ones(X.shape[0]),X))"
   ]
  },
  {
   "cell_type": "code",
   "execution_count": 54,
   "id": "c7c9e776",
   "metadata": {},
   "outputs": [],
   "source": [
    "X_new = add_dummy_feature(X)"
   ]
  },
  {
   "cell_type": "markdown",
   "id": "d08ab93a",
   "metadata": {},
   "source": [
    "## Linear Regression Class"
   ]
  },
  {
   "cell_type": "code",
   "execution_count": 55,
   "id": "42266a67",
   "metadata": {},
   "outputs": [],
   "source": [
    "class LinearRegression():\n",
    "    \n",
    "    def predict(self,X:np.ndarray):\n",
    "        return X@self.w\n",
    "    \n",
    "    def loss(self,X:np.ndarray,y:np.ndarray):\n",
    "        return (1/2)*np.transpose((self.predict(X) - y))@(self.predict(X) - y)\n",
    "    \n",
    "    def calculate_gradient(self,X:np.ndarray,y:np.ndarray):\n",
    "        return X.T@(self.predict(X) - y)\n",
    "    \n",
    "    def change_weight_vector(self,lr,grad):\n",
    "        self.w -= lr*grad\n",
    "    \n",
    "    def fit(self,X:np.ndarray,y:np.ndarray,lr,epochs):\n",
    "        self.w = np.zeros(X.shape[-1])\n",
    "        self.weights = []\n",
    "        self.errors = []\n",
    "        \n",
    "        for _ in range(epochs):\n",
    "            self.weights.append(self.w)\n",
    "            loss = self.loss(X,y)\n",
    "            self.errors.append(loss)\n",
    "            dJdw = np.transpose(X)@(self.predict(X) - y)\n",
    "            self.w -= lr*dJdw\n",
    "            \n",
    "        return self.w,self.errors,self.weights"
   ]
  },
  {
   "cell_type": "code",
   "execution_count": 56,
   "id": "c4a6f0c5",
   "metadata": {},
   "outputs": [],
   "source": [
    "linreg = LinearRegression()"
   ]
  },
  {
   "cell_type": "code",
   "execution_count": 57,
   "id": "59927f1c",
   "metadata": {},
   "outputs": [],
   "source": [
    "weights,errors,weight_vector = linreg.fit(X_new,y,0.0001,1000)"
   ]
  },
  {
   "cell_type": "code",
   "execution_count": 58,
   "id": "2db50e2e",
   "metadata": {},
   "outputs": [
    {
     "data": {
      "text/plain": [
       "array([3.10241316, 3.96813521])"
      ]
     },
     "execution_count": 58,
     "metadata": {},
     "output_type": "execute_result"
    }
   ],
   "source": [
    "weights"
   ]
  },
  {
   "cell_type": "markdown",
   "id": "8b301765",
   "metadata": {},
   "source": [
    "## Plotting the errors"
   ]
  },
  {
   "cell_type": "code",
   "execution_count": 59,
   "id": "f83ba600",
   "metadata": {},
   "outputs": [
    {
     "data": {
      "image/png": "[encoded data removed]",
      "text/plain": [
       "<Figure size 432x288 with 1 Axes>"
      ]
     },
     "metadata": {
      "needs_background": "light"
     },
     "output_type": "display_data"
    }
   ],
   "source": [
    "plt.plot(errors,'-r')\n",
    "plt.title(\"Training curve\")\n",
    "plt.xlabel(\"Iter #\")\n",
    "plt.ylabel(\"$\\mathbf{J(w)}$\")\n",
    "plt.grid(True)\n",
    "plt.show()"
   ]
  },
  {
   "cell_type": "markdown",
   "id": "b247f153",
   "metadata": {},
   "source": [
    "## Plotting the prediction line"
   ]
  },
  {
   "cell_type": "code",
   "execution_count": 61,
   "id": "3cf993cd",
   "metadata": {},
   "outputs": [],
   "source": [
    "y_pred = linreg.predict(X_new)"
   ]
  },
  {
   "cell_type": "code",
   "execution_count": 66,
   "id": "f8ccba7b",
   "metadata": {},
   "outputs": [
    {
     "data": {
      "text/plain": [
       "Text(0, 0.5, '$\\\\mathbf{Y}$')"
      ]
     },
     "execution_count": 66,
     "metadata": {},
     "output_type": "execute_result"
    },
    {
     "data": {
      "image/png": "[encoded data removed]",
      "text/plain": [
       "<Figure size 432x288 with 1 Axes>"
      ]
     },
     "metadata": {
      "needs_background": "light"
     },
     "output_type": "display_data"
    }
   ],
   "source": [
    "plt.plot(X,y,'.b')\n",
    "plt.plot(X,y_pred,'-r')\n",
    "plt.grid(True)\n",
    "plt.xlabel(\"$\\mathbf{X}$\")\n",
    "plt.ylabel(\"$\\mathbf{Y}$\")"
   ]
  },
  {
   "cell_type": "markdown",
   "id": "8f391442",
   "metadata": {},
   "source": [
    "# Polynomial Regression"
   ]
  },
  {
   "cell_type": "markdown",
   "id": "48440eb7",
   "metadata": {},
   "source": [
    "## Feature transformation"
   ]
  },
  {
   "cell_type": "code",
   "execution_count": 5,
   "id": "40fb7087",
   "metadata": {},
   "outputs": [],
   "source": [
    "import itertools\n",
    "import functools\n",
    "import numpy as np"
   ]
  },
  {
   "cell_type": "code",
   "execution_count": 6,
   "id": "c9672201",
   "metadata": {},
   "outputs": [],
   "source": [
    "def get_combinations(x,degree):\n",
    "    return itertools.combinations_with_replacement(x,degree)\n",
    "\n",
    "def compute_new_features(items):\n",
    "    return functools.reduce(lambda x,y:x*y,items)"
   ]
  },
  {
   "cell_type": "code",
   "execution_count": 7,
   "id": "e27d4e8c",
   "metadata": {},
   "outputs": [],
   "source": [
    "x = np.array([[1,2],[5,4]])"
   ]
  },
  {
   "cell_type": "code",
   "execution_count": 8,
   "id": "41e02b3f",
   "metadata": {},
   "outputs": [
    {
     "name": "stdout",
     "output_type": "stream",
     "text": [
      "(array([1, 5]), array([1, 5])) [ 1 25]\n",
      "(array([1, 5]), array([2, 4])) [ 2 20]\n",
      "(array([2, 4]), array([2, 4])) [ 4 16]\n"
     ]
    }
   ],
   "source": [
    "for i in get_combinations(np.transpose(x),2):\n",
    "    print(i,compute_new_features(i))"
   ]
  },
  {
   "cell_type": "code",
   "execution_count": 9,
   "id": "99ee065e",
   "metadata": {},
   "outputs": [],
   "source": [
    "def polynomial_transform(X,degree):\n",
    "    X = np.array(X)\n",
    "    X_t = np.transpose(X)\n",
    "    \n",
    "    features = [np.ones(len(X))]\n",
    "    \n",
    "    for i in range(1,degree+1):\n",
    "        for j in get_combinations(X_t,i):\n",
    "            feature = compute_new_features(j)\n",
    "            \n",
    "            features.append(feature)\n",
    "    \n",
    "    \n",
    "    return np.transpose(features)"
   ]
  },
  {
   "cell_type": "markdown",
   "id": "b1db460a",
   "metadata": {},
   "source": [
    "## Training data"
   ]
  },
  {
   "cell_type": "code",
   "execution_count": 127,
   "id": "af60405c",
   "metadata": {},
   "outputs": [],
   "source": [
    "X = np.random.normal(size = 100)\n",
    "\n",
    "y = 3 + 4*X + 7*(X**2) + np.random.normal(size=100)"
   ]
  },
  {
   "cell_type": "code",
   "execution_count": 133,
   "id": "cab1f8ca",
   "metadata": {},
   "outputs": [
    {
     "data": {
      "text/plain": [
       "Text(0, 0.5, '$\\\\mathbf{Y}')"
      ]
     },
     "execution_count": 133,
     "metadata": {},
     "output_type": "execute_result"
    },
    {
     "data": {
      "image/png": "[encoded data removed]",
      "text/plain": [
       "<Figure size 432x288 with 1 Axes>"
      ]
     },
     "metadata": {
      "needs_background": "light"
     },
     "output_type": "display_data"
    }
   ],
   "source": [
    "plt.grid(True)\n",
    "plt.plot(X,y,'.b')\n",
    "plt.xlabel(\"$\\mathbf{X}\")\n",
    "plt.ylabel(\"$\\mathbf{Y}\")"
   ]
  },
  {
   "cell_type": "code",
   "execution_count": 136,
   "id": "58b0732d",
   "metadata": {},
   "outputs": [
    {
     "name": "stderr",
     "output_type": "stream",
     "text": [
      "C:\\Users\\user\\anaconda3\\lib\\site-packages\\numpy\\core\\_asarray.py:83: VisibleDeprecationWarning: Creating an ndarray from ragged nested sequences (which is a list-or-tuple of lists-or-tuples-or ndarrays with different lengths or shapes) is deprecated. If you meant to do this, you must specify 'dtype=object' when creating the ndarray\n",
      "  return array(a, dtype, copy=False, order=order)\n"
     ]
    },
    {
     "data": {
      "text/plain": [
       "((100,), (5151,))"
      ]
     },
     "execution_count": 136,
     "metadata": {},
     "output_type": "execute_result"
    }
   ],
   "source": [
    "X_poly = polynomial_transform(X,2)\n",
    "X.shape,X_poly.shape"
   ]
  },
  {
   "cell_type": "markdown",
   "id": "654ca0c2",
   "metadata": {},
   "source": [
    "## We use linear regression as polynomial regression "
   ]
  },
  {
   "cell_type": "code",
   "execution_count": 137,
   "id": "df1c747b",
   "metadata": {},
   "outputs": [],
   "source": [
    "class LinearRegression():\n",
    "    \n",
    "    def predict(self,X:np.ndarray):\n",
    "        return X@self.w\n",
    "    \n",
    "    def loss(self,X:np.ndarray,y:np.ndarray):\n",
    "        return (1/2)*np.transpose((self.predict(X) - y))@(self.predict(X) - y)\n",
    "    \n",
    "    def calculate_gradient(self,X:np.ndarray,y:np.ndarray):\n",
    "        return X.T@(self.predict(X) - y)\n",
    "    \n",
    "    def change_weight_vector(self,lr,grad):\n",
    "        self.w -= lr*grad\n",
    "    \n",
    "    def fit(self,X:np.ndarray,y:np.ndarray,lr,epochs):\n",
    "        self.w = np.zeros(X.shape[-1])\n",
    "        self.weights = []\n",
    "        self.errors = []\n",
    "        \n",
    "        for _ in range(epochs):\n",
    "            self.weights.append(self.w)\n",
    "            loss = self.loss(X,y)\n",
    "            self.errors.append(loss)\n",
    "            dJdw = np.transpose(X)@(self.predict(X) - y)\n",
    "            self.w -= lr*dJdw\n",
    "            \n",
    "        return self.w,self.errors,self.weights"
   ]
  },
  {
   "cell_type": "code",
   "execution_count": 138,
   "id": "e7f1cc19",
   "metadata": {},
   "outputs": [],
   "source": [
    "poly_reg = LinearRegression()"
   ]
  },
  {
   "cell_type": "code",
   "execution_count": 141,
   "id": "3ff1d997",
   "metadata": {},
   "outputs": [
    {
     "ename": "ValueError",
     "evalue": "matmul: Input operand 1 has a mismatch in its core dimension 0, with gufunc signature (n?,k),(k,m?)->(n?,m?) (size 100 is different from 5151)",
     "output_type": "error",
     "traceback": [
      "\u001b[1;31m---------------------------------------------------------------------------\u001b[0m",
      "\u001b[1;31mValueError\u001b[0m                                Traceback (most recent call last)",
      "\u001b[1;32m~\\AppData\\Local\\Temp/ipykernel_13488/1369514660.py\u001b[0m in \u001b[0;36m<module>\u001b[1;34m\u001b[0m\n\u001b[1;32m----> 1\u001b[1;33m \u001b[0mpoly_reg\u001b[0m\u001b[1;33m.\u001b[0m\u001b[0mfit\u001b[0m\u001b[1;33m(\u001b[0m\u001b[0mX_poly\u001b[0m\u001b[1;33m,\u001b[0m\u001b[0my\u001b[0m\u001b[1;33m,\u001b[0m\u001b[1;36m0.001\u001b[0m\u001b[1;33m,\u001b[0m\u001b[1;36m100\u001b[0m\u001b[1;33m)\u001b[0m\u001b[1;33m\u001b[0m\u001b[1;33m\u001b[0m\u001b[0m\n\u001b[0m",
      "\u001b[1;32m~\\AppData\\Local\\Temp/ipykernel_13488/486970202.py\u001b[0m in \u001b[0;36mfit\u001b[1;34m(self, X, y, lr, epochs)\u001b[0m\n\u001b[0;32m     22\u001b[0m             \u001b[0mloss\u001b[0m \u001b[1;33m=\u001b[0m \u001b[0mself\u001b[0m\u001b[1;33m.\u001b[0m\u001b[0mloss\u001b[0m\u001b[1;33m(\u001b[0m\u001b[0mX\u001b[0m\u001b[1;33m,\u001b[0m\u001b[0my\u001b[0m\u001b[1;33m)\u001b[0m\u001b[1;33m\u001b[0m\u001b[1;33m\u001b[0m\u001b[0m\n\u001b[0;32m     23\u001b[0m             \u001b[0mself\u001b[0m\u001b[1;33m.\u001b[0m\u001b[0merrors\u001b[0m\u001b[1;33m.\u001b[0m\u001b[0mappend\u001b[0m\u001b[1;33m(\u001b[0m\u001b[0mloss\u001b[0m\u001b[1;33m)\u001b[0m\u001b[1;33m\u001b[0m\u001b[1;33m\u001b[0m\u001b[0m\n\u001b[1;32m---> 24\u001b[1;33m             \u001b[0mdJdw\u001b[0m \u001b[1;33m=\u001b[0m \u001b[0mnp\u001b[0m\u001b[1;33m.\u001b[0m\u001b[0mtranspose\u001b[0m\u001b[1;33m(\u001b[0m\u001b[0mX\u001b[0m\u001b[1;33m)\u001b[0m\u001b[1;33m@\u001b[0m\u001b[1;33m(\u001b[0m\u001b[0mself\u001b[0m\u001b[1;33m.\u001b[0m\u001b[0mpredict\u001b[0m\u001b[1;33m(\u001b[0m\u001b[0mX\u001b[0m\u001b[1;33m)\u001b[0m \u001b[1;33m-\u001b[0m \u001b[0my\u001b[0m\u001b[1;33m)\u001b[0m\u001b[1;33m\u001b[0m\u001b[1;33m\u001b[0m\u001b[0m\n\u001b[0m\u001b[0;32m     25\u001b[0m             \u001b[0mself\u001b[0m\u001b[1;33m.\u001b[0m\u001b[0mw\u001b[0m \u001b[1;33m-=\u001b[0m \u001b[0mlr\u001b[0m\u001b[1;33m*\u001b[0m\u001b[0mdJdw\u001b[0m\u001b[1;33m\u001b[0m\u001b[1;33m\u001b[0m\u001b[0m\n\u001b[0;32m     26\u001b[0m \u001b[1;33m\u001b[0m\u001b[0m\n",
      "\u001b[1;31mValueError\u001b[0m: matmul: Input operand 1 has a mismatch in its core dimension 0, with gufunc signature (n?,k),(k,m?)->(n?,m?) (size 100 is different from 5151)"
     ]
    }
   ],
   "source": [
    "poly_reg.fit(X_poly,y,0.001,100)"
   ]
  },
  {
   "cell_type": "markdown",
   "id": "324f36cb",
   "metadata": {},
   "source": [
    "# Least Square Classifier"
   ]
  },
  {
   "cell_type": "markdown",
   "id": "536256fa",
   "metadata": {},
   "source": [
    "## One hot encoding "
   ]
  },
  {
   "cell_type": "code",
   "execution_count": 3,
   "id": "b5f2c370",
   "metadata": {},
   "outputs": [],
   "source": [
    "def one_hot_encode(labels):\n",
    "    e = np.eye(len(np.unique(labels)))\n",
    "    return e[labels]"
   ]
  },
  {
   "cell_type": "code",
   "execution_count": 4,
   "id": "21c628e2",
   "metadata": {},
   "outputs": [
    {
     "data": {
      "text/plain": [
       "array([[1., 0., 0.],\n",
       "       [0., 1., 0.],\n",
       "       [1., 0., 0.],\n",
       "       [0., 0., 1.]])"
      ]
     },
     "execution_count": 4,
     "metadata": {},
     "output_type": "execute_result"
    }
   ],
   "source": [
    "y = np.array([0,1,0,2])\n",
    "one_hot_encode(y)"
   ]
  },
  {
   "cell_type": "code",
   "execution_count": 20,
   "id": "b79d53e9",
   "metadata": {},
   "outputs": [],
   "source": [
    "class LeastSquareClassifier():\n",
    "    def predict(self,X:np.ndarray):\n",
    "        return np.argmax(X@self.w,axis = 1)\n",
    "    \n",
    "    def _predict_internal(self,X:np.ndarray):\n",
    "        return X@self.w\n",
    "    \n",
    "    def loss(self,X:np.ndarray,y:np.ndarray):\n",
    "        return (1/2)*np.transpose(self._predict_internal(X) - y)@(self._predict_internal(X) - y)\n",
    "    \n",
    "    def fit(self,X:np.ndarray,y:np.ndarray):\n",
    "        self.w = np.linalg.pinv(X)@y\n",
    "        \n",
    "        return self.w"
   ]
  },
  {
   "cell_type": "code",
   "execution_count": 21,
   "id": "eb9d830c",
   "metadata": {},
   "outputs": [],
   "source": [
    "lsc = LeastSquareClassifier()\n",
    "X = np.array([[1,-3,2,-5],[1,9,-4,7]])\n",
    "w = np.array([1,1,1,1])\n",
    "y = np.array([1,0])"
   ]
  },
  {
   "cell_type": "code",
   "execution_count": 22,
   "id": "16a81029",
   "metadata": {},
   "outputs": [],
   "source": [
    "w_new = lsc.fit(X,y)"
   ]
  },
  {
   "cell_type": "code",
   "execution_count": 23,
   "id": "64137249",
   "metadata": {},
   "outputs": [
    {
     "data": {
      "text/plain": [
       "1.2094840050751841e-30"
      ]
     },
     "execution_count": 23,
     "metadata": {},
     "output_type": "execute_result"
    }
   ],
   "source": [
    "lsc.loss(X,y)"
   ]
  },
  {
   "cell_type": "markdown",
   "id": "d1414325",
   "metadata": {},
   "source": [
    "## confusion Matrix"
   ]
  },
  {
   "cell_type": "code",
   "execution_count": 24,
   "id": "cf75ec0d",
   "metadata": {},
   "outputs": [],
   "source": [
    "def confusion_matrix(y,y_hat):\n",
    "    TN = np.where((y == 0) and (y_hat == 0),1,0).sum()\n",
    "    TP = np.where((y == 1) and (y_hat == 1),1,0).sum()\n",
    "    FN = np.where((y == 1) and (y_hat == 0),1,0).sum()\n",
    "    FP = np.where((y == 0) and (y_hat == 1),1,0).sum()\n",
    "    \n",
    "    return np.array([\n",
    "        [TP,FP],[FN,TN]\n",
    "    ])"
   ]
  },
  {
   "cell_type": "markdown",
   "id": "d4ee44d0",
   "metadata": {},
   "source": [
    "# Perceptron"
   ]
  },
  {
   "cell_type": "code",
   "execution_count": null,
   "id": "e28e7487",
   "metadata": {},
   "outputs": [],
   "source": [
    "class Perceptron():\n",
    "    def predict(self,X:np.ndarray):\n",
    "        z =  X@self.w\n",
    "        return np.where(z>=0,1,-1)\n",
    "    \n",
    "    \n",
    "    def loss(self,X:np.ndarray,y:np.ndarray):\n",
    "        z = -1*np.transpose(self.w)@(self.predict(X)@y)\n",
    "        return np.maximum(np.zeros(z.shape[0]),z)\n",
    "    \n",
    "    def fit(self,X:np.ndarray,y:np.ndarray,epochs:int):\n",
    "        self.w = np.zeros(X.shape[-1])\n",
    "        self.weights = []\n",
    "        self.errors = []\n",
    "        for i in range(epochs):\n",
    "            self.weights.append(self.w)\n",
    "            error = 0\n",
    "            for x,y in zip(X,y):\n",
    "                error = self.loss(x,y)\n",
    "                self.errors.append(error)\n",
    "                self.w -= \n",
    "    "
   ]
  },
  {
   "cell_type": "markdown",
   "id": "2cc07710",
   "metadata": {},
   "source": [
    "# Logistic Regression"
   ]
  },
  {
   "cell_type": "code",
   "execution_count": 224,
   "id": "daff66e6",
   "metadata": {},
   "outputs": [],
   "source": [
    "def create_dataset():\n",
    "    x0 = np.random.normal(size=50).reshape(-1,2) - 1\n",
    "    x1 = np.random.normal(size = 50).reshape(-1,2) + 1\n",
    "    return np.concatenate([x0,x1]), np.concatenate([np.zeros(25),np.ones(25)])"
   ]
  },
  {
   "cell_type": "code",
   "execution_count": 225,
   "id": "3fe5ae1e",
   "metadata": {},
   "outputs": [],
   "source": [
    "X,y = create_dataset()"
   ]
  },
  {
   "cell_type": "code",
   "execution_count": 226,
   "id": "e509d0b7",
   "metadata": {},
   "outputs": [
    {
     "data": {
      "text/plain": [
       "((50, 2), (50,))"
      ]
     },
     "execution_count": 226,
     "metadata": {},
     "output_type": "execute_result"
    }
   ],
   "source": [
    "X.shape,y.shape"
   ]
  },
  {
   "cell_type": "code",
   "execution_count": 227,
   "id": "98ebba98",
   "metadata": {},
   "outputs": [],
   "source": [
    "X = np.column_stack((np.ones(X.shape[0]),X))"
   ]
  },
  {
   "cell_type": "code",
   "execution_count": 228,
   "id": "3aba7f99",
   "metadata": {},
   "outputs": [
    {
     "data": {
      "text/plain": [
       "((50, 3), (50,))"
      ]
     },
     "execution_count": 228,
     "metadata": {},
     "output_type": "execute_result"
    }
   ],
   "source": [
    "X.shape,y.shape"
   ]
  },
  {
   "cell_type": "code",
   "execution_count": 229,
   "id": "656ba353",
   "metadata": {},
   "outputs": [],
   "source": [
    "from sklearn.model_selection import train_test_split\n",
    "X_train,X_test,y_train,y_test = train_test_split(X,y,test_size=0.2)"
   ]
  },
  {
   "cell_type": "code",
   "execution_count": 230,
   "id": "140bb5e4",
   "metadata": {},
   "outputs": [
    {
     "data": {
      "text/plain": [
       "((40, 3), (40,))"
      ]
     },
     "execution_count": 230,
     "metadata": {},
     "output_type": "execute_result"
    }
   ],
   "source": [
    "X_train.shape,y_train.shape"
   ]
  },
  {
   "cell_type": "code",
   "execution_count": 261,
   "id": "96300d03",
   "metadata": {},
   "outputs": [],
   "source": [
    "class LogisticRegression():\n",
    "    def _sigmoid(self,z):\n",
    "        return 1/(1+np.exp(-z))\n",
    "    \n",
    "    def _linear_combination(self,X:np.ndarray):\n",
    "        return X@self.w\n",
    "    \n",
    "    def predict(self,X:np.ndarray,threshold=0.5):\n",
    "        lc = self._linear_combination(X)\n",
    "        y_hat = self._sigmoid(lc)\n",
    "        return np.where(y_hat>=threshold,1,0)\n",
    "    \n",
    "    def loss(self,X:np.ndarray,y:np.ndarray,reg_rate):\n",
    "        lc = self._linear_combination(X)\n",
    "        y_hat = self._sigmoid(lc)\n",
    "        e1 = y@np.log(y_hat)\n",
    "        e2 = (1-y)@np.log(1 - y_hat)\n",
    "        reg_err = (reg_rate/2)*(np.transpose(self.w)@self.w)\n",
    "        return -1*(e1+e2)\n",
    "    \n",
    "    def calculate_gradient(self,X:np.ndarray,y:np.ndarray):\n",
    "        lc = self._linear_combination(X)\n",
    "        y_hat = self._sigmoid(lc)\n",
    "        return np.transpose(X)@(y_hat - y)\n",
    "    \n",
    "    def update_weight_vector(self,lr,grad):\n",
    "        self.w -= lr*grad\n",
    "        return self.w\n",
    "    \n",
    "    def graident_descent(self,X:np.ndarray,y:np.ndarray,epoch:int,lr:float,reg_rate):\n",
    "        self.w = np.zeros(X.shape[-1])\n",
    "        self.errors = []\n",
    "        self.weights = []\n",
    "        \n",
    "        for _ in range(epoch):\n",
    "            self.errors.append(self.loss(X,y,reg_rate))\n",
    "            dJdw = self.calculate_gradient(X,y)\n",
    "            self.w = self.update_weight_vector(lr,dJdw)\n",
    "            self.weights.append(self.w)\n",
    "            \n",
    "        return self.weights,self.errors\n",
    "            \n",
    "        \n",
    "        "
   ]
  },
  {
   "cell_type": "code",
   "execution_count": 262,
   "id": "921e5d52",
   "metadata": {},
   "outputs": [],
   "source": [
    "log_reg = LogisticRegression()"
   ]
  },
  {
   "cell_type": "code",
   "execution_count": 263,
   "id": "5b6664c6",
   "metadata": {},
   "outputs": [],
   "source": [
    "weights,errors = log_reg.graident_descent(X_train,y_train,100,0.01,0.001)"
   ]
  },
  {
   "cell_type": "code",
   "execution_count": 264,
   "id": "0619213b",
   "metadata": {},
   "outputs": [
    {
     "data": {
      "text/plain": [
       "[<matplotlib.lines.Line2D at 0x237a6c30400>]"
      ]
     },
     "execution_count": 264,
     "metadata": {},
     "output_type": "execute_result"
    },
    {
     "data": {
      "image/png": "[encoded data removed]",
      "text/plain": [
       "<Figure size 432x288 with 1 Axes>"
      ]
     },
     "metadata": {},
     "output_type": "display_data"
    }
   ],
   "source": [
    "plt.plot(errors,'-r')"
   ]
  },
  {
   "cell_type": "code",
   "execution_count": 277,
   "id": "62767db2",
   "metadata": {},
   "outputs": [],
   "source": [
    "y_pred = log_reg.predict(X_test)"
   ]
  },
  {
   "cell_type": "markdown",
   "id": "32be4efa",
   "metadata": {},
   "source": [
    "# Bernoulli Naive Bayes"
   ]
  },
  {
   "cell_type": "markdown",
   "id": "9a90c444",
   "metadata": {},
   "source": [
    "`### $$y = argmax_{y}Xlogw^{T} + (1-X)log(1- w^{T}) + log w_{prior}$$"
   ]
  },
  {
   "cell_type": "code",
   "execution_count": 334,
   "id": "60d781bf",
   "metadata": {},
   "outputs": [],
   "source": [
    "class BernoulliNB():\n",
    "    def fit(self,X:np.ndarray,y:np.ndarray):\n",
    "        n_samples,n_features = X.shape\n",
    "        n_classes,class_counts = np.unique(y,return_counts=True)\n",
    "        \n",
    "        self.priors = class_counts/np.sum(class_counts)\n",
    "        self.w = np.zeros((len(n_classes),n_features),dtype = np.float64)\n",
    "        \n",
    "        for c in n_classes:\n",
    "            X_c = X[y == c]\n",
    "            \n",
    "            self.w[c,:] = (np.sum(X_c,axis = 0) + 1)/(X_c.shape[0] +2)\n",
    "\n",
    "            \n",
    "        return self.priors,self.w\n",
    "    \n",
    "    def _log_likelihood(self,X:np.ndarray):\n",
    "        return X@np.log(np.transpose(self.w)) + (1 - X)@np.log(1 - np.transpose(self.w)) + np.log(self.priors)\n",
    "    \n",
    "    def predict(self,X:np.ndarray):\n",
    "        return np.argmax(self._log_likelihood(X),axis = 1)"
   ]
  },
  {
   "cell_type": "code",
   "execution_count": 335,
   "id": "0c4965a5",
   "metadata": {},
   "outputs": [],
   "source": [
    "X = np.array([[1,0],[0,1],[0,1],[1,0]])\n",
    "y = np.array([1,0,0,1])"
   ]
  },
  {
   "cell_type": "code",
   "execution_count": 336,
   "id": "787a5f62",
   "metadata": {},
   "outputs": [],
   "source": [
    "bnb = BernoulliNB()\n",
    "priors,weights = bnb.fit(X,y)"
   ]
  },
  {
   "cell_type": "code",
   "execution_count": 337,
   "id": "98e13076",
   "metadata": {},
   "outputs": [
    {
     "data": {
      "text/plain": [
       "array([0.5, 0.5])"
      ]
     },
     "execution_count": 337,
     "metadata": {},
     "output_type": "execute_result"
    }
   ],
   "source": [
    "priors"
   ]
  },
  {
   "cell_type": "code",
   "execution_count": 338,
   "id": "4c0b732f",
   "metadata": {},
   "outputs": [
    {
     "data": {
      "text/plain": [
       "array([[0.25, 0.75],\n",
       "       [0.75, 0.25]])"
      ]
     },
     "execution_count": 338,
     "metadata": {},
     "output_type": "execute_result"
    }
   ],
   "source": [
    "weights"
   ]
  },
  {
   "cell_type": "code",
   "execution_count": 339,
   "id": "fcdaf7fd",
   "metadata": {},
   "outputs": [
    {
     "data": {
      "text/plain": [
       "array([1, 0, 0, 1], dtype=int64)"
      ]
     },
     "execution_count": 339,
     "metadata": {},
     "output_type": "execute_result"
    }
   ],
   "source": [
    "bnb.predict(X)"
   ]
  },
  {
   "cell_type": "markdown",
   "id": "bf9d51ca",
   "metadata": {},
   "source": [
    "# Gaussian NB"
   ]
  },
  {
   "cell_type": "code",
   "execution_count": 341,
   "id": "4f1125e0",
   "metadata": {},
   "outputs": [],
   "source": [
    "from sklearn.datasets import make_classification,make_blobs\n",
    "from sklearn.model_selection import train_test_split\n",
    "\n",
    "X, y = make_blobs(n_samples=100,n_features=2,centers=[[5,5],[10,10]],cluster_std=1.5,random_state=2)\n",
    "\n",
    "X_train,X_test,y_train,y_test = train_test_split(X,y,test_size=0.2,random_state=133)"
   ]
  },
  {
   "cell_type": "code",
   "execution_count": 342,
   "id": "ef3bb607",
   "metadata": {},
   "outputs": [
    {
     "data": {
      "image/png": "[encoded data removed]",
      "text/plain": [
       "<Figure size 432x288 with 1 Axes>"
      ]
     },
     "metadata": {},
     "output_type": "display_data"
    }
   ],
   "source": [
    "import matplotlib.pyplot as plt\n",
    "import seaborn as sns\n",
    "\n",
    "fig,ax = plt.subplots()\n",
    "ax.scatter(X[:,0],X[:,1],c = y,s = 50,cmap=\"RdBu\")\n",
    "\n",
    "xlim = (min(X[:,0])-2,max(X[:,0]+2))\n",
    "ylim = (min(X[:,1])-2,max(X[:,1]+2))\n",
    "\n",
    "xg = np.linspace(xlim[0],xlim[1],60)\n",
    "yg = np.linspace(ylim[0],ylim[1],60)\n",
    "xx,yy = np.meshgrid(xg,yg)\n",
    "Xgrid = np.vstack([xx.ravel(),yy.ravel()])\n",
    "\n",
    "for label,color in enumerate(['red','blue']):\n",
    "    mask = (y == label)"
   ]
  },
  {
   "cell_type": "code",
   "execution_count": 371,
   "id": "14756cac",
   "metadata": {},
   "outputs": [],
   "source": [
    "class GaussainNB():\n",
    "    def fit(self,X:np.ndarray,y:np.ndarray):\n",
    "        n_samples,n_features = X.shape\n",
    "        self.n_classes,class_counts = np.unique(y,return_counts=True)\n",
    "        self.priors = class_counts/np.sum(class_counts)\n",
    "        self.w = np.zeros((len(self.n_classes),n_features))\n",
    "        self.means = np.zeros((len(self.n_classes),n_features))\n",
    "        self.vars = np.zeros((len(self.n_classes),n_features))\n",
    "        for i in self.n_classes:\n",
    "            X_c = X[y==i]\n",
    "            self.w[i,:] = np.sum(X_c,axis = 0)/class_counts[i]\n",
    "            self.means[i,:] = np.mean(X_c,axis=0)\n",
    "            self.vars[i,:] = np.var(X_c,axis=0)\n",
    "            \n",
    "        return self.means,self.vars,self.priors\n",
    "    \n",
    "    def _logofmormal(self,X,mean,var):\n",
    "        out = -0.5*(np.log(2*np.pi)) + np.log(var)\n",
    "        exp = -0.5*(X - mean)**2/var\n",
    "        return np.sum(out+exp,axis = 1)\n",
    "    \n",
    "    def predict(self,X:np.ndarray):\n",
    "        n_samples,n_featues = X.shape\n",
    "        posterior = np.zeros((n_samples,len(self.n_classes)))\n",
    "        for c in self.n_classes:\n",
    "            posterior[:,c] = np.log(self.priors[c]) + self._logofmormal(X,self.means[c,:],self.vars[c,:]) \n",
    "            \n",
    "        return np.argmax(posterior,axis = 1)"
   ]
  },
  {
   "cell_type": "code",
   "execution_count": 372,
   "id": "692846b3",
   "metadata": {},
   "outputs": [
    {
     "data": {
      "text/plain": [
       "(array([[ 4.66641536,  5.10890637],\n",
       "        [10.02663851, 10.05539582]]),\n",
       " array([[2.33005865, 2.8282074 ],\n",
       "        [2.45169981, 2.05961415]]),\n",
       " array([0.525, 0.475]))"
      ]
     },
     "execution_count": 372,
     "metadata": {},
     "output_type": "execute_result"
    }
   ],
   "source": [
    "gaussian_nb = GaussainNB()\n",
    "gaussian_nb.fit(X_train,y_train)"
   ]
  },
  {
   "cell_type": "code",
   "execution_count": 373,
   "id": "f18da301",
   "metadata": {},
   "outputs": [
    {
     "data": {
      "text/plain": [
       "array([1, 1, 1, 0, 1, 1, 0, 1, 1, 0, 0, 1, 0, 1, 0, 1, 1, 0, 1, 0],\n",
       "      dtype=int64)"
      ]
     },
     "execution_count": 373,
     "metadata": {},
     "output_type": "execute_result"
    }
   ],
   "source": [
    "gaussian_nb.predict(X_test)"
   ]
  },
  {
   "cell_type": "code",
   "execution_count": 374,
   "id": "e207c830",
   "metadata": {},
   "outputs": [
    {
     "data": {
      "text/plain": [
       "array([1, 1, 1, 0, 1, 1, 0, 1, 1, 0, 0, 1, 0, 1, 0, 1, 1, 0, 1, 0])"
      ]
     },
     "execution_count": 374,
     "metadata": {},
     "output_type": "execute_result"
    }
   ],
   "source": [
    "y_test"
   ]
  },
  {
   "cell_type": "markdown",
   "id": "a369c8ae",
   "metadata": {},
   "source": [
    "# Softmax Regression"
   ]
  },
  {
   "cell_type": "markdown",
   "id": "b5d49c92",
   "metadata": {},
   "source": [
    "## Training data"
   ]
  },
  {
   "cell_type": "code",
   "execution_count": 2,
   "id": "008c1fb0",
   "metadata": {},
   "outputs": [],
   "source": [
    "import numpy as np\n",
    "from keras.datasets import mnist\n",
    "import matplotlib.pyplot as plt"
   ]
  },
  {
   "cell_type": "code",
   "execution_count": 3,
   "id": "f6a6b6ab",
   "metadata": {},
   "outputs": [
    {
     "data": {
      "image/png": "[encoded data removed]",
      "text/plain": [
       "<Figure size 720x504 with 15 Axes>"
      ]
     },
     "metadata": {
      "needs_background": "light"
     },
     "output_type": "display_data"
    }
   ],
   "source": [
    "(X_train,y_train),(X_test,y_test) = mnist.load_data()\n",
    "fig = plt.figure(figsize=(10,7))\n",
    "for i in range(15):\n",
    "    ax = fig.add_subplot(3,5,i+1)\n",
    "    ax.imshow(X_train[i],cmap = 'gray')\n",
    "    ax.set_title(f'Label y :{y_train[i]}')\n",
    "    plt.axis('off')\n",
    "              "
   ]
  },
  {
   "cell_type": "code",
   "execution_count": 4,
   "id": "2c4f5b41",
   "metadata": {},
   "outputs": [],
   "source": [
    "X_train = X_train.reshape(-1,784)/255\n",
    "X_test = X_test.reshape(-1,784)/255"
   ]
  },
  {
   "cell_type": "code",
   "execution_count": 10,
   "id": "a97b9307",
   "metadata": {},
   "outputs": [],
   "source": [
    "class SoftmaxRegression():\n",
    "    def predict(self,X:np.ndarray):\n",
    "        return X@self.w + self.b\n",
    "    def _one_hot_encode(self,y):\n",
    "        '''\n",
    "        One-hot encoding the label vector \n",
    "        '''\n",
    "        e = np.eye(len(np.unique(y)))\n",
    "        y_one_hot = e[y]\n",
    "        \n",
    "        return y_one_hot\n",
    "    \n",
    "    def _softmax(self,z):\n",
    "        exp = np.exp(z - np.max(z))\n",
    "        return exp/np.sum(exp,axis=0)\n",
    "    \n",
    "    def loss(self,X:np.ndarray,y:np.ndarray):\n",
    "        y_hat = self._softmax(X)\n",
    "        \n",
    "        \n",
    "        print(y_hat.shape)\n",
    "        \n",
    "#         return np.sum(y*np.log(y_hat),axis = 0)\n",
    "    \n",
    "    "
   ]
  },
  {
   "cell_type": "code",
   "execution_count": 11,
   "id": "f61448a6",
   "metadata": {},
   "outputs": [],
   "source": [
    "sfr  = SoftmaxRegression()"
   ]
  },
  {
   "cell_type": "code",
   "execution_count": 12,
   "id": "7f103662",
   "metadata": {},
   "outputs": [],
   "source": [
    "y_train_hot = sfr._one_hot_encode(y_train)"
   ]
  },
  {
   "cell_type": "code",
   "execution_count": 13,
   "id": "e77de074",
   "metadata": {},
   "outputs": [],
   "source": [
    "X_try = sfr._softmax(X_train)"
   ]
  },
  {
   "cell_type": "code",
   "execution_count": 14,
   "id": "ca19f135",
   "metadata": {},
   "outputs": [
    {
     "name": "stdout",
     "output_type": "stream",
     "text": [
      "(60000, 784)\n"
     ]
    }
   ],
   "source": [
    "sfr.loss(X_train,y_train)"
   ]
  },
  {
   "cell_type": "code",
   "execution_count": 397,
   "id": "3f29b8cb",
   "metadata": {},
   "outputs": [],
   "source": [
    "y = np.array([8,6,3])\n"
   ]
  },
  {
   "cell_type": "markdown",
   "id": "1a221574",
   "metadata": {},
   "source": [
    "# K-Nearest Neighbours"
   ]
  },
  {
   "cell_type": "code",
   "execution_count": null,
   "id": "c9eb64dc",
   "metadata": {},
   "outputs": [],
   "source": [
    "class KNearestNeighbours():\n",
    "    def __init__(self,)"
   ]
  },
  {
   "cell_type": "markdown",
   "id": "45bcf680",
   "metadata": {},
   "source": [
    "# $$PRACTICE-QUESTIONS$$"
   ]
  },
  {
   "cell_type": "markdown",
   "id": "c6acbdc7",
   "metadata": {},
   "source": [
    "Write a function named vec_addition(u,v) which takes two vectors u and v as input and returns their vector addition.\n",
    " \n",
    "  1. Inputs: u and v are two numerical numpy arrays. \n",
    "  2. Output: a vector representing sum of u and v, if they have consistent shapes, None otherwise."
   ]
  },
  {
   "cell_type": "code",
   "execution_count": 1,
   "id": "87a9e8f9",
   "metadata": {},
   "outputs": [],
   "source": [
    "def vec_addition(u,v):\n",
    "    assert u.shape == v.shape,None\n",
    "    \n",
    "    return u+v"
   ]
  },
  {
   "cell_type": "markdown",
   "id": "7409a4dd",
   "metadata": {},
   "source": [
    "write a function named scalar_multiply(u,k) which takes a vector u and a scalar k as input and returns k times u as output\n",
    " \n",
    "  1. Inputs: A vector u and a scalar k\n",
    "  2. Output: Returns a vector which is k times u\n"
   ]
  },
  {
   "cell_type": "code",
   "execution_count": 2,
   "id": "1bba2d68",
   "metadata": {},
   "outputs": [],
   "source": [
    "def scalar_multiply(u,k):\n",
    "    return k*u"
   ]
  },
  {
   "cell_type": "markdown",
   "id": "f342d477",
   "metadata": {},
   "source": [
    "Write a function hadamard(u,v) which takes two vectors u and v as input and returns hadamard product of u and v.\n",
    "Hdamard product is obtained via multiplying two matrices/vectors elementwise.\n",
    " \n",
    "  1. Inputs: Two vectors u and v\n",
    "  2. Output: Hadamard product of u and v if the dimensions of u and v are consistent, otherwise None"
   ]
  },
  {
   "cell_type": "code",
   "execution_count": 4,
   "id": "2988643f",
   "metadata": {},
   "outputs": [
    {
     "ename": "AssertionError",
     "evalue": "None",
     "output_type": "error",
     "traceback": [
      "\u001b[1;31m---------------------------------------------------------------------------\u001b[0m",
      "\u001b[1;31mAssertionError\u001b[0m                            Traceback (most recent call last)",
      "\u001b[1;32m~\\AppData\\Local\\Temp/ipykernel_7624/2291849787.py\u001b[0m in \u001b[0;36m<module>\u001b[1;34m\u001b[0m\n\u001b[0;32m      6\u001b[0m \u001b[0mu\u001b[0m \u001b[1;33m=\u001b[0m \u001b[0mnp\u001b[0m\u001b[1;33m.\u001b[0m\u001b[0marray\u001b[0m\u001b[1;33m(\u001b[0m\u001b[1;33m[\u001b[0m\u001b[1;33m[\u001b[0m\u001b[1;36m3\u001b[0m\u001b[1;33m,\u001b[0m\u001b[1;36m5\u001b[0m\u001b[1;33m,\u001b[0m\u001b[1;36m7\u001b[0m\u001b[1;33m]\u001b[0m\u001b[1;33m,\u001b[0m\u001b[1;33m[\u001b[0m\u001b[1;36m4\u001b[0m\u001b[1;33m,\u001b[0m\u001b[1;36m9\u001b[0m\u001b[1;33m,\u001b[0m\u001b[1;36m8\u001b[0m\u001b[1;33m]\u001b[0m\u001b[1;33m]\u001b[0m\u001b[1;33m)\u001b[0m\u001b[1;33m\u001b[0m\u001b[1;33m\u001b[0m\u001b[0m\n\u001b[0;32m      7\u001b[0m \u001b[0mv\u001b[0m \u001b[1;33m=\u001b[0m \u001b[0mnp\u001b[0m\u001b[1;33m.\u001b[0m\u001b[0marray\u001b[0m\u001b[1;33m(\u001b[0m\u001b[1;33m[\u001b[0m\u001b[1;33m[\u001b[0m\u001b[1;36m1\u001b[0m\u001b[1;33m,\u001b[0m\u001b[1;36m6\u001b[0m\u001b[1;33m,\u001b[0m\u001b[1;36m3\u001b[0m\u001b[1;33m]\u001b[0m\u001b[1;33m,\u001b[0m\u001b[1;33m[\u001b[0m\u001b[1;36m0\u001b[0m\u001b[1;33m,\u001b[0m\u001b[1;36m2\u001b[0m\u001b[1;33m,\u001b[0m\u001b[1;36m9\u001b[0m\u001b[1;33m]\u001b[0m\u001b[1;33m,\u001b[0m\u001b[1;33m[\u001b[0m\u001b[1;36m1\u001b[0m\u001b[1;33m,\u001b[0m\u001b[1;36m1\u001b[0m\u001b[1;33m,\u001b[0m\u001b[1;36m1\u001b[0m\u001b[1;33m]\u001b[0m\u001b[1;33m]\u001b[0m\u001b[1;33m)\u001b[0m\u001b[1;33m\u001b[0m\u001b[1;33m\u001b[0m\u001b[0m\n\u001b[1;32m----> 8\u001b[1;33m \u001b[0mhadamard\u001b[0m\u001b[1;33m(\u001b[0m\u001b[0mu\u001b[0m\u001b[1;33m,\u001b[0m\u001b[0mv\u001b[0m\u001b[1;33m)\u001b[0m\u001b[1;33m\u001b[0m\u001b[1;33m\u001b[0m\u001b[0m\n\u001b[0m",
      "\u001b[1;32m~\\AppData\\Local\\Temp/ipykernel_7624/2291849787.py\u001b[0m in \u001b[0;36mhadamard\u001b[1;34m(u, v)\u001b[0m\n\u001b[0;32m      1\u001b[0m \u001b[1;32mimport\u001b[0m \u001b[0mnumpy\u001b[0m \u001b[1;32mas\u001b[0m \u001b[0mnp\u001b[0m\u001b[1;33m\u001b[0m\u001b[1;33m\u001b[0m\u001b[0m\n\u001b[0;32m      2\u001b[0m \u001b[1;32mdef\u001b[0m \u001b[0mhadamard\u001b[0m\u001b[1;33m(\u001b[0m\u001b[0mu\u001b[0m\u001b[1;33m,\u001b[0m\u001b[0mv\u001b[0m\u001b[1;33m)\u001b[0m\u001b[1;33m:\u001b[0m\u001b[1;33m\u001b[0m\u001b[1;33m\u001b[0m\u001b[0m\n\u001b[1;32m----> 3\u001b[1;33m     \u001b[1;32massert\u001b[0m \u001b[0mu\u001b[0m\u001b[1;33m.\u001b[0m\u001b[0mshape\u001b[0m \u001b[1;33m==\u001b[0m \u001b[0mv\u001b[0m\u001b[1;33m.\u001b[0m\u001b[0mshape\u001b[0m\u001b[1;33m,\u001b[0m\u001b[1;32mNone\u001b[0m\u001b[1;33m\u001b[0m\u001b[1;33m\u001b[0m\u001b[0m\n\u001b[0m\u001b[0;32m      4\u001b[0m \u001b[1;33m\u001b[0m\u001b[0m\n\u001b[0;32m      5\u001b[0m     \u001b[1;32mreturn\u001b[0m \u001b[0mu\u001b[0m\u001b[1;33m*\u001b[0m\u001b[0mv\u001b[0m\u001b[1;33m\u001b[0m\u001b[1;33m\u001b[0m\u001b[0m\n",
      "\u001b[1;31mAssertionError\u001b[0m: None"
     ]
    }
   ],
   "source": [
    "import numpy as np\n",
    "def hadamard(u,v):\n",
    "    assert u.shape == v.shape,None\n",
    "    \n",
    "    return u*v\n",
    "u = np.array([[3,5,7],[4,9,8]])\n",
    "v = np.array([[1,6,3],[0,2,9],[1,1,1]])\n",
    "hadamard(u,v)"
   ]
  },
  {
   "cell_type": "code",
   "execution_count": 2,
   "id": "27dc69d3",
   "metadata": {},
   "outputs": [],
   "source": [
    "import numpy as np\n",
    "def softmax(z):\n",
    "    exp = np.exp(z - np.max(z))\n",
    "    \n",
    "    return exp/np.sum(exp,axis=0)"
   ]
  },
  {
   "cell_type": "code",
   "execution_count": 3,
   "id": "d8f35134",
   "metadata": {},
   "outputs": [
    {
     "data": {
      "text/plain": [
       "array([[0.11245721],\n",
       "       [0.0413707 ],\n",
       "       [0.01521943],\n",
       "       [0.83095266]])"
      ]
     },
     "execution_count": 3,
     "metadata": {},
     "output_type": "execute_result"
    }
   ],
   "source": [
    "z = np.array([[1],[0],[-1],[3]])\n",
    "softmax(z)"
   ]
  },
  {
   "cell_type": "code",
   "execution_count": null,
   "id": "55184fbb",
   "metadata": {},
   "outputs": [],
   "source": []
  }
 ],
 "metadata": {
  "kernelspec": {
   "display_name": "Python 3 (ipykernel)",
   "language": "python",
   "name": "python3"
  },
  "language_info": {
   "codemirror_mode": {
    "name": "ipython",
    "version": 3
   },
   "file_extension": ".py",
   "mimetype": "text/x-python",
   "name": "python",
   "nbconvert_exporter": "python",
   "pygments_lexer": "ipython3",
   "version": "3.9.7"
  }
 },
 "nbformat": 4,
 "nbformat_minor": 5
}
