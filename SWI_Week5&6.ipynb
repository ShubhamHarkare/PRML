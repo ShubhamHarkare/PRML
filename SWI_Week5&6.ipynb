{
 "cells": [
  {
   "cell_type": "code",
   "execution_count": 2,
   "id": "4fd2118a",
   "metadata": {},
   "outputs": [],
   "source": [
    "import numpy as np\n",
    "import matplotlib.pyplot as plt\n",
    "import seaborn as sns"
   ]
  },
  {
   "cell_type": "code",
   "execution_count": 46,
   "id": "b15b01bd",
   "metadata": {},
   "outputs": [],
   "source": [
    "from numpy.random import default_rng\n",
    "rng = default_rng(1234)"
   ]
  },
  {
   "cell_type": "markdown",
   "id": "00226653",
   "metadata": {},
   "source": [
    "# Task 1\n",
    "Generatong image with horizontal and vertical bar"
   ]
  },
  {
   "cell_type": "code",
   "execution_count": 27,
   "id": "65c81c3a",
   "metadata": {},
   "outputs": [
    {
     "data": {
      "text/plain": [
       "<matplotlib.image.AxesImage at 0x1670027a5b0>"
      ]
     },
     "execution_count": 27,
     "metadata": {},
     "output_type": "execute_result"
    },
    {
     "data": {
      "image/png": "[encoded data removed]",
      "text/plain": [
       "<Figure size 432x288 with 1 Axes>"
      ]
     },
     "metadata": {
      "needs_background": "light"
     },
     "output_type": "display_data"
    }
   ],
   "source": [
    "X = np.zeros((5,5))\n",
    "X[2] = 1\n",
    "plt.imshow(X,cmap='gray')"
   ]
  },
  {
   "cell_type": "code",
   "execution_count": 28,
   "id": "5d1d9634",
   "metadata": {},
   "outputs": [
    {
     "data": {
      "text/plain": [
       "<matplotlib.image.AxesImage at 0x1670027ed90>"
      ]
     },
     "execution_count": 28,
     "metadata": {},
     "output_type": "execute_result"
    },
    {
     "data": {
      "image/png": "[encoded data removed]",
      "text/plain": [
       "<Figure size 432x288 with 1 Axes>"
      ]
     },
     "metadata": {
      "needs_background": "light"
     },
     "output_type": "display_data"
    }
   ],
   "source": [
    "X_neg = np.zeros((5,5))\n",
    "X_neg[:,2] = 1\n",
    "plt.imshow(X_neg,cmap='gray')"
   ]
  },
  {
   "cell_type": "markdown",
   "id": "075b2301",
   "metadata": {},
   "source": [
    "# Adding noise to image"
   ]
  },
  {
   "cell_type": "code",
   "execution_count": 47,
   "id": "aaffcb14",
   "metadata": {},
   "outputs": [
    {
     "data": {
      "text/plain": [
       "<matplotlib.image.AxesImage at 0x16701ee7c10>"
      ]
     },
     "execution_count": 47,
     "metadata": {},
     "output_type": "execute_result"
    },
    {
     "data": {
      "image/png": "[encoded data removed]",
      "text/plain": [
       "<Figure size 432x288 with 1 Axes>"
      ]
     },
     "metadata": {
      "needs_background": "light"
     },
     "output_type": "display_data"
    }
   ],
   "source": [
    "X_noise = np.zeros((5,5))\n",
    "X_noise[2] = 1\n",
    "X_noise += rng.uniform(size=(5,5))\n",
    "plt.imshow(X_noise,cmap = 'gray')"
   ]
  },
  {
   "cell_type": "markdown",
   "id": "415c14ff",
   "metadata": {},
   "source": [
    "# Task 3 \n",
    "Generate the base dataset 500 datapoints 250 perclass store them in  "
   ]
  },
  {
   "cell_type": "code",
   "execution_count": 74,
   "id": "50154cdd",
   "metadata": {},
   "outputs": [],
   "source": [
    "def generate(num,imsize,label,noise_factor):\n",
    "    '''\n",
    "    Generate num images of size imsize x imsize with given label\n",
    "    label = 0 Horizontal\n",
    "    label - 1 Vertical\n",
    "    '''\n",
    "    X = np.zeros((num,imsize,imsize))\n",
    "    mid = imsize//2\n",
    "    if(label):\n",
    "        X[:,:,mid] = 1\n",
    "    else:\n",
    "        X[:,mid,:] = 1\n",
    "        X+= rng.uniform(size = X.shape) *noise_factor\n",
    "    return X.reshape(num,-1),label*np.ones(num)\n",
    "    "
   ]
  },
  {
   "cell_type": "markdown",
   "id": "cef2a11e",
   "metadata": {},
   "source": [
    "# Generating the data"
   ]
  },
  {
   "cell_type": "code",
   "execution_count": 85,
   "id": "d3f82444",
   "metadata": {},
   "outputs": [],
   "source": [
    "X_pos,y_pos = generate(100,5,0,0.5)\n",
    "X_neg,y_neg = generate(100,5,1,0.5)\n",
    "\n",
    "X = np.row_stack((X_pos,X_neg))\n",
    "y = np.concatenate((y_pos,y_neg))"
   ]
  },
  {
   "cell_type": "code",
   "execution_count": 86,
   "id": "bd303087",
   "metadata": {},
   "outputs": [
    {
     "data": {
      "text/plain": [
       "((200, 25), (200,))"
      ]
     },
     "execution_count": 86,
     "metadata": {},
     "output_type": "execute_result"
    }
   ],
   "source": [
    "X.shape,y.shape"
   ]
  },
  {
   "cell_type": "markdown",
   "id": "a8fdb69e",
   "metadata": {},
   "source": [
    "## Train-test-split"
   ]
  },
  {
   "cell_type": "code",
   "execution_count": 87,
   "id": "da17e04a",
   "metadata": {},
   "outputs": [],
   "source": [
    "from sklearn.model_selection import train_test_split\n",
    "X_train,X_test,y_train,y_test = train_test_split(X,y,test_size=0.2)"
   ]
  },
  {
   "cell_type": "code",
   "execution_count": 90,
   "id": "8b7fce07",
   "metadata": {},
   "outputs": [],
   "source": [
    "assert X_train.shape[0] == y_train.shape[0]"
   ]
  },
  {
   "cell_type": "markdown",
   "id": "0f6042af",
   "metadata": {},
   "source": [
    "# Logistic Regression Class"
   ]
  },
  {
   "cell_type": "markdown",
   "id": "f5455b44",
   "metadata": {},
   "source": [
    "### Binary-Crossentropy\n",
    "$$\n",
    "l = -y\\log{y_{pred}} - (1 - y)\\log{(1 - y_{pred})}\n",
    "$$"
   ]
  },
  {
   "cell_type": "markdown",
   "id": "5c995bdf",
   "metadata": {},
   "source": [
    "### Gradient Calculation\n",
    "\n",
    "$$\n",
    "dJdw = X^{T}(y_{pred} - y)\n",
    "\n",
    "$$"
   ]
  },
  {
   "cell_type": "code",
   "execution_count": 91,
   "id": "d343b0b3",
   "metadata": {},
   "outputs": [
    {
     "ename": "IndentationError",
     "evalue": "expected an indented block (Temp/ipykernel_8504/3382056883.py, line 34)",
     "output_type": "error",
     "traceback": [
      "\u001b[1;36m  File \u001b[1;32m\"C:\\Users\\user\\AppData\\Local\\Temp/ipykernel_8504/3382056883.py\"\u001b[1;36m, line \u001b[1;32m34\u001b[0m\n\u001b[1;33m    def prob(self,X:np.ndarray):\u001b[0m\n\u001b[1;37m    ^\u001b[0m\n\u001b[1;31mIndentationError\u001b[0m\u001b[1;31m:\u001b[0m expected an indented block\n"
     ]
    }
   ],
   "source": [
    "def sigmoid(z):\n",
    "    return 1/(1+np.exp(-z))\n",
    "\n",
    "def _preprocess(X:np.ndarray):\n",
    "    # X number of sample,number of features\n",
    "    return np.column_stack((np.one(X.shape[0]),X))\n",
    "\n",
    "\n",
    "\n",
    "class LogisticRegression():\n",
    "    def __init__(self,lr = 0.01):\n",
    "        self.w = None\n",
    "        self.lr = lr\n",
    "        self.losses = []\n",
    "        \n",
    "    def loss(self,y_pred,y:np.ndarray):\n",
    "        return np.sum(-y*np.load(y_pred) - (1 - y)*np.log(1 - y_pred))\n",
    "    \n",
    "    \n",
    "    def fit(self,X:np.ndarray,y:np.ndarray):\n",
    "        '''\n",
    "        Gradient Descent\n",
    "        '''\n",
    "        _preprocess(X,y,epochs=100)\n",
    "        self.w = rng.standard_normal(X.shape[-1])\n",
    "        for i in range(epochs):\n",
    "            self.w -= self.lr*self.grad(X,y)\n",
    "            self.loss(self.prob())\n",
    "            \n",
    "        \n",
    "    def predict(self,X:np.ndarray):\n",
    "        \n",
    "    \n",
    "    def prob(self,X:np.ndarray):\n",
    "        return sigmoid(X@self.w)\n",
    "    \n",
    "    def grad(self,X,y):\n",
    "        return np.transpose(X)@(self.prob(X) - y)\n",
    "        \n",
    "        \n",
    "        \n",
    "    "
   ]
  },
  {
   "cell_type": "markdown",
   "id": "cc62e1dd",
   "metadata": {},
   "source": [
    "# Gaussian NB"
   ]
  },
  {
   "cell_type": "markdown",
   "id": "a9e60265",
   "metadata": {},
   "source": [
    "## Data Generation"
   ]
  },
  {
   "cell_type": "code",
   "execution_count": 149,
   "id": "ee0bac3a",
   "metadata": {},
   "outputs": [],
   "source": [
    "X1 = np.random.normal(loc=-1,size = 100).reshape(-1,2)\n",
    "y1 = np.zeros(100)\n",
    "X2 = np.random.normal(loc=0,size = 100).reshape(-1,2)\n",
    "y2 = np.ones(100)\n",
    "X3 = np.random.normal(loc=1,size = 100).reshape(-1,2)\n",
    "y3 = np.ones(100)*2"
   ]
  },
  {
   "cell_type": "code",
   "execution_count": 151,
   "id": "84de1d3b",
   "metadata": {},
   "outputs": [
    {
     "data": {
      "text/plain": [
       "[<matplotlib.lines.Line2D at 0x16702a62970>]"
      ]
     },
     "execution_count": 151,
     "metadata": {},
     "output_type": "execute_result"
    },
    {
     "data": {
      "image/png": "[encoded data removed]",
      "text/plain": [
       "<Figure size 432x288 with 1 Axes>"
      ]
     },
     "metadata": {
      "needs_background": "light"
     },
     "output_type": "display_data"
    }
   ],
   "source": [
    "plt.plot(X1[:,0],X1[:,1],'.b')\n",
    "plt.plot(X2[:,0],X2[:,1],'.r')\n"
   ]
  },
  {
   "cell_type": "code",
   "execution_count": 116,
   "id": "8bf21d02",
   "metadata": {},
   "outputs": [],
   "source": [
    "X = np.row_stack((X1,X2,X3))\n",
    "y = np.concatenate((np.concatenate((y1,y2)),y3))"
   ]
  },
  {
   "cell_type": "markdown",
   "id": "31522b1a",
   "metadata": {},
   "source": [
    "## Plotting the data"
   ]
  },
  {
   "cell_type": "code",
   "execution_count": 184,
   "id": "4be0e247",
   "metadata": {},
   "outputs": [
    {
     "data": {
      "text/plain": [
       "<matplotlib.legend.Legend at 0x1670004c460>"
      ]
     },
     "execution_count": 184,
     "metadata": {},
     "output_type": "execute_result"
    },
    {
     "data": {
      "image/png": "[encoded data removed]",
      "text/plain": [
       "<Figure size 576x576 with 1 Axes>"
      ]
     },
     "metadata": {
      "needs_background": "light"
     },
     "output_type": "display_data"
    }
   ],
   "source": [
    "m0,m1,m2 = [-1,-1],[0,0],[1,1]\n",
    "spred = 0.1\n",
    "cov = np.eye(2) * spred\n",
    "x1 = rng.multivariate_normal(m0,cov,100)\n",
    "x2 = rng.multivariate_normal(m1,cov,100)\n",
    "x3 = rng.multivariate_normal(m2,cov,100)\n",
    "\n",
    "plt.figure(figsize=(8,8))\n",
    "plt.plot(x1[:,0],x1[:,1],'.b',label='0')\n",
    "plt.plot(x2[:,0],x2[:,1],'.r',label='1')\n",
    "plt.plot(x3[:,0],x3[:,1],'.g',label='2')\n",
    "plt.legend()"
   ]
  },
  {
   "cell_type": "code",
   "execution_count": 185,
   "id": "21b2c449",
   "metadata": {},
   "outputs": [],
   "source": [
    "X = np.row_stack((x1,x2,x3))\n",
    "y = np.concatenate((np.zeros(x1.shape[0]),np.ones(x1.shape[0]),np.ones(x3.shape[0])*2))"
   ]
  },
  {
   "cell_type": "code",
   "execution_count": 186,
   "id": "b2782077",
   "metadata": {},
   "outputs": [],
   "source": [
    "from sklearn.model_selection import train_test_split\n",
    "X_train,X_test,y_train,y_test = train_test_split(X,y,test_size=0.2,random_state=0)"
   ]
  },
  {
   "cell_type": "code",
   "execution_count": 187,
   "id": "8374cb33",
   "metadata": {},
   "outputs": [
    {
     "data": {
      "text/plain": [
       "(((240, 2), (240,)), ((60, 2), (60,)))"
      ]
     },
     "execution_count": 187,
     "metadata": {},
     "output_type": "execute_result"
    }
   ],
   "source": [
    "(X_train.shape,y_train.shape),(X_test.shape,y_test.shape)"
   ]
  },
  {
   "cell_type": "markdown",
   "id": "255286e0",
   "metadata": {},
   "source": [
    "# Gaussain NB"
   ]
  },
  {
   "cell_type": "markdown",
   "id": "24bc10c5",
   "metadata": {},
   "source": [
    "Dimensions:\n",
    "n_classes =3\n",
    "n_features = 2\n",
    "n_samples = 240"
   ]
  },
  {
   "cell_type": "code",
   "execution_count": 188,
   "id": "5c68958a",
   "metadata": {},
   "outputs": [],
   "source": [
    "def logofnormal(x,mean,var):\n",
    "    # X is of shape n_samples,n_features \n",
    "    out = -0.5 * (np.log(2*np.pi)) + np.log(var)\n",
    "    exp = -0.5 * (x - mean) **2 / var\n",
    "    return np.sum(out + exp,axis = 1) \n",
    "\n",
    "class GaussainNB():\n",
    "    def __init__(self):\n",
    "        self.means = None\n",
    "        self.vars = None\n",
    "        self.priors = None\n",
    "        \n",
    "    def fit(self,X,y):\n",
    "        n_samples,n_features = X.shape\n",
    "        _,class_count = np.unique(y,return_counts=True)\n",
    "        n_classes = len(class_count)\n",
    "        self.n_classes = n_classes\n",
    "        \n",
    "        self.means =np.zeros((n_classes,n_features))\n",
    "        self.vars =np.zeros((n_classes,n_features))\n",
    "        self.priors = class_count/np.sum(class_count)\n",
    "        \n",
    "        for c in range(n_classes):\n",
    "            X_c = X[y == c]\n",
    "            self.means[c] = X_c.mean(axis = 0)\n",
    "            self.vars[c] = X_c.var(axis = 0)\n",
    "                \n",
    "    \n",
    "    def predict(self,X):\n",
    "        n_samples,_ = X.shape\n",
    "        \n",
    "        posterior = np.zeros((n_samples,self.n_classes))\n",
    "        for c in range(self.n_classes):\n",
    "            posterior[:,c] = np.log(self.priors[c]) + logofnormal(X,self.means[c],self.vars[c])\n",
    "            \n",
    "        return np.argmax(posterior,axis = 1)\n",
    "\n",
    "gnb = GaussainNB()\n",
    "gnb.fit(X_train,y_train)"
   ]
  },
  {
   "cell_type": "code",
   "execution_count": 189,
   "id": "4dc0a913",
   "metadata": {},
   "outputs": [],
   "source": [
    "y_pred = gnb.predict(X_test)"
   ]
  },
  {
   "cell_type": "code",
   "execution_count": 190,
   "id": "b62349e1",
   "metadata": {},
   "outputs": [
    {
     "data": {
      "text/plain": [
       "0.9833333333333333"
      ]
     },
     "execution_count": 190,
     "metadata": {},
     "output_type": "execute_result"
    }
   ],
   "source": [
    "np.sum(y_test == y_pred)/y_test.shape[0]"
   ]
  },
  {
   "cell_type": "code",
   "execution_count": 2,
   "id": "056c1661",
   "metadata": {},
   "outputs": [],
   "source": [
    "X = np.array([\n",
    "    [1,0],\n",
    "    [0,1],\n",
    "    [0,1],\n",
    "    [1,0]\n",
    "])\n",
    "y = np.array([0,1,1,0])"
   ]
  },
  {
   "cell_type": "code",
   "execution_count": 3,
   "id": "df274c07",
   "metadata": {},
   "outputs": [
    {
     "name": "stdout",
     "output_type": "stream",
     "text": [
      "4 2\n"
     ]
    }
   ],
   "source": [
    "n_samples,n_features = X.shape\n",
    "print(n_samples,n_features)"
   ]
  },
  {
   "cell_type": "code",
   "execution_count": 8,
   "id": "c7062f12",
   "metadata": {},
   "outputs": [
    {
     "data": {
      "text/plain": [
       "array([0, 1])"
      ]
     },
     "execution_count": 8,
     "metadata": {},
     "output_type": "execute_result"
    }
   ],
   "source": [
    "class_counts = np.unique(y)\n",
    "class_counts"
   ]
  },
  {
   "cell_type": "code",
   "execution_count": 10,
   "id": "bf487168",
   "metadata": {},
   "outputs": [
    {
     "name": "stdout",
     "output_type": "stream",
     "text": [
      "{0: 0, 1: 0}\n"
     ]
    }
   ],
   "source": [
    "d ={}\n",
    "for i in class_counts:\n",
    "    d[i] = 0\n",
    "    \n",
    "print(d)"
   ]
  },
  {
   "cell_type": "code",
   "execution_count": 18,
   "id": "732bb95a",
   "metadata": {},
   "outputs": [],
   "source": [
    "\n",
    "for i in class_counts:\n",
    "    X_c = X[y==i]\n",
    "    d[i] = (np.var(X_c,axis=1))\n",
    "    "
   ]
  },
  {
   "cell_type": "code",
   "execution_count": 19,
   "id": "e8eb0b01",
   "metadata": {},
   "outputs": [
    {
     "data": {
      "text/plain": [
       "{0: array([0.25, 0.25]), 1: array([0.25, 0.25])}"
      ]
     },
     "execution_count": 19,
     "metadata": {},
     "output_type": "execute_result"
    }
   ],
   "source": [
    "d"
   ]
  },
  {
   "cell_type": "code",
   "execution_count": 15,
   "id": "8451b36b",
   "metadata": {},
   "outputs": [
    {
     "data": {
      "text/plain": [
       "(4,)"
      ]
     },
     "execution_count": 15,
     "metadata": {},
     "output_type": "execute_result"
    }
   ],
   "source": [
    "y.shape"
   ]
  },
  {
   "cell_type": "markdown",
   "id": "27c0f367",
   "metadata": {},
   "source": [
    "# Bernoulli NB by Shubham Harkare"
   ]
  },
  {
   "cell_type": "markdown",
   "id": "d074d0b8",
   "metadata": {},
   "source": [
    "$$\n",
    "p(y = y_{c}|x) = \\frac{p(y_{c}) \\times p(\\mathbf{x}|y)}{p(\\mathbf{x})}\n",
    "$$"
   ]
  },
  {
   "cell_type": "markdown",
   "id": "a50cc94b",
   "metadata": {},
   "source": [
    "$p(y_{c})$ = Prior Probability(**Number of examples label vectors belonging to class $y_{c}$ by total number of examples in the set**)"
   ]
  },
  {
   "cell_type": "markdown",
   "id": "0d784ac5",
   "metadata": {},
   "source": [
    "$p(\\mathbf{x}|y)$ = CLass Conditional Densities"
   ]
  },
  {
   "cell_type": "markdown",
   "id": "d9849d0d",
   "metadata": {},
   "source": [
    "### Prediction"
   ]
  },
  {
   "cell_type": "markdown",
   "id": "98e9fd79",
   "metadata": {},
   "source": [
    "- For prediction we use the following loss function"
   ]
  },
  {
   "cell_type": "markdown",
   "id": "ca49f8fb",
   "metadata": {},
   "source": [
    "### $$y = argmax_{y}Xlogw^{T} + (1-X)log(1- w^{T}) + log w_{prior}$$"
   ]
  },
  {
   "cell_type": "code",
   "execution_count": 245,
   "id": "ccaea3d0",
   "metadata": {},
   "outputs": [],
   "source": [
    "class BernoulliNB():\n",
    "    def fit(self,X,y):\n",
    "        n_samples,n_features = X.shape #n_samples -> Number of examples in the feature matrix\n",
    "        # n_features -> Number of features in the feature matrix\n",
    "        n_classes,class_counts = np.unique(y,return_counts=True) # n_classes -> number of unique classes present in the dataset\n",
    "        self.priors = class_counts/np.sum(class_counts) #Priors calculate the probability of number of labels of a certain class \n",
    "        # divided by the total number of examples of the dataset\n",
    "        \n",
    "        self.w = np.zeros((len(n_classes),n_features),dtype = np.float64)\n",
    "        for i in n_classes:\n",
    "            X_c = X[y==i]\n",
    "            # Iterating over all labels for all the labels in the class\n",
    "            # The weight matrix looks as follows:\n",
    "            #                        X0      X1\n",
    "            #                   Y0  p(X0|y0) p(X1|y0)\n",
    "            #                   Y1  p(x0|y1) p(X1|y1)\n",
    "            self.w[i,:] = (np.sum(X_c,axis = 0)+ 1)/(X_c.shape[0] +2)\n",
    "            \n",
    "        return self.w,self.priors\n",
    "        \n",
    "        \n",
    "    def log_likelihood(self,X:np.ndarray):\n",
    "        e1 = X@np.log(self.w.T)  \n",
    "        e2 = (1-X)@np.log(1 - w.T)  \n",
    "        return e1+e2+ np.log(self.priors)\n",
    "    \n",
    "    def predict(self,X:np.ndarray):\n",
    "        return np.argmax(self.log_likelihood(X),axis =1)"
   ]
  },
  {
   "cell_type": "code",
   "execution_count": 246,
   "id": "718b7d0c",
   "metadata": {},
   "outputs": [],
   "source": [
    "X = np.array([[1,0],[0,1],[0,1],[1,0]])\n",
    "y = np.array([1,0,0,1])\n"
   ]
  },
  {
   "cell_type": "code",
   "execution_count": 247,
   "id": "4081b037",
   "metadata": {},
   "outputs": [],
   "source": [
    "bnb = BernoulliNB()"
   ]
  },
  {
   "cell_type": "code",
   "execution_count": 248,
   "id": "2ffc5421",
   "metadata": {},
   "outputs": [],
   "source": [
    "class_conditional_densities,priors = bnb.fit(X,y) "
   ]
  },
  {
   "cell_type": "code",
   "execution_count": 249,
   "id": "ff1ab05a",
   "metadata": {},
   "outputs": [],
   "source": [
    "llh = bnb.log_likelihood(X)"
   ]
  },
  {
   "cell_type": "code",
   "execution_count": 250,
   "id": "53c18421",
   "metadata": {},
   "outputs": [
    {
     "data": {
      "text/plain": [
       "array([1, 0, 0, 1], dtype=int64)"
      ]
     },
     "execution_count": 250,
     "metadata": {},
     "output_type": "execute_result"
    }
   ],
   "source": [
    "bnb.predict(X)"
   ]
  },
  {
   "cell_type": "code",
   "execution_count": 170,
   "id": "a2b7b36a",
   "metadata": {},
   "outputs": [
    {
     "data": {
      "text/plain": [
       "(array([[0.25, 0.75],\n",
       "        [0.75, 0.25]]),\n",
       " array([0.5, 0.5]))"
      ]
     },
     "execution_count": 170,
     "metadata": {},
     "output_type": "execute_result"
    }
   ],
   "source": [
    "class_conditional_densities,priors"
   ]
  },
  {
   "cell_type": "code",
   "execution_count": 171,
   "id": "a32591dc",
   "metadata": {},
   "outputs": [
    {
     "data": {
      "text/plain": [
       "((3, 2), (2, 3))"
      ]
     },
     "execution_count": 171,
     "metadata": {},
     "output_type": "execute_result"
    }
   ],
   "source": [
    "w.shape,w.T.shape"
   ]
  },
  {
   "cell_type": "code",
   "execution_count": 184,
   "id": "8a56e5d2",
   "metadata": {},
   "outputs": [],
   "source": [
    "w_log = np.log(class_conditional_densities.T)"
   ]
  },
  {
   "cell_type": "code",
   "execution_count": 185,
   "id": "a0923ae8",
   "metadata": {},
   "outputs": [
    {
     "data": {
      "text/plain": [
       "((2, 2), (2, 2))"
      ]
     },
     "execution_count": 185,
     "metadata": {},
     "output_type": "execute_result"
    }
   ],
   "source": [
    "class_conditional_densities.shape,w_log.shape"
   ]
  },
  {
   "cell_type": "code",
   "execution_count": 186,
   "id": "491065ed",
   "metadata": {},
   "outputs": [
    {
     "data": {
      "text/plain": [
       "array([[-1.38629436, -0.28768207],\n",
       "       [-0.28768207, -1.38629436],\n",
       "       [-0.28768207, -1.38629436],\n",
       "       [-1.38629436, -0.28768207]])"
      ]
     },
     "execution_count": 186,
     "metadata": {},
     "output_type": "execute_result"
    }
   ],
   "source": [
    "X@w_log"
   ]
  },
  {
   "cell_type": "markdown",
   "id": "333a12bf",
   "metadata": {},
   "source": [
    "# Gaussian NB By Shubham Harkare"
   ]
  },
  {
   "cell_type": "markdown",
   "id": "cda053b0",
   "metadata": {},
   "source": [
    "- In Gaussian NB the The class conditional densities follow Gaussian Distribution"
   ]
  },
  {
   "cell_type": "markdown",
   "id": "df6d692a",
   "metadata": {},
   "source": [
    "$$x_{j}|y_{r} \\sim \\mathcal{N}(\\mu,\\,\\sigma^{2})\\$$"
   ]
  },
  {
   "cell_type": "markdown",
   "id": "d1aaf4c3",
   "metadata": {},
   "source": [
    "$\\mu_{m \\times 1}$ = means of  m  feature\n",
    "\n",
    "$\\sum_{m \\times m}$ = Covariance matrix\n",
    "\n",
    "The Diagonal entries in the covariance matrix are the variances "
   ]
  },
  {
   "cell_type": "code",
   "execution_count": 288,
   "id": "c6d67e5e",
   "metadata": {},
   "outputs": [],
   "source": [
    "class GaussianNB():\n",
    "    def class_scores(self,y_hat,y):\n",
    "        '''\n",
    "        Function that provides all the evaluation metrics such as precsion,recall and accuracy\n",
    "        '''\n",
    "        tp = np.sum()\n",
    "    \n",
    "    \n",
    "    def fit(self,X:np.ndarray,y:np.ndarray):\n",
    "        n_samples,n_features = X.shape\n",
    "        n_classes,class_count = np.unique(y,return_counts=True)\n",
    "        # There are n_features and n_classes in the given dataset therefore \n",
    "        self.means =  np.zeros((len(n_classes),n_features),dtype = np.float64)\n",
    "        self.vars = np.zeros((n_features,n_features),dtype = np.float64)\n",
    "        self.priors = class_count/np.sum(class_count)\n",
    "        \n",
    "        for i in n_classes:\n",
    "            X_c = X[y == i]\n",
    "            self.means[i,:] = np.mean(X_c)\n",
    "            self.vars[i,:] = np.var(X_c)\n",
    "            \n",
    "        return self.means,self.vars,self.priors\n",
    "    \n",
    "    def _pdf(self,X:np.ndarray,mean,var):\n",
    "        '''\n",
    "        This function calculates the log of normal distribution given the feature matrix\n",
    "        it's corresponding mean vector and covariance matrix\n",
    "        '''\n",
    "        out = -0.5*(np.log(2*np.pi)) + np.log(var)\n",
    "        exp = -0.5*(X - mean)**2/var\n",
    "        return np.sum(out+exp,axis = 1)\n",
    "    \n",
    "    def predict(self,X):\n",
    "        n_samples,n_features = X.shape\n",
    "        n_classes,class_count = np.unique(y,return_counts=True)\n",
    "        # Posteriors are p(y|x) and there shape is n_classes x n_features\n",
    "        posterior = np.zeros((n_samples,len(n_classes)),dtype= np.float64)\n",
    "        for c in n_classes:\n",
    "            posterior[:,c] = np.log(self.priors[c]) + self._pdf(X,self.means[c,:],self.vars[c,:])\n",
    "            \n",
    "        return np.argmax(posterior,axis = 1)\n",
    "    \n",
    "        \n",
    "            "
   ]
  },
  {
   "cell_type": "code",
   "execution_count": 289,
   "id": "12e09693",
   "metadata": {},
   "outputs": [],
   "source": [
    "gnb = GaussianNB()"
   ]
  },
  {
   "cell_type": "code",
   "execution_count": 290,
   "id": "107798ac",
   "metadata": {},
   "outputs": [
    {
     "data": {
      "text/plain": [
       "(array([[ 4.88766086,  4.88766086],\n",
       "        [10.04101716, 10.04101716]]),\n",
       " array([[2.6280826 , 2.6280826 ],\n",
       "        [2.25586372, 2.25586372]]),\n",
       " array([0.525, 0.475]))"
      ]
     },
     "execution_count": 290,
     "metadata": {},
     "output_type": "execute_result"
    }
   ],
   "source": [
    "gnb.fit(X_train,y_train)"
   ]
  },
  {
   "cell_type": "code",
   "execution_count": 291,
   "id": "aef6f5fa",
   "metadata": {},
   "outputs": [
    {
     "data": {
      "text/plain": [
       "array([1, 1, 1, 0, 1, 1, 0, 1, 1, 0, 0, 1, 0, 1, 0, 1, 1, 0, 1, 0],\n",
       "      dtype=int64)"
      ]
     },
     "execution_count": 291,
     "metadata": {},
     "output_type": "execute_result"
    }
   ],
   "source": [
    "gnb.predict(X_test)"
   ]
  },
  {
   "cell_type": "code",
   "execution_count": 292,
   "id": "a9ab6f47",
   "metadata": {},
   "outputs": [
    {
     "data": {
      "text/plain": [
       "array([1, 1, 1, 0, 1, 1, 0, 1, 1, 0, 0, 1, 0, 1, 0, 1, 1, 0, 1, 0])"
      ]
     },
     "execution_count": 292,
     "metadata": {},
     "output_type": "execute_result"
    }
   ],
   "source": [
    "y_test"
   ]
  },
  {
   "cell_type": "markdown",
   "id": "4b22371c",
   "metadata": {},
   "source": [
    "# Example working"
   ]
  },
  {
   "cell_type": "code",
   "execution_count": 237,
   "id": "00c93f64",
   "metadata": {},
   "outputs": [],
   "source": [
    "X = np.array([[1,0],[0,1],[0,1],[1,0]])\n",
    "y = np.array([1,0,0,1])\n"
   ]
  },
  {
   "cell_type": "code",
   "execution_count": 226,
   "id": "22f9dd52",
   "metadata": {},
   "outputs": [],
   "source": [
    "w,w_priors = bnb.fit(X,y)"
   ]
  },
  {
   "cell_type": "code",
   "execution_count": 228,
   "id": "504033d8",
   "metadata": {},
   "outputs": [
    {
     "data": {
      "text/plain": [
       "(4, 2)"
      ]
     },
     "execution_count": 228,
     "metadata": {},
     "output_type": "execute_result"
    }
   ],
   "source": [
    "e1 = X@np.log(w.T)\n",
    "e1.shape"
   ]
  },
  {
   "cell_type": "code",
   "execution_count": 229,
   "id": "e680555f",
   "metadata": {},
   "outputs": [
    {
     "data": {
      "text/plain": [
       "(4, 2)"
      ]
     },
     "execution_count": 229,
     "metadata": {},
     "output_type": "execute_result"
    }
   ],
   "source": [
    "e2 = (1 - X)@np.log(1 - w.T)\n",
    "e2.shape"
   ]
  },
  {
   "cell_type": "code",
   "execution_count": 231,
   "id": "5a3adcf4",
   "metadata": {},
   "outputs": [
    {
     "data": {
      "text/plain": [
       "array([[-2.77258872, -0.57536414],\n",
       "       [-0.57536414, -2.77258872],\n",
       "       [-0.57536414, -2.77258872],\n",
       "       [-2.77258872, -0.57536414]])"
      ]
     },
     "execution_count": 231,
     "metadata": {},
     "output_type": "execute_result"
    }
   ],
   "source": [
    "e1+e2"
   ]
  },
  {
   "cell_type": "code",
   "execution_count": 232,
   "id": "00e9449c",
   "metadata": {},
   "outputs": [
    {
     "data": {
      "text/plain": [
       "(2, 2)"
      ]
     },
     "execution_count": 232,
     "metadata": {},
     "output_type": "execute_result"
    }
   ],
   "source": [
    "w.shape"
   ]
  },
  {
   "cell_type": "code",
   "execution_count": 253,
   "id": "896b90a9",
   "metadata": {},
   "outputs": [],
   "source": [
    "from sklearn.datasets import make_classification,make_blobs\n",
    "from sklearn.model_selection import train_test_split\n",
    "\n",
    "X, y = make_blobs(n_samples=100,n_features=2,centers=[[5,5],[10,10]],cluster_std=1.5,random_state=2)\n",
    "\n",
    "X_train,X_test,y_train,y_test = train_test_split(X,y,test_size=0.2,random_state=133)"
   ]
  },
  {
   "cell_type": "code",
   "execution_count": 255,
   "id": "62a45cd9",
   "metadata": {},
   "outputs": [],
   "source": [
    "n_classes,class_count = np.unique(y_train,return_counts=True)"
   ]
  },
  {
   "cell_type": "code",
   "execution_count": 256,
   "id": "d569f27d",
   "metadata": {},
   "outputs": [
    {
     "data": {
      "text/plain": [
       "array([0.525, 0.475])"
      ]
     },
     "execution_count": 256,
     "metadata": {},
     "output_type": "execute_result"
    }
   ],
   "source": [
    "priors = class_count/np.sum(class_count)"
   ]
  },
  {
   "cell_type": "code",
   "execution_count": 261,
   "id": "11a08ab7",
   "metadata": {},
   "outputs": [
    {
     "name": "stdout",
     "output_type": "stream",
     "text": [
      "[4.55327074 5.13550586]\n",
      "[10.33985583 10.04486762]\n"
     ]
    }
   ],
   "source": [
    "for i in n_classes:\n",
    "    print(np.mean(X[y == i],axis = 0))"
   ]
  },
  {
   "cell_type": "code",
   "execution_count": 260,
   "id": "69ac1309",
   "metadata": {},
   "outputs": [
    {
     "data": {
      "text/plain": [
       "2"
      ]
     },
     "execution_count": 260,
     "metadata": {},
     "output_type": "execute_result"
    }
   ],
   "source": [
    "n_samples,n_features = X.shape\n",
    "n_features"
   ]
  },
  {
   "cell_type": "code",
   "execution_count": 263,
   "id": "7b8ff84b",
   "metadata": {},
   "outputs": [],
   "source": [
    "a = np.array([[1,2],[3,4]])"
   ]
  },
  {
   "cell_type": "code",
   "execution_count": 265,
   "id": "664fa2bd",
   "metadata": {},
   "outputs": [
    {
     "data": {
      "text/plain": [
       "array([2., 3.])"
      ]
     },
     "execution_count": 265,
     "metadata": {},
     "output_type": "execute_result"
    }
   ],
   "source": [
    "np.mean(a,axis = 0)"
   ]
  },
  {
   "cell_type": "code",
   "execution_count": null,
   "id": "d4f0ed7a",
   "metadata": {},
   "outputs": [],
   "source": []
  }
 ],
 "metadata": {
  "kernelspec": {
   "display_name": "Python 3 (ipykernel)",
   "language": "python",
   "name": "python3"
  },
  "language_info": {
   "codemirror_mode": {
    "name": "ipython",
    "version": 3
   },
   "file_extension": ".py",
   "mimetype": "text/x-python",
   "name": "python",
   "nbconvert_exporter": "python",
   "pygments_lexer": "ipython3",
   "version": "3.9.7"
  }
 },
 "nbformat": 4,
 "nbformat_minor": 5
}
