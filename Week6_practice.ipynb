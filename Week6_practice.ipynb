{
 "cells": [
  {
   "cell_type": "code",
   "execution_count": 1,
   "id": "193bbcb0",
   "metadata": {},
   "outputs": [],
   "source": [
    "import numpy as np"
   ]
  },
  {
   "cell_type": "markdown",
   "id": "210b853d",
   "metadata": {},
   "source": [
    "# Naive Bayes Classifier"
   ]
  },
  {
   "cell_type": "markdown",
   "id": "fb38602e",
   "metadata": {},
   "source": [
    "Bayes Theorm :-\n",
    "$$p(y|\\mathbf{x}) = \\frac{p(\\mathbf{x}|y) \\times p(y)}{p(\\mathbf{x})}$$\n",
    "$p(\\mathbf{x}|y)$ : Class conditional density\n",
    "$p(\\mathbf{x}|y) = p(x_{1},x_{2},....,x_{n}|y)$\n",
    "\n",
    "$p(\\mathbf{x}) = p(x_{1},x_{2},....,x_{n},y)$\n",
    "\n",
    "Therefore :-\n",
    "$$p(y|\\mathbf{x}) = \\frac{p(x_{1},x_{2},....,x_{n}|y) \\times p(y)}{p(x_{1},x_{2},....,x_{n},y)}$$\n",
    "$$                = \\frac{p(y)\\times \\prod_{j = 1}^{m}p(x_{j}|y)}{\\sum_{r = 1}^{k}p(y_{r})\\prod_{j = 1}^{m}p(x_{j}|y)} $$\n",
    "\n",
    "Therefore the probability that the label $\\mathbf{y}$ belongs to the class $\\mathbf{y_{c}}$ is given by:-\n",
    "\n",
    "$$                = \\frac{p(y= y_{c})\\times \\prod_{j = 1}^{m}p(x_{j}|y_{c})}{\\sum_{r = 1}^{k}p(y_{r})\\prod_{j = 1}^{m}p(x_{j}|y_{c})} $$\n"
   ]
  },
  {
   "cell_type": "markdown",
   "id": "3f85496a",
   "metadata": {},
   "source": [
    "# Inference"
   ]
  },
  {
   "cell_type": "markdown",
   "id": "1e59c532",
   "metadata": {},
   "source": [
    "###  for calculation of $\\texttt{predict_proba()}$\n",
    "We perform the calculation of probabilites in **log-space** such that it prevents under flow of small number\n",
    "\n",
    "The label that results in the **highest value of numerator** is assigned to the given example \n",
    "*The denominator only acts as a normalizing constant*\n",
    "\n",
    "$$ y = argmax_{y} logp(y) + \\sum_{i=1}^{m}log p(x_{i}|j)$$\n",
    "\n",
    "**Posterior probability** however need calculation of Bayes forumalae\n",
    "$$log p(\\mathbf{x}|y) = log p(y_{r}) + \\sum_{j=1}^{m}log p(x_{j} + y_{r}) $$\n",
    "\n",
    "$$ p(\\mathbf{x}|y) = e^{log p(\\mathbf{x},y)}$$\n",
    "\n",
    "Summing over all the classes we can get $p(\\mathbf{x})$\n",
    "$$p(\\mathbf{x}) = \\sum_{r = 1}^{k} log p(\\mathbf{x}|y_{r}) = \\sum_{r = 1}^{k} e^{log p(\\mathbf{x},y_{r})} $$\n",
    "\n",
    "$$ p(y_{r}|\\mathbf{x}) = \\frac{p(\\mathbf{x},y_{r})}{p(y_{r})} $$"
   ]
  },
  {
   "cell_type": "markdown",
   "id": "6fd9f781",
   "metadata": {},
   "source": [
    "# Bernoulli NB"
   ]
  },
  {
   "cell_type": "markdown",
   "id": "84970cfd",
   "metadata": {},
   "source": [
    "for $\\texttt{predict()}$\n",
    "\n",
    "Weigth vector will be a matrix of size  $  n-features\\times n-classes  $ \n",
    "\n",
    "Let consider that there are two features **{0,1}** and two classes **{0,1}**\n",
    "\n",
    "Therefore the value of **w[0][0]** = probability of feature = 0 and probability of label = 0"
   ]
  },
  {
   "cell_type": "code",
   "execution_count": 2,
   "id": "05493070",
   "metadata": {},
   "outputs": [],
   "source": [
    "def fit(X,y):\n",
    "    n_samples,n_features = X.shape\n",
    "    class_count = np.unique(y)\n",
    "    n_classes = len(class_count)\n",
    "    w = np.zeros((n_features,n_classes),dtype = np.float64)\n",
    "    for i in range(n_classes):\n",
    "        \n",
    "        \n",
    "    "
   ]
  },
  {
   "cell_type": "code",
   "execution_count": 3,
   "id": "4969a5d9",
   "metadata": {},
   "outputs": [],
   "source": [
    "X = np.array([\n",
    "    [1,0],\n",
    "    [0,1],\n",
    "    [0,1],\n",
    "    [1,0]\n",
    "])\n",
    "y = np.array([0,1,1,0])"
   ]
  },
  {
   "cell_type": "code",
   "execution_count": 4,
   "id": "baa2d941",
   "metadata": {},
   "outputs": [
    {
     "name": "stdout",
     "output_type": "stream",
     "text": [
      "0\n",
      "1\n"
     ]
    }
   ],
   "source": [
    "fit(X,y)"
   ]
  },
  {
   "cell_type": "code",
   "execution_count": null,
   "id": "700ffff3",
   "metadata": {},
   "outputs": [],
   "source": []
  }
 ],
 "metadata": {
  "kernelspec": {
   "display_name": "Python 3 (ipykernel)",
   "language": "python",
   "name": "python3"
  },
  "language_info": {
   "codemirror_mode": {
    "name": "ipython",
    "version": 3
   },
   "file_extension": ".py",
   "mimetype": "text/x-python",
   "name": "python",
   "nbconvert_exporter": "python",
   "pygments_lexer": "ipython3",
   "version": "3.9.7"
  }
 },
 "nbformat": 4,
 "nbformat_minor": 5
}
