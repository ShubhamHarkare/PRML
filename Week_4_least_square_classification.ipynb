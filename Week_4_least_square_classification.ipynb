{
 "cells": [
  {
   "cell_type": "markdown",
   "metadata": {
    "id": "RMSG3AVIJms6"
   },
   "source": [
    "# Importing the libraries"
   ]
  },
  {
   "cell_type": "code",
   "execution_count": 2,
   "metadata": {
    "id": "jbSC8tp7xMNU"
   },
   "outputs": [],
   "source": [
    "import numpy as np\n",
    "import matplotlib.pyplot as plt\n",
    "from IPython.display import display,Math,Latex\n",
    "import seaborn as sns"
   ]
  },
  {
   "cell_type": "markdown",
   "metadata": {
    "id": "ujEAbksoIZpU"
   },
   "source": [
    "# One Hot Encoder"
   ]
  },
  {
   "cell_type": "code",
   "execution_count": 41,
   "metadata": {
    "id": "4ShJxuN1Icuo"
   },
   "outputs": [],
   "source": [
    "class LabelTransformer(object):\n",
    "\n",
    "  def __init__(self,n_classes:int = None):\n",
    "    self.n_classes= n_classes\n",
    "\n",
    "  @property\n",
    "  def n_classes(self):\n",
    "    return self.__n_classes\n",
    "\n",
    "  @n_classes.setter\n",
    "  def n_classes(self,K):\n",
    "    self.__n_classes = K\n",
    "    self.__encoder = None if K is None else np.eye(K)\n",
    "\n",
    "  @property\n",
    "  def encoder(self):\n",
    "    return self.__encoder\n",
    "\n",
    "  def encode(self,class_indices:np.ndarray):\n",
    "    if self.n_classes == None:\n",
    "      self.n_classes = np.max(class_indices) + 1\n",
    "    return self.encoder[class_indices]\n",
    "\n",
    "\n",
    "  def decode(self,onehoe:np.ndarray):\n",
    "    return np.argmax(onehot,axis = 1)\n"
   ]
  },
  {
   "cell_type": "markdown",
   "metadata": {},
   "source": [
    "# Class for One Hot Encoding \n",
    "**By Shubham Harkare**"
   ]
  },
  {
   "cell_type": "code",
   "execution_count": 3,
   "metadata": {},
   "outputs": [],
   "source": [
    "class OneHotEncoder():\n",
    "    def encode(self,X:np.ndarray)->np.ndarray:\n",
    "        encoder = np.zeros((X.shape[0],np.unique(X).shape[0]))\n",
    "        encoder[np.arange(encoder.shape[0]),X] = 1\n",
    "        return encoder\n",
    "    \n",
    "    def decode(self,onehot:np.ndarray)->np.ndarray:\n",
    "        return np.argmax(onehot,axis = 1)"
   ]
  },
  {
   "cell_type": "code",
   "execution_count": 4,
   "metadata": {},
   "outputs": [],
   "source": [
    "X = np.array([0,1,3,2])"
   ]
  },
  {
   "cell_type": "code",
   "execution_count": 8,
   "metadata": {},
   "outputs": [
    {
     "data": {
      "text/plain": [
       "(array([0, 1, 2, 3]), array([0, 1, 3, 2]))"
      ]
     },
     "execution_count": 8,
     "metadata": {},
     "output_type": "execute_result"
    }
   ],
   "source": []
  },
  {
   "cell_type": "code",
   "execution_count": 29,
   "metadata": {},
   "outputs": [],
   "source": [
    "onehotenc = OneHotEncoder()"
   ]
  },
  {
   "cell_type": "code",
   "execution_count": 30,
   "metadata": {},
   "outputs": [],
   "source": [
    "ohc = onehotenc.encode(X)"
   ]
  },
  {
   "cell_type": "code",
   "execution_count": 31,
   "metadata": {},
   "outputs": [
    {
     "data": {
      "text/plain": [
       "array([[1., 0., 0., 0.],\n",
       "       [0., 1., 0., 0.],\n",
       "       [0., 0., 0., 1.],\n",
       "       [0., 0., 1., 0.]])"
      ]
     },
     "execution_count": 31,
     "metadata": {},
     "output_type": "execute_result"
    }
   ],
   "source": [
    "ohc"
   ]
  },
  {
   "cell_type": "code",
   "execution_count": 32,
   "metadata": {},
   "outputs": [
    {
     "data": {
      "text/plain": [
       "array([0, 1, 3, 2], dtype=int64)"
      ]
     },
     "execution_count": 32,
     "metadata": {},
     "output_type": "execute_result"
    }
   ],
   "source": [
    "onehotenc.decode(ohc)"
   ]
  },
  {
   "cell_type": "code",
   "execution_count": 23,
   "metadata": {},
   "outputs": [
    {
     "data": {
      "text/plain": [
       "array([0, 1, 2, 3])"
      ]
     },
     "execution_count": 23,
     "metadata": {},
     "output_type": "execute_result"
    }
   ],
   "source": [
    "np.arange(X.shape[0])"
   ]
  },
  {
   "cell_type": "code",
   "execution_count": 42,
   "metadata": {
    "colab": {
     "base_uri": "https://localhost:8080/"
    },
    "id": "33bpFzpLIcrk",
    "outputId": "7b25ca0b-8f8c-434d-c205-9be994b1331a"
   },
   "outputs": [
    {
     "data": {
      "text/plain": [
       "array([[0., 1.],\n",
       "       [1., 0.],\n",
       "       [0., 1.],\n",
       "       [1., 0.]])"
      ]
     },
     "execution_count": 42,
     "metadata": {},
     "output_type": "execute_result"
    }
   ],
   "source": [
    "binary_labels = LabelTransformer(2).encode(np.array([1,0,1,0]))\n",
    "binary_labels"
   ]
  },
  {
   "cell_type": "code",
   "execution_count": null,
   "metadata": {},
   "outputs": [],
   "source": []
  },
  {
   "cell_type": "markdown",
   "metadata": {
    "id": "np37h6Ifx6SM"
   },
   "source": [
    "## Least square classification implementation"
   ]
  },
  {
   "cell_type": "markdown",
   "metadata": {
    "id": "Z0MRaYiTz6or"
   },
   "source": [
    "### **Training**\n",
    "\n",
    "1. We have ${X}$ of shape ${(n,m)}$ where **${n}$** is the number of rows and **${m}$** the number of features \n",
    "\n",
    "2. We have ${Y}$ of shape ${(n,k)}$ where **${n}$** is the number of rows and **${k}$** the number of lables"
   ]
  },
  {
   "cell_type": "markdown",
   "metadata": {
    "id": "lcSJgxTg0uIP"
   },
   "source": [
    "### Model\n",
    "\n",
    "$${Y_{n,k} = X_{n,m+1}W_{m+1,k}}$$"
   ]
  },
  {
   "cell_type": "markdown",
   "metadata": {
    "id": "_Z6XRFeK3jvN"
   },
   "source": [
    "### Loss Function\n",
    "\n",
    "$$ J(W) = (1/2)(XW-Y)^{T}(XW-Y)$$"
   ]
  },
  {
   "cell_type": "markdown",
   "metadata": {},
   "source": [
    "# Loss Function Class\n",
    "**Shubham Harkare**"
   ]
  },
  {
   "cell_type": "code",
   "execution_count": 34,
   "metadata": {
    "id": "Ns6Glstrza12"
   },
   "outputs": [],
   "source": [
    "class LeastSquareClassifier():\n",
    "    \n",
    "    def __init__(self):\n",
    "        self.t0 = 20\n",
    "        self.t1 = 100\n",
    "        \n",
    "    def predict(self,X:np.ndarray) -> np.ndarray:\n",
    "        assert X.shape[-1] == self.w.shape[0], f'{X.shape} and {w.shape} are not compatible'\n",
    "        return np.argmax(X @ self.w,axis=1)\n",
    "    \n",
    "    def predict_internal(self,X:np.ndarray) -> np.ndarray:\n",
    "        assert X.shape[-1] == self.w.shape[0], f'{X.shape} and {w.shape} are not compatible'\n",
    "        return X @ self.w\n",
    "    \n",
    "    def loss(self,X:np.ndarray,y:np.ndarray) -> float:\n",
    "        e = self.predict_internal(X) - y\n",
    "        return (1/2)*(np.transpose(e) @ e)\n",
    "    \n",
    "    def fit(self,X:np.ndarray,y:np.ndarray) -> np.ndarray:\n",
    "        self.w = np.linalg.inv(np.transpose(X)@X)@np.transpose(X)@y\n",
    "        return self.w\n",
    "        \n",
    "    \n",
    "    "
   ]
  },
  {
   "cell_type": "code",
   "execution_count": 46,
   "metadata": {},
   "outputs": [],
   "source": [
    "lsc = LeastSquareClassifier()\n",
    "X = np.array([[1,-3,2,-5],[1,9,-4,7]])\n",
    "w = np.array([1,1,1,1])\n",
    "y = np.array([1,0])"
   ]
  },
  {
   "cell_type": "code",
   "execution_count": 57,
   "metadata": {},
   "outputs": [
    {
     "data": {
      "text/plain": [
       "array([-5, 13])"
      ]
     },
     "execution_count": 57,
     "metadata": {},
     "output_type": "execute_result"
    }
   ],
   "source": [
    "lsc.w = w\n",
    "lsc.predict_internal(X)"
   ]
  },
  {
   "cell_type": "code",
   "execution_count": 58,
   "metadata": {},
   "outputs": [
    {
     "data": {
      "text/plain": [
       "102.5"
      ]
     },
     "execution_count": 58,
     "metadata": {},
     "output_type": "execute_result"
    }
   ],
   "source": [
    "lsc.loss(X,y)"
   ]
  },
  {
   "cell_type": "markdown",
   "metadata": {
    "id": "MNQ7DUV883Ku"
   },
   "source": [
    "## Confusion Matrix ##"
   ]
  },
  {
   "cell_type": "code",
   "execution_count": 5,
   "metadata": {
    "id": "R_B34fFC8-0C"
   },
   "outputs": [],
   "source": [
    "def confusion_matrix(y_test,y_pred):\n",
    "  tp = np.where((y_test == 1) and (y_pred == 1),1,0).sum()\n",
    "  tn = np.where((y_test == 0) and (y_pred == 0),1,0).sum()\n",
    "  fp = np.where((y_test == 0) and (y_pred == 1),1,0).sum()\n",
    "  fn = np.where((y_test == 1) and (y_pred == 0),1,0).sum()\n",
    "\n",
    "  return np.array([\n",
    "                   [tp,fp],\n",
    "                   [fn,tn]\n",
    "\n",
    "  ])"
   ]
  },
  {
   "cell_type": "markdown",
   "metadata": {
    "id": "Fw_wKZmVJgrd"
   },
   "source": [
    "# Perceptron Algorithm"
   ]
  },
  {
   "cell_type": "markdown",
   "metadata": {
    "id": "vkSJbJ2FKSHr"
   },
   "source": [
    "## Training data\n",
    "\n",
    "1. Feature Matrix : ${X_{n,m+1}}$ includes the dummy feature ${x_0}$ which is set to 1\n",
    "2. Label vector: ${y_{n,1}}$\n",
    "\n",
    "\n",
    "Perceptron can only solve **binary classification** "
   ]
  },
  {
   "cell_type": "markdown",
   "metadata": {
    "id": "mQXCyLQ3K7hm"
   },
   "source": [
    "## Model\n",
    "\n",
    "$${h(w): y = sign(w^{T}phi(x)) }$$"
   ]
  },
  {
   "cell_type": "markdown",
   "metadata": {
    "id": "oqxTx5HDM8RL"
   },
   "source": [
    "# Polynomial Transformation"
   ]
  },
  {
   "cell_type": "code",
   "execution_count": null,
   "metadata": {
    "id": "chEqRp-F9Ydv"
   },
   "outputs": [],
   "source": []
  },
  {
   "cell_type": "markdown",
   "metadata": {
    "id": "gxQZnPxpNAll"
   },
   "source": [
    "# Perceptron class"
   ]
  },
  {
   "cell_type": "code",
   "execution_count": 7,
   "metadata": {
    "id": "fpBeUuANNLAI"
   },
   "outputs": [],
   "source": [
    "class Perceptron:\n",
    "  '''\n",
    "  It uses the following class variables:\n",
    "  w: To store the weight vectors\n",
    "  w_all : To store all the weight vectors\n",
    "  errors_all : To store all the error values\n",
    "  '''\n",
    "\n",
    "  def __init__(self):\n",
    "    return \n",
    "  \n",
    "  def predict(self,X:np.ndarray):\n",
    "    z = X @ self.w\n",
    "    return np.where(z>=0,1,-1)\n",
    "\n",
    "  def loss(self,X,y):\n",
    "    return np.sum(np.maximum(-1*self.predict(X)*y,np.zeros(y.shape[0])))\n",
    "\n",
    "  def train(self,X,y,epochs=10,lr=0.001):\n",
    "    self.w = np.zeros(X.shape[-1])\n",
    "    self.errors_all = []\n",
    "    self.w_all = []\n",
    "\n",
    "    for _ in range(epochs):\n",
    "      errors = 0\n",
    "      for x,target in zip(X,y):\n",
    "        self.w +=  lr * (target - self.predict(Xi))*xi\n",
    "        errors +=  (max(-1*self.predict(x)*target,0))\n",
    "\n",
    "      self.errors_all.append(errors)\n",
    "      self.w_all.append(self.w)\n",
    "      print(\"w: \",self.w) \n",
    "      print(\"J(w): \",self.errors_all[-1] )\n",
    "\n",
    "\n"
   ]
  },
  {
   "cell_type": "markdown",
   "metadata": {},
   "source": [
    "# perceptron \n",
    "**Shubham Harkare**"
   ]
  },
  {
   "cell_type": "code",
   "execution_count": 96,
   "metadata": {},
   "outputs": [],
   "source": [
    "class Perceptron:\n",
    "    def __init__(self):\n",
    "        return\n",
    "    \n",
    "    def predict(self,X:np.ndarray)->np.ndarray:\n",
    "        z = X @ self.w\n",
    "        return np.where(z>=0,1,-1)\n",
    "    def loss(self,X:np.ndarray,y:np.ndarray)->float:\n",
    "        return np.sum(np.maximum(-1*self.predict(X)*y,\n",
    "                                np.zeros(X.shape[0])))\n",
    "    \n",
    "    def train(self,X:np.ndarray,y:np.ndarray,epoch=10,lr=0.001):\n",
    "        self.w = np.zeros(X.shape[-1])\n",
    "        self.errors_all = []\n",
    "        self.w_all = []\n",
    "        for _ in range(epoch):\n",
    "            errors = 0\n",
    "            for xi,target in zip(X,y):\n",
    "                \n",
    "                self.w += lr*(target - self.predict(xi))*xi\n",
    "                errors += max(0,-1*target*self.predict(xi))\n",
    "                \n",
    "            self.errors_all.append(errors)\n",
    "            self.w_all.append(self.w)\n",
    "            print(\"w : \",perceptron_obj.w)\n",
    "            print(\"J(w) :\",perceptron_obj.errors_all[-1])\n",
    "        "
   ]
  },
  {
   "cell_type": "code",
   "execution_count": 97,
   "metadata": {},
   "outputs": [],
   "source": [
    "perceptron_obj = Perceptron()"
   ]
  },
  {
   "cell_type": "code",
   "execution_count": 98,
   "metadata": {},
   "outputs": [],
   "source": [
    "X = np.array([[1,3,5,4],[2,4,-0.7,-1.3]])"
   ]
  },
  {
   "cell_type": "code",
   "execution_count": 99,
   "metadata": {},
   "outputs": [],
   "source": [
    "perceptron_obj.w = np.array([1,1,1,1])"
   ]
  },
  {
   "cell_type": "code",
   "execution_count": 100,
   "metadata": {},
   "outputs": [
    {
     "data": {
      "text/plain": [
       "array([1, 1])"
      ]
     },
     "execution_count": 100,
     "metadata": {},
     "output_type": "execute_result"
    }
   ],
   "source": [
    "perceptron_obj.predict(X)"
   ]
  },
  {
   "cell_type": "code",
   "execution_count": 101,
   "metadata": {},
   "outputs": [],
   "source": [
    "y = np.array([0,0])"
   ]
  },
  {
   "cell_type": "code",
   "execution_count": 102,
   "metadata": {},
   "outputs": [
    {
     "name": "stdout",
     "output_type": "stream",
     "text": [
      "w :  [ 0.001   0.001  -0.0057 -0.0053]\n",
      "J(w) : 0\n",
      "w :  [ 0.00000000e+00  0.00000000e+00 -1.08420217e-19  2.16840434e-19]\n",
      "J(w) : 0\n",
      "w :  [ 0.001   0.001  -0.0057 -0.0053]\n",
      "J(w) : 0\n",
      "w :  [ 0.00000000e+00  0.00000000e+00 -1.08420217e-19  2.16840434e-19]\n",
      "J(w) : 0\n",
      "w :  [ 0.001   0.001  -0.0057 -0.0053]\n",
      "J(w) : 0\n",
      "w :  [ 0.00000000e+00  0.00000000e+00 -1.08420217e-19  2.16840434e-19]\n",
      "J(w) : 0\n",
      "w :  [ 0.001   0.001  -0.0057 -0.0053]\n",
      "J(w) : 0\n",
      "w :  [ 0.00000000e+00  0.00000000e+00 -1.08420217e-19  2.16840434e-19]\n",
      "J(w) : 0\n",
      "w :  [ 0.001   0.001  -0.0057 -0.0053]\n",
      "J(w) : 0\n",
      "w :  [ 0.00000000e+00  0.00000000e+00 -1.08420217e-19  2.16840434e-19]\n",
      "J(w) : 0\n"
     ]
    }
   ],
   "source": [
    "perceptron_obj.train(X,y)"
   ]
  },
  {
   "cell_type": "code",
   "execution_count": 103,
   "metadata": {},
   "outputs": [],
   "source": [
    "from sklearn.datasets import make_classification\n",
    "X,y = make_classification()"
   ]
  },
  {
   "cell_type": "code",
   "execution_count": 104,
   "metadata": {},
   "outputs": [
    {
     "name": "stdout",
     "output_type": "stream",
     "text": [
      "w :  [ 0.00562385  0.00275384 -0.00143494  0.00510794 -0.00119139 -0.00470875\n",
      "  0.00068081 -0.00268376 -0.009079   -0.00329655 -0.00096673 -0.00241762\n",
      "  0.00822122 -0.0037898   0.00611837 -0.00124686 -0.00118837  0.00206481\n",
      "  0.00546445 -0.01567961]\n",
      "J(w) : 0\n",
      "w :  [ 0.00207865 -0.00295641  0.00201695  0.00163579  0.00256535 -0.00129913\n",
      " -0.00023451 -0.00421661 -0.00385787 -0.00147948  0.00294445 -0.0030916\n",
      "  0.00515173 -0.0067153   0.00027119  0.00036816 -0.00706993 -0.00080221\n",
      "  0.00073647 -0.01356825]\n",
      "J(w) : 1\n",
      "w :  [ 0.00080712  0.00144621 -0.00096963  0.00783672  0.00205545 -0.0033677\n",
      " -0.00073977 -0.00049221 -0.00691583  0.00093351 -0.00248106 -0.0079437\n",
      "  0.00594751 -0.00284356  0.00793388 -0.00362545  0.0006234   0.00331061\n",
      "  0.00426556 -0.01099493]\n",
      "J(w) : 1\n",
      "w :  [-0.00309357  0.00345537 -0.00197242  0.00685588 -0.00075137 -0.0040053\n",
      " -0.00984813  0.0002015  -0.00486454  0.00157907 -0.00618308  0.00186878\n",
      "  0.00609452 -0.00145695  0.00302629 -0.00075501 -0.00297737 -0.00455749\n",
      " -0.00331117 -0.00836878]\n",
      "J(w) : 0\n",
      "w :  [ 0.00174027  0.00447128 -0.00128055  0.00743726 -0.00238633 -0.00403625\n",
      "  0.00110458 -0.00184204 -0.0034764   0.00367553 -0.00038104 -0.00121715\n",
      "  0.00698667 -0.00312977  0.00253788 -0.00641721  0.00241623  0.00246406\n",
      " -0.00103971 -0.01161313]\n",
      "J(w) : 0\n",
      "w :  [ 0.00671581  0.00685375 -0.00278874  0.00819624  0.00174453 -0.00517192\n",
      " -0.00486169 -0.00281953 -0.0008118  -0.00264465 -0.00747826  0.00063099\n",
      "  0.00758069 -0.0013131   0.0048656  -0.0051218  -0.00208205 -0.0031921\n",
      "  0.00387122 -0.00918892]\n",
      "J(w) : 0\n",
      "w :  [-0.00077318 -0.00153033 -0.00383878  0.00516884  0.00191459 -0.00655728\n",
      " -0.00574172  0.00238758 -0.01244208 -0.00274005 -0.00018566 -0.0010577\n",
      "  0.0092491  -0.00095273 -0.0004335  -0.00318188 -0.0011047   0.00401156\n",
      "  0.00725957 -0.01190462]\n",
      "J(w) : 0\n",
      "w :  [ 0.00160405  0.00379174 -0.00251541  0.00738801 -0.00033181 -0.00495365\n",
      " -0.00219928 -0.00697151 -0.00359189  0.00210859  0.00099541 -0.00217738\n",
      "  0.00744677 -0.00162341  0.0043383   0.00056927 -0.00124486 -0.00547232\n",
      "  0.00319482 -0.01358879]\n",
      "J(w) : 0\n",
      "w :  [ 2.08406728e-03  3.69249571e-03 -4.35126285e-04  3.24702969e-03\n",
      "  2.90445124e-03 -3.17688133e-03 -9.54935397e-03 -4.45538271e-03\n",
      " -6.11834309e-03  9.89056058e-05 -1.24577830e-03  1.90387191e-03\n",
      "  6.18362737e-03 -3.80931947e-03 -3.41921683e-05 -2.84971375e-03\n",
      " -2.65058150e-03 -1.12268888e-03  5.64772097e-03 -1.19612307e-02]\n",
      "J(w) : 1\n",
      "w :  [-0.00077953 -0.00089479  0.00455701  0.00299674 -0.00162489  0.00051732\n",
      " -0.00182356 -0.00405576 -0.00042707 -0.00063609 -0.00022328 -0.0034152\n",
      "  0.00435433 -0.00992124  0.00137227 -0.00401991 -0.00795207  0.00375882\n",
      "  0.00181633 -0.0136318 ]\n",
      "J(w) : 0\n"
     ]
    }
   ],
   "source": [
    "perceptron_obj.train(X,y)"
   ]
  },
  {
   "cell_type": "code",
   "execution_count": 105,
   "metadata": {},
   "outputs": [
    {
     "data": {
      "text/plain": [
       "3"
      ]
     },
     "execution_count": 105,
     "metadata": {},
     "output_type": "execute_result"
    }
   ],
   "source": []
  },
  {
   "cell_type": "code",
   "execution_count": null,
   "metadata": {},
   "outputs": [],
   "source": []
  }
 ],
 "metadata": {
  "colab": {
   "collapsed_sections": [],
   "name": "least_square_classification.ipynb",
   "provenance": []
  },
  "kernelspec": {
   "display_name": "Python 3 (ipykernel)",
   "language": "python",
   "name": "python3"
  },
  "language_info": {
   "codemirror_mode": {
    "name": "ipython",
    "version": 3
   },
   "file_extension": ".py",
   "mimetype": "text/x-python",
   "name": "python",
   "nbconvert_exporter": "python",
   "pygments_lexer": "ipython3",
   "version": "3.9.7"
  }
 },
 "nbformat": 4,
 "nbformat_minor": 4
}
