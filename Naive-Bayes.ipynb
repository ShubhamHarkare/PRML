{
 "cells": [
  {
   "cell_type": "code",
   "execution_count": 9,
   "id": "6be3ed47",
   "metadata": {},
   "outputs": [],
   "source": [
    "import numpy as np\n",
    "from numpy.random import default_rng\n",
    "rng = default_rng(1234)\n",
    "import matplotlib.pyplot as plt"
   ]
  },
  {
   "cell_type": "markdown",
   "id": "2e472588",
   "metadata": {},
   "source": []
  },
  {
   "cell_type": "code",
   "execution_count": 10,
   "id": "75520352",
   "metadata": {},
   "outputs": [
    {
     "data": {
      "image/png": "[encoded data removed]",
      "text/plain": [
       "<Figure size 576x576 with 1 Axes>"
      ]
     },
     "metadata": {
      "needs_background": "light"
     },
     "output_type": "display_data"
    }
   ],
   "source": [
    "m0,m1,m2 = [-1,-1],[0,0],[1,1]\n",
    "spred = 0.1\n",
    "cov = np.eye(2) * spred\n",
    "x1 = rng.multivariate_normal(m0,cov,100)\n",
    "x2 = rng.multivariate_normal(m1,cov,100)\n",
    "x3 = rng.multivariate_normal(m2,cov,100)\n",
    "\n",
    "plt.figure(figsize=(8,8))\n",
    "plt.plot(x1[:,0],x1[:,1],'.b',label='0')\n",
    "plt.plot(x2[:,0],x2[:,1],'.r',label='1')\n",
    "plt.plot(x3[:,0],x3[:,1],'.g',label='2')\n",
    "plt.legend()\n",
    "X = np.row_stack((x1,x2,x3))\n",
    "y = np.concatenate((np.zeros(x1.shape[0]),np.ones(x1.shape[0]),np.ones(x3.shape[0])*2))\n",
    "from sklearn.model_selection import train_test_split\n",
    "X_train,X_test,y_train,y_test = train_test_split(X,y,test_size=0.2,random_state=0)"
   ]
  },
  {
   "cell_type": "code",
   "execution_count": 3,
   "id": "b6407c2e",
   "metadata": {},
   "outputs": [],
   "source": [
    "y = np.array([1,2,3,3,1,2,3,1,1,1,2,3])"
   ]
  },
  {
   "cell_type": "code",
   "execution_count": 5,
   "id": "7d114202",
   "metadata": {},
   "outputs": [
    {
     "data": {
      "text/plain": [
       "(array([1, 2, 3]), array([5, 3, 4], dtype=int64))"
      ]
     },
     "execution_count": 5,
     "metadata": {},
     "output_type": "execute_result"
    }
   ],
   "source": [
    "np.unique(y,return_counts=True)"
   ]
  },
  {
   "cell_type": "markdown",
   "id": "a6f7d86d",
   "metadata": {},
   "source": [
    "- n_classes = 3\n",
    "\n",
    "- n_features = 2\n",
    "\n",
    "- n_samples = 240\n",
    "\n",
    "- mean vector = n_classes x n_features\n",
    "\n",
    "$$\n",
    "\\frac{1}{\\sqrt{2 \\pi \\sigma^2}} \\exp \\frac {-(x - \\mu)^2}{2 \\sigma^2} \n",
    "$$\n",
    "\n",
    "$$\n",
    "\n",
    "$$"
   ]
  },
  {
   "cell_type": "code",
   "execution_count": 15,
   "id": "b1804e03",
   "metadata": {},
   "outputs": [
    {
     "name": "stdout",
     "output_type": "stream",
     "text": [
      "[80 80 80]\n"
     ]
    },
    {
     "data": {
      "text/plain": [
       "array([0.33333333, 0.33333333, 0.33333333])"
      ]
     },
     "execution_count": 15,
     "metadata": {},
     "output_type": "execute_result"
    }
   ],
   "source": [
    "def logofNormal(x,mean,variance):\n",
    "    # X is of shape n_samples X n_features \n",
    "    out = -0.5*(np.log(2*np.pi) + np.log(variance))\n",
    "    exp = -0.5*(((x - mean)**2)/variance)\n",
    "    \n",
    "    return np.sum(exp + out,axis = 1)\n",
    "\n",
    "class GaussainNB():\n",
    "    def __init__(self):\n",
    "        self.means = None\n",
    "        self.vars = None\n",
    "        self.priors = None\n",
    "        self.n_classes = None\n",
    "    def fit(self,X:np.ndarray,y:np.ndarray):\n",
    "        n_samples,n_features = X.shape\n",
    "        _,class_counts   = np.unique(y,return_counts=True)\n",
    "        self.mean = np.zeros((n_classes,n_features),dtype = np.float64)\n",
    "        self.vars = np.zeros((n_classes,n_features),dtype = np.float64)\n",
    "        self.n_classes = len(class_counts)\n",
    "        print(class_counts)\n",
    "        #priors calculation : Occurence of each class/Total countof each class\n",
    "        # For example the prior of class one is the number of occurence of class 1 in the label vector divide by the \n",
    "        # total number of observations in the label vector\n",
    "        \n",
    "        self.priors = class_counts/np.sum(class_counts)\n",
    "        for c in range(n_classes):\n",
    "            #Gives all the examples of X  for which y belongs to c\n",
    "            X_c = X[y==c] \n",
    "            self.means[c] = X_c.mean(axis = 0)\n",
    "            self.vars[c] = X_c.var(axis = 0)\n",
    "    \n",
    "    def predict(self,X):\n",
    "        n_samples,_ = X.shape\n",
    "        posterior = np.zeros((n_samples,self.n_classes),dtype = np.float64)\n",
    "        for c in range(self.n_classes):\n",
    "            posterior[:,c] = np.log(self.priors[c]) + logofNormal(X,self.means[c],self.vars[c])\n",
    "            \n",
    "        return posterior.argmax(axis = 1)\n",
    "    \n",
    "        \n",
    "        \n",
    "    \n",
    "gnb = GaussainNB()\n",
    "gnb.fit(X_train,y_train)\n",
    "gnb.priors"
   ]
  },
  {
   "cell_type": "code",
   "execution_count": null,
   "id": "a0112b92",
   "metadata": {},
   "outputs": [],
   "source": []
  },
  {
   "cell_type": "code",
   "execution_count": null,
   "id": "bccbafed",
   "metadata": {},
   "outputs": [],
   "source": []
  }
 ],
 "metadata": {
  "kernelspec": {
   "display_name": "Python 3 (ipykernel)",
   "language": "python",
   "name": "python3"
  },
  "language_info": {
   "codemirror_mode": {
    "name": "ipython",
    "version": 3
   },
   "file_extension": ".py",
   "mimetype": "text/x-python",
   "name": "python",
   "nbconvert_exporter": "python",
   "pygments_lexer": "ipython3",
   "version": "3.9.7"
  }
 },
 "nbformat": 4,
 "nbformat_minor": 5
}
