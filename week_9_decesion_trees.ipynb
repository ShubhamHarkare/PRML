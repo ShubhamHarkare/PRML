{
 "cells": [
  {
   "cell_type": "code",
   "execution_count": 1,
   "id": "70ae8747",
   "metadata": {},
   "outputs": [],
   "source": [
    "import numpy as np\n",
    "import pandas as pd"
   ]
  },
  {
   "cell_type": "code",
   "execution_count": 2,
   "id": "52a7c764",
   "metadata": {},
   "outputs": [
    {
     "data": {
      "text/plain": [
       "2.220446049250313e-16"
      ]
     },
     "execution_count": 2,
     "metadata": {},
     "output_type": "execute_result"
    }
   ],
   "source": [
    "eps = np.finfo(float).eps\n",
    "eps"
   ]
  },
  {
   "cell_type": "markdown",
   "id": "70863883",
   "metadata": {},
   "source": [
    "Here eps is the smallest number At times when we gey log 0 we use eps"
   ]
  },
  {
   "cell_type": "code",
   "execution_count": 3,
   "id": "9f4eee5c",
   "metadata": {},
   "outputs": [],
   "source": [
    "df = pd.read_csv(\"play_tennis.csv\")"
   ]
  },
  {
   "cell_type": "code",
   "execution_count": 4,
   "id": "5912183f",
   "metadata": {},
   "outputs": [
    {
     "data": {
      "text/plain": [
       "array([['D1', 'Sunny', 'Hot', 'High', 'Weak', 'No'],\n",
       "       ['D2', 'Sunny', 'Hot', 'High', 'Strong', 'No'],\n",
       "       ['D3', 'Overcast', 'Hot', 'High', 'Weak', 'Yes'],\n",
       "       ['D4', 'Rain', 'Mild', 'High', 'Weak', 'Yes'],\n",
       "       ['D5', 'Rain', 'Cool', 'Normal', 'Weak', 'Yes'],\n",
       "       ['D6', 'Rain', 'Cool', 'Normal', 'Strong', 'No'],\n",
       "       ['D7', 'Overcast', 'Cool', 'Normal', 'Strong', 'Yes'],\n",
       "       ['D8', 'Sunny', 'Mild', 'High', 'Weak', 'No'],\n",
       "       ['D9', 'Sunny', 'Cool', 'Normal', 'Weak', 'Yes'],\n",
       "       ['D10', 'Rain', 'Mild', 'Normal', 'Weak', 'Yes'],\n",
       "       ['D11', 'Sunny', 'Mild', 'Normal', 'Strong', 'Yes'],\n",
       "       ['D12', 'Overcast', 'Mild', 'High', 'Strong', 'Yes'],\n",
       "       ['D13', 'Overcast', 'Hot', 'Normal', 'Weak', 'Yes'],\n",
       "       ['D14', 'Rain', 'Mild', 'High', 'Strong', 'No']], dtype=object)"
      ]
     },
     "execution_count": 4,
     "metadata": {},
     "output_type": "execute_result"
    }
   ],
   "source": [
    "df.values"
   ]
  },
  {
   "cell_type": "code",
   "execution_count": 5,
   "id": "edf1d8e0",
   "metadata": {},
   "outputs": [
    {
     "data": {
      "text/plain": [
       "Index(['day', 'outlook', 'temp', 'humidity', 'wind', 'play'], dtype='object')"
      ]
     },
     "execution_count": 5,
     "metadata": {},
     "output_type": "execute_result"
    }
   ],
   "source": [
    "df.keys()"
   ]
  },
  {
   "cell_type": "code",
   "execution_count": 6,
   "id": "1f3f8bdb",
   "metadata": {},
   "outputs": [
    {
     "data": {
      "text/plain": [
       "'play'"
      ]
     },
     "execution_count": 6,
     "metadata": {},
     "output_type": "execute_result"
    }
   ],
   "source": [
    "target = df.keys()[-1]\n",
    "target"
   ]
  },
  {
   "cell_type": "code",
   "execution_count": 7,
   "id": "36c992bc",
   "metadata": {},
   "outputs": [
    {
     "data": {
      "text/plain": [
       "Index(['day', 'outlook', 'temp', 'humidity', 'wind'], dtype='object')"
      ]
     },
     "execution_count": 7,
     "metadata": {},
     "output_type": "execute_result"
    }
   ],
   "source": [
    "df.keys()[:-1]"
   ]
  },
  {
   "cell_type": "code",
   "execution_count": 8,
   "id": "cf65e590",
   "metadata": {},
   "outputs": [
    {
     "data": {
      "text/plain": [
       "array(['No', 'Yes'], dtype=object)"
      ]
     },
     "execution_count": 8,
     "metadata": {},
     "output_type": "execute_result"
    }
   ],
   "source": [
    "df[target].unique()"
   ]
  },
  {
   "cell_type": "code",
   "execution_count": 9,
   "id": "be3aa300",
   "metadata": {},
   "outputs": [
    {
     "data": {
      "text/plain": [
       "Yes    9\n",
       "No     5\n",
       "Name: play, dtype: int64"
      ]
     },
     "execution_count": 9,
     "metadata": {},
     "output_type": "execute_result"
    }
   ],
   "source": [
    "df[target].value_counts()"
   ]
  },
  {
   "cell_type": "markdown",
   "id": "5bc692c7",
   "metadata": {},
   "source": [
    "# Function to calculate entropy"
   ]
  },
  {
   "cell_type": "code",
   "execution_count": 10,
   "id": "979bed4d",
   "metadata": {},
   "outputs": [],
   "source": [
    "def find_entropy_whole(df):\n",
    "    target = df.keys()[-1]\n",
    "    \n",
    "    overall_entropy = 0\n",
    "    \n",
    "    values_in_target,count_of_values = np.unique(df[target],return_counts=True)\n",
    "    \n",
    "    probabilites_of_values = count_of_values/np.sum(count_of_values)\n",
    "    \n",
    "    return -1*np.sum(probabilites_of_values*np.log2(probabilites_of_values))"
   ]
  },
  {
   "cell_type": "code",
   "execution_count": 11,
   "id": "be6206b6",
   "metadata": {},
   "outputs": [
    {
     "data": {
      "text/plain": [
       "0.9402859586706311"
      ]
     },
     "execution_count": 11,
     "metadata": {},
     "output_type": "execute_result"
    }
   ],
   "source": [
    "find_entropy_whole(df)"
   ]
  },
  {
   "cell_type": "markdown",
   "id": "e5e3d4bf",
   "metadata": {},
   "source": [
    "# Calculating entropy of each attribute"
   ]
  },
  {
   "cell_type": "code",
   "execution_count": 55,
   "id": "1d44757d",
   "metadata": {},
   "outputs": [],
   "source": [
    "def find_entropy_of_attribute(df,attribute):\n",
    "    target = df.keys()[-1]\n",
    "    \n",
    "    values_in_target = np.unique(df[target])\n",
    "    \n",
    "    values_in_attribute = np.unique(df[target])\n",
    "    \n",
    "    entropy_attribute = 0\n",
    "    \n",
    "    for value_in_attribute in values_in_attribute:\n",
    "        overall_entropy = 0\n",
    "        for value_in_target in values_in_target:\n",
    "            \n",
    "            num = len(df[attribute][df[attribute]==value_in_attribute][df[target]==value_in_target])\n",
    "            den = len(df[attribute][df[attribute]==value_in_attribute])\n",
    "            \n",
    "            p = num/(den+eps)\n",
    "            overall_entropy += -p*np.log2(p+eps)\n",
    "        p2 = den/len(df)\n",
    "        entropy_attribute += -p2*overall_entropy\n",
    "        \n",
    "        return abs(entropy_attribute)"
   ]
  },
  {
   "cell_type": "code",
   "execution_count": 56,
   "id": "b71f5aa6",
   "metadata": {},
   "outputs": [
    {
     "data": {
      "text/plain": [
       "0.0"
      ]
     },
     "execution_count": 56,
     "metadata": {},
     "output_type": "execute_result"
    }
   ],
   "source": [
    "find_entropy_of_attribute(df,df.keys()[2])"
   ]
  },
  {
   "cell_type": "code",
   "execution_count": 45,
   "id": "658cf6aa",
   "metadata": {},
   "outputs": [],
   "source": [
    "def find_entropy_of_attribute(df,attribute):\n",
    "    target = df.keys()[-1]\n",
    "    \n",
    "    values_in_target = np.unique(df[target])\n",
    "    \n",
    "    values_in_attribute = np.unique(df[attribute])\n",
    "    attribute_entropy = 0\n",
    "    \n",
    "    for value_in_attribute in values_in_attribute:\n",
    "        overall_entropy = 0\n",
    "        for value_in_target in values_in_target:\n",
    "            num = len(df[df[attribute]==value_in_attribute][df[target]==value_in_target])\n",
    "            den = len(df[attribute][df[attribute]==value_in_attribute])\n",
    "            \n",
    "            p = num/(den+eps)\n",
    "            overall_entropy += -p*np.log2(p+eps)\n",
    "           \n",
    "        p2 = den/len(df)\n",
    "        attribute_entropy += p2*overall_entropy\n",
    "        \n",
    "    return abs(attribute_entropy)"
   ]
  },
  {
   "cell_type": "code",
   "execution_count": 46,
   "id": "4b9f12e9",
   "metadata": {},
   "outputs": [
    {
     "name": "stderr",
     "output_type": "stream",
     "text": [
      "C:\\Users\\user\\AppData\\Local\\Temp/ipykernel_9980/246884125.py:12: UserWarning: Boolean Series key will be reindexed to match DataFrame index.\n",
      "  num = len(df[df[attribute]==value_in_attribute][df[target]==value_in_target])\n"
     ]
    },
    {
     "data": {
      "text/plain": [
       "0.6935361388961914"
      ]
     },
     "execution_count": 46,
     "metadata": {},
     "output_type": "execute_result"
    }
   ],
   "source": [
    "find_entropy_of_attribute(df,df.keys()[1])"
   ]
  },
  {
   "cell_type": "code",
   "execution_count": 49,
   "id": "a5f9de7d",
   "metadata": {},
   "outputs": [
    {
     "name": "stdout",
     "output_type": "stream",
     "text": [
      "The Entropy of outlook is: 0.6935361388961914\n",
      "The Entropy of temp is: 0.9110633930116756\n",
      "The Entropy of humidity is: 0.7884504573082889\n",
      "The Entropy of wind is: 0.892158928262361\n"
     ]
    },
    {
     "name": "stderr",
     "output_type": "stream",
     "text": [
      "C:\\Users\\user\\AppData\\Local\\Temp/ipykernel_9980/246884125.py:12: UserWarning: Boolean Series key will be reindexed to match DataFrame index.\n",
      "  num = len(df[df[attribute]==value_in_attribute][df[target]==value_in_target])\n"
     ]
    }
   ],
   "source": [
    "for i_attribute in df.keys()[1:-1]:\n",
    "    print(f'The Entropy of {i_attribute} is: {find_entropy_of_attribute(df,i_attribute)}')"
   ]
  },
  {
   "cell_type": "markdown",
   "id": "858a12f1",
   "metadata": {},
   "source": [
    "# Finding the best attribute"
   ]
  },
  {
   "cell_type": "code",
   "execution_count": 50,
   "id": "bf20a607",
   "metadata": {},
   "outputs": [],
   "source": [
    "def find_best_attribute_to_divide(df):\n",
    "    IG = []\n",
    "    \n",
    "    all_attribute_names = df.keys()[1:-1]\n",
    "    \n",
    "    for attribute in all_attribute_names:\n",
    "        IG.append(find_entropy_whole(df) - find_entropy_of_attribute(df,attribute))\n",
    "        \n",
    "    index_of_attribute_with_max_entropy = np.argmax(IG)\n",
    "    \n",
    "    best_attribute = all_attribute_names[index_of_attribute_with_max_entropy]\n",
    "    \n",
    "    return best_attribute"
   ]
  },
  {
   "cell_type": "code",
   "execution_count": 51,
   "id": "8ebde3a5",
   "metadata": {},
   "outputs": [
    {
     "name": "stderr",
     "output_type": "stream",
     "text": [
      "C:\\Users\\user\\AppData\\Local\\Temp/ipykernel_9980/246884125.py:12: UserWarning: Boolean Series key will be reindexed to match DataFrame index.\n",
      "  num = len(df[df[attribute]==value_in_attribute][df[target]==value_in_target])\n"
     ]
    },
    {
     "data": {
      "text/plain": [
       "'outlook'"
      ]
     },
     "execution_count": 51,
     "metadata": {},
     "output_type": "execute_result"
    }
   ],
   "source": [
    "find_best_attribute_to_divide(df)"
   ]
  },
  {
   "cell_type": "markdown",
   "id": "79296fb2",
   "metadata": {},
   "source": [
    "# Tree Construction"
   ]
  },
  {
   "cell_type": "code",
   "execution_count": 56,
   "id": "b70d24d7",
   "metadata": {},
   "outputs": [],
   "source": [
    "def buildTree(df,tree=None):\n",
    "    # last column in dataframe\n",
    "    target = df.keys()[-1]\n",
    "    \n",
    "    # Node contains the column with maxium information gain\n",
    "    node = find_best_attribute_to_divide(df)\n",
    "    \n",
    "    # attValue contains all the unique values present in the node column of the dataset\n",
    "    attValue = np.unique(df[node])\n",
    "    \n",
    "    # Creating an empty tree\n",
    "    if tree == None:\n",
    "        tree = {}\n",
    "        tree[node] = {}\n",
    "        \n",
    "    for value in attValue:\n",
    "        subtable = df[df[node] == value].reset_index(drop=True)\n",
    "        clValue,counts = np.unique(subtable['play'],return_counts=True)\n",
    "        \n",
    "        if len(counts)==1:\n",
    "            tree[node][value] = clValue[0]\n",
    "        else:\n",
    "            tree[node][value] = buildTree(subtable)\n",
    "            \n",
    "    return tree"
   ]
  },
  {
   "cell_type": "code",
   "execution_count": 67,
   "id": "6e148c42",
   "metadata": {},
   "outputs": [
    {
     "name": "stderr",
     "output_type": "stream",
     "text": [
      "C:\\Users\\user\\AppData\\Local\\Temp/ipykernel_9980/246884125.py:12: UserWarning: Boolean Series key will be reindexed to match DataFrame index.\n",
      "  num = len(df[df[attribute]==value_in_attribute][df[target]==value_in_target])\n"
     ]
    },
    {
     "data": {
      "text/plain": [
       "{'outlook': {'Overcast': 'Yes',\n",
       "  'Rain': {'wind': {'Strong': 'No', 'Weak': 'Yes'}},\n",
       "  'Sunny': {'humidity': {'High': 'No', 'Normal': 'Yes'}}}}"
      ]
     },
     "execution_count": 67,
     "metadata": {},
     "output_type": "execute_result"
    }
   ],
   "source": [
    "buildTree(df)"
   ]
  },
  {
   "cell_type": "code",
   "execution_count": null,
   "id": "88066f60",
   "metadata": {},
   "outputs": [],
   "source": []
  }
 ],
 "metadata": {
  "kernelspec": {
   "display_name": "Python 3 (ipykernel)",
   "language": "python",
   "name": "python3"
  },
  "language_info": {
   "codemirror_mode": {
    "name": "ipython",
    "version": 3
   },
   "file_extension": ".py",
   "mimetype": "text/x-python",
   "name": "python",
   "nbconvert_exporter": "python",
   "pygments_lexer": "ipython3",
   "version": "3.9.7"
  }
 },
 "nbformat": 4,
 "nbformat_minor": 5
}
