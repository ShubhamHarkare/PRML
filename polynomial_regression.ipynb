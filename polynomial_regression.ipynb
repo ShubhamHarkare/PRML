{
 "cells": [
  {
   "cell_type": "code",
   "execution_count": 1,
   "id": "0d719bff",
   "metadata": {},
   "outputs": [],
   "source": [
    "import numpy as np\n",
    "import itertools\n",
    "import functools"
   ]
  },
  {
   "cell_type": "code",
   "execution_count": 2,
   "id": "7139e4c6",
   "metadata": {},
   "outputs": [],
   "source": [
    "def create_nonlin_dataset(n):\n",
    "    X = np.random.uniform(0,10,n)\n",
    "    \n",
    "    y = 3 - 2*X + X**2\n",
    "    \n",
    "    return X,y"
   ]
  },
  {
   "cell_type": "code",
   "execution_count": 3,
   "id": "af0bfd73",
   "metadata": {},
   "outputs": [],
   "source": [
    "X,y = create_nonlin_dataset(100)"
   ]
  },
  {
   "cell_type": "code",
   "execution_count": 4,
   "id": "3c84e3ff",
   "metadata": {},
   "outputs": [
    {
     "data": {
      "text/plain": [
       "((100,), (100,))"
      ]
     },
     "execution_count": 4,
     "metadata": {},
     "output_type": "execute_result"
    }
   ],
   "source": [
    "X.shape,y.shape"
   ]
  },
  {
   "cell_type": "code",
   "execution_count": 7,
   "id": "ec45b823",
   "metadata": {},
   "outputs": [],
   "source": [
    "def polynomial_transform(x,degree):\n",
    "    def get_combinations(x,degree):\n",
    "        return itertools.combinations_with_replacement(x,degree)\n",
    "    \n",
    "    def compute_new_features(items):\n",
    "        return functools.reduce(lambda x,y:x*y,items)\n",
    "    \n",
    "    x = np.array(x)\n",
    "    x = x.reshape(-1,1)\n",
    "    \n",
    "    x_t = np.transpose(x)\n",
    "    \n",
    "    features = [np.ones(len(x))]\n",
    "    \n",
    "    for degree in range(1,degree+1):\n",
    "        for items in get_combinations(x_t,degree):\n",
    "            features.append(compute_new_features(items))\n",
    "            \n",
    "    return np.transpose(features)"
   ]
  },
  {
   "cell_type": "code",
   "execution_count": 9,
   "id": "82051458",
   "metadata": {},
   "outputs": [
    {
     "data": {
      "text/plain": [
       "array([[ 1.,  2.,  4.,  8.],\n",
       "       [ 1.,  3.,  9., 27.]])"
      ]
     },
     "execution_count": 9,
     "metadata": {},
     "output_type": "execute_result"
    }
   ],
   "source": [
    "polynomial_transform([2,3],3)"
   ]
  },
  {
   "cell_type": "code",
   "execution_count": 23,
   "id": "52de6aae",
   "metadata": {},
   "outputs": [],
   "source": [
    "X_poly = polynomial_transform(X,2)"
   ]
  },
  {
   "cell_type": "code",
   "execution_count": 80,
   "id": "f4d5db89",
   "metadata": {},
   "outputs": [],
   "source": [
    "class PolynomialRegression():\n",
    "    def predict(self,X):\n",
    "        return X@self.w\n",
    "    \n",
    "    def loss(self,X,y,lr=0.05):\n",
    "        e = self.predict(X) - y\n",
    "        error = (1/2)*(np.transpose(e)@e)\n",
    "        ridge_err = (lr/2)*(np.transpose(self.w)@self.w)\n",
    "        lasso_err = (lr/2)*np.sum(abs(self.w))\n",
    "        \n",
    "        if ridge_err>=lasso_err:\n",
    "            return error + ridge_err\n",
    "        else:\n",
    "            return error + lasso_err\n",
    "        \n",
    "        \n",
    "    def calculate_gradient(self,X,y):\n",
    "        return np.transpose(X)@(self.predict(X) - y)\n",
    "    \n",
    "    def update_weights(self,lr,grad):\n",
    "        return lr*grad\n",
    "    \n",
    "    def gradient_descent(self,X,y,lr,epochs=1000):\n",
    "        self.w = np.zeros(X.shape[-1])\n",
    "        self.w_all = []\n",
    "        self.errors_all = []\n",
    "        \n",
    "        for _ in range(epochs):\n",
    "            self.w_all.append(self.w)\n",
    "            self.errors_all.append(self.loss(X,y))\n",
    "            \n",
    "            dJdw = self.calculate_gradient(X,y)\n",
    "            self.w -= self.update_weights(lr,dJdw)\n",
    "            \n",
    "        return self.w_all,self.errors_all\n",
    "    \n",
    "    \n",
    "    def mbgd(self,X,y,lr,batch_size,epochs=100):\n",
    "        self.w = np.zeros(X.shape[-1])\n",
    "        self.w_all = []\n",
    "        self.errors_all = []\n",
    "        \n",
    "        for _ in range(epochs):\n",
    "            shuffled_index = np.random.permutation(X.shape[0])\n",
    "            X_shuffled = X[shuffled_index]\n",
    "            y_shuffled = y[shuffled_index]\n",
    "            \n",
    "            for i in range(0,X.shape[0],batch_size):\n",
    "                xi = X_shuffled[i:i+batch_size]\n",
    "                yi = y_shuffled[i:i+batch_size]\n",
    "                self.w_all.append(self.w)\n",
    "                self.errors_all.append(self.loss(xi,yi))\n",
    "            \n",
    "                dJdw = (2/batch_size)*self.calculate_gradient(xi,yi)\n",
    "                \n",
    "                self.w -= self.update_weights(lr,dJdw)\n",
    "                \n",
    "            return self.w_all,self.errors_all\n",
    "            \n",
    "        \n",
    "        "
   ]
  },
  {
   "cell_type": "code",
   "execution_count": 81,
   "id": "78e0db46",
   "metadata": {},
   "outputs": [],
   "source": [
    "poly_reg = PolynomialRegression()"
   ]
  },
  {
   "cell_type": "code",
   "execution_count": 82,
   "id": "37d83812",
   "metadata": {},
   "outputs": [],
   "source": [
    "weights,errors = poly_reg.gradient_descent(X_poly,y,0.000001)"
   ]
  },
  {
   "cell_type": "code",
   "execution_count": 83,
   "id": "78ba1a11",
   "metadata": {},
   "outputs": [
    {
     "data": {
      "text/plain": [
       "array([-0.01857503, -0.04973611,  0.80755175])"
      ]
     },
     "execution_count": 83,
     "metadata": {},
     "output_type": "execute_result"
    }
   ],
   "source": [
    "weights[-1]"
   ]
  },
  {
   "cell_type": "code",
   "execution_count": 84,
   "id": "f473f1a0",
   "metadata": {},
   "outputs": [
    {
     "data": {
      "text/plain": [
       "93.22056814439819"
      ]
     },
     "execution_count": 84,
     "metadata": {},
     "output_type": "execute_result"
    }
   ],
   "source": [
    "errors[-1]"
   ]
  },
  {
   "cell_type": "code",
   "execution_count": 95,
   "id": "825ae002",
   "metadata": {},
   "outputs": [],
   "source": [
    "weights_poly,errors_poly = poly_reg.mbgd(X_poly,y,0.0001,1)"
   ]
  },
  {
   "cell_type": "code",
   "execution_count": 96,
   "id": "7e388de2",
   "metadata": {},
   "outputs": [
    {
     "data": {
      "text/plain": [
       "array([0.00791643, 0.07440758, 0.7815299 ])"
      ]
     },
     "execution_count": 96,
     "metadata": {},
     "output_type": "execute_result"
    }
   ],
   "source": [
    "weights_poly[-1]"
   ]
  },
  {
   "cell_type": "code",
   "execution_count": 97,
   "id": "29c5513b",
   "metadata": {},
   "outputs": [
    {
     "data": {
      "text/plain": [
       "1.2634283726862545"
      ]
     },
     "execution_count": 97,
     "metadata": {},
     "output_type": "execute_result"
    }
   ],
   "source": [
    "errors_poly[-1]"
   ]
  },
  {
   "cell_type": "code",
   "execution_count": 98,
   "id": "b0232753",
   "metadata": {},
   "outputs": [],
   "source": [
    "y_pred = poly_reg.predict(X_poly)"
   ]
  },
  {
   "cell_type": "code",
   "execution_count": 99,
   "id": "81ef876e",
   "metadata": {},
   "outputs": [
    {
     "data": {
      "text/plain": [
       "array([2.56159331e+00, 1.57154047e+01, 5.44200475e+00, 4.78720762e+01,\n",
       "       3.43770248e+00, 1.11359107e+01, 1.83991536e+01, 7.36161058e+01,\n",
       "       3.70106029e+01, 1.02550718e+00, 5.96632737e+00, 5.98843940e+00,\n",
       "       6.64007409e+01, 1.74221039e+01, 5.83734299e-02, 4.82085325e+00,\n",
       "       2.87445668e+01, 1.73471502e-01, 3.83435830e+01, 5.35073636e+01,\n",
       "       2.99379662e+00, 4.15997440e+01, 1.60728041e+00, 6.69165615e+00,\n",
       "       4.56272624e+01, 4.50203051e-01, 4.65617627e+00, 7.50260524e+01,\n",
       "       1.61121620e+00, 3.65163757e+01, 5.67745927e-01, 1.97525930e+01,\n",
       "       6.63596093e+01, 4.69700748e+00, 8.06667382e-01, 6.54384345e+01,\n",
       "       1.19598613e+01, 5.87843328e+01, 4.74056191e+00, 4.62558028e+01,\n",
       "       6.73663824e+01, 6.81905147e+00, 3.17080133e+01, 2.22389361e+01,\n",
       "       1.62048243e+01, 1.47325796e+01, 7.45424053e+01, 4.98081602e+01,\n",
       "       4.74639572e+01, 2.77048674e+01, 2.23083510e+00, 1.52939400e+01,\n",
       "       2.38897201e+00, 1.71004117e+01, 2.03234867e+01, 3.03149111e+01,\n",
       "       4.11418773e+01, 1.27439059e+01, 1.76846947e-01, 6.26925571e+01,\n",
       "       1.02363220e+00, 5.64230114e+01, 2.61254178e+01, 2.90939346e+00,\n",
       "       1.35420468e+00, 5.83007692e+01, 1.08958275e+00, 4.72534980e+01,\n",
       "       1.28419286e+00, 2.79084190e+01, 2.27696842e+01, 4.72966927e+01,\n",
       "       4.67683614e-01, 5.01966439e+01, 5.60360992e+01, 6.00709868e+00,\n",
       "       2.52786827e+00, 4.53825199e+01, 3.72771571e+01, 4.54030284e+01,\n",
       "       2.97604305e+01, 1.72817934e+01, 1.52782782e+01, 6.91651159e+01,\n",
       "       2.13491224e+01, 7.21723130e+01, 1.50151466e+01, 5.19455432e+01,\n",
       "       4.83518040e+01, 2.61218946e+01, 7.02025996e+01, 5.33660249e+01,\n",
       "       1.13017176e+00, 2.67440862e+01, 4.99225398e+01, 7.71997780e+01,\n",
       "       7.82783138e-01, 9.25817541e+00, 5.40721866e+01, 6.51202877e+01])"
      ]
     },
     "execution_count": 99,
     "metadata": {},
     "output_type": "execute_result"
    }
   ],
   "source": [
    "y_pred"
   ]
  },
  {
   "cell_type": "code",
   "execution_count": 103,
   "id": "12d209b9",
   "metadata": {},
   "outputs": [
    {
     "ename": "ModuleNotFoundError",
     "evalue": "No module named 'matplotib'",
     "output_type": "error",
     "traceback": [
      "\u001b[1;31m---------------------------------------------------------------------------\u001b[0m",
      "\u001b[1;31mModuleNotFoundError\u001b[0m                       Traceback (most recent call last)",
      "\u001b[1;32m~\\AppData\\Local\\Temp/ipykernel_7296/2468647422.py\u001b[0m in \u001b[0;36m<module>\u001b[1;34m\u001b[0m\n\u001b[1;32m----> 1\u001b[1;33m \u001b[1;32mimport\u001b[0m \u001b[0mmatplotib\u001b[0m\u001b[1;33m.\u001b[0m\u001b[0mpyplot\u001b[0m \u001b[1;32mas\u001b[0m \u001b[0mplt\u001b[0m\u001b[1;33m\u001b[0m\u001b[1;33m\u001b[0m\u001b[0m\n\u001b[0m",
      "\u001b[1;31mModuleNotFoundError\u001b[0m: No module named 'matplotib'"
     ]
    }
   ],
   "source": []
  },
  {
   "cell_type": "code",
   "execution_count": null,
   "id": "35afbdb4",
   "metadata": {},
   "outputs": [],
   "source": []
  }
 ],
 "metadata": {
  "kernelspec": {
   "display_name": "Python 3 (ipykernel)",
   "language": "python",
   "name": "python3"
  },
  "language_info": {
   "codemirror_mode": {
    "name": "ipython",
    "version": 3
   },
   "file_extension": ".py",
   "mimetype": "text/x-python",
   "name": "python",
   "nbconvert_exporter": "python",
   "pygments_lexer": "ipython3",
   "version": "3.9.7"
  }
 },
 "nbformat": 4,
 "nbformat_minor": 5
}
