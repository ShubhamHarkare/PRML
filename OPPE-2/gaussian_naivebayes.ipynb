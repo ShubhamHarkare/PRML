{
 "cells": [
  {
   "cell_type": "code",
   "execution_count": 1,
   "id": "79cf976c",
   "metadata": {},
   "outputs": [],
   "source": [
    "import numpy as np\n",
    "from sklearn.datasets import make_blobs"
   ]
  },
  {
   "cell_type": "code",
   "execution_count": 3,
   "id": "fbc7b249",
   "metadata": {},
   "outputs": [],
   "source": [
    "X,y = make_blobs(n_samples = 100,n_features = 2,centers = 2,cluster_std=0.5,random_state=0)"
   ]
  },
  {
   "cell_type": "code",
   "execution_count": 48,
   "id": "ebc6a9fe",
   "metadata": {},
   "outputs": [],
   "source": [
    "class Gaussain_NB:\n",
    "    def __init__(self):\n",
    "        self.means = None\n",
    "        self.vars = None\n",
    "        self.priors = None\n",
    "        self.n_samples = None\n",
    "        self.n_features = None\n",
    "        self.n_classes = None\n",
    "    def fit(self,X,y):\n",
    "        self.n_samples,self.n_features = X.shape\n",
    "        self.n_classes,class_counts = np.unique(y,return_counts=True)\n",
    "        self.means = np.zeros((len(self.n_classes),self.n_features))\n",
    "        self.vars = np.zeros((len(self.n_classes),self.n_features))\n",
    "        self.priors = class_counts/np.sum(class_counts)\n",
    "        \n",
    "        for class_ in self.n_classes:\n",
    "            X_c = X[y==class_]\n",
    "            self.means[class_] = np.mean(X_c)\n",
    "            self.vars[class_] = np.var(X_c)\n",
    "#         print(f'Priors: {self.priors}')\n",
    "#         print(f'Means: {self.means}')\n",
    "#         print(f'Variance: {self.vars}')\n",
    "        \n",
    "    def __logofnormal(self,X,mean,variance):\n",
    "        out = -0.5*(np.log(2*np.pi*variance))\n",
    "        exp = -0.5*(((X - mean)**2)/variance)\n",
    "        \n",
    "        return np.sum(out+exp,axis = 1)\n",
    "    \n",
    "    def predict(self,X):\n",
    "        posteriors = np.zeros((self.n_samples,len(self.n_classes)))\n",
    "        \n",
    "        for c in self.n_classes:\n",
    "            posteriors[:,c] = np.log(self.priors[c]) + self.__logofnormal(X,self.means[c],self.vars[c])\n",
    "            \n",
    "        return np.argmax(posteriors,axis = 1)\n",
    "    \n",
    "    def confusion_matrix(self,y,y_pred):\n",
    "        z = len(np.unique(y))\n",
    "        cm = np.zeros((z,z))\n",
    "        for t,p in zip(y,y_pred):\n",
    "            cm[t,p] +=1\n",
    "        return cm"
   ]
  },
  {
   "cell_type": "code",
   "execution_count": 49,
   "id": "44b7e59b",
   "metadata": {},
   "outputs": [],
   "source": [
    "gnb = Gaussain_NB()\n",
    "gnb.fit(X,y)"
   ]
  },
  {
   "cell_type": "code",
   "execution_count": 50,
   "id": "3f0781ff",
   "metadata": {},
   "outputs": [],
   "source": [
    "y_pred = gnb.predict(X)"
   ]
  },
  {
   "cell_type": "code",
   "execution_count": 51,
   "id": "83c7707d",
   "metadata": {},
   "outputs": [
    {
     "data": {
      "text/plain": [
       "array([[50.,  0.],\n",
       "       [ 4., 46.]])"
      ]
     },
     "execution_count": 51,
     "metadata": {},
     "output_type": "execute_result"
    }
   ],
   "source": [
    "gnb.confusion_matrix(y,y_pred)"
   ]
  },
  {
   "cell_type": "code",
   "execution_count": null,
   "id": "8ff03b74",
   "metadata": {},
   "outputs": [],
   "source": []
  }
 ],
 "metadata": {
  "kernelspec": {
   "display_name": "Python 3 (ipykernel)",
   "language": "python",
   "name": "python3"
  },
  "language_info": {
   "codemirror_mode": {
    "name": "ipython",
    "version": 3
   },
   "file_extension": ".py",
   "mimetype": "text/x-python",
   "name": "python",
   "nbconvert_exporter": "python",
   "pygments_lexer": "ipython3",
   "version": "3.9.7"
  }
 },
 "nbformat": 4,
 "nbformat_minor": 5
}
