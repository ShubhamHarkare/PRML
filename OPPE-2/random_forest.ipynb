{
 "cells": [
  {
   "cell_type": "markdown",
   "id": "3d0ef674",
   "metadata": {},
   "source": [
    "# Random Forest Classifier"
   ]
  },
  {
   "cell_type": "code",
   "execution_count": 1,
   "id": "316e9b7a",
   "metadata": {},
   "outputs": [],
   "source": [
    "import numpy as np\n",
    "import pandas as pd\n",
    "from collections import Counter\n",
    "from sklearn.tree import DecisionTreeClassifier"
   ]
  },
  {
   "cell_type": "markdown",
   "id": "e223cde5",
   "metadata": {},
   "source": [
    "## Bagging"
   ]
  },
  {
   "cell_type": "markdown",
   "id": "f11ddf7d",
   "metadata": {},
   "source": [
    "We define the function bootstrap so that we can create $D_{1},D_{2},D_{3}....D_{n}$ bootstrap samples from the orginial dataset $D$\n",
    "\n",
    "- The idea is to use `np.random.choice` with `size = n` and `replace = True`"
   ]
  },
  {
   "cell_type": "code",
   "execution_count": 2,
   "id": "781eeb6a",
   "metadata": {},
   "outputs": [],
   "source": [
    "def bag(X,y):\n",
    "    # Counts number of rows and columns in the dataset\n",
    "    n_samples,n_features = X.shape\n",
    "    # Provides random indices in the dataset\n",
    "    indices = np.random.choice(n_samples,size = n_samples,replace = True)\n",
    "    \n",
    "    return X[indices],y[indices]"
   ]
  },
  {
   "cell_type": "code",
   "execution_count": null,
   "id": "78f02466",
   "metadata": {},
   "outputs": [],
   "source": []
  }
 ],
 "metadata": {
  "kernelspec": {
   "display_name": "Python 3 (ipykernel)",
   "language": "python",
   "name": "python3"
  },
  "language_info": {
   "codemirror_mode": {
    "name": "ipython",
    "version": 3
   },
   "file_extension": ".py",
   "mimetype": "text/x-python",
   "name": "python",
   "nbconvert_exporter": "python",
   "pygments_lexer": "ipython3",
   "version": "3.9.7"
  }
 },
 "nbformat": 4,
 "nbformat_minor": 5
}
