{
 "cells": [
  {
   "cell_type": "markdown",
   "id": "c9908232",
   "metadata": {},
   "source": [
    "Feature --> polynomial transfomation --> Linear regression --> label"
   ]
  },
  {
   "cell_type": "markdown",
   "id": "fb4923c8",
   "metadata": {},
   "source": [
    "### Getting the diffrent number of feature from the input "
   ]
  },
  {
   "cell_type": "code",
   "execution_count": 3,
   "id": "e1cae603",
   "metadata": {},
   "outputs": [],
   "source": [
    "import itertools\n",
    "import functools\n",
    "\n",
    "def get_combinations(x,degree):\n",
    "    return itertools.combinations_with_replacement(x,degree)\n",
    "\n",
    "\n",
    "def compute_new_features(items):\n",
    "    return functools.reduce(lambda x,y: x*y,items)"
   ]
  },
  {
   "cell_type": "code",
   "execution_count": 4,
   "id": "c4289b8a",
   "metadata": {},
   "outputs": [
    {
     "data": {
      "text/plain": [
       "{(0, 0, 0): 0, (0, 0, 1): 0, (0, 1, 1): 0, (1, 1, 1): 1}"
      ]
     },
     "execution_count": 4,
     "metadata": {},
     "output_type": "execute_result"
    }
   ],
   "source": [
    "{items: compute_new_features(items) for items in get_combinations([0,1],3)} "
   ]
  },
  {
   "cell_type": "markdown",
   "id": "49c54d4d",
   "metadata": {},
   "source": [
    "### Polynomial Regression"
   ]
  },
  {
   "cell_type": "code",
   "execution_count": 7,
   "id": "0b1251f9",
   "metadata": {},
   "outputs": [],
   "source": [
    "import numpy as np\n",
    "import functools\n",
    "import itertools\n",
    "\n",
    "def polynomail_transform(x,degree,logging=False):\n",
    "    x = np.array(x)\n",
    "    if x.ndim == 1:\n",
    "        x = x[:,None] # If the input is of one dimension then this converts it into a featrue matrix\n",
    "    x_t = np.transpose(x)\n",
    "    features = [np.ones(len(x))]\n",
    "    \n",
    "    if logging:\n",
    "        print(\"Input:\",x)\n",
    "    for degree in range(1,degree+1):\n",
    "        for items in get_combinations(x_t,degree):\n",
    "            features.append(compute_new_features(items))\n",
    "            if logging:\n",
    "                print(items,':',compute_new_features(items) )\n",
    "    if logging:\n",
    "        print(np.asarray(features).transpose())\n",
    "    return np.asarray(features).transpose()"
   ]
  },
  {
   "cell_type": "code",
   "execution_count": 8,
   "id": "a2e55e50",
   "metadata": {},
   "outputs": [
    {
     "name": "stdout",
     "output_type": "stream",
     "text": [
      "Input: [[5]\n",
      " [4]]\n",
      "(array([5, 4]),) : [5 4]\n",
      "(array([5, 4]), array([5, 4])) : [25 16]\n",
      "[[ 1.  5. 25.]\n",
      " [ 1.  4. 16.]]\n"
     ]
    },
    {
     "data": {
      "text/plain": [
       "array([[ 1.,  5., 25.],\n",
       "       [ 1.,  4., 16.]])"
      ]
     },
     "execution_count": 8,
     "metadata": {},
     "output_type": "execute_result"
    }
   ],
   "source": [
    "polynomail_transform([5,4],2,True)"
   ]
  },
  {
   "cell_type": "code",
   "execution_count": 28,
   "id": "c8796021",
   "metadata": {},
   "outputs": [
    {
     "name": "stdout",
     "output_type": "stream",
     "text": [
      "Input: [[2]\n",
      " [3]]\n",
      "(array([2, 3]),) : [2 3]\n",
      "(array([2, 3]), array([2, 3])) : [4 9]\n",
      "(array([2, 3]), array([2, 3]), array([2, 3])) : [ 8 27]\n",
      "[[ 1.  2.  4.  8.]\n",
      " [ 1.  3.  9. 27.]]\n"
     ]
    },
    {
     "data": {
      "text/plain": [
       "array([[ 1.,  2.,  4.,  8.],\n",
       "       [ 1.,  3.,  9., 27.]])"
      ]
     },
     "execution_count": 28,
     "metadata": {},
     "output_type": "execute_result"
    }
   ],
   "source": [
    "polynomail_transform([2,3],3,True)"
   ]
  },
  {
   "cell_type": "code",
   "execution_count": 4,
   "id": "74dac60d",
   "metadata": {},
   "outputs": [
    {
     "name": "stdout",
     "output_type": "stream",
     "text": [
      "Input: [[1]\n",
      " [2]\n",
      " [3]\n",
      " [4]\n",
      " [5]]\n",
      "(array([1, 2, 3, 4, 5]),) : [1 2 3 4 5]\n",
      "(array([1, 2, 3, 4, 5]), array([1, 2, 3, 4, 5])) : [ 1  4  9 16 25]\n",
      "(array([1, 2, 3, 4, 5]), array([1, 2, 3, 4, 5]), array([1, 2, 3, 4, 5])) : [  1   8  27  64 125]\n",
      "(array([1, 2, 3, 4, 5]), array([1, 2, 3, 4, 5]), array([1, 2, 3, 4, 5]), array([1, 2, 3, 4, 5])) : [  1  16  81 256 625]\n",
      "[[  1.   1.   1.   1.   1.]\n",
      " [  1.   2.   4.   8.  16.]\n",
      " [  1.   3.   9.  27.  81.]\n",
      " [  1.   4.  16.  64. 256.]\n",
      " [  1.   5.  25. 125. 625.]]\n"
     ]
    },
    {
     "data": {
      "text/plain": [
       "array([[  1.,   1.,   1.,   1.,   1.],\n",
       "       [  1.,   2.,   4.,   8.,  16.],\n",
       "       [  1.,   3.,   9.,  27.,  81.],\n",
       "       [  1.,   4.,  16.,  64., 256.],\n",
       "       [  1.,   5.,  25., 125., 625.]])"
      ]
     },
     "execution_count": 4,
     "metadata": {},
     "output_type": "execute_result"
    }
   ],
   "source": [
    "polynomail_transform([[1],[2],[3],[4],[5]],4,True)"
   ]
  },
  {
   "cell_type": "markdown",
   "id": "66e8068a",
   "metadata": {},
   "source": [
    "### Nonlinear training example\n",
    "\n",
    "    **y = sin(2pix)**"
   ]
  },
  {
   "cell_type": "code",
   "execution_count": 32,
   "id": "4473d095",
   "metadata": {},
   "outputs": [],
   "source": [
    "def create_nonlin_training_data(func,sample_size,std):\n",
    "    x = np.linspace(0,1,sample_size)\n",
    "    y = func(x) + np.random.normal(scale=std,size=x.shape)\n",
    "    \n",
    "    return x,y\n",
    "\n",
    "def nonlin(x):\n",
    "    return np.sin(2*np.pi*x)"
   ]
  },
  {
   "cell_type": "markdown",
   "id": "14ec108a",
   "metadata": {},
   "source": [
    "### ridge regulariation"
   ]
  },
  {
   "cell_type": "code",
   "execution_count": 1,
   "id": "25d8189b",
   "metadata": {},
   "outputs": [],
   "source": [
    "from IPython.display import display,Math,Latex\n",
    "import numpy as np\n",
    "import matplotlib.pyplot as plt\n",
    "import seaborn as sns"
   ]
  },
  {
   "cell_type": "markdown",
   "id": "a2d77ecf",
   "metadata": {},
   "source": [
    "### Loss function for ridge classification :-"
   ]
  },
  {
   "cell_type": "markdown",
   "id": "e2760ce5",
   "metadata": {},
   "source": [
    "**Loss Function**  : $(1/2)(Xw - y)^{T}$$(Xw - y)$ + $(Λ/2)w^{T}w$\n"
   ]
  },
  {
   "cell_type": "markdown",
   "id": "a9173525",
   "metadata": {},
   "source": [
    "**Gradient Calculation** : $X^{T}(Xw - y) + Λw$"
   ]
  },
  {
   "cell_type": "markdown",
   "id": "0add0d24",
   "metadata": {},
   "source": [
    "**Normal Equation** : $ w = (X^{T}X + ΛI)X^{-1}y$"
   ]
  },
  {
   "cell_type": "code",
   "execution_count": 82,
   "id": "636192c3",
   "metadata": {},
   "outputs": [],
   "source": [
    "class LinReg(object):\n",
    "    def __init__(self,):\n",
    "        self.t0 = 20\n",
    "        self.t1 = 100\n",
    "        \n",
    "    def predict(self,X:np.ndarray)->np.ndarray:\n",
    "        y = X @ self.w\n",
    "        return y\n",
    "    \n",
    "    def loss(self,X:np.ndarray,y:np.ndarray,reg_rate:float)-> np.array:\n",
    "        ## (1/2)*np.transpose(X@w - y)*(X@w - y) --> loss function for linear regression\n",
    "        ## reg_rate(np.transpose(self.w)*(self.w)) ---> Ridge regression term\n",
    "        return ((1/2)*np.transpose((X@self.w -y))@(X@self.w -y) - reg_rate*np.transpose(self.w)@self.w)\n",
    "    \n",
    "    def rmse(self,X:np.ndarray,y:np.ndarray) -> float:\n",
    "        return np.sqrt((2/X.shape[0])* self.loss(X,y,0))\n",
    "    \n",
    "    \n",
    "    def fit(self,X:np.ndarray,y:np.ndarray,reg_rate:float) -> float: #Normal equation\n",
    "        self.w = np.zeros(X.shape[1])\n",
    "        eye = np.eye(np.size(X,1))\n",
    "        self.w = np.linalg.solve(\n",
    "                    reg_rate*eye + np.transpose(X)@X,np.transpose(X)@y\n",
    "        )\n",
    "        return self.w\n",
    "    def calculate_gradient(self,X:np.ndarray,y:np.ndarray,reg_rate:float) -> np.ndarray:\n",
    "        return np.transpose(X)@(X@self.w-y) + reg_rate*self.w\n",
    "\n",
    "    def update_weights(self,grad:np.ndarray,lr:float) -> np.ndarray:\n",
    "        return (self.w - lr*grad)\n",
    "    \n",
    "    def learning_schedule(self,t):\n",
    "        return self.t0/(t+self.t1)"
   ]
  },
  {
   "cell_type": "code",
   "execution_count": 83,
   "id": "87904165",
   "metadata": {},
   "outputs": [],
   "source": [
    "X = np.array([[1,3,2,5],[1,9,4,7]])\n",
    "w = np.array([[1],[1],[1],[1]])\n",
    "y =np.array([[6],[11]])\n",
    "reg_rate = 0.01"
   ]
  },
  {
   "cell_type": "code",
   "execution_count": 84,
   "id": "f42335c0",
   "metadata": {},
   "outputs": [
    {
     "data": {
      "text/plain": [
       "((2, 1), (2, 4), (4, 1))"
      ]
     },
     "execution_count": 84,
     "metadata": {},
     "output_type": "execute_result"
    }
   ],
   "source": [
    "y.shape,X.shape,w.shape"
   ]
  },
  {
   "cell_type": "code",
   "execution_count": 85,
   "id": "0b74c2ef",
   "metadata": {},
   "outputs": [],
   "source": [
    "lin_reg = LinReg()\n",
    "lin_reg.w = w"
   ]
  },
  {
   "cell_type": "code",
   "execution_count": 86,
   "id": "91ed1b45",
   "metadata": {},
   "outputs": [
    {
     "data": {
      "text/plain": [
       "array([[62.46]])"
      ]
     },
     "execution_count": 86,
     "metadata": {},
     "output_type": "execute_result"
    }
   ],
   "source": [
    "lin_reg.loss(X,y,reg_rate)"
   ]
  },
  {
   "cell_type": "code",
   "execution_count": 87,
   "id": "19168726",
   "metadata": {},
   "outputs": [
    {
     "data": {
      "text/plain": [
       "array([[ 15.01],\n",
       "       [105.01],\n",
       "       [ 50.01],\n",
       "       [ 95.01]])"
      ]
     },
     "execution_count": 87,
     "metadata": {},
     "output_type": "execute_result"
    }
   ],
   "source": [
    "lin_reg.calculate_gradient(X,y,reg_rate)"
   ]
  },
  {
   "cell_type": "code",
   "execution_count": 88,
   "id": "26d282b2",
   "metadata": {},
   "outputs": [
    {
     "data": {
      "text/plain": [
       "array([[ 15.01],\n",
       "       [105.01],\n",
       "       [ 50.01],\n",
       "       [ 95.01]])"
      ]
     },
     "execution_count": 88,
     "metadata": {},
     "output_type": "execute_result"
    }
   ],
   "source": [
    "np.transpose(X)@(X@w-y) + reg_rate*w"
   ]
  },
  {
   "cell_type": "markdown",
   "id": "d17341a5",
   "metadata": {},
   "source": [
    "### Lasso regression"
   ]
  },
  {
   "cell_type": "code",
   "execution_count": 91,
   "id": "9a92f0fd",
   "metadata": {},
   "outputs": [
    {
     "data": {
      "text/plain": [
       "Lasso(alpha=0.01)"
      ]
     },
     "execution_count": 91,
     "metadata": {},
     "output_type": "execute_result"
    }
   ],
   "source": [
    "from sklearn.linear_model import Lasso\n",
    "reg_rate = 0.01\n",
    "lasso = Lasso(alpha=reg_rate)\n",
    "lasso.fit(X,y)"
   ]
  },
  {
   "cell_type": "markdown",
   "id": "e19590c0",
   "metadata": {},
   "source": [
    "### Multipoutput-regression"
   ]
  },
  {
   "cell_type": "code",
   "execution_count": 94,
   "id": "ffadff64",
   "metadata": {},
   "outputs": [],
   "source": [
    "\n"
   ]
  },
  {
   "cell_type": "code",
   "execution_count": 98,
   "id": "7932cad4",
   "metadata": {},
   "outputs": [
    {
     "data": {
      "text/plain": [
       "((100, 10), (100, 5))"
      ]
     },
     "execution_count": 98,
     "metadata": {},
     "output_type": "execute_result"
    }
   ],
   "source": [
    "X.shape,y.shape"
   ]
  },
  {
   "cell_type": "code",
   "execution_count": 102,
   "id": "0487487e",
   "metadata": {},
   "outputs": [],
   "source": [
    "def add_dummy_feature(X):\n",
    "    return np.column_stack((np.ones(X.shape[0]),X))"
   ]
  },
  {
   "cell_type": "code",
   "execution_count": 104,
   "id": "849051b7",
   "metadata": {},
   "outputs": [],
   "source": [
    "X = add_dummy_feature(X)"
   ]
  },
  {
   "cell_type": "code",
   "execution_count": 106,
   "id": "02f854f1",
   "metadata": {},
   "outputs": [],
   "source": [
    "from sklearn.model_selection import train_test_split\n",
    "X_train,X_test,y_train,y_test = train_test_split(X,y,test_size=0.2,random_state=0)"
   ]
  },
  {
   "cell_type": "code",
   "execution_count": 107,
   "id": "a58da339",
   "metadata": {},
   "outputs": [
    {
     "data": {
      "text/plain": [
       "((80, 11), (20, 11), (80, 5), (20, 5))"
      ]
     },
     "execution_count": 107,
     "metadata": {},
     "output_type": "execute_result"
    }
   ],
   "source": [
    "X_train.shape,X_test.shape,y_train.shape,y_test.shape"
   ]
  },
  {
   "cell_type": "code",
   "execution_count": null,
   "id": "a5193586",
   "metadata": {},
   "outputs": [],
   "source": []
  },
  {
   "cell_type": "code",
   "execution_count": 113,
   "id": "f4cca5c3",
   "metadata": {},
   "outputs": [
    {
     "data": {
      "text/plain": [
       "array([5., 5., 5., 5., 5., 5., 5., 5., 5., 5., 5.])"
      ]
     },
     "execution_count": 113,
     "metadata": {},
     "output_type": "execute_result"
    }
   ],
   "source": []
  },
  {
   "cell_type": "markdown",
   "id": "61ab3d3b",
   "metadata": {},
   "source": [
    "### Model"
   ]
  },
  {
   "cell_type": "markdown",
   "id": "bd114067",
   "metadata": {},
   "source": [
    "$$ Y_{nxk} = X_{nx(m+1)}W_{(m+1)xk} $$"
   ]
  },
  {
   "cell_type": "markdown",
   "id": "91c9f57f",
   "metadata": {},
   "source": [
    "### Loss"
   ]
  },
  {
   "cell_type": "markdown",
   "id": "73503781",
   "metadata": {},
   "source": [
    "$$ J(W) = (1/2)*(Xw - y)^{T}*(Xw - y) $$"
   ]
  },
  {
   "cell_type": "markdown",
   "id": "e25e539b",
   "metadata": {},
   "source": [
    "### Optimization"
   ]
  },
  {
   "cell_type": "markdown",
   "id": "5e2afaa1",
   "metadata": {},
   "source": [
    "$$ 1. Normal Equation$$\n",
    "$$ 2. Gradient Descent$$"
   ]
  },
  {
   "cell_type": "code",
   "execution_count": 118,
   "id": "f6942f0d",
   "metadata": {},
   "outputs": [],
   "source": [
    "class LinReg(object):\n",
    "    \n",
    "    def __init__(self):\n",
    "        self.t0 = 20\n",
    "        self.t1 = 100\n",
    "        \n",
    "    def predict(self,X:np.ndarray) -> np.ndarray:\n",
    "        y = X @ self.w\n",
    "        return y\n",
    "    def loss(self,X:np.ndarray,y:np.ndarray,reg_rate:float) -> np.ndarray:\n",
    "        e = y - self.predict(X)\n",
    "        return (1/2)*np.transpose(e)*(e)\n",
    "    \n",
    "    def rmse(self,X:np.ndarray,y:np.ndarray) -> np.ndarray:\n",
    "        return np.sqrt((2/X.shape[0])* self.loss(X,y,0))\n",
    "    \n",
    "    def fit(self,X:np.ndarray,y:np.ndarray,reg_rate:float) -> np.ndarray:\n",
    "        self.w = np.zeros((X.shape[1],y.shape[1]))\n",
    "        eye = np.eye(np.size(X,1))\n",
    "        \n",
    "        self.w = np.linalg.solve(\n",
    "            eye*reg_rate + np.transpose(X)@X,np.transpose(X)@y)\n",
    "        \n",
    "        return self.w\n",
    "    def calculate_gradient(self,X:np.ndarray,y:np.ndarray,reg_rate:float) -> np.ndarray:\n",
    "        e = self.predict(X) - y\n",
    "        return np.transpose(X)(e) + reg_rate*self.w\n",
    "    \n",
    "    def update_weights(self,lr:float,grad:np.ndarray)-> np.ndarray:\n",
    "        self.w = self.w - lr*grad"
   ]
  },
  {
   "cell_type": "code",
   "execution_count": 119,
   "id": "e6b19613",
   "metadata": {},
   "outputs": [],
   "source": [
    "lin_reg = LinReg()"
   ]
  },
  {
   "cell_type": "code",
   "execution_count": 122,
   "id": "6ad8a360",
   "metadata": {},
   "outputs": [],
   "source": [
    "w = lin_reg.fit(X_train,y_train,reg_rate=0)"
   ]
  },
  {
   "cell_type": "code",
   "execution_count": 123,
   "id": "d42c5539",
   "metadata": {},
   "outputs": [],
   "source": [
    "np.testing.assert_almost_equal(w[1:,:],coeff,decimal=2)"
   ]
  },
  {
   "cell_type": "code",
   "execution_count": 124,
   "id": "04010d1e",
   "metadata": {},
   "outputs": [
    {
     "data": {
      "text/plain": [
       "array([[ 1.        ,  1.        ,  1.        ,  1.        ,  1.        ],\n",
       "       [82.34717191, 86.61347063, 96.08125288,  6.51214685,  4.4571111 ],\n",
       "       [91.32835964, 30.50466984, 55.79874006, 98.2444883 , 40.04485347],\n",
       "       [99.42330832, 61.47698861,  3.71296039,  1.42515152, 34.21038752],\n",
       "       [68.638023  , 29.58919764, 30.32919214, 35.58891546, 81.03020815],\n",
       "       [27.13061013, 25.80592125, 53.23203283, 70.3189016 , 94.92799   ],\n",
       "       [57.759009  ,  7.52772798,  7.82460997, 37.12869443, 76.65910506],\n",
       "       [82.19039084, 70.05286228, 88.30775973, 96.65751069, 77.47476142],\n",
       "       [66.58713983, 40.08795636, 76.81946645, 52.77147256, 23.7523138 ],\n",
       "       [68.86834265, 70.79823547, 76.72100661, 28.71527129, 54.82562819],\n",
       "       [69.40873751, 78.1192844 , 16.89261159, 37.4062625 , 41.37802199]])"
      ]
     },
     "execution_count": 124,
     "metadata": {},
     "output_type": "execute_result"
    }
   ],
   "source": [
    "w"
   ]
  },
  {
   "cell_type": "code",
   "execution_count": 125,
   "id": "dd7245b5",
   "metadata": {},
   "outputs": [
    {
     "data": {
      "text/plain": [
       "array([[82.34717191, 86.61347063, 96.08125288,  6.51214685,  4.4571111 ],\n",
       "       [91.32835964, 30.50466984, 55.79874006, 98.2444883 , 40.04485347],\n",
       "       [99.42330832, 61.47698861,  3.71296039,  1.42515152, 34.21038752],\n",
       "       [68.638023  , 29.58919764, 30.32919214, 35.58891546, 81.03020815],\n",
       "       [27.13061013, 25.80592125, 53.23203283, 70.3189016 , 94.92799   ],\n",
       "       [57.759009  ,  7.52772798,  7.82460997, 37.12869443, 76.65910506],\n",
       "       [82.19039084, 70.05286228, 88.30775973, 96.65751069, 77.47476142],\n",
       "       [66.58713983, 40.08795636, 76.81946645, 52.77147256, 23.7523138 ],\n",
       "       [68.86834265, 70.79823547, 76.72100661, 28.71527129, 54.82562819],\n",
       "       [69.40873751, 78.1192844 , 16.89261159, 37.4062625 , 41.37802199]])"
      ]
     },
     "execution_count": 125,
     "metadata": {},
     "output_type": "execute_result"
    }
   ],
   "source": [
    "coeff"
   ]
  },
  {
   "cell_type": "code",
   "execution_count": 131,
   "id": "5ad2d983",
   "metadata": {},
   "outputs": [],
   "source": [
    "add_x = np.array([0,1]*10)"
   ]
  },
  {
   "cell_type": "code",
   "execution_count": 134,
   "id": "4dcc3dad",
   "metadata": {},
   "outputs": [
    {
     "data": {
      "text/plain": [
       "(20,)"
      ]
     },
     "execution_count": 134,
     "metadata": {},
     "output_type": "execute_result"
    }
   ],
   "source": [
    "add_x.shape"
   ]
  },
  {
   "cell_type": "code",
   "execution_count": 155,
   "id": "7c9220f4",
   "metadata": {},
   "outputs": [],
   "source": [
    "X = np.array([[1,2,3],[3,2,4]])\n",
    "y = np.array([[2],[4]])\n",
    "w = np.array([[0.1],[-0.2],[0.3]])"
   ]
  },
  {
   "cell_type": "code",
   "execution_count": 156,
   "id": "a8717005",
   "metadata": {},
   "outputs": [
    {
     "data": {
      "text/plain": [
       "((2, 3), (3, 1), (2, 1))"
      ]
     },
     "execution_count": 156,
     "metadata": {},
     "output_type": "execute_result"
    }
   ],
   "source": [
    "X.shape,w.shape,y.shape"
   ]
  },
  {
   "cell_type": "code",
   "execution_count": 158,
   "id": "b109d741",
   "metadata": {},
   "outputs": [
    {
     "data": {
      "text/plain": [
       "array([[0.98 , 2.03 ],\n",
       "       [2.03 , 4.205]])"
      ]
     },
     "execution_count": 158,
     "metadata": {},
     "output_type": "execute_result"
    }
   ],
   "source": [
    "lin_reg.w = w\n",
    "lin_reg.loss(X,y,0)"
   ]
  },
  {
   "cell_type": "code",
   "execution_count": 163,
   "id": "fa826fc1",
   "metadata": {},
   "outputs": [
    {
     "data": {
      "text/plain": [
       "array([[5.085]])"
      ]
     },
     "execution_count": 163,
     "metadata": {},
     "output_type": "execute_result"
    }
   ],
   "source": [
    "((1/2)*np.transpose((X@w -y))@(X@w -y)) - 0.1"
   ]
  },
  {
   "cell_type": "code",
   "execution_count": null,
   "id": "eb96236f",
   "metadata": {},
   "outputs": [],
   "source": []
  }
 ],
 "metadata": {
  "kernelspec": {
   "display_name": "Python 3 (ipykernel)",
   "language": "python",
   "name": "python3"
  },
  "language_info": {
   "codemirror_mode": {
    "name": "ipython",
    "version": 3
   },
   "file_extension": ".py",
   "mimetype": "text/x-python",
   "name": "python",
   "nbconvert_exporter": "python",
   "pygments_lexer": "ipython3",
   "version": "3.9.7"
  }
 },
 "nbformat": 4,
 "nbformat_minor": 5
}
