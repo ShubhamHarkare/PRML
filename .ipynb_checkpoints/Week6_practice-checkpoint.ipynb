{
 "cells": [
  {
   "cell_type": "code",
   "execution_count": 1,
   "id": "3ba0a82a",
   "metadata": {},
   "outputs": [],
   "source": [
    "import numpy as np"
   ]
  },
  {
   "cell_type": "markdown",
   "id": "8d251d19",
   "metadata": {},
   "source": [
    "# Naive Bayes Classifier"
   ]
  },
  {
   "cell_type": "markdown",
   "id": "c1555573",
   "metadata": {},
   "source": [
    "Bayes Theorm :-\n",
    "$$p(y|\\mathbf{x}) = \\frac{p(\\mathbf{x}|y) \\times p(y)}{p(\\mathbf{x})}$$\n",
    "$p(\\mathbf{x}|y)$ : Class conditional density\n",
    "$p(\\mathbf{x}|y) = p(x_{1},x_{2},....,x_{n}|y)$\n",
    "\n",
    "$p(\\mathbf{x}) = p(x_{1},x_{2},....,x_{n},y)$\n",
    "\n",
    "Therefore :-\n",
    "$$p(y|\\mathbf{x}) = \\frac{p(x_{1},x_{2},....,x_{n}|y) \\times p(y)}{p(x_{1},x_{2},....,x_{n},y)}$$\n",
    "$$                = \\frac{p(y)\\times \\prod_{j = 1}^{m}p(x_{j}|y)}{\\sum_{r = 1}^{k}p(y_{r})\\prod_{j = 1}^{m}p(x_{j}|y)} $$\n",
    "\n",
    "Therefore the probability that the label $\\mathbf{y}$ belongs to the class $\\mathbf{y_{c}}$ is given by:-\n",
    "\n",
    "$$                = \\frac{p(y= y_{c})\\times \\prod_{j = 1}^{m}p(x_{j}|y_{c})}{\\sum_{r = 1}^{k}p(y_{r})\\prod_{j = 1}^{m}p(x_{j}|y_{c})} $$\n"
   ]
  },
  {
   "cell_type": "markdown",
   "id": "d7ca4b0f",
   "metadata": {},
   "source": [
    "# Inference"
   ]
  },
  {
   "cell_type": "markdown",
   "id": "83c0a2aa",
   "metadata": {},
   "source": [
    "###  for calculation of $\\texttt{predict_proba()}$\n",
    "We perform the calculation of probabilites in **log-space** such that it prevents under flow of small number\n",
    "\n",
    "The label that results in the **highest value of numerator** is assigned to the given example \n",
    "*The denominator only acts as a normalizing constant*\n",
    "\n",
    "$$ y = argmax_{y} logp(y) + \\sum_{i=1}^{m}log p(x_{i}|j)$$\n",
    "\n",
    "**Posterior probability** however need calculation of Bayes forumalae\n",
    "$$log p(\\mathbf{x}|y) = log p(y_{r}) + \\sum_{j=1}^{m}log p(x_{j} + y_{r}) $$\n",
    "\n",
    "$$ p(\\mathbf{x}|y) = e^{log p(\\mathbf{x},y)}$$\n",
    "\n",
    "Summing over all the classes we can get $p(\\mathbf{x})$\n",
    "$$p(\\mathbf{x}) = \\sum_{r = 1}^{k} log p(\\mathbf{x}|y_{r}) = \\sum_{r = 1}^{k} e^{log p(\\mathbf{x},y_{r})} $$\n",
    "\n",
    "$$ p(y_{r}|\\mathbf{x}) = \\frac{p(\\mathbf{x},y_{r})}{p(y_{r})} $$"
   ]
  },
  {
   "cell_type": "markdown",
   "id": "88feca27",
   "metadata": {},
   "source": [
    "# Bernoulli NB"
   ]
  },
  {
   "cell_type": "markdown",
   "id": "cdeae289",
   "metadata": {},
   "source": [
    "Class conditional densiies"
   ]
  },
  {
   "cell_type": "code",
   "execution_count": null,
   "id": "213c46d6",
   "metadata": {},
   "outputs": [],
   "source": []
  }
 ],
 "metadata": {
  "kernelspec": {
   "display_name": "Python 3 (ipykernel)",
   "language": "python",
   "name": "python3"
  },
  "language_info": {
   "codemirror_mode": {
    "name": "ipython",
    "version": 3
   },
   "file_extension": ".py",
   "mimetype": "text/x-python",
   "name": "python",
   "nbconvert_exporter": "python",
   "pygments_lexer": "ipython3",
   "version": "3.9.7"
  }
 },
 "nbformat": 4,
 "nbformat_minor": 5
}
