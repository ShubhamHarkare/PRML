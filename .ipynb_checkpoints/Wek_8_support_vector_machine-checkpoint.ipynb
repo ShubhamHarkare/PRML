{
 "cells": [
  {
   "cell_type": "code",
   "execution_count": 2,
   "id": "0c0d50d5",
   "metadata": {},
   "outputs": [],
   "source": [
    "import numpy as np\n",
    "import matplotlib.pyplot as plt\n",
    "import seaborn as sns\n",
    "\n",
    "from sklearn.datasets import make_blobs,make_classification\n",
    "\n",
    "sns.set_theme(style='whitegrid')"
   ]
  },
  {
   "cell_type": "markdown",
   "id": "bfd6c029",
   "metadata": {},
   "source": [
    "# Loss Function"
   ]
  },
  {
   "cell_type": "markdown",
   "id": "697ad516",
   "metadata": {},
   "source": [
    "We use **hinge loss** as a loss function *max(0,1-t)*\n",
    "- It is equal to zeros when t>=1\n",
    "- Its slope is equal to -1 if t<1 and 0 is t>0\n",
    "- It is not deffrenciable at t = 0"
   ]
  },
  {
   "cell_type": "markdown",
   "id": "adba626d",
   "metadata": {},
   "source": [
    " **Hinge loss for SVM:**"
   ]
  },
  {
   "cell_type": "markdown",
   "id": "278588e4",
   "metadata": {},
   "source": [
    "$$J(w) = \\frac{1}{2} ||w||^{2} + C \\sum_{i} max (0,[1-y^{(i)}(w^{T}x^{(i)}+b)])$$"
   ]
  },
  {
   "cell_type": "markdown",
   "id": "0c8c9dda",
   "metadata": {},
   "source": [
    "The **second term** is the **hinge loss** and it penalizes for missclassification"
   ]
  },
  {
   "cell_type": "markdown",
   "id": "f9314c43",
   "metadata": {},
   "source": [
    "# Soft SVM"
   ]
  },
  {
   "cell_type": "code",
   "execution_count": null,
   "id": "d8ffec45",
   "metadata": {},
   "outputs": [],
   "source": [
    "class SoftSVM():\n",
    "    def __init__(self,C):\n",
    "        self.support_vectors = None\n",
    "        self.C = C\n",
    "        self.w = None\n",
    "        self.b = None\n",
    "        self.X = None\n",
    "        self.y = None\n",
    "        \n",
    "        #n is the number of data points\n",
    "        self.n = None\n",
    "        \n",
    "        #d is the number of dimensions\n",
    "        self.d = None\n",
    "        \n",
    "    def __decesion_function(self,X):\n",
    "        return X@self.w + self.b\n",
    "        \n",
    "    def __cost(self,margin):\n",
    "        return (1/2)*(np.transpose(self.w)@self.w) + self.C(np.sum(np.maximum(0,1-margin)))\n",
    "        \n",
    "    def __margin(self,X,y):\n",
    "        y_pred = self.__decesion_function(X)\n",
    "            \n",
    "        return y*(y_pred)\n",
    "        \n",
    "        \n",
    "    def fit(self,X,y,lr=0.001,epochs=500):\n",
    "        self.n,self.d = X.shape\n",
    "        self.w = np.random.randn(self.d)\n",
    "        self.b = 0\n",
    "            \n",
    "        loss_array =[]\n",
    "            \n",
    "        self.X = X\n",
    "        self.y = y\n",
    "        for _ in range(epochs):\n",
    "            margin = self.__margin(self.X,self.y)\n",
    "                \n",
    "            loss = self.__cost(margin)\n",
    "                \n",
    "            loss_array.append(loss)\n",
    "                \n",
    "            missclassified_points = np.where(margin<1)[0]\n",
    "                \n",
    "            d_w = self.w - self.C*y[missclassified_points].dot(X[missclassified_points])\n",
    "            self.w -= lr*d_w\n",
    "                \n",
    "            d_b = -self.C*np.sum(y[missclassified_points])\n",
    "            self.b -= lr*d_b\n",
    "\n",
    "                \n",
    "        self.support_vectors = np.where(self.__margin(X,y)<=1)[0]\n",
    "            \n",
    "            \n",
    "    def predict(self,X):\n",
    "        return np.sign(self.__decesion_function(X))\n",
    "        \n",
    "    def score(self,X,y):\n",
    "        P = self.predict(X)\n",
    "        return np.mean(P)\n",
    "        \n",
    "    def plot_decesion_boundary(self,X,y):\n",
    "            plt.scatter(self.X[:,0],self.X[:,1],c = self.y,marker='o',s=100,cmap='autumn')\n",
    "            ax = plt.gca()\n",
    "            xlim = ax.get_xlim()\n",
    "            ylim = ax.get_ylim()\n",
    "            \n",
    "            xx = np.linspace(xlim[0],xlim[1],30)\n",
    "            yy = np.linspace(ylim[0],ylim[1],30)\n",
    "            \n",
    "            YY,XX = np.meshgrid(yy,xx)\n",
    "            \n",
    "            xy = np.vstack([XX.ravel(),YY.ravel()]).T\n",
    "            Z = self.__decesion_function(xy).reshae(XX.shape)\n",
    "            \n",
    "            \n",
    "            \n",
    "            ax.contour(XX,YY,Z,colors=['g','k','g'],levels=[-1,0,1],linestyles=['--','-','--'],linewidths = [2.0,2.0,2.0])\n",
    "            \n",
    "            \n",
    "            ax.scatter(self.X[:,0][self.support_vectors],self.X[:,1][self.support_vectors],s=250,linewidth=1,\n",
    "                      facecoloe='none',edgecolor='k')\n",
    "            \n",
    "            plt.xlabel(\"x1\")\n",
    "            plt.ylabel('x2')\n",
    "            \n",
    "            plt.show()"
   ]
  },
  {
   "cell_type": "markdown",
   "id": "94e25400",
   "metadata": {},
   "source": [
    "# Genearating data"
   ]
  },
  {
   "cell_type": "code",
   "execution_count": 3,
   "id": "76f3ac13",
   "metadata": {},
   "outputs": [],
   "source": [
    "X,y = make_blobs(n_samples=60,n_features=2,centers=[[0,0],[6,6]],cluster_std=1,random_state=12)\n",
    "y = np.where(y==0,-1,1)"
   ]
  },
  {
   "cell_type": "code",
   "execution_count": 4,
   "id": "798c2a5f",
   "metadata": {},
   "outputs": [
    {
     "data": {
      "image/png": "[encoded data removed]",
      "text/plain": [
       "<Figure size 432x288 with 1 Axes>"
      ]
     },
     "metadata": {},
     "output_type": "display_data"
    }
   ],
   "source": [
    "plt.scatter(X[:,0],X[:,1],c=y,cmap='autumn',s=100,edgecolors='k',marker='o')\n",
    "plt.xlabel(\"x1\")\n",
    "plt.ylabel('x2')\n",
    "plt.show()"
   ]
  },
  {
   "cell_type": "code",
   "execution_count": 5,
   "id": "56f22b56",
   "metadata": {},
   "outputs": [],
   "source": [
    "w = np.random.randn(X.shape[-1])"
   ]
  },
  {
   "cell_type": "code",
   "execution_count": 6,
   "id": "ca27272c",
   "metadata": {},
   "outputs": [],
   "source": [
    "b = np.random.randint(10)"
   ]
  },
  {
   "cell_type": "code",
   "execution_count": null,
   "id": "cc9a5f51",
   "metadata": {},
   "outputs": [],
   "source": [
    "def __decesion_function(X):\n",
    "    return X@w +b"
   ]
  },
  {
   "cell_type": "code",
   "execution_count": null,
   "id": "e567028a",
   "metadata": {},
   "outputs": [],
   "source": [
    "df = __decesion_function(X)"
   ]
  },
  {
   "cell_type": "code",
   "execution_count": null,
   "id": "43e3e62a",
   "metadata": {},
   "outputs": [],
   "source": [
    "def __margin(df,y):\n",
    "    return np.transpose(y)@df"
   ]
  },
  {
   "cell_type": "code",
   "execution_count": null,
   "id": "6346c5b8",
   "metadata": {},
   "outputs": [],
   "source": [
    "margin = __margin(df,y)"
   ]
  },
  {
   "cell_type": "code",
   "execution_count": null,
   "id": "6b758ed8",
   "metadata": {},
   "outputs": [],
   "source": [
    "def __cost(margin,C,w):\n",
    "    return (1/2)*(np.transpose(w)@w) + C*np.maximum(0,(1-margin))"
   ]
  },
  {
   "cell_type": "code",
   "execution_count": null,
   "id": "e740cd55",
   "metadata": {},
   "outputs": [],
   "source": [
    "__cost(margin=margin,C=1,w=w)"
   ]
  },
  {
   "cell_type": "code",
   "execution_count": 82,
   "id": "f0f4d4c4",
   "metadata": {},
   "outputs": [],
   "source": [
    "class SoftSVM():\n",
    "    def __init__(self,C):\n",
    "        self.C = C\n",
    "        self.w = None\n",
    "        self.b = None\n",
    "        self.X = None\n",
    "        self.y = None\n",
    "        self.support_vectors = None\n",
    "        self.n_samples = None\n",
    "        self.n_features = None\n",
    "        \n",
    "        \n",
    "    def __decesion_function(self,X):\n",
    "        return X@(self.w) + self.b\n",
    "    \n",
    "    def __margin(self,X,y):\n",
    "        return np.transpose(y)@self.__decesion_function(X)\n",
    "    \n",
    "    def __cost(self,margin):\n",
    "        return (1/2)*(np.transpose(w)@w) + self.C*(np.sum(np.maximum(0,1-margin)))\n",
    "    \n",
    "    def fit(self,X,y,lr=0.001,epochs=50):\n",
    "        self.w = np.random.randn(X.shape[-1])\n",
    "        self.b = np.random.randn()\n",
    "        \n",
    "        \n",
    "        self.X = X\n",
    "        self.y = y\n",
    "        \n",
    "        loss_array =[]\n",
    "        \n",
    "        for _ in range(epochs):\n",
    "            margin = self.__margin(self.X,self.y)\n",
    "            loss = self.__cost(margin)\n",
    "            \n",
    "            loss_array.append(loss)\n",
    "            \n",
    "            missclassified_points= np.where(margin<1)[0]\n",
    "            \n",
    "            d_w = self.w - self.C*(self.y[missclassified_points].dot(self.X[missclassified_points]))\n",
    "            self.w -= lr*d_w\n",
    "            \n",
    "            d_b = -self.C*(np.sum(self.y[missclassified_points]))\n",
    "            self.b -= lr*d_b\n",
    "        self.support_vectors = np.where(self.__margin(self.X,self.y)<=1)[0]\n",
    "            \n",
    "        return loss_array\n",
    "    \n",
    "    def predict(self,X):\n",
    "        return np.sign(self.__decesion_function(X))\n",
    "    \n",
    "    def confusion_matrix(self,y_test,y_pred):\n",
    "        y_t = np.where(y==-1,0,1)\n",
    "        y_p = np.where(y==-1,0,1)\n",
    "        \n",
    "        n = len(np.unique(y_t))\n",
    "        \n",
    "        cm = np.zeros((n,n))\n",
    "        \n",
    "        for t,p in zip(y_t,y_p):\n",
    "            cm[t,p] += 1\n",
    "        return cm\n",
    "        \n",
    "    def score(self,X,y):\n",
    "        P = self.predict(X)\n",
    "        return np.mean(P)\n",
    "        \n",
    "    def plot_decesion_boundary(self,X,y):\n",
    "            plt.scatter(self.X[:,0],self.X[:,1],c = self.y,marker='o',s=100,cmap='autumn')\n",
    "            ax = plt.gca()\n",
    "            xlim = ax.get_xlim()\n",
    "            ylim = ax.get_ylim()\n",
    "            \n",
    "            xx = np.linspace(xlim[0],xlim[1],30)\n",
    "            yy = np.linspace(ylim[0],ylim[1],30)\n",
    "            \n",
    "            YY,XX = np.meshgrid(yy,xx)\n",
    "            \n",
    "            xy = np.vstack([XX.ravel(),YY.ravel()]).T\n",
    "            Z = self.__decesion_function(xy).reshape(XX.shape)\n",
    "            \n",
    "            \n",
    "            \n",
    "            ax.contour(XX,YY,Z,colors=['g','k','g'],levels=[-1,0,1],linestyles=['--','-','--'],linewidths = [2.0,2.0,2.0])\n",
    "            \n",
    "            \n",
    "            ax.scatter(self.X[:,0][self.support_vectors],self.X[:,1][self.support_vectors],s=250,linewidth=1,\n",
    "                      facecolor='none',edgecolor='k')\n",
    "            \n",
    "            plt.xlabel(\"x1\")\n",
    "            plt.ylabel('x2')\n",
    "            \n",
    "            plt.show()"
   ]
  },
  {
   "cell_type": "code",
   "execution_count": 83,
   "id": "db6436a1",
   "metadata": {},
   "outputs": [],
   "source": [
    "svm = SoftSVM(C=1)"
   ]
  },
  {
   "cell_type": "code",
   "execution_count": 84,
   "id": "701b771d",
   "metadata": {},
   "outputs": [
    {
     "data": {
      "text/plain": [
       "[<matplotlib.lines.Line2D at 0x16dc865df40>]"
      ]
     },
     "execution_count": 84,
     "metadata": {},
     "output_type": "execute_result"
    },
    {
     "data": {
      "image/png": "[encoded data removed]",
      "text/plain": [
       "<Figure size 432x288 with 1 Axes>"
      ]
     },
     "metadata": {},
     "output_type": "display_data"
    }
   ],
   "source": [
    "plt.plot(svm.fit(X,y))"
   ]
  },
  {
   "cell_type": "code",
   "execution_count": 85,
   "id": "1a5ffd11",
   "metadata": {},
   "outputs": [
    {
     "data": {
      "text/plain": [
       "array([ 1., -1., -1., -1., -1., -1.,  1.,  1.,  1., -1., -1., -1., -1.,\n",
       "        1., -1.,  1., -1., -1.,  1., -1., -1., -1., -1., -1., -1., -1.,\n",
       "       -1., -1., -1., -1.,  1., -1., -1., -1., -1., -1., -1., -1.,  1.,\n",
       "       -1.,  1., -1., -1., -1., -1.,  1., -1., -1., -1., -1., -1., -1.,\n",
       "       -1., -1.,  1., -1., -1., -1., -1.,  1.])"
      ]
     },
     "execution_count": 85,
     "metadata": {},
     "output_type": "execute_result"
    }
   ],
   "source": [
    "svm.predict(X)"
   ]
  },
  {
   "cell_type": "code",
   "execution_count": 86,
   "id": "1288570d",
   "metadata": {},
   "outputs": [
    {
     "data": {
      "text/plain": [
       "array([-1,  1, -1,  1, -1, -1, -1, -1, -1,  1,  1,  1,  1, -1,  1, -1,  1,\n",
       "        1, -1, -1, -1, -1,  1,  1,  1,  1,  1, -1,  1, -1, -1, -1,  1,  1,\n",
       "        1,  1,  1,  1, -1, -1, -1,  1,  1,  1, -1, -1,  1,  1, -1, -1, -1,\n",
       "       -1, -1,  1, -1,  1, -1,  1,  1, -1])"
      ]
     },
     "execution_count": 86,
     "metadata": {},
     "output_type": "execute_result"
    }
   ],
   "source": [
    "y"
   ]
  },
  {
   "cell_type": "code",
   "execution_count": 87,
   "id": "1c2abd0b",
   "metadata": {},
   "outputs": [
    {
     "data": {
      "text/plain": [
       "array([[30.,  0.],\n",
       "       [ 0., 30.]])"
      ]
     },
     "execution_count": 87,
     "metadata": {},
     "output_type": "execute_result"
    }
   ],
   "source": [
    "svm.confusion_matrix(y,svm.predict(X))"
   ]
  },
  {
   "cell_type": "code",
   "execution_count": 88,
   "id": "5d073b8d",
   "metadata": {},
   "outputs": [
    {
     "data": {
      "image/png": "[encoded data removed]",
      "text/plain": [
       "<Figure size 432x288 with 1 Axes>"
      ]
     },
     "metadata": {},
     "output_type": "display_data"
    }
   ],
   "source": [
    "svm.plot_decesion_boundary(X,y)"
   ]
  },
  {
   "cell_type": "code",
   "execution_count": null,
   "id": "9683ba7d",
   "metadata": {},
   "outputs": [],
   "source": []
  }
 ],
 "metadata": {
  "kernelspec": {
   "display_name": "Python 3 (ipykernel)",
   "language": "python",
   "name": "python3"
  },
  "language_info": {
   "codemirror_mode": {
    "name": "ipython",
    "version": 3
   },
   "file_extension": ".py",
   "mimetype": "text/x-python",
   "name": "python",
   "nbconvert_exporter": "python",
   "pygments_lexer": "ipython3",
   "version": "3.9.7"
  }
 },
 "nbformat": 4,
 "nbformat_minor": 5
}
