{
 "cells": [
  {
   "cell_type": "markdown",
   "metadata": {
    "id": "F9P_fQFbJBoW"
   },
   "source": [
    "# Artifical Neural Network"
   ]
  },
  {
   "cell_type": "code",
   "execution_count": 1,
   "metadata": {
    "id": "gs1Rc-sRI4su"
   },
   "outputs": [],
   "source": [
    "import numpy as np\n",
    "seed = 42\n",
    "rng = np.random.default_rng(seed = seed)"
   ]
  },
  {
   "cell_type": "markdown",
   "metadata": {
    "id": "_V4JGO2B1l0J"
   },
   "source": [
    "## Network Class\n",
    "\n",
    "1. The network class has the following two methods\n",
    "- `fit`\n",
    "- `predict`\n",
    "\n",
    "2. Fitting the neural network requires us for the follwing procedures:\n",
    "- `forward`\n",
    "- `backward`\n",
    "\n",
    "3. We need to initialize all the parameters in the follwing manner:\n",
    "- `init`\n",
    "\n",
    "4. We need to use some helper functions like:\n",
    "- `activations`\n",
    "- `losses`\n",
    "\n",
    "The flow of program code will be as follows:\n",
    "- `helpers -> init -> forward -> backward -> fit -> predict`"
   ]
  },
  {
   "cell_type": "code",
   "execution_count": 2,
   "metadata": {
    "id": "4ZWyA-SP1gyt"
   },
   "outputs": [],
   "source": [
    "class Network:\n",
    "  def init(self,layers,activation='relu',ouput_choice='softmax',loss_choice='cce'):\n",
    "    pass\n",
    "\n",
    "  def forward(self,X):\n",
    "    pass\n",
    "\n",
    "  def backward(self,y,y_hat):\n",
    "    pass\n",
    "\n",
    "  def fit(self,X,y,lr=0.01,epochs=100,batch_size=100):\n",
    "    pass\n",
    "\n",
    "  def predict(self,X):\n",
    "    pass"
   ]
  },
  {
   "cell_type": "markdown",
   "metadata": {
    "id": "Gix6-VaZ285m"
   },
   "source": [
    "## Activation Function\n",
    "\n",
    "### Sigmoid\n",
    "\n",
    "$$g(z) = \\frac{1}{1+e^{-z}}$$\n",
    "\n",
    "### ReLU\n",
    "\n",
    "$$\n",
    "\\begin{array}{cc}\n",
    "  \\{ & \n",
    "    \\begin{array}{cc}\n",
    "      z & z\\geq 0 \\\\\n",
    "      0 & otherwise\n",
    "    \\end{array}\n",
    "\\end{array}\n",
    "$$"
   ]
  },
  {
   "cell_type": "code",
   "execution_count": 3,
   "metadata": {
    "id": "lgTXilvo2sRQ"
   },
   "outputs": [],
   "source": [
    "def sigmoid(z):\n",
    "  return 1/(1 + np.exp(-z))\n",
    "\n",
    "def grad_sigmoid(z):\n",
    "  return sigmoid(z)*(1 - sigmoid(z))\n",
    "\n",
    "def relu(z):\n",
    "  return np.where(z>=0,z,0)\n",
    "\n",
    "def grad_relu(z):\n",
    "  return np.where(z>=0,1,0)\n",
    "\n",
    "hidden_act = {'sigmoid':sigmoid,'relu':relu}\n",
    "grad_hidden_act = {'sigmoid': grad_sigmoid,'relu':grad_relu}"
   ]
  },
  {
   "cell_type": "markdown",
   "metadata": {
    "id": "9lqboM4N-q2i"
   },
   "source": [
    "## Output layer\n",
    "\n",
    "1. For regression we will use **identity function** for output\n",
    "$$g(z) = z$$\n",
    "\n",
    "2. For classification we will require the **softmax function**\n",
    "\n",
    "$$g(z) = \\frac{e^{Z_{ij}}}{∑ e^{Z_{ij}}}$$"
   ]
  },
  {
   "cell_type": "code",
   "execution_count": 5,
   "metadata": {
    "id": "RBPmi8P76CQp"
   },
   "outputs": [],
   "source": [
    "def identity(z):\n",
    "  return z\n",
    "def softmax(z):\n",
    "  assert z.ndim ==2\n",
    "  z -= z.max(axis = 1,keepdims = True)\n",
    "\n",
    "  prob = np.exp(z)/np.exp(z).sum(axis = 1,keepdims=True)\n",
    "\n",
    "  assert np.allclose(prob.sum(axis = 1),np.ones(z.shape[0]))\n",
    "\n",
    "  return prob\n",
    "\n",
    "output_act = {'identity': identity,'softmax':softmax} "
   ]
  },
  {
   "cell_type": "markdown",
   "metadata": {
    "id": "Acze2iw6_5Ch"
   },
   "source": [
    "## Loss\n",
    "\n",
    "### Least Square for Regression\n",
    "\n",
    "$$L(y,y_{hat}) = \\frac{1}{2}(y_{hat} - y)^{T}(y_{hat} - y)$$\n",
    "\n",
    "### Categorical CrossEntropy for Classification\n",
    "\n",
    "$$L(Y,𝕐) = -1^{T}_{n}(Y ⊙ np.log(𝕐))1_{k}$$"
   ]
  },
  {
   "cell_type": "code",
   "execution_count": 6,
   "metadata": {
    "id": "am0GvrjI_Ri6"
   },
   "outputs": [],
   "source": [
    "def least_sqaure(y,y_hat):\n",
    "  return 0.5*(np.sum((y_hat - y) * (y_hat - y)))\n",
    "\n",
    "\n",
    "def cce(y,y_hat):\n",
    "  return -np.sum(y*np.log(y_hat))\n",
    "\n",
    "losses = {'least_sqaure':least_sqaure,'cce':cce}"
   ]
  },
  {
   "cell_type": "markdown",
   "metadata": {
    "id": "YByVMaamBAuj"
   },
   "source": [
    "## Network Initialization\n",
    "Here we take care of two things\n",
    "\n",
    "1. Network Initialziation\n",
    "2. Weight Initialization"
   ]
  },
  {
   "cell_type": "code",
   "execution_count": 7,
   "metadata": {
    "id": "ZW-uUnSO_V1H"
   },
   "outputs": [],
   "source": [
    "def count_params(layers):\n",
    "  num_params = 0\n",
    "\n",
    "  for l in range(1,len(layers)):\n",
    "    num_weights = layers[l-1]*layers[l]\n",
    "    num_biases = layers[l]\n",
    "    num_params += (num_weights+num_biases)\n",
    "  return num_params"
   ]
  },
  {
   "cell_type": "markdown",
   "metadata": {
    "id": "iAEUzDwSCwMN"
   },
   "source": [
    "## Parameter Iniitalziation\n",
    "\n",
    "The weight matrix at the layer l is of the size `layers[l-1] X layers[l]`\n",
    "\n",
    "The bias at the layer l is of the shape `layer[l]`"
   ]
  },
  {
   "cell_type": "code",
   "execution_count": 28,
   "metadata": {
    "id": "WBP10qB-CONd"
   },
   "outputs": [],
   "source": [
    "def init_param(layers):\n",
    "  num_params = count_params(layers)\n",
    "  W = [None for _ in range(len(layers))]\n",
    "  b = [None for _ in range(len(layers))]\n",
    "\n",
    "  gW = [None for _ in range(len(layers))]\n",
    "  gb = [None for _ in range(len(layers))]\n",
    "\n",
    "  thetha = rng.standard_normal(num_params)\n",
    "  gthehta = np.zeros(num_params)\n",
    "\n",
    "  start,end = 0,0\n",
    "  for l in range(1,len(layers)):\n",
    "    end  = start + layers[l-1]*layers[l]\n",
    "    W[l] = thetha[start:end].reshape(layers[l-1],layers[l])\n",
    "    gW[l] = gthehta[start:end].reshape(layers[l-1],layers[l])\n",
    "\n",
    "    start,end = end,end+layers[l]\n",
    "\n",
    "    b[l] = thetha[start:end].reshape(layers[l])\n",
    "    gb[l] = gthehta[start:end].reshape(layers[l])\n",
    "\n",
    "    start = end\n",
    "  return thetha,gthehta,W,b,gW,gb"
   ]
  },
  {
   "cell_type": "code",
   "execution_count": 14,
   "metadata": {
    "id": "DsdyNKWOE4LM"
   },
   "outputs": [],
   "source": [
    "def init(self,layers,activation_choice='relu',\n",
    "         output_choice = 'softmax',loss_choice='cce'):\n",
    "  self.layers = layers\n",
    "\n",
    "  #Parameters and gradients\n",
    "  self.thetha,self.gthehta,\\\n",
    "  self.W,self.b,\\\n",
    "  self.gW,self.gb = init_param(layers)\n",
    "\n",
    "  #Activation Functions\n",
    "  self.ghid = hidden_act[activation_choice]\n",
    "  self.grad_ghid = grad_hidden_act[activation_choice]\n",
    "  self.gout = output_act[output_choice]\n",
    "\n",
    "  #Loss\n",
    "  self.loss = losses[loss_choice]"
   ]
  },
  {
   "cell_type": "markdown",
   "metadata": {
    "id": "kBIHvnI2FzWU"
   },
   "source": [
    "## Forward Pass"
   ]
  },
  {
   "cell_type": "code",
   "execution_count": 9,
   "metadata": {
    "id": "juXNRnCpF0RB"
   },
   "outputs": [],
   "source": [
    "def forward(self,X):\n",
    "  self.A = [None for _ in range(len(self.layers))]\n",
    "  self.Z = [None for _ in range(len(self.layers))]\n",
    "\n",
    "  self.A[0] = X\n",
    "  self.Z[0] = X\n",
    "  \n",
    "  for l in range(1,len(self.layers)):\n",
    "    self.Z[l] = self.A[l-1]@self.W[l] + self.b[l]\n",
    "    self.A[l] = self.ghid(self.Z[l])\n",
    "\n",
    "  self.A[-1] = self.gout(self.Z[-1])\n",
    "\n",
    "  return self.A[-1]"
   ]
  },
  {
   "cell_type": "markdown",
   "metadata": {
    "id": "Q8hn0Rr9GW1e"
   },
   "source": [
    "## Backward Pass"
   ]
  },
  {
   "cell_type": "code",
   "execution_count": 10,
   "metadata": {
    "id": "Xk4oSuF_GV2o"
   },
   "outputs": [],
   "source": [
    "def backward(self,y,y_hat):\n",
    "  gZ = [None for _ in range(len(self.layers))]\n",
    "  gA = [None for _ in range(len(self.layers))]\n",
    "\n",
    "  gZ[-1] = y_hat - y\n",
    "\n",
    "  for l in range(len(self.layers)-1,0,-1):\n",
    "    self.gW[l][:,:] = self.A[l-1].T @ gZ[l]\n",
    "    self.gb[l][:] = np.sum(gZ[l].T,axis = 1)\n",
    "    gA[l-1] = gZ[l]@self.W[l].T\n",
    "    gZ[l-1] = gA[l-1]*self.grad_ghid(self.Z[l-1])"
   ]
  },
  {
   "cell_type": "code",
   "execution_count": 11,
   "metadata": {
    "id": "Hm0pRRzuHdow"
   },
   "outputs": [],
   "source": [
    "def fit(self,X,y,lr=0.01,epochs=100,batch_size=100):\n",
    "  self.losses = []\n",
    "\n",
    "  for epochs in range(epochs):\n",
    "    y_hat = self.forward(X)\n",
    "    self.losses.append(self.loss(y,y_hat))\n",
    "    indices = np.arange(X.shape[0])\n",
    "\n",
    "    rng.shuffle(indices)\n",
    "    X,y = X[indices],y[indices]\n",
    "\n",
    "    num_batches = X.shape[0]//batch_size\n",
    "\n",
    "    # Mini batch Gradient Descent\n",
    "    for b in range(num_batches):\n",
    "      Xb = X[b*batch_size:(b+1)*batch_size]\n",
    "      yb = y[b*batch_size:(b+1)*batch_size]\n",
    "\n",
    "      y_hat_b = self.forward(Xb)\n",
    "      self.backward(yb,y_hat_b)\n",
    "\n",
    "      self.thetha -= lr*self.gthehta"
   ]
  },
  {
   "cell_type": "markdown",
   "metadata": {
    "id": "yewX993EIcOc"
   },
   "source": [
    "## Predict"
   ]
  },
  {
   "cell_type": "code",
   "execution_count": 12,
   "metadata": {
    "id": "o5w_avWyIbaV"
   },
   "outputs": [],
   "source": [
    "def predict(self,X):\n",
    "  y_hat = self.forward(X)\n",
    "\n",
    "  if X.shape[-1]==1:\n",
    "    return y_hat\n",
    "  else:\n",
    "    return np.argmax(y_hat,axis = 1)\n"
   ]
  },
  {
   "cell_type": "code",
   "execution_count": 15,
   "metadata": {
    "id": "xZ-5v08sIpAX"
   },
   "outputs": [],
   "source": [
    "Network.__init__ = init\n",
    "Network.forward = forward\n",
    "Network.backward = backward\n",
    "Network.fit = fit\n",
    "Network.predict = predict"
   ]
  },
  {
   "cell_type": "code",
   "execution_count": 20,
   "metadata": {
    "colab": {
     "base_uri": "https://localhost:8080/",
     "height": 298
    },
    "id": "i8zZXEUHI3Jl",
    "outputId": "bd13edc5-7172-49a4-a256-5c03e49af921"
   },
   "outputs": [
    {
     "name": "stdout",
     "output_type": "stream",
     "text": [
      "(1797, 64)\n"
     ]
    },
    {
     "data": {
      "image/png": "[encoded data removed]",
      "text/plain": [
       "<Figure size 432x288 with 1 Axes>"
      ]
     },
     "metadata": {
      "needs_background": "light"
     },
     "output_type": "display_data"
    }
   ],
   "source": [
    "import matplotlib.pyplot as plt\n",
    "from sklearn.datasets import load_digits\n",
    "digits = load_digits()\n",
    "\n",
    "X = digits.images\n",
    "X /= np.max(X)\n",
    "y = digits.target\n",
    "\n",
    "plt.imshow(X[0])\n",
    "plt.title(y[0])\n",
    "\n",
    "X = X.reshape(-1,64)\n",
    "\n",
    "print(X.shape)"
   ]
  },
  {
   "cell_type": "code",
   "execution_count": 21,
   "metadata": {
    "id": "YtfMx8JEJXDF"
   },
   "outputs": [],
   "source": [
    "def onehotencoder(y):\n",
    "  k = len(np.unique(y))\n",
    "\n",
    "  return np.eye(k)[y]"
   ]
  },
  {
   "cell_type": "code",
   "execution_count": 22,
   "metadata": {
    "colab": {
     "base_uri": "https://localhost:8080/"
    },
    "id": "tx-D0Ji5JkoS",
    "outputId": "76f8c93c-3ebb-4b4b-8316-357f032de988"
   },
   "outputs": [
    {
     "name": "stdout",
     "output_type": "stream",
     "text": [
      "Training data shape (1078, 64) (1078, 10)\n",
      "Test data shape (719, 64) (719, 10)\n"
     ]
    }
   ],
   "source": [
    "from sklearn.model_selection import train_test_split\n",
    "X_train,X_test,y_train,y_test = train_test_split(X,y,test_size = 0.4,random_state=seed)\n",
    "\n",
    "y_train = onehotencoder(y_train)\n",
    "y_test = onehotencoder(y_test)\n",
    "\n",
    "print('Training data shape',X_train.shape,y_train.shape)\n",
    "print(\"Test data shape\",X_test.shape,y_test.shape)"
   ]
  },
  {
   "cell_type": "code",
   "execution_count": 29,
   "metadata": {
    "id": "U1kJnAUbKD84"
   },
   "outputs": [],
   "source": [
    "layers = [64,32,10]\n",
    "network = Network(layers,activation_choice='sigmoid',output_choice='softmax',loss_choice='cce')\n",
    "epochs = 50\n",
    "network.fit(X_train,y_train,lr=0.01,epochs=epochs,batch_size = 10)"
   ]
  },
  {
   "cell_type": "code",
   "execution_count": 30,
   "metadata": {
    "colab": {
     "base_uri": "https://localhost:8080/",
     "height": 638
    },
    "id": "Mv9YwmpRK5dK",
    "outputId": "26b010bd-cb2f-4550-e222-8a643b8122ca"
   },
   "outputs": [
    {
     "data": {
      "text/plain": [
       "Text(0, 0.5, 'CCE')"
      ]
     },
     "execution_count": 30,
     "metadata": {},
     "output_type": "execute_result"
    },
    {
     "data": {
      "image/png": "[encoded data removed]",
      "text/plain": [
       "<Figure size 720x720 with 1 Axes>"
      ]
     },
     "metadata": {
      "needs_background": "light"
     },
     "output_type": "display_data"
    }
   ],
   "source": [
    "plt.figure(figsize=(10,10))\n",
    "plt.plot(range(epochs),network.losses)\n",
    "plt.title('Loss vs Epochs')\n",
    "plt.xlabel(\"Epochs\")\n",
    "plt.ylabel(\"CCE\")"
   ]
  },
  {
   "cell_type": "code",
   "execution_count": null,
   "metadata": {
    "id": "1olQ2ciCLf7c"
   },
   "outputs": [],
   "source": []
  }
 ],
 "metadata": {
  "colab": {
   "name": "week12_artifical_neural_network.ipynb",
   "provenance": []
  },
  "kernelspec": {
   "display_name": "Python 3 (ipykernel)",
   "language": "python",
   "name": "python3"
  },
  "language_info": {
   "codemirror_mode": {
    "name": "ipython",
    "version": 3
   },
   "file_extension": ".py",
   "mimetype": "text/x-python",
   "name": "python",
   "nbconvert_exporter": "python",
   "pygments_lexer": "ipython3",
   "version": "3.9.7"
  }
 },
 "nbformat": 4,
 "nbformat_minor": 1
}
