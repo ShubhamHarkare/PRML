{
 "cells": [
  {
   "cell_type": "code",
   "execution_count": 23,
   "id": "60af3477",
   "metadata": {},
   "outputs": [],
   "source": [
    "import numpy as np\n",
    "from keras.datasets import mnist\n",
    "import matplotlib.pyplot as plt"
   ]
  },
  {
   "cell_type": "markdown",
   "id": "aab211c4",
   "metadata": {},
   "source": [
    "# Softmax Regression"
   ]
  },
  {
   "cell_type": "markdown",
   "id": "9e537054",
   "metadata": {},
   "source": [
    "- Softmax regression is a generalized method of **logistic regression**\n",
    "- It is used for **multiclass classification**\n",
    "- Softmax regression is trained using **categorical cross-entropy loss**\n",
    "- The labels are presented using **one-hot encoding**"
   ]
  },
  {
   "cell_type": "markdown",
   "id": "b6a10f31",
   "metadata": {},
   "source": [
    "## Traing data"
   ]
  },
  {
   "cell_type": "code",
   "execution_count": 24,
   "id": "f7add5b0",
   "metadata": {},
   "outputs": [],
   "source": [
    "(X_train,y_train),(X_test,y_test) = mnist.load_data()"
   ]
  },
  {
   "cell_type": "code",
   "execution_count": 25,
   "id": "c3b6309c",
   "metadata": {},
   "outputs": [
    {
     "data": {
      "image/png": "[encoded data removed]",
      "text/plain": [
       "<Figure size 720x504 with 15 Axes>"
      ]
     },
     "metadata": {
      "needs_background": "light"
     },
     "output_type": "display_data"
    }
   ],
   "source": [
    "fig = plt.figure(figsize=(10,7))\n",
    "for i in range(15):\n",
    "    ax = fig.add_subplot(3,5,i+1)\n",
    "    ax.imshow(X_train[i],cmap = 'gray')\n",
    "    ax.set_title(f'Label y :{y_train[i]}')\n",
    "    plt.axis('off')\n",
    "              "
   ]
  },
  {
   "cell_type": "markdown",
   "id": "3401ceb8",
   "metadata": {},
   "source": [
    "- Each image is a gray image of size 28x28"
   ]
  },
  {
   "cell_type": "code",
   "execution_count": 26,
   "id": "545d66aa",
   "metadata": {},
   "outputs": [],
   "source": [
    "X_train = X_train.reshape(-1,784)/255\n",
    "X_test = X_test.reshape(-1,784)/255"
   ]
  },
  {
   "cell_type": "markdown",
   "id": "38e8b7bd",
   "metadata": {},
   "source": [
    "### One-hot encoding"
   ]
  },
  {
   "cell_type": "code",
   "execution_count": 27,
   "id": "57a48083",
   "metadata": {},
   "outputs": [],
   "source": [
    "def one_hot_encode(labels):\n",
    "    e = np.eye(len(np.unique(labels)))\n",
    "    y_enc = e[labels]\n",
    "    \n",
    "    return y_enc"
   ]
  },
  {
   "cell_type": "markdown",
   "id": "7ed18616",
   "metadata": {},
   "source": [
    "## Softmax Regression Implementation"
   ]
  },
  {
   "cell_type": "markdown",
   "id": "02672fff",
   "metadata": {},
   "source": [
    "**STEP-1** In vectorized form we implement **Z = XW + b**"
   ]
  },
  {
   "cell_type": "code",
   "execution_count": 28,
   "id": "ca0ea291",
   "metadata": {},
   "outputs": [],
   "source": [
    "def linear_combination(X,w,b):\n",
    "    return X@w + b"
   ]
  },
  {
   "cell_type": "markdown",
   "id": "1fb431f6",
   "metadata": {},
   "source": [
    "**STEP-2** Calculate softmax for each class"
   ]
  },
  {
   "cell_type": "code",
   "execution_count": 29,
   "id": "108b869e",
   "metadata": {},
   "outputs": [],
   "source": [
    "def softmax(z):\n",
    "    exp = np.exp(z - np.max(z))\n",
    "    ## Applying softmax\n",
    "    for i in range(len(z)):\n",
    "        exp[i] /= np.sum(exp[i])\n",
    "        \n",
    "    return exp"
   ]
  },
  {
   "cell_type": "markdown",
   "id": "5e74ec0e",
   "metadata": {},
   "source": [
    "## Loss Function"
   ]
  },
  {
   "cell_type": "markdown",
   "id": "92a1a4ac",
   "metadata": {},
   "source": [
    "For softmax regression we use **cross-entropy**(CE) loss "
   ]
  },
  {
   "cell_type": "markdown",
   "id": "687b45b2",
   "metadata": {},
   "source": [
    "for any pair of label vector  $\\textbf {$y_{k}$}$ and predction $\\textbf {$y_{k}^{i}$}$ over k classes the loss function J is given by:"
   ]
  },
  {
   "cell_type": "markdown",
   "id": "1ba25dbb",
   "metadata": {},
   "source": [
    "$$ J(w) = -\\sum_{k}y_{k} log (y_{k}^{i})  $$"
   ]
  },
  {
   "cell_type": "markdown",
   "id": "0686713e",
   "metadata": {},
   "source": [
    "## Optimization"
   ]
  },
  {
   "cell_type": "markdown",
   "id": "59866f69",
   "metadata": {},
   "source": [
    "- The objective here is to estimate the weight vector $\\textbf{$W_{m \\times k}$}$ and $\\textbf{$b_{k \\times 1}$}$ by optimizing the loss $\\textbf{$J(W,b)$}$"
   ]
  },
  {
   "cell_type": "markdown",
   "id": "3db42f75",
   "metadata": {},
   "source": [
    "## Partial Derivative in  vectorized form"
   ]
  },
  {
   "cell_type": "markdown",
   "id": "ab4b3181",
   "metadata": {},
   "source": [
    "$$\n",
    "\\frac{\\partial J(W,b)}{\\partial W} = X^{T}(Y^{pred} - Y)\n",
    "$$\n",
    "\n",
    "$$\n",
    "\\frac{\\partial J(W,b)}{\\partial b} = Y^{pred} - Y\n",
    "$$"
   ]
  },
  {
   "cell_type": "code",
   "execution_count": 30,
   "id": "d841d583",
   "metadata": {},
   "outputs": [],
   "source": [
    "def fit(X,y,lr,c,epoch):\n",
    "    n,m = X.shape\n",
    "    w = np.random.random((m,c))\n",
    "    b = np.random.random(c)\n",
    "    losses = []\n",
    "    \n",
    "    for epoch in range(epoch):\n",
    "        z = X@w +b\n",
    "        y_hat = softmax(z)\n",
    "        \n",
    "        y_hat = one_hot_encode(y)\n",
    "        \n",
    "        w_grad = (1/n)*np.transpose(X)@(y_hat - y)\n",
    "        g_grad = (1/n)*(y_hat - y)\n",
    "        \n",
    "        w -= lr*grad\n",
    "        b -= lr*grad\n",
    "        \n",
    "        loss = -np.mean(np.log(y_hat[np.arange(len(y)),y]))\n",
    "\n",
    "        losses.append(loss)\n",
    "        \n",
    "        \n",
    "    return w,b,losses"
   ]
  },
  {
   "cell_type": "code",
   "execution_count": 31,
   "id": "68ae1c3e",
   "metadata": {},
   "outputs": [],
   "source": [
    "def predict(X,w,b):\n",
    "    z = X@w +b\n",
    "    y_hat = softmax(z)\n",
    "    \n",
    "    return np.argmax(y_hat,axis=1)"
   ]
  },
  {
   "cell_type": "code",
   "execution_count": 32,
   "id": "6ecca46b",
   "metadata": {},
   "outputs": [],
   "source": [
    "def accuracy(y,y_hat):\n",
    "    return np.sum(y==y_hat)/len(y)"
   ]
  },
  {
   "cell_type": "code",
   "execution_count": 34,
   "id": "def4bc01",
   "metadata": {},
   "outputs": [
    {
     "ename": "ValueError",
     "evalue": "not enough values to unpack (expected 2, got 1)",
     "output_type": "error",
     "traceback": [
      "\u001b[1;31m---------------------------------------------------------------------------\u001b[0m",
      "\u001b[1;31mValueError\u001b[0m                                Traceback (most recent call last)",
      "\u001b[1;32m~\\AppData\\Local\\Temp/ipykernel_12476/700764523.py\u001b[0m in \u001b[0;36m<module>\u001b[1;34m\u001b[0m\n\u001b[1;32m----> 1\u001b[1;33m \u001b[0mw\u001b[0m\u001b[1;33m,\u001b[0m\u001b[0mb\u001b[0m\u001b[1;33m,\u001b[0m\u001b[0ml\u001b[0m \u001b[1;33m=\u001b[0m \u001b[0mfit\u001b[0m\u001b[1;33m(\u001b[0m\u001b[0mX\u001b[0m\u001b[1;33m=\u001b[0m\u001b[0mX_train\u001b[0m\u001b[1;33m,\u001b[0m\u001b[0my\u001b[0m\u001b[1;33m=\u001b[0m\u001b[0my_train\u001b[0m\u001b[1;33m,\u001b[0m\u001b[0mlr\u001b[0m\u001b[1;33m=\u001b[0m\u001b[1;36m0.9\u001b[0m\u001b[1;33m,\u001b[0m\u001b[0mc\u001b[0m \u001b[1;33m=\u001b[0m \u001b[1;36m10\u001b[0m\u001b[1;33m,\u001b[0m\u001b[0mepoch\u001b[0m\u001b[1;33m=\u001b[0m\u001b[1;36m100\u001b[0m\u001b[1;33m)\u001b[0m\u001b[1;33m\u001b[0m\u001b[1;33m\u001b[0m\u001b[0m\n\u001b[0m",
      "\u001b[1;32m~\\AppData\\Local\\Temp/ipykernel_12476/3455226565.py\u001b[0m in \u001b[0;36mfit\u001b[1;34m(X, y, lr, c, epoch)\u001b[0m\n\u001b[0;32m      1\u001b[0m \u001b[1;32mdef\u001b[0m \u001b[0mfit\u001b[0m\u001b[1;33m(\u001b[0m\u001b[0mX\u001b[0m\u001b[1;33m,\u001b[0m\u001b[0my\u001b[0m\u001b[1;33m,\u001b[0m\u001b[0mlr\u001b[0m\u001b[1;33m,\u001b[0m\u001b[0mc\u001b[0m\u001b[1;33m,\u001b[0m\u001b[0mepoch\u001b[0m\u001b[1;33m)\u001b[0m\u001b[1;33m:\u001b[0m\u001b[1;33m\u001b[0m\u001b[1;33m\u001b[0m\u001b[0m\n\u001b[0;32m      2\u001b[0m     \u001b[0mn\u001b[0m\u001b[1;33m,\u001b[0m\u001b[0mm\u001b[0m \u001b[1;33m=\u001b[0m \u001b[0mX\u001b[0m\u001b[1;33m.\u001b[0m\u001b[0mshape\u001b[0m\u001b[1;33m\u001b[0m\u001b[1;33m\u001b[0m\u001b[0m\n\u001b[1;32m----> 3\u001b[1;33m     \u001b[0m_\u001b[0m\u001b[1;33m,\u001b[0m\u001b[0mc\u001b[0m \u001b[1;33m=\u001b[0m \u001b[0my\u001b[0m\u001b[1;33m.\u001b[0m\u001b[0mshape\u001b[0m\u001b[1;33m\u001b[0m\u001b[1;33m\u001b[0m\u001b[0m\n\u001b[0m\u001b[0;32m      4\u001b[0m     \u001b[0mw\u001b[0m \u001b[1;33m=\u001b[0m \u001b[0mnp\u001b[0m\u001b[1;33m.\u001b[0m\u001b[0mrandom\u001b[0m\u001b[1;33m.\u001b[0m\u001b[0mrandom\u001b[0m\u001b[1;33m(\u001b[0m\u001b[1;33m(\u001b[0m\u001b[0mm\u001b[0m\u001b[1;33m,\u001b[0m\u001b[0mc\u001b[0m\u001b[1;33m)\u001b[0m\u001b[1;33m)\u001b[0m\u001b[1;33m\u001b[0m\u001b[1;33m\u001b[0m\u001b[0m\n\u001b[0;32m      5\u001b[0m     \u001b[0mb\u001b[0m \u001b[1;33m=\u001b[0m \u001b[0mnp\u001b[0m\u001b[1;33m.\u001b[0m\u001b[0mrandom\u001b[0m\u001b[1;33m.\u001b[0m\u001b[0mrandom\u001b[0m\u001b[1;33m(\u001b[0m\u001b[0mc\u001b[0m\u001b[1;33m)\u001b[0m\u001b[1;33m\u001b[0m\u001b[1;33m\u001b[0m\u001b[0m\n",
      "\u001b[1;31mValueError\u001b[0m: not enough values to unpack (expected 2, got 1)"
     ]
    }
   ],
   "source": [
    "w,b,l = fit(X=X_train,y=y_train,lr=0.9,c = 10,epoch=100)"
   ]
  },
  {
   "cell_type": "code",
   "execution_count": null,
   "id": "5b4836d6",
   "metadata": {},
   "outputs": [],
   "source": []
  }
 ],
 "metadata": {
  "kernelspec": {
   "display_name": "Python 3 (ipykernel)",
   "language": "python",
   "name": "python3"
  },
  "language_info": {
   "codemirror_mode": {
    "name": "ipython",
    "version": 3
   },
   "file_extension": ".py",
   "mimetype": "text/x-python",
   "name": "python",
   "nbconvert_exporter": "python",
   "pygments_lexer": "ipython3",
   "version": "3.9.7"
  }
 },
 "nbformat": 4,
 "nbformat_minor": 5
}
