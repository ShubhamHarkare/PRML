{
 "cells": [
  {
   "cell_type": "markdown",
   "metadata": {
    "id": "RMSG3AVIJms6"
   },
   "source": [
    "# Importing the libraries"
   ]
  },
  {
   "cell_type": "code",
   "execution_count": 1,
   "metadata": {
    "id": "jbSC8tp7xMNU"
   },
   "outputs": [],
   "source": [
    "import numpy as np\n",
    "import matplotlib.pyplot as plt\n",
    "from IPython.display import display,Math,Latex\n",
    "import seaborn as sns"
   ]
  },
  {
   "cell_type": "markdown",
   "metadata": {
    "id": "ujEAbksoIZpU"
   },
   "source": [
    "# One Hot Encoder"
   ]
  },
  {
   "cell_type": "code",
   "execution_count": 41,
   "metadata": {
    "id": "4ShJxuN1Icuo"
   },
   "outputs": [],
   "source": [
    "class LabelTransformer(object):\n",
    "\n",
    "  def __init__(self,n_classes:int = None):\n",
    "    self.n_classes= n_classes\n",
    "\n",
    "  @property\n",
    "  def n_classes(self):\n",
    "    return self.__n_classes\n",
    "\n",
    "  @n_classes.setter\n",
    "  def n_classes(self,K):\n",
    "    self.__n_classes = K\n",
    "    self.__encoder = None if K is None else np.eye(K)\n",
    "\n",
    "  @property\n",
    "  def encoder(self):\n",
    "    return self.__encoder\n",
    "\n",
    "  def encode(self,class_indices:np.ndarray):\n",
    "    if self.n_classes == None:\n",
    "      self.n_classes = np.max(class_indices) + 1\n",
    "    return self.encoder[class_indices]\n",
    "\n",
    "\n",
    "  def decode(self,onehoe:np.ndarray):\n",
    "    return np.argmax(onehot,axis = 1)\n"
   ]
  },
  {
   "cell_type": "markdown",
   "metadata": {},
   "source": [
    "# Class for One Hot Encoding \n",
    "**By Shubham Harkare**"
   ]
  },
  {
   "cell_type": "code",
   "execution_count": 33,
   "metadata": {},
   "outputs": [],
   "source": [
    "class OneHotEncoder():\n",
    "    def encode(self,X:np.ndarray)->np.ndarray:\n",
    "        encoder = np.zeros((X.shape[0],np.unique(X).shape[0]))\n",
    "        encoder[np.arange(encoder.shape[0]),X] = 1\n",
    "        return encoder\n",
    "    \n",
    "    def decode(self,onehot:np.ndarray)->np.ndarray:\n",
    "        return np.argmax(onehot,axis = 1)"
   ]
  },
  {
   "cell_type": "code",
   "execution_count": 28,
   "metadata": {},
   "outputs": [],
   "source": [
    "X = np.array([0,1,3,2])"
   ]
  },
  {
   "cell_type": "code",
   "execution_count": 29,
   "metadata": {},
   "outputs": [],
   "source": [
    "onehotenc = OneHotEncoder()"
   ]
  },
  {
   "cell_type": "code",
   "execution_count": 30,
   "metadata": {},
   "outputs": [],
   "source": [
    "ohc = onehotenc.encode(X)"
   ]
  },
  {
   "cell_type": "code",
   "execution_count": 31,
   "metadata": {},
   "outputs": [
    {
     "data": {
      "text/plain": [
       "array([[1., 0., 0., 0.],\n",
       "       [0., 1., 0., 0.],\n",
       "       [0., 0., 0., 1.],\n",
       "       [0., 0., 1., 0.]])"
      ]
     },
     "execution_count": 31,
     "metadata": {},
     "output_type": "execute_result"
    }
   ],
   "source": [
    "ohc"
   ]
  },
  {
   "cell_type": "code",
   "execution_count": 32,
   "metadata": {},
   "outputs": [
    {
     "data": {
      "text/plain": [
       "array([0, 1, 3, 2], dtype=int64)"
      ]
     },
     "execution_count": 32,
     "metadata": {},
     "output_type": "execute_result"
    }
   ],
   "source": [
    "onehotenc.decode(ohc)"
   ]
  },
  {
   "cell_type": "code",
   "execution_count": 23,
   "metadata": {},
   "outputs": [
    {
     "data": {
      "text/plain": [
       "array([0, 1, 2, 3])"
      ]
     },
     "execution_count": 23,
     "metadata": {},
     "output_type": "execute_result"
    }
   ],
   "source": [
    "np.arange(X.shape[0])"
   ]
  },
  {
   "cell_type": "code",
   "execution_count": 42,
   "metadata": {
    "colab": {
     "base_uri": "https://localhost:8080/"
    },
    "id": "33bpFzpLIcrk",
    "outputId": "7b25ca0b-8f8c-434d-c205-9be994b1331a"
   },
   "outputs": [
    {
     "data": {
      "text/plain": [
       "array([[0., 1.],\n",
       "       [1., 0.],\n",
       "       [0., 1.],\n",
       "       [1., 0.]])"
      ]
     },
     "execution_count": 42,
     "metadata": {},
     "output_type": "execute_result"
    }
   ],
   "source": [
    "binary_labels = LabelTransformer(2).encode(np.array([1,0,1,0]))\n",
    "binary_labels"
   ]
  },
  {
   "cell_type": "markdown",
   "metadata": {
    "id": "np37h6Ifx6SM"
   },
   "source": [
    "## Least square classification implementation"
   ]
  },
  {
   "cell_type": "markdown",
   "metadata": {
    "id": "Z0MRaYiTz6or"
   },
   "source": [
    "### **Training**\n",
    "\n",
    "1. We have ${X}$ of shape ${(n,m)}$ where **${n}$** is the number of rows and **${m}$** the number of features \n",
    "\n",
    "2. We have ${Y}$ of shape ${(n,k)}$ where **${n}$** is the number of rows and **${k}$** the number of lables"
   ]
  },
  {
   "cell_type": "markdown",
   "metadata": {
    "id": "lcSJgxTg0uIP"
   },
   "source": [
    "### Model\n",
    "\n",
    "$${Y_{n,k} = X_{n,m+1}W_{m+1,k}}$$"
   ]
  },
  {
   "cell_type": "markdown",
   "metadata": {
    "id": "_Z6XRFeK3jvN"
   },
   "source": [
    "### Loss Function\n",
    "\n",
    "$$ J(W) = (1/2)(XW-Y)^{T}(XW-Y)$$"
   ]
  },
  {
   "cell_type": "markdown",
   "metadata": {},
   "source": [
    "# Loss Function Class\n",
    "**Shubham Harkare**"
   ]
  },
  {
   "cell_type": "code",
   "execution_count": 34,
   "metadata": {
    "id": "Ns6Glstrza12"
   },
   "outputs": [],
   "source": [
    "class LeastSquareClassifier():\n",
    "    \n",
    "    def __init__(self):\n",
    "        self.t0 = 20\n",
    "        self.t1 = 100\n",
    "        \n",
    "    def predict(self,X:np.ndarray) -> np.ndarray:\n",
    "        assert X.shape[-1] == self.w.shape[0], f'{X.shape} and {w.shape} are not compatible'\n",
    "        return np.argmax(X @ self.w,axis=1)\n",
    "    \n",
    "    def predict_internal(self,X:np.ndarray) -> np.ndarray:\n",
    "        assert X.shape[-1] == self.w.shape[0], f'{X.shape} and {w.shape} are not compatible'\n",
    "        return X @ self.w\n",
    "    \n",
    "    def loss(self,X:np.ndarray,y:np.ndarray) -> float:\n",
    "        e = self.predict_internal(X) - y\n",
    "        return (1/2)*(np.transpose(e) @ e)\n",
    "    \n",
    "    def fit(self,X:np.ndarray,y:np.ndarray) -> np.ndarray:\n",
    "        self.w = np.linalg.inv(np.transpose(X)@X)@np.transpose(X)@y\n",
    "        return self.w\n",
    "        \n",
    "    \n",
    "    "
   ]
  },
  {
   "cell_type": "code",
   "execution_count": 38,
   "metadata": {},
   "outputs": [],
   "source": [
    "lsc = LeastSquareClassifier()\n",
    "X = np.array([[1,3,2,5],[1,9,4,7]])\n",
    "w = np.array([1,1,1,1])\n",
    "y = np.array([1,0])"
   ]
  },
  {
   "cell_type": "code",
   "execution_count": 39,
   "metadata": {},
   "outputs": [
    {
     "data": {
      "text/plain": [
       "array([1, 0])"
      ]
     },
     "execution_count": 39,
     "metadata": {},
     "output_type": "execute_result"
    }
   ],
   "source": [
    "y"
   ]
  },
  {
   "cell_type": "code",
   "execution_count": null,
   "metadata": {},
   "outputs": [],
   "source": []
  },
  {
   "cell_type": "code",
   "execution_count": null,
   "metadata": {},
   "outputs": [],
   "source": []
  },
  {
   "cell_type": "code",
   "execution_count": null,
   "metadata": {},
   "outputs": [],
   "source": []
  },
  {
   "cell_type": "markdown",
   "metadata": {
    "id": "MNQ7DUV883Ku"
   },
   "source": [
    "## Confusion Matrix ##"
   ]
  },
  {
   "cell_type": "code",
   "execution_count": 5,
   "metadata": {
    "id": "R_B34fFC8-0C"
   },
   "outputs": [],
   "source": [
    "def confusion_matrix(y_test,y_pred):\n",
    "  tp = np.where((y_test == 1) and (y_pred == 1),1,0).sum()\n",
    "  tn = np.where((y_test == 0) and (y_pred == 0),1,0).sum()\n",
    "  fp = np.where((y_test == 0) and (y_pred == 1),1,0).sum()\n",
    "  fn = np.where((y_test == 1) and (y_pred == 0),1,0).sum()\n",
    "\n",
    "  return np.array([\n",
    "                   [tp,fp],\n",
    "                   [fn,tn]\n",
    "\n",
    "  ])"
   ]
  },
  {
   "cell_type": "markdown",
   "metadata": {
    "id": "Fw_wKZmVJgrd"
   },
   "source": [
    "# Perceptron Algorithm"
   ]
  },
  {
   "cell_type": "markdown",
   "metadata": {
    "id": "vkSJbJ2FKSHr"
   },
   "source": [
    "## Training data\n",
    "\n",
    "1. Feature Matrix : ${X_{n,m+1}}$ includes the dummy feature ${x_0}$ which is set to 1\n",
    "2. Label vector: ${y_{n,1}}$\n",
    "\n",
    "\n",
    "Perceptron can only solve **binary classification** "
   ]
  },
  {
   "cell_type": "markdown",
   "metadata": {
    "id": "mQXCyLQ3K7hm"
   },
   "source": [
    "## Model\n",
    "\n",
    "$${h(w): y = sign(w^{T}phi(x)) }$$"
   ]
  },
  {
   "cell_type": "markdown",
   "metadata": {
    "id": "oqxTx5HDM8RL"
   },
   "source": [
    "# Polynomial Transformation"
   ]
  },
  {
   "cell_type": "code",
   "execution_count": null,
   "metadata": {
    "id": "chEqRp-F9Ydv"
   },
   "outputs": [],
   "source": []
  },
  {
   "cell_type": "markdown",
   "metadata": {
    "id": "gxQZnPxpNAll"
   },
   "source": [
    "# Perceptron class"
   ]
  },
  {
   "cell_type": "code",
   "execution_count": 7,
   "metadata": {
    "id": "fpBeUuANNLAI"
   },
   "outputs": [],
   "source": [
    "class Perceptron:\n",
    "  '''\n",
    "  It uses the following class variables:\n",
    "  w: To store the weight vectors\n",
    "  w_all : To store all the weight vectors\n",
    "  errors_all : To store all the error values\n",
    "  '''\n",
    "\n",
    "  def __init__(self):\n",
    "    return \n",
    "  \n",
    "  def predict(self,X:np.ndarray):\n",
    "    z = X @ self.w\n",
    "    return np.where(z>=0,1,-1)\n",
    "\n",
    "  def loss(self,X,y):\n",
    "    return np.sum(np.maximum(-1*self.predict(X)*y,np.zeros(y.shape[0])))\n",
    "\n",
    "  def train(self,X,y,epochs=10,lr=0.001):\n",
    "    self.w = np.zeros(X.shape[-1])\n",
    "    self.errors_all = []\n",
    "    self.w_all = []\n",
    "\n",
    "    for _ in range(epochs):\n",
    "      errors = 0\n",
    "      for x,target in zip(X,y):\n",
    "        self.w +=  lr * (target - self.predict(Xi))*xi\n",
    "        errors +=  (max(-1*self.predict(xi)*target,0))\n",
    "\n",
    "      self.errors_all.append(errors)\n",
    "      self.w_all.append(self.w)\n",
    "      print(\"w: \",self.w) \n",
    "      print(\"J(w): \",self.errors_all[-1] )\n",
    "\n",
    "\n"
   ]
  },
  {
   "cell_type": "code",
   "execution_count": 12,
   "metadata": {
    "id": "r7wNHIsB5WLN"
   },
   "outputs": [],
   "source": [
    "y_test = np.array([1,1,0,0])\n",
    "y_pred = np.array([1,0,0,0])"
   ]
  },
  {
   "cell_type": "code",
   "execution_count": 30,
   "metadata": {
    "colab": {
     "base_uri": "https://localhost:8080/"
    },
    "id": "-Faso97z6mjF",
    "outputId": "bbee083e-71f3-4245-fe43-8e75e1c14b7b"
   },
   "outputs": [
    {
     "data": {
      "text/plain": [
       "2"
      ]
     },
     "execution_count": 30,
     "metadata": {},
     "output_type": "execute_result"
    }
   ],
   "source": []
  },
  {
   "cell_type": "code",
   "execution_count": 33,
   "metadata": {
    "id": "pM7Yo8Sl6rCL"
   },
   "outputs": [],
   "source": [
    "y = np.random.randint(0,2,236)"
   ]
  },
  {
   "cell_type": "code",
   "execution_count": 37,
   "metadata": {
    "colab": {
     "base_uri": "https://localhost:8080/"
    },
    "id": "EfTH7I367CJk",
    "outputId": "0133a30e-f350-4efa-f5cc-8bf3ef3b7db2"
   },
   "outputs": [
    {
     "data": {
      "text/plain": [
       "{0, 1}"
      ]
     },
     "execution_count": 37,
     "metadata": {},
     "output_type": "execute_result"
    }
   ],
   "source": [
    "set(y)"
   ]
  },
  {
   "cell_type": "code",
   "execution_count": null,
   "metadata": {
    "id": "1zxs43iz8sMd"
   },
   "outputs": [],
   "source": []
  }
 ],
 "metadata": {
  "colab": {
   "collapsed_sections": [],
   "name": "least_square_classification.ipynb",
   "provenance": []
  },
  "kernelspec": {
   "display_name": "Python 3 (ipykernel)",
   "language": "python",
   "name": "python3"
  },
  "language_info": {
   "codemirror_mode": {
    "name": "ipython",
    "version": 3
   },
   "file_extension": ".py",
   "mimetype": "text/x-python",
   "name": "python",
   "nbconvert_exporter": "python",
   "pygments_lexer": "ipython3",
   "version": "3.9.7"
  }
 },
 "nbformat": 4,
 "nbformat_minor": 4
}
