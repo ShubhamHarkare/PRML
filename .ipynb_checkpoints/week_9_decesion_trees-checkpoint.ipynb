{
 "cells": [
  {
   "cell_type": "code",
   "execution_count": 1,
   "id": "70ae8747",
   "metadata": {},
   "outputs": [],
   "source": [
    "import numpy as np\n",
    "import pandas as pd"
   ]
  },
  {
   "cell_type": "code",
   "execution_count": 2,
   "id": "52a7c764",
   "metadata": {},
   "outputs": [
    {
     "data": {
      "text/plain": [
       "2.220446049250313e-16"
      ]
     },
     "execution_count": 2,
     "metadata": {},
     "output_type": "execute_result"
    }
   ],
   "source": [
    "eps = np.finfo(float).eps\n",
    "eps"
   ]
  },
  {
   "cell_type": "markdown",
   "id": "70863883",
   "metadata": {},
   "source": [
    "Here eps is the smallest number At times when we gey log 0 we use eps"
   ]
  },
  {
   "cell_type": "code",
   "execution_count": 3,
   "id": "9f4eee5c",
   "metadata": {},
   "outputs": [],
   "source": [
    "df = pd.read_csv(\"play_tennis.csv\")"
   ]
  },
  {
   "cell_type": "code",
   "execution_count": 4,
   "id": "5912183f",
   "metadata": {},
   "outputs": [
    {
     "data": {
      "text/plain": [
       "array([['D1', 'Sunny', 'Hot', 'High', 'Weak', 'No'],\n",
       "       ['D2', 'Sunny', 'Hot', 'High', 'Strong', 'No'],\n",
       "       ['D3', 'Overcast', 'Hot', 'High', 'Weak', 'Yes'],\n",
       "       ['D4', 'Rain', 'Mild', 'High', 'Weak', 'Yes'],\n",
       "       ['D5', 'Rain', 'Cool', 'Normal', 'Weak', 'Yes'],\n",
       "       ['D6', 'Rain', 'Cool', 'Normal', 'Strong', 'No'],\n",
       "       ['D7', 'Overcast', 'Cool', 'Normal', 'Strong', 'Yes'],\n",
       "       ['D8', 'Sunny', 'Mild', 'High', 'Weak', 'No'],\n",
       "       ['D9', 'Sunny', 'Cool', 'Normal', 'Weak', 'Yes'],\n",
       "       ['D10', 'Rain', 'Mild', 'Normal', 'Weak', 'Yes'],\n",
       "       ['D11', 'Sunny', 'Mild', 'Normal', 'Strong', 'Yes'],\n",
       "       ['D12', 'Overcast', 'Mild', 'High', 'Strong', 'Yes'],\n",
       "       ['D13', 'Overcast', 'Hot', 'Normal', 'Weak', 'Yes'],\n",
       "       ['D14', 'Rain', 'Mild', 'High', 'Strong', 'No']], dtype=object)"
      ]
     },
     "execution_count": 4,
     "metadata": {},
     "output_type": "execute_result"
    }
   ],
   "source": [
    "df.values"
   ]
  },
  {
   "cell_type": "code",
   "execution_count": 5,
   "id": "edf1d8e0",
   "metadata": {},
   "outputs": [
    {
     "data": {
      "text/plain": [
       "Index(['day', 'outlook', 'temp', 'humidity', 'wind', 'play'], dtype='object')"
      ]
     },
     "execution_count": 5,
     "metadata": {},
     "output_type": "execute_result"
    }
   ],
   "source": [
    "df.keys()"
   ]
  },
  {
   "cell_type": "code",
   "execution_count": 6,
   "id": "1f3f8bdb",
   "metadata": {},
   "outputs": [
    {
     "data": {
      "text/plain": [
       "'play'"
      ]
     },
     "execution_count": 6,
     "metadata": {},
     "output_type": "execute_result"
    }
   ],
   "source": [
    "target = df.keys()[-1]\n",
    "target"
   ]
  },
  {
   "cell_type": "code",
   "execution_count": 8,
   "id": "36c992bc",
   "metadata": {},
   "outputs": [
    {
     "data": {
      "text/plain": [
       "Index(['day', 'outlook', 'temp', 'humidity', 'wind'], dtype='object')"
      ]
     },
     "execution_count": 8,
     "metadata": {},
     "output_type": "execute_result"
    }
   ],
   "source": [
    "df.keys()[:-1]"
   ]
  },
  {
   "cell_type": "code",
   "execution_count": 9,
   "id": "cf65e590",
   "metadata": {},
   "outputs": [
    {
     "data": {
      "text/plain": [
       "array(['No', 'Yes'], dtype=object)"
      ]
     },
     "execution_count": 9,
     "metadata": {},
     "output_type": "execute_result"
    }
   ],
   "source": [
    "df[target].unique()"
   ]
  },
  {
   "cell_type": "code",
   "execution_count": 10,
   "id": "be3aa300",
   "metadata": {},
   "outputs": [
    {
     "data": {
      "text/plain": [
       "Yes    9\n",
       "No     5\n",
       "Name: play, dtype: int64"
      ]
     },
     "execution_count": 10,
     "metadata": {},
     "output_type": "execute_result"
    }
   ],
   "source": [
    "df[target].value_counts()"
   ]
  },
  {
   "cell_type": "markdown",
   "id": "5bc692c7",
   "metadata": {},
   "source": [
    "# Function to calculate entropy"
   ]
  },
  {
   "cell_type": "code",
   "execution_count": 29,
   "id": "979bed4d",
   "metadata": {},
   "outputs": [],
   "source": [
    "def find_entropy_whole(df):\n",
    "    target = df.keys()[-1]\n",
    "    \n",
    "    overall_entropy = 0\n",
    "    \n",
    "    values_in_target,count_of_values = np.unique(df[target],return_counts=True)\n",
    "    \n",
    "    probabilites_of_values = count_of_values/np.sum(count_of_values)\n",
    "    \n",
    "    return -1*np.sum(probabilites_of_values*np.log2(probabilites_of_values))"
   ]
  },
  {
   "cell_type": "code",
   "execution_count": 30,
   "id": "be6206b6",
   "metadata": {},
   "outputs": [
    {
     "data": {
      "text/plain": [
       "0.9402859586706311"
      ]
     },
     "execution_count": 30,
     "metadata": {},
     "output_type": "execute_result"
    }
   ],
   "source": [
    "find_entropy_whole(df)"
   ]
  },
  {
   "cell_type": "markdown",
   "id": "e5e3d4bf",
   "metadata": {},
   "source": [
    "# Calculating entropy of each attribute"
   ]
  },
  {
   "cell_type": "code",
   "execution_count": 55,
   "id": "1d44757d",
   "metadata": {},
   "outputs": [],
   "source": [
    "def find_entropy_of_attribute(df,attribute):\n",
    "    target = df.keys()[-1]\n",
    "    \n",
    "    values_in_target = np.unique(df[target])\n",
    "    \n",
    "    values_in_attribute = np.unique(df[target])\n",
    "    \n",
    "    entropy_attribute = 0\n",
    "    \n",
    "    for value_in_attribute in values_in_attribute:\n",
    "        overall_entropy = 0\n",
    "        for value_in_target in values_in_target:\n",
    "            \n",
    "            num = len(df[attribute][df[attribute]==value_in_attribute][df[target]==value_in_target])\n",
    "            den = len(df[attribute][df[attribute]==value_in_attribute])\n",
    "            \n",
    "            p = num/(den+eps)\n",
    "            overall_entropy += -p*np.log2(p+eps)\n",
    "        p2 = den/len(df)\n",
    "        entropy_attribute += -p2*overall_entropy\n",
    "        \n",
    "        return abs(entropy_attribute)"
   ]
  },
  {
   "cell_type": "code",
   "execution_count": 56,
   "id": "b71f5aa6",
   "metadata": {},
   "outputs": [
    {
     "data": {
      "text/plain": [
       "0.0"
      ]
     },
     "execution_count": 56,
     "metadata": {},
     "output_type": "execute_result"
    }
   ],
   "source": [
    "find_entropy_of_attribute(df,df.keys()[2])"
   ]
  },
  {
   "cell_type": "code",
   "execution_count": 127,
   "id": "658cf6aa",
   "metadata": {},
   "outputs": [],
   "source": [
    "def find_entropy_of_attribute(df,attribute):\n",
    "    target = df.keys()[-1]\n",
    "    overall_entropy = 0\n",
    "    entropy__attribute = 0\n",
    "    values_in_target = np.unique(df[target])\n",
    "    values_in_attribute = np.unique(df[attribute])\n",
    "    for value_in_attribute in values_in_attribute:\n",
    "        for value_in_target in values_in_target:\n",
    "            \n",
    "            numerator = len(df[df[attribute] == value_in_attribute][df[target]==value_in_target])\n",
    "            denominator = len(df[df[attribute]==value_in_attribute])\n",
    "            \n",
    "            p = numerator/(denominator+eps)\n",
    "            \n",
    "            overall_entropy += -p*np.log2(p)\n",
    "            \n",
    "            print(f'{value_in_attribute},{value_in_target},{numerator}/{denominator},{p}')\n",
    "        p2 = denominator/len(df)\n",
    "        \n",
    "        entropy_attribute = p2*overall_entropy\n",
    "        \n",
    "            \n",
    "        print(f'{denominator}/{len(df)}')\n",
    "    return entropy__attribute"
   ]
  },
  {
   "cell_type": "code",
   "execution_count": 128,
   "id": "4b9f12e9",
   "metadata": {},
   "outputs": [
    {
     "name": "stdout",
     "output_type": "stream",
     "text": [
      "Cool,No,1/4,0.25\n",
      "Cool,Yes,3/4,0.75\n",
      "4/14\n",
      "Hot,No,2/4,0.5\n",
      "Hot,Yes,2/4,0.5\n",
      "4/14\n",
      "Mild,No,2/6,0.3333333333333333\n",
      "Mild,Yes,4/6,0.6666666666666666\n",
      "6/14\n"
     ]
    },
    {
     "name": "stderr",
     "output_type": "stream",
     "text": [
      "C:\\Users\\user\\AppData\\Local\\Temp/ipykernel_9200/198172720.py:10: UserWarning: Boolean Series key will be reindexed to match DataFrame index.\n",
      "  numerator = len(df[df[attribute] == value_in_attribute][df[target]==value_in_target])\n"
     ]
    },
    {
     "data": {
      "text/plain": [
       "0"
      ]
     },
     "execution_count": 128,
     "metadata": {},
     "output_type": "execute_result"
    }
   ],
   "source": [
    "find_entropy_of_attribute(df,df.keys()[2])"
   ]
  },
  {
   "cell_type": "code",
   "execution_count": 61,
   "id": "a5f9de7d",
   "metadata": {},
   "outputs": [
    {
     "data": {
      "text/plain": [
       "2     Yes\n",
       "6     Yes\n",
       "11    Yes\n",
       "12    Yes\n",
       "Name: play, dtype: object"
      ]
     },
     "execution_count": 61,
     "metadata": {},
     "output_type": "execute_result"
    }
   ],
   "source": [
    "df.play[df.outlook=='Overcast']"
   ]
  },
  {
   "cell_type": "code",
   "execution_count": 72,
   "id": "e3ab51a7",
   "metadata": {},
   "outputs": [
    {
     "data": {
      "text/plain": [
       "2     Yes\n",
       "6     Yes\n",
       "11    Yes\n",
       "12    Yes\n",
       "Name: play, dtype: object"
      ]
     },
     "execution_count": 72,
     "metadata": {},
     "output_type": "execute_result"
    }
   ],
   "source": [
    "df[df.outlook=='Overcast'].play"
   ]
  },
  {
   "cell_type": "code",
   "execution_count": null,
   "id": "bf20a607",
   "metadata": {},
   "outputs": [],
   "source": []
  }
 ],
 "metadata": {
  "kernelspec": {
   "display_name": "Python 3 (ipykernel)",
   "language": "python",
   "name": "python3"
  },
  "language_info": {
   "codemirror_mode": {
    "name": "ipython",
    "version": 3
   },
   "file_extension": ".py",
   "mimetype": "text/x-python",
   "name": "python",
   "nbconvert_exporter": "python",
   "pygments_lexer": "ipython3",
   "version": "3.9.7"
  }
 },
 "nbformat": 4,
 "nbformat_minor": 5
}
