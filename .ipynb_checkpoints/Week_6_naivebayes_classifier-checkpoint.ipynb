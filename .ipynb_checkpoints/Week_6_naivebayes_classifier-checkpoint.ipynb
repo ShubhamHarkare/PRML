{
 "cells": [
  {
   "cell_type": "code",
   "execution_count": 1,
   "id": "958d5bb2-4af6-4387-998b-785bfe17deb5",
   "metadata": {},
   "outputs": [],
   "source": [
    "import numpy as np"
   ]
  },
  {
   "cell_type": "markdown",
   "id": "5fb5fb6e-5fa3-4e20-967c-b86484d681df",
   "metadata": {
    "tags": []
   },
   "source": [
    "# Naive Bayes Classifier\n",
    "\n",
    "It is a generative classifier\n",
    "It **estimates probability** of a sample belonging to a class using **Bayes theorm**\n",
    "\n",
    "### $$ posterior = \\frac{prior\\times likelihood}{evidence} $$\n",
    "\n",
    "It simplifies the **likelihood** calculation using **conditional independance assumption** \n",
    "\n",
    "### $$ p(y|x) = \\frac{p(y)p(x|y)}{p(x)}$$\n",
    "\n",
    "### $$ p(x|y) = p(x_{1},x_{2},....,x_{1}|y)$$\n",
    "### $$        = \\prod_{i=1}^j p(x_{j}|y) $$\n",
    "\n",
    "## Bayes theorm formula\n",
    "### $$ p(y = y_{c}|\\mathbf{x}) = \\frac{p(y_{c})\\prod_{i=1}^j p(x_{j}|y_{c})}{\\sum_{r=1}^{k} \\prod_{i=1}^j p(x_{j}|y_{r})}$$\n",
    "\n",
    "The denominator is fixed for all the values of labels and acts as a normalizing constant"
   ]
  },
  {
   "cell_type": "markdown",
   "id": "99a2f28d-f7b4-4657-bed9-21964a3de2a7",
   "metadata": {},
   "source": [
    "# Bernaulli Naive Bayes"
   ]
  },
  {
   "cell_type": "code",
   "execution_count": 2,
   "id": "8e0c1487-67c7-4370-9dbc-f73e9644f5f2",
   "metadata": {},
   "outputs": [],
   "source": [
    "def fit(x,y):\n",
    "    n_samples,n_features = X.shape\n",
    "    class_count = np.unique(y)\n",
    "    n_classes = len(class_count)\n",
    "    \n",
    "    #Initialize the weight vector\n",
    "    w = np.zeros((n_classes,n_features),dtype=np.float64)\n",
    "    w_priors = np.zeros(n_classes,dtype = np.float64)\n",
    "    \n",
    "    for c in range(n_classes): #processing examples from each class seperately\n",
    "        #get examples with label = c\n",
    "        X_c = x[y==c]\n",
    "        \n",
    "        #estimation of w_{jy_{c}}\n",
    "        w[c,:] = np.sum(X_c,axis = 0)/X_c.shape[0]\n",
    "        \n",
    "        w_priors[c] = X_c.shape[0]/float(n_samples)\n",
    "        \n",
    "    print(\"Weight vector\" , w)\n",
    "    print(\"Prior \", w_priors)\n",
    "    return w,w_priors\n",
    "        "
   ]
  },
  {
   "cell_type": "code",
   "execution_count": 3,
   "id": "1239b0df-6207-4313-a790-16c177c86ba5",
   "metadata": {},
   "outputs": [
    {
     "name": "stdout",
     "output_type": "stream",
     "text": [
      "Weight vector [[0. 1.]\n",
      " [1. 0.]]\n",
      "Prior  [0.5 0.5]\n"
     ]
    },
    {
     "data": {
      "text/plain": [
       "(array([[0., 1.],\n",
       "        [1., 0.]]),\n",
       " array([0.5, 0.5]))"
      ]
     },
     "execution_count": 3,
     "metadata": {},
     "output_type": "execute_result"
    }
   ],
   "source": [
    "X = np.array([[1,0],[0,1],[0,1],[1,0]])\n",
    "y = np.array([1,0,0,1])\n",
    "\n",
    "fit(X,y)"
   ]
  },
  {
   "cell_type": "markdown",
   "id": "88cc0c9f-8fc3-4ba1-9341-7c203d19594c",
   "metadata": {
    "tags": []
   },
   "source": [
    "# Step by step process"
   ]
  },
  {
   "cell_type": "markdown",
   "id": "8a18d053-8bb5-4ddc-b28c-2afb51a6944c",
   "metadata": {},
   "source": [
    "**STEP-1** : filter examples from one class say c=1"
   ]
  },
  {
   "cell_type": "code",
   "execution_count": 4,
   "id": "112f3ac0-61e2-4477-b456-2f977cbf8c8c",
   "metadata": {},
   "outputs": [
    {
     "data": {
      "text/plain": [
       "array([[1, 0],\n",
       "       [1, 0]])"
      ]
     },
     "execution_count": 4,
     "metadata": {},
     "output_type": "execute_result"
    }
   ],
   "source": [
    "X_c = X[y == 1]\n",
    "X_c"
   ]
  },
  {
   "cell_type": "markdown",
   "id": "295de8b6-cc29-42f4-8b9b-81f93512b501",
   "metadata": {},
   "source": [
    "**STEP-2** Feature wise sum"
   ]
  },
  {
   "cell_type": "code",
   "execution_count": 5,
   "id": "e388fd8b-644d-44be-a753-11121af73c5c",
   "metadata": {},
   "outputs": [
    {
     "data": {
      "text/plain": [
       "array([2, 0])"
      ]
     },
     "execution_count": 5,
     "metadata": {},
     "output_type": "execute_result"
    }
   ],
   "source": [
    "np.sum(X_c,axis=0)"
   ]
  },
  {
   "cell_type": "markdown",
   "id": "f7baac64-da6c-4d80-9f58-97afe55bcf08",
   "metadata": {},
   "source": [
    "**STEP-3** Dividing by class count"
   ]
  },
  {
   "cell_type": "code",
   "execution_count": 6,
   "id": "4c146468-2bc3-4e26-b1b6-9c643031a6d0",
   "metadata": {},
   "outputs": [
    {
     "data": {
      "text/plain": [
       "array([1., 0.])"
      ]
     },
     "execution_count": 6,
     "metadata": {},
     "output_type": "execute_result"
    }
   ],
   "source": [
    "w = np.sum(X_c,axis=0)/X_c.shape[0]\n",
    "w"
   ]
  },
  {
   "cell_type": "code",
   "execution_count": 7,
   "id": "f5649dc0-e6d7-4df2-a80c-2b3728d945d0",
   "metadata": {},
   "outputs": [],
   "source": [
    "z = np.array([[1,2],[3,4]])"
   ]
  },
  {
   "cell_type": "markdown",
   "id": "952309fc-d41a-4d90-a3b1-c16c0deac304",
   "metadata": {},
   "source": [
    "# Implementation"
   ]
  },
  {
   "cell_type": "markdown",
   "id": "9c52c83e-7dae-42ad-b860-bb8cce8feb9e",
   "metadata": {},
   "source": [
    "### $$y = argmax_{y}Xlogw^{T} + (1-X)log(1- w^{T}) + log w_{prior}$$"
   ]
  },
  {
   "cell_type": "code",
   "execution_count": 8,
   "id": "c9c63539-b542-4d22-9687-6d76578f7a63",
   "metadata": {},
   "outputs": [],
   "source": [
    "class BernoulliNB():\n",
    "    def __init__(self,alpha = 1.0):\n",
    "        self.alpha = alpha\n",
    "        \n",
    "    def fit(self,X:np.ndarray,y:np.ndarray):\n",
    "        n_samples,n_features = X.shape\n",
    "        class_count = np.unique(y)\n",
    "        n_classes = len(class_count)\n",
    "        \n",
    "        self.w = np.zeros((n_classes,n_features),dtype = np.float64)\n",
    "        self.w_prior = np.zeros(n_classes,dtype = np.float64)\n",
    "        for c in range(n_classes):\n",
    "            X_c = X[y == c]\n",
    "            self.w[c,:] = (np.sum(X_c,axis=0) + self.alpha)/(X_c.shape[0] + 2*self.alpha)\n",
    "            self.w_prior[c] = (X_c.shape[0] +self.alpha)/(float(n_samples) + 2*self.alpha)\n",
    "            \n",
    "        print(\"Class conditional density: \",self.w)\n",
    "        print(\"Prior: \",self.w_prior)\n",
    "        \n",
    "        \n",
    "    def log_likelihood(self,X:np.ndarray):\n",
    "        return X@np.log(np.transpose(self.w)) + (1-X)@np.log(1 - np.transpose(self.w)) + np.log(self.w_prior)\n",
    "    \n",
    "    def predict_proba(self,x:np.ndarray):\n",
    "        q = self.log_likelihood(X)\n",
    "        return np.exp(q)/np.expand_dims(np.sum(np.exp(q),axis = 1),axis = 1)\n",
    "    \n",
    "    def predict(self,X:np.ndarray):\n",
    "        return np.argmax(self.log_likelihood(X),axis = 1)\n",
    "    \n",
    "        "
   ]
  },
  {
   "cell_type": "code",
   "execution_count": 9,
   "id": "fba80d34-361a-4a97-894e-fd1c8014a8ad",
   "metadata": {},
   "outputs": [
    {
     "name": "stdout",
     "output_type": "stream",
     "text": [
      "Class conditional density:  [[0.25 0.75]\n",
      " [0.75 0.25]]\n",
      "Prior:  [0.5 0.5]\n"
     ]
    }
   ],
   "source": [
    "bernoulli_nb = BernoulliNB()\n",
    "bernoulli_nb.fit(X,y)"
   ]
  },
  {
   "cell_type": "code",
   "execution_count": 10,
   "id": "6f01d473-f4cf-48d1-b103-2f2c1bd8d72c",
   "metadata": {},
   "outputs": [
    {
     "data": {
      "text/plain": [
       "array([1, 0, 0, 1], dtype=int64)"
      ]
     },
     "execution_count": 10,
     "metadata": {},
     "output_type": "execute_result"
    }
   ],
   "source": [
    "bernoulli_nb.predict(X)"
   ]
  },
  {
   "cell_type": "code",
   "execution_count": 11,
   "id": "46c541b3-1c84-46d8-bd28-87884efb1808",
   "metadata": {},
   "outputs": [
    {
     "data": {
      "text/plain": [
       "array([[-3.4657359 , -1.26851133],\n",
       "       [-1.26851133, -3.4657359 ],\n",
       "       [-1.26851133, -3.4657359 ],\n",
       "       [-3.4657359 , -1.26851133]])"
      ]
     },
     "execution_count": 11,
     "metadata": {},
     "output_type": "execute_result"
    }
   ],
   "source": [
    "bernoulli_nb.log_likelihood(X)"
   ]
  },
  {
   "cell_type": "code",
   "execution_count": 12,
   "id": "cb0b2cd2-56b3-4f81-a461-b36c1efcf8e1",
   "metadata": {},
   "outputs": [
    {
     "data": {
      "text/plain": [
       "array([[0.1, 0.9],\n",
       "       [0.9, 0.1],\n",
       "       [0.9, 0.1],\n",
       "       [0.1, 0.9]])"
      ]
     },
     "execution_count": 12,
     "metadata": {},
     "output_type": "execute_result"
    }
   ],
   "source": [
    "bernoulli_nb.predict_proba(X)"
   ]
  },
  {
   "cell_type": "markdown",
   "id": "d857b3e0",
   "metadata": {},
   "source": [
    "# Gaussain NB Implementation"
   ]
  },
  {
   "cell_type": "markdown",
   "id": "1df62d90",
   "metadata": {},
   "source": [
    "Here the features have real and continous values and we assume **each feature given label vector comes from gaussian distribution**"
   ]
  },
  {
   "cell_type": "markdown",
   "id": "5c11f887",
   "metadata": {},
   "source": [
    "$$x_{j}|y_{r} \\sim \\mathcal{N}(\\mu,\\,\\sigma^{2})\\$$"
   ]
  },
  {
   "cell_type": "markdown",
   "id": "c955a955",
   "metadata": {},
   "source": [
    "There are two parameters for gaussain distributions\n",
    "1. Mean($\\mu$)\n",
    "2. Variance($\\sigma^{2}$)\n",
    "\n",
    "\n",
    "Since there are k classes and m features the number of Gaussian Distributions are $k{\\times}m$\n",
    "and since we have two parameters(mean and variance) the total number of parameters = $2 {\\times} k {\\times} m$"
   ]
  },
  {
   "cell_type": "markdown",
   "id": "da2d8f49",
   "metadata": {},
   "source": [
    "# Implementation"
   ]
  },
  {
   "cell_type": "code",
   "execution_count": 35,
   "id": "b030e2f8",
   "metadata": {},
   "outputs": [
    {
     "name": "stderr",
     "output_type": "stream",
     "text": [
      "<>:36: SyntaxWarning: 'float' object is not callable; perhaps you missed a comma?\n",
      "<>:36: SyntaxWarning: 'float' object is not callable; perhaps you missed a comma?\n",
      "C:\\Users\\user\\AppData\\Local\\Temp/ipykernel_2768/1790130442.py:36: SyntaxWarning: 'float' object is not callable; perhaps you missed a comma?\n",
      "  return (1/z)*np.exp(-(1/2)(X - mean).T@(np.linalg.inv(var))@(X - mean))\n"
     ]
    }
   ],
   "source": [
    "class GaussainNB():\n",
    "        \n",
    "        \n",
    "    def fit(self,X,y):\n",
    "        n_samples,n_features = X.shape\n",
    "        self._classes = np.unique(y)\n",
    "        class_count = len(self._classes)\n",
    "        \n",
    "        #Calculating mean,variance and prior for each class\n",
    "        self._mean = np.zeros((class_count,n_features),dtype = np.float64)\n",
    "        self._variance = np.zeros((class_count,n_features),dtype = np.float64)\n",
    "        self._priors = np.zeros(class_count,dtype = np.float64)\n",
    "        \n",
    "        for idx,c in enumerate(self._classes):\n",
    "            # Getting features where y == c \n",
    "            X_c = X[y==c]\n",
    "            \n",
    "            #Estimating the mean from the training data\n",
    "            self._mean[idx,:] = X_c.mean(axis = 0)\n",
    "            \n",
    "            #Estimating the variance from the training data\n",
    "            self._variance[idx,:] = X_c.var(axis = 0)\n",
    "            \n",
    "            #Estimating the priors\n",
    "            self._priors[idx] = X_c.shape[0]/float(n_samples)\n",
    "\n",
    "        print(\"Mean: \",self._mean)\n",
    "        print(\"Variance: \",self._variance)\n",
    "        print(\"Priors: \",self._priors)\n",
    "        \n",
    "        \n",
    "    def calc_pdf(self,class_idx,X):\n",
    "        mean = self._mean[class_idx]\n",
    "        var = np.diag(self._variance[class_idx])\n",
    "        z = np.power(2*np.pi,X.shape[0]) * np.power(np.linalg.det(var),1/2)\n",
    "        return (1/z)*np.exp(-(1/2)(X - mean).T@(np.linalg.inv(var))@(X - mean))\n",
    "    \n",
    "    def calc_prod_likelihood(self,X):\n",
    "        self._prod_likelihood = np.zeros((X.shape[0],len(self._classes)),dtype=np.float64)\n",
    "        \n",
    "        for x_idx,x in enumerate(X):\n",
    "            for idx,x in enumerate(self._classes):\n",
    "                self._prod_likelihood[idx,c] = (np.log(self.calc_pdf(idx,x) + np.log(self._priors[idx])))\n",
    "                \n",
    "        \n",
    "    def predict(self,X):\n",
    "        self.calc_prod_likelihood(X)\n",
    "        return np.argmax(self._prod_likelihood,axis = 1)\n",
    "    \n",
    "    def predict_proba(self,X):\n",
    "        self.calc_prod_likelihood(X)\n",
    "        return np.exp(self._prod_likelihood)/np.expand_dims(np.sum(np.exp(self._prod_likelihood),axis= 1),axis = 1)\n",
    "        \n",
    "        "
   ]
  },
  {
   "cell_type": "markdown",
   "id": "0478416c",
   "metadata": {},
   "source": [
    "# Demo"
   ]
  },
  {
   "cell_type": "markdown",
   "id": "7acdbc30",
   "metadata": {},
   "source": [
    "**STEP-1**: Generate training data for two multivariate classes one for mean[5,5] and other for [10,10] and standarad deviation of 1.5 each"
   ]
  },
  {
   "cell_type": "code",
   "execution_count": 36,
   "id": "eec0a157",
   "metadata": {},
   "outputs": [],
   "source": [
    "from sklearn.datasets import make_classification,make_blobs\n",
    "from sklearn.model_selection import train_test_split\n",
    "\n",
    "X, y = make_blobs(n_samples=100,n_features=2,centers=[[5,5],[10,10]],cluster_std=1.5,random_state=2)\n",
    "\n",
    "X_train,X_test,y_train,y_test = train_test_split(X,y,test_size=0.2,random_state=133)"
   ]
  },
  {
   "cell_type": "markdown",
   "id": "93d64216",
   "metadata": {},
   "source": [
    "**STEP-2**: Train the Naive Bayes model"
   ]
  },
  {
   "cell_type": "code",
   "execution_count": 37,
   "id": "9624cd45",
   "metadata": {},
   "outputs": [
    {
     "name": "stdout",
     "output_type": "stream",
     "text": [
      "Mean:  [[ 4.66641536  5.10890637]\n",
      " [10.02663851 10.05539582]]\n",
      "Variance:  [[2.33005865 2.8282074 ]\n",
      " [2.45169981 2.05961415]]\n",
      "Priors:  [0.525 0.475]\n"
     ]
    }
   ],
   "source": [
    "gaussian_nb = GaussainNB()\n",
    "gaussian_nb.fit(X_train,y_train)"
   ]
  },
  {
   "cell_type": "markdown",
   "id": "d918cb3d",
   "metadata": {},
   "source": [
    "**STEP-3**: Plot the distribuitions"
   ]
  },
  {
   "cell_type": "code",
   "execution_count": 39,
   "id": "9a589e7d",
   "metadata": {},
   "outputs": [
    {
     "data": {
      "image/png": "[encoded data removed]",
      "text/plain": [
       "<Figure size 432x288 with 1 Axes>"
      ]
     },
     "metadata": {
      "needs_background": "light"
     },
     "output_type": "display_data"
    }
   ],
   "source": [
    "import matplotlib.pyplot as plt\n",
    "import seaborn as sns\n",
    "\n",
    "fig,ax = plt.subplots()\n",
    "ax.scatter(X[:,0],X[:,1],c = y,s = 50,cmap=\"RdBu\")\n",
    "\n",
    "xlim = (min(X[:,0])-2,max(X[:,0]+2))\n",
    "ylim = (min(X[:,1])-2,max(X[:,1]+2))\n",
    "\n",
    "xg = np.linspace(xlim[0],xlim[1],60)\n",
    "yg = np.linspace(ylim[0],ylim[1],60)\n",
    "xx,yy = np.meshgrid(xg,yg)\n",
    "Xgrid = np.vstack([xx.ravel(),yy.ravel()])\n",
    "\n",
    "for label,color in enumerate(['red','blue']):\n",
    "    mask = (y == label)"
   ]
  },
  {
   "cell_type": "code",
   "execution_count": 40,
   "id": "77aff4a5",
   "metadata": {},
   "outputs": [
    {
     "ename": "IndexError",
     "evalue": "tuple index out of range",
     "output_type": "error",
     "traceback": [
      "\u001b[1;31m---------------------------------------------------------------------------\u001b[0m",
      "\u001b[1;31mIndexError\u001b[0m                                Traceback (most recent call last)",
      "\u001b[1;32m~\\AppData\\Local\\Temp/ipykernel_2768/4029814953.py\u001b[0m in \u001b[0;36m<module>\u001b[1;34m\u001b[0m\n\u001b[1;32m----> 1\u001b[1;33m \u001b[0mgaussian_nb\u001b[0m\u001b[1;33m.\u001b[0m\u001b[0mpredict\u001b[0m\u001b[1;33m(\u001b[0m\u001b[0mX_test\u001b[0m\u001b[1;33m)\u001b[0m\u001b[1;33m\u001b[0m\u001b[1;33m\u001b[0m\u001b[0m\n\u001b[0m",
      "\u001b[1;32m~\\AppData\\Local\\Temp/ipykernel_2768/1790130442.py\u001b[0m in \u001b[0;36mpredict\u001b[1;34m(self, X)\u001b[0m\n\u001b[0;32m     45\u001b[0m \u001b[1;33m\u001b[0m\u001b[0m\n\u001b[0;32m     46\u001b[0m     \u001b[1;32mdef\u001b[0m \u001b[0mpredict\u001b[0m\u001b[1;33m(\u001b[0m\u001b[0mself\u001b[0m\u001b[1;33m,\u001b[0m\u001b[0mX\u001b[0m\u001b[1;33m)\u001b[0m\u001b[1;33m:\u001b[0m\u001b[1;33m\u001b[0m\u001b[1;33m\u001b[0m\u001b[0m\n\u001b[1;32m---> 47\u001b[1;33m         \u001b[0mself\u001b[0m\u001b[1;33m.\u001b[0m\u001b[0mcalc_prod_likelihood\u001b[0m\u001b[1;33m(\u001b[0m\u001b[0mX\u001b[0m\u001b[1;33m)\u001b[0m\u001b[1;33m\u001b[0m\u001b[1;33m\u001b[0m\u001b[0m\n\u001b[0m\u001b[0;32m     48\u001b[0m         \u001b[1;32mreturn\u001b[0m \u001b[0mnp\u001b[0m\u001b[1;33m.\u001b[0m\u001b[0margmax\u001b[0m\u001b[1;33m(\u001b[0m\u001b[0mself\u001b[0m\u001b[1;33m.\u001b[0m\u001b[0m_prod_likelihood\u001b[0m\u001b[1;33m,\u001b[0m\u001b[0maxis\u001b[0m \u001b[1;33m=\u001b[0m \u001b[1;36m1\u001b[0m\u001b[1;33m)\u001b[0m\u001b[1;33m\u001b[0m\u001b[1;33m\u001b[0m\u001b[0m\n\u001b[0;32m     49\u001b[0m \u001b[1;33m\u001b[0m\u001b[0m\n",
      "\u001b[1;32m~\\AppData\\Local\\Temp/ipykernel_2768/1790130442.py\u001b[0m in \u001b[0;36mcalc_prod_likelihood\u001b[1;34m(self, X)\u001b[0m\n\u001b[0;32m     41\u001b[0m         \u001b[1;32mfor\u001b[0m \u001b[0mx_idx\u001b[0m\u001b[1;33m,\u001b[0m\u001b[0mx\u001b[0m \u001b[1;32min\u001b[0m \u001b[0menumerate\u001b[0m\u001b[1;33m(\u001b[0m\u001b[0mX\u001b[0m\u001b[1;33m)\u001b[0m\u001b[1;33m:\u001b[0m\u001b[1;33m\u001b[0m\u001b[1;33m\u001b[0m\u001b[0m\n\u001b[0;32m     42\u001b[0m             \u001b[1;32mfor\u001b[0m \u001b[0midx\u001b[0m\u001b[1;33m,\u001b[0m\u001b[0mx\u001b[0m \u001b[1;32min\u001b[0m \u001b[0menumerate\u001b[0m\u001b[1;33m(\u001b[0m\u001b[0mself\u001b[0m\u001b[1;33m.\u001b[0m\u001b[0m_classes\u001b[0m\u001b[1;33m)\u001b[0m\u001b[1;33m:\u001b[0m\u001b[1;33m\u001b[0m\u001b[1;33m\u001b[0m\u001b[0m\n\u001b[1;32m---> 43\u001b[1;33m                 \u001b[0mself\u001b[0m\u001b[1;33m.\u001b[0m\u001b[0m_prod_likelihood\u001b[0m\u001b[1;33m[\u001b[0m\u001b[0midx\u001b[0m\u001b[1;33m,\u001b[0m\u001b[0mc\u001b[0m\u001b[1;33m]\u001b[0m \u001b[1;33m=\u001b[0m \u001b[1;33m(\u001b[0m\u001b[0mnp\u001b[0m\u001b[1;33m.\u001b[0m\u001b[0mlog\u001b[0m\u001b[1;33m(\u001b[0m\u001b[0mself\u001b[0m\u001b[1;33m.\u001b[0m\u001b[0mcalc_pdf\u001b[0m\u001b[1;33m(\u001b[0m\u001b[0midx\u001b[0m\u001b[1;33m,\u001b[0m\u001b[0mx\u001b[0m\u001b[1;33m)\u001b[0m \u001b[1;33m+\u001b[0m \u001b[0mnp\u001b[0m\u001b[1;33m.\u001b[0m\u001b[0mlog\u001b[0m\u001b[1;33m(\u001b[0m\u001b[0mself\u001b[0m\u001b[1;33m.\u001b[0m\u001b[0m_priors\u001b[0m\u001b[1;33m[\u001b[0m\u001b[0midx\u001b[0m\u001b[1;33m]\u001b[0m\u001b[1;33m)\u001b[0m\u001b[1;33m)\u001b[0m\u001b[1;33m)\u001b[0m\u001b[1;33m\u001b[0m\u001b[1;33m\u001b[0m\u001b[0m\n\u001b[0m\u001b[0;32m     44\u001b[0m \u001b[1;33m\u001b[0m\u001b[0m\n\u001b[0;32m     45\u001b[0m \u001b[1;33m\u001b[0m\u001b[0m\n",
      "\u001b[1;32m~\\AppData\\Local\\Temp/ipykernel_2768/1790130442.py\u001b[0m in \u001b[0;36mcalc_pdf\u001b[1;34m(self, class_idx, X)\u001b[0m\n\u001b[0;32m     33\u001b[0m         \u001b[0mmean\u001b[0m \u001b[1;33m=\u001b[0m \u001b[0mself\u001b[0m\u001b[1;33m.\u001b[0m\u001b[0m_mean\u001b[0m\u001b[1;33m[\u001b[0m\u001b[0mclass_idx\u001b[0m\u001b[1;33m]\u001b[0m\u001b[1;33m\u001b[0m\u001b[1;33m\u001b[0m\u001b[0m\n\u001b[0;32m     34\u001b[0m         \u001b[0mvar\u001b[0m \u001b[1;33m=\u001b[0m \u001b[0mnp\u001b[0m\u001b[1;33m.\u001b[0m\u001b[0mdiag\u001b[0m\u001b[1;33m(\u001b[0m\u001b[0mself\u001b[0m\u001b[1;33m.\u001b[0m\u001b[0m_variance\u001b[0m\u001b[1;33m[\u001b[0m\u001b[0mclass_idx\u001b[0m\u001b[1;33m]\u001b[0m\u001b[1;33m)\u001b[0m\u001b[1;33m\u001b[0m\u001b[1;33m\u001b[0m\u001b[0m\n\u001b[1;32m---> 35\u001b[1;33m         \u001b[0mz\u001b[0m \u001b[1;33m=\u001b[0m \u001b[0mnp\u001b[0m\u001b[1;33m.\u001b[0m\u001b[0mpower\u001b[0m\u001b[1;33m(\u001b[0m\u001b[1;36m2\u001b[0m\u001b[1;33m*\u001b[0m\u001b[0mnp\u001b[0m\u001b[1;33m.\u001b[0m\u001b[0mpi\u001b[0m\u001b[1;33m,\u001b[0m\u001b[0mX\u001b[0m\u001b[1;33m.\u001b[0m\u001b[0mshape\u001b[0m\u001b[1;33m[\u001b[0m\u001b[1;36m0\u001b[0m\u001b[1;33m]\u001b[0m\u001b[1;33m)\u001b[0m \u001b[1;33m*\u001b[0m \u001b[0mnp\u001b[0m\u001b[1;33m.\u001b[0m\u001b[0mpower\u001b[0m\u001b[1;33m(\u001b[0m\u001b[0mnp\u001b[0m\u001b[1;33m.\u001b[0m\u001b[0mlinalg\u001b[0m\u001b[1;33m.\u001b[0m\u001b[0mdet\u001b[0m\u001b[1;33m(\u001b[0m\u001b[0mvar\u001b[0m\u001b[1;33m)\u001b[0m\u001b[1;33m,\u001b[0m\u001b[1;36m1\u001b[0m\u001b[1;33m/\u001b[0m\u001b[1;36m2\u001b[0m\u001b[1;33m)\u001b[0m\u001b[1;33m\u001b[0m\u001b[1;33m\u001b[0m\u001b[0m\n\u001b[0m\u001b[0;32m     36\u001b[0m         \u001b[1;32mreturn\u001b[0m \u001b[1;33m(\u001b[0m\u001b[1;36m1\u001b[0m\u001b[1;33m/\u001b[0m\u001b[0mz\u001b[0m\u001b[1;33m)\u001b[0m\u001b[1;33m*\u001b[0m\u001b[0mnp\u001b[0m\u001b[1;33m.\u001b[0m\u001b[0mexp\u001b[0m\u001b[1;33m(\u001b[0m\u001b[1;33m-\u001b[0m\u001b[1;33m(\u001b[0m\u001b[1;36m1\u001b[0m\u001b[1;33m/\u001b[0m\u001b[1;36m2\u001b[0m\u001b[1;33m)\u001b[0m\u001b[1;33m(\u001b[0m\u001b[0mX\u001b[0m \u001b[1;33m-\u001b[0m \u001b[0mmean\u001b[0m\u001b[1;33m)\u001b[0m\u001b[1;33m.\u001b[0m\u001b[0mT\u001b[0m\u001b[1;33m@\u001b[0m\u001b[1;33m(\u001b[0m\u001b[0mnp\u001b[0m\u001b[1;33m.\u001b[0m\u001b[0mlinalg\u001b[0m\u001b[1;33m.\u001b[0m\u001b[0minv\u001b[0m\u001b[1;33m(\u001b[0m\u001b[0mvar\u001b[0m\u001b[1;33m)\u001b[0m\u001b[1;33m)\u001b[0m\u001b[1;33m@\u001b[0m\u001b[1;33m(\u001b[0m\u001b[0mX\u001b[0m \u001b[1;33m-\u001b[0m \u001b[0mmean\u001b[0m\u001b[1;33m)\u001b[0m\u001b[1;33m)\u001b[0m\u001b[1;33m\u001b[0m\u001b[1;33m\u001b[0m\u001b[0m\n\u001b[0;32m     37\u001b[0m \u001b[1;33m\u001b[0m\u001b[0m\n",
      "\u001b[1;31mIndexError\u001b[0m: tuple index out of range"
     ]
    }
   ],
   "source": [
    "gaussian_nb.predict(X_test)"
   ]
  },
  {
   "cell_type": "markdown",
   "id": "d865c966",
   "metadata": {},
   "source": [
    "# Multinomial NB"
   ]
  },
  {
   "cell_type": "code",
   "execution_count": 46,
   "id": "b2e097ac",
   "metadata": {},
   "outputs": [],
   "source": [
    "class MultinomialNB():\n",
    "    def fit(self,X,y,alpha = 1.0):\n",
    "        n_samples,n_features = X.shape\n",
    "        self._classes = np.unique(y)\n",
    "        n_classes = len(self._classes)\n",
    "        \n",
    "        #Calculate parameters of k-multinomial distributions and priors\n",
    "        self.w = np.zeros((n_classes,n_features),dtype = np.float64)\n",
    "        self.w_priors = np.zeros(n_classes,dtype = np.float64)\n",
    "        \n",
    "        for idx,c in enumerate(self._classes):\n",
    "            X_c = X[y == c]\n",
    "            \n",
    "            total_count = np.sum(np.sum(X_c,axis = 1))\n",
    "            \n",
    "            self.w[idx,:] = (np.sum(X_c,axis = 1) + alpha)/(total_count + 2*alpha + n_features)\n",
    "            \n",
    "            self.w_priors[idx] = (X_c.shape[0] + alpha)/float(n_features+2*alpha +n_classes)\n",
    "            \n",
    "            \n",
    "    def log_likelihood_prior_prob(self,X):\n",
    "        return X@(np.log(self.w).T) + self.log(self.w_priors)\n",
    "    \n",
    "    def predict(self,X):\n",
    "        return np.argmax(self.log_likelihood_prior_prob(X),axis = 1)\n",
    "    \n",
    "    def predict_proba(self,X):\n",
    "        q = self.log_likelihood_prior_prob(X)\n",
    "        return np.exp(q)/np.expand_dims(np.sum(np.exp(q),axis = 1),axis = 1)\n",
    "            \n",
    "            "
   ]
  },
  {
   "cell_type": "code",
   "execution_count": 42,
   "id": "923bb079",
   "metadata": {},
   "outputs": [],
   "source": [
    "rng = np.random.RandomState(1)\n",
    "X = rng.randint(5,size = (1000,5))\n",
    "y = rng.randint(2,size = (1000,))"
   ]
  },
  {
   "cell_type": "code",
   "execution_count": 45,
   "id": "5ff228fe",
   "metadata": {},
   "outputs": [],
   "source": [
    "X_train,X_test,y_train,X_test = train_test_split(X,y,test_size=0.2)"
   ]
  },
  {
   "cell_type": "code",
   "execution_count": 47,
   "id": "129b857a",
   "metadata": {},
   "outputs": [],
   "source": [
    "multinomialNB = MultinomialNB()"
   ]
  },
  {
   "cell_type": "code",
   "execution_count": 48,
   "id": "b10b6050",
   "metadata": {},
   "outputs": [
    {
     "ename": "ValueError",
     "evalue": "could not broadcast input array from shape (371) into shape (5)",
     "output_type": "error",
     "traceback": [
      "\u001b[1;31m---------------------------------------------------------------------------\u001b[0m",
      "\u001b[1;31mValueError\u001b[0m                                Traceback (most recent call last)",
      "\u001b[1;32m~\\AppData\\Local\\Temp/ipykernel_2768/2995714969.py\u001b[0m in \u001b[0;36m<module>\u001b[1;34m\u001b[0m\n\u001b[1;32m----> 1\u001b[1;33m \u001b[0mmultinomialNB\u001b[0m\u001b[1;33m.\u001b[0m\u001b[0mfit\u001b[0m\u001b[1;33m(\u001b[0m\u001b[0mX_train\u001b[0m\u001b[1;33m,\u001b[0m\u001b[0my_train\u001b[0m\u001b[1;33m)\u001b[0m\u001b[1;33m\u001b[0m\u001b[1;33m\u001b[0m\u001b[0m\n\u001b[0m",
      "\u001b[1;32m~\\AppData\\Local\\Temp/ipykernel_2768/671731599.py\u001b[0m in \u001b[0;36mfit\u001b[1;34m(self, X, y, alpha)\u001b[0m\n\u001b[0;32m     14\u001b[0m             \u001b[0mtotal_count\u001b[0m \u001b[1;33m=\u001b[0m \u001b[0mnp\u001b[0m\u001b[1;33m.\u001b[0m\u001b[0msum\u001b[0m\u001b[1;33m(\u001b[0m\u001b[0mnp\u001b[0m\u001b[1;33m.\u001b[0m\u001b[0msum\u001b[0m\u001b[1;33m(\u001b[0m\u001b[0mX_c\u001b[0m\u001b[1;33m,\u001b[0m\u001b[0maxis\u001b[0m \u001b[1;33m=\u001b[0m \u001b[1;36m1\u001b[0m\u001b[1;33m)\u001b[0m\u001b[1;33m)\u001b[0m\u001b[1;33m\u001b[0m\u001b[1;33m\u001b[0m\u001b[0m\n\u001b[0;32m     15\u001b[0m \u001b[1;33m\u001b[0m\u001b[0m\n\u001b[1;32m---> 16\u001b[1;33m             \u001b[0mself\u001b[0m\u001b[1;33m.\u001b[0m\u001b[0mw\u001b[0m\u001b[1;33m[\u001b[0m\u001b[0midx\u001b[0m\u001b[1;33m,\u001b[0m\u001b[1;33m:\u001b[0m\u001b[1;33m]\u001b[0m \u001b[1;33m=\u001b[0m \u001b[1;33m(\u001b[0m\u001b[0mnp\u001b[0m\u001b[1;33m.\u001b[0m\u001b[0msum\u001b[0m\u001b[1;33m(\u001b[0m\u001b[0mX_c\u001b[0m\u001b[1;33m,\u001b[0m\u001b[0maxis\u001b[0m \u001b[1;33m=\u001b[0m \u001b[1;36m1\u001b[0m\u001b[1;33m)\u001b[0m \u001b[1;33m+\u001b[0m \u001b[0malpha\u001b[0m\u001b[1;33m)\u001b[0m\u001b[1;33m/\u001b[0m\u001b[1;33m(\u001b[0m\u001b[0mtotal_count\u001b[0m \u001b[1;33m+\u001b[0m \u001b[1;36m2\u001b[0m\u001b[1;33m*\u001b[0m\u001b[0malpha\u001b[0m \u001b[1;33m+\u001b[0m \u001b[0mn_features\u001b[0m\u001b[1;33m)\u001b[0m\u001b[1;33m\u001b[0m\u001b[1;33m\u001b[0m\u001b[0m\n\u001b[0m\u001b[0;32m     17\u001b[0m \u001b[1;33m\u001b[0m\u001b[0m\n\u001b[0;32m     18\u001b[0m             \u001b[0mself\u001b[0m\u001b[1;33m.\u001b[0m\u001b[0mw_priors\u001b[0m\u001b[1;33m[\u001b[0m\u001b[0midx\u001b[0m\u001b[1;33m]\u001b[0m \u001b[1;33m=\u001b[0m \u001b[1;33m(\u001b[0m\u001b[0mX_c\u001b[0m\u001b[1;33m.\u001b[0m\u001b[0mshape\u001b[0m\u001b[1;33m[\u001b[0m\u001b[1;36m0\u001b[0m\u001b[1;33m]\u001b[0m \u001b[1;33m+\u001b[0m \u001b[0malpha\u001b[0m\u001b[1;33m)\u001b[0m\u001b[1;33m/\u001b[0m\u001b[0mfloat\u001b[0m\u001b[1;33m(\u001b[0m\u001b[0mn_features\u001b[0m\u001b[1;33m+\u001b[0m\u001b[1;36m2\u001b[0m\u001b[1;33m*\u001b[0m\u001b[0malpha\u001b[0m \u001b[1;33m+\u001b[0m\u001b[0mn_classes\u001b[0m\u001b[1;33m)\u001b[0m\u001b[1;33m\u001b[0m\u001b[1;33m\u001b[0m\u001b[0m\n",
      "\u001b[1;31mValueError\u001b[0m: could not broadcast input array from shape (371) into shape (5)"
     ]
    }
   ],
   "source": [
    "multinomialNB.fit(X_train,y_train)"
   ]
  },
  {
   "cell_type": "code",
   "execution_count": null,
   "id": "9ec6d2d7",
   "metadata": {},
   "outputs": [],
   "source": []
  }
 ],
 "metadata": {
  "kernelspec": {
   "display_name": "Python 3 (ipykernel)",
   "language": "python",
   "name": "python3"
  },
  "language_info": {
   "codemirror_mode": {
    "name": "ipython",
    "version": 3
   },
   "file_extension": ".py",
   "mimetype": "text/x-python",
   "name": "python",
   "nbconvert_exporter": "python",
   "pygments_lexer": "ipython3",
   "version": "3.9.7"
  }
 },
 "nbformat": 4,
 "nbformat_minor": 5
}
