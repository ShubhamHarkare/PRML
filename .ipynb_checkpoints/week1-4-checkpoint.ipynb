{
 "cells": [
  {
   "cell_type": "markdown",
   "id": "bfe3a06b",
   "metadata": {},
   "source": [
    "Write a function named vec_addition(u,v) which takes two vectors u and v as input and returns their vector addition.\n",
    " \n",
    "  1. Inputs: u and v are two numerical numpy arrays. \n",
    "  2. Output: a vector representing sum of u and v, if they have consistent shapes, None otherwise."
   ]
  },
  {
   "cell_type": "code",
   "execution_count": null,
   "id": "8f424fcd",
   "metadata": {},
   "outputs": [],
   "source": [
    "def vec_addition(u,v):\n",
    "    if u.shape == v.shape:\n",
    "        return u+v\n",
    "    else:\n",
    "        return None"
   ]
  },
  {
   "cell_type": "markdown",
   "id": "d9d70f72",
   "metadata": {},
   "source": [
    "write a function named scalar_multiply(u,k) which takes a vector u and a scalar k as input and returns k times u as output\n",
    " \n",
    "  1. Inputs: A vector u and a scalar k\n",
    "  2. Output: Returns a vector which is k times u"
   ]
  },
  {
   "cell_type": "code",
   "execution_count": null,
   "id": "88416483",
   "metadata": {},
   "outputs": [],
   "source": [
    "def scalaer_multiply(k,u):\n",
    "    return k*u"
   ]
  },
  {
   "cell_type": "markdown",
   "id": "63466968",
   "metadata": {},
   "source": [
    "Write a function hadamard(u,v) which takes two vectors u and v as input and returns hadamard product of u and v.\n",
    "Hdamard product is obtained via multiplying two matrices/vectors elementwise.\n",
    " \n",
    "  1. Inputs: Two vectors u and v\n",
    "  2. Output: Hadamard product of u and v if the dimensions of u and v are consistent, otherwise None"
   ]
  },
  {
   "cell_type": "code",
   "execution_count": null,
   "id": "cd709816",
   "metadata": {},
   "outputs": [],
   "source": [
    "def hadamard(u,v):\n",
    "    if u.shape == v.shape:\n",
    "        return u*v\n",
    "    else:\n",
    "        return None"
   ]
  },
  {
   "cell_type": "markdown",
   "id": "ff2d537c",
   "metadata": {},
   "source": [
    "Write a function dot_product(u,v) which take two vectors u and v as input and returns inner product of u and v as output\n",
    " \n",
    "  1. Inputs: vectors u and v \n",
    "  2. Output: dot product of u and v if u and v have consistent dimension otherwise None"
   ]
  },
  {
   "cell_type": "code",
   "execution_count": null,
   "id": "9d0e3df5",
   "metadata": {},
   "outputs": [],
   "source": [
    "def dot_product(u,v):\n",
    "    if u.shape == v.shape:\n",
    "        return u.dot(v) # np.dot(u,v)\n",
    "    else:\n",
    "        return None"
   ]
  },
  {
   "cell_type": "markdown",
   "id": "71fdfdb9",
   "metadata": {},
   "source": [
    "Write a function add_constant(u,k) which adds a constant k to each element of u\n",
    " \n",
    "  1. Inputs: u is a vector,k is a scalar \n",
    "  2. Output: C is a vector`"
   ]
  },
  {
   "cell_type": "code",
   "execution_count": null,
   "id": "0cc4b8eb",
   "metadata": {},
   "outputs": [],
   "source": [
    "def add_constant(u,k):\n",
    "    return u+k"
   ]
  },
  {
   "cell_type": "markdown",
   "id": "ffbe50b4",
   "metadata": {},
   "source": [
    "Write a function add_matrix(X,Y) to add two matrices X and Y.\n",
    " \n",
    "  1. Inputs: X is a matrix, Y is a matrix \n",
    "  2. Output: Z is a matrix representing (X+Y) if X and Y have consistent dimension otherwise None"
   ]
  },
  {
   "cell_type": "code",
   "execution_count": null,
   "id": "07555932",
   "metadata": {},
   "outputs": [],
   "source": [
    "def add_matrix(X,Y):\n",
    "    if X.shape == Y.shape:\n",
    "        return X+Y\n",
    "    else:\n",
    "        return None"
   ]
  },
  {
   "cell_type": "markdown",
   "id": "6ed3d512",
   "metadata": {},
   "source": [
    "Write a function *add_one(X)* to include first column with all elements 1 in X.\n",
    " \n",
    "  1. Inputs: A matrix X\n",
    "  2. Output: updated matrix with a column having elements 1 added as first column to X."
   ]
  },
  {
   "cell_type": "code",
   "execution_count": null,
   "id": "907c8a0f",
   "metadata": {},
   "outputs": [],
   "source": [
    "def add_one(X):\n",
    "    return np.column_stack((np.ones(X.shape[0]),X))"
   ]
  },
  {
   "cell_type": "markdown",
   "id": "d17b5fb7",
   "metadata": {},
   "source": [
    "Write a function multiply(X,w) to Multiply feature matrix(X) and weight vector(w) after addition of dummy feature to feature matrix.\n",
    "\n",
    "Inputs: Feature matrix X and weight vector w\n",
    "Output: Product of X and w after adding dummy feature to feature matrix X. If the dimensions are not consistent return None."
   ]
  },
  {
   "cell_type": "code",
   "execution_count": null,
   "id": "3891999d",
   "metadata": {},
   "outputs": [],
   "source": [
    "def multiply(X,w):\n",
    "    X = np.column_stack((X.shape[0],X))\n",
    "    \n",
    "    return X@w"
   ]
  },
  {
   "cell_type": "markdown",
   "id": "f6d65dd4",
   "metadata": {},
   "source": [
    "Write a function loss(X,w,y) which takes feature matrix(X), weight vector(w) and output label vector(y) and returns sum squared loss while implementing regression model.(Note: Do necessary preprocessing of X)\n",
    " \n",
    "  1. Inputs: Feature matrix X and weight vector w and output label vector y\n",
    "  2. Output: sum squared loss if dimensions of inputs are consistent, otherwise None"
   ]
  },
  {
   "cell_type": "code",
   "execution_count": null,
   "id": "80fdf83c",
   "metadata": {},
   "outputs": [],
   "source": [
    "def loss(X,w,y):\n",
    "    if X.shape[1] == w.shape[0]:\n",
    "        y_pred = X@w\n",
    "        \n",
    "        return (1/2)*(y - y_pred)**2\n",
    "    else:\n",
    "        return None"
   ]
  },
  {
   "cell_type": "markdown",
   "id": "5257bfb3",
   "metadata": {},
   "source": [
    "# Linear Regression"
   ]
  },
  {
   "cell_type": "code",
   "execution_count": 25,
   "id": "066994e0",
   "metadata": {},
   "outputs": [],
   "source": [
    "import numpy as np\n",
    "import matplotlib.pyplot as plt"
   ]
  },
  {
   "cell_type": "markdown",
   "id": "04ef3ac7",
   "metadata": {},
   "source": [
    "### Data geneartion"
   ]
  },
  {
   "cell_type": "code",
   "execution_count": 2,
   "id": "6cf612e1",
   "metadata": {},
   "outputs": [],
   "source": [
    "def creater_dataset(w0,w1,n):\n",
    "    X= np.random.normal(size = n)\n",
    "\n",
    "    y = w0 + w1*X + np.random.normal(size = 100)\n",
    "    return X,y"
   ]
  },
  {
   "cell_type": "code",
   "execution_count": 3,
   "id": "fb975429",
   "metadata": {},
   "outputs": [],
   "source": [
    "X,y = creater_dataset(3,4,100)"
   ]
  },
  {
   "cell_type": "code",
   "execution_count": 4,
   "id": "59c55bfa",
   "metadata": {},
   "outputs": [
    {
     "data": {
      "text/plain": [
       "Text(0, 0.5, '$\\\\mathbf{Y}$')"
      ]
     },
     "execution_count": 4,
     "metadata": {},
     "output_type": "execute_result"
    },
    {
     "data": {
      "image/png": "[encoded data removed]",
      "text/plain": [
       "<Figure size 432x288 with 1 Axes>"
      ]
     },
     "metadata": {
      "needs_background": "light"
     },
     "output_type": "display_data"
    }
   ],
   "source": [
    "plt.plot(X,y,'.b')\n",
    "plt.grid(True)\n",
    "plt.xlabel(\"$\\mathbf{X}$\")\n",
    "plt.ylabel(\"$\\mathbf{Y}$\")"
   ]
  },
  {
   "cell_type": "code",
   "execution_count": 5,
   "id": "ffa17535",
   "metadata": {},
   "outputs": [],
   "source": [
    "def add_dummy_feature(X):\n",
    "    return np.column_stack((np.ones(X.shape[0]),X))\n",
    "\n",
    "X_val = add_dummy_feature(X)"
   ]
  },
  {
   "cell_type": "code",
   "execution_count": 6,
   "id": "adb0aa21",
   "metadata": {},
   "outputs": [],
   "source": [
    "from sklearn.model_selection import train_test_split\n",
    "X_train,X_test,y_train,y_test = train_test_split(X_val,y,test_size=0.2,random_state=0)"
   ]
  },
  {
   "cell_type": "markdown",
   "id": "1932d314",
   "metadata": {},
   "source": [
    "### Regression Class"
   ]
  },
  {
   "cell_type": "code",
   "execution_count": 7,
   "id": "ee433784",
   "metadata": {},
   "outputs": [],
   "source": [
    "class LinearRegression():\n",
    "    def predict(self,X):\n",
    "        return X@self.w\n",
    "    \n",
    "    def loss(self,X,y):\n",
    "        e = self.predict(X) - y\n",
    "        return (1/2)*(np.transpose(e)@e)\n",
    "    \n",
    "    def calulate_gradient(self,X,y):\n",
    "        return np.transpose(X)@(self.predict(X) - y)\n",
    "    \n",
    "    def update_weights(self,lr,grad):\n",
    "        self.w = self.w - lr*grad\n",
    "        return self.w\n",
    "    \n",
    "    def fit(self,X,y,lr=0.001,epochs=1000):\n",
    "        self.w = np.zeros(X.shape[-1])\n",
    "        loss_array = []\n",
    "        \n",
    "        for _ in range(epochs):\n",
    "            loss = self.loss(X,y)\n",
    "            loss_array.append(loss)\n",
    "            \n",
    "            dJdw = self.calulate_gradient(X,y)\n",
    "            self.w = self.update_weights(lr,dJdw)\n",
    "            \n",
    "        return  loss_array\n",
    "        "
   ]
  },
  {
   "cell_type": "code",
   "execution_count": 8,
   "id": "4b7f688c",
   "metadata": {},
   "outputs": [],
   "source": [
    "lin_reg = LinearRegression()"
   ]
  },
  {
   "cell_type": "code",
   "execution_count": 9,
   "id": "9882792b",
   "metadata": {},
   "outputs": [],
   "source": [
    "errors = lin_reg.fit(X_train,y_train)"
   ]
  },
  {
   "cell_type": "code",
   "execution_count": 10,
   "id": "06a81c75",
   "metadata": {},
   "outputs": [
    {
     "data": {
      "image/png": "[encoded data removed]",
      "text/plain": [
       "<Figure size 432x288 with 1 Axes>"
      ]
     },
     "metadata": {
      "needs_background": "light"
     },
     "output_type": "display_data"
    }
   ],
   "source": [
    "plt.plot(errors,'-r')\n",
    "plt.title(\"Training curve\")\n",
    "plt.xlabel(\"Iter #\")\n",
    "plt.ylabel(\"$\\mathbf{J(w)}$\")\n",
    "plt.grid(True)\n",
    "plt.show()"
   ]
  },
  {
   "cell_type": "code",
   "execution_count": 13,
   "id": "f707802d",
   "metadata": {},
   "outputs": [],
   "source": [
    "y_pred = lin_reg.predict(X_val)"
   ]
  },
  {
   "cell_type": "code",
   "execution_count": 15,
   "id": "fc90cd8a",
   "metadata": {},
   "outputs": [
    {
     "data": {
      "text/plain": [
       "Text(0, 0.5, '$\\\\mathbf{Y}$')"
      ]
     },
     "execution_count": 15,
     "metadata": {},
     "output_type": "execute_result"
    },
    {
     "data": {
      "image/png": "[encoded data removed]",
      "text/plain": [
       "<Figure size 432x288 with 1 Axes>"
      ]
     },
     "metadata": {
      "needs_background": "light"
     },
     "output_type": "display_data"
    }
   ],
   "source": [
    "plt.plot(X,y,'.b')\n",
    "plt.plot(X,y_pred,'r--')\n",
    "plt.plot()\n",
    "plt.grid(True)\n",
    "plt.xlabel(\"$\\mathbf{X}$\")\n",
    "plt.ylabel(\"$\\mathbf{Y}$\")"
   ]
  },
  {
   "cell_type": "markdown",
   "id": "03424894",
   "metadata": {},
   "source": [
    "# Polynomial Regression"
   ]
  },
  {
   "cell_type": "markdown",
   "id": "cba25153",
   "metadata": {},
   "source": [
    "### Feature Transformation"
   ]
  },
  {
   "cell_type": "code",
   "execution_count": 1,
   "id": "17f8bf90",
   "metadata": {},
   "outputs": [],
   "source": [
    "import numpy as np\n",
    "import itertools\n",
    "import functools"
   ]
  },
  {
   "cell_type": "code",
   "execution_count": 51,
   "id": "e2912e5e",
   "metadata": {},
   "outputs": [],
   "source": [
    "def get_combinations(X,degree):\n",
    "    return itertools.combinations_with_replacement(X,degree)"
   ]
  },
  {
   "cell_type": "code",
   "execution_count": 52,
   "id": "5e2e1e8b",
   "metadata": {},
   "outputs": [],
   "source": [
    "def compute_new_features(item):\n",
    "    return functools.reduce(lambda x,y:x*y,item)"
   ]
  },
  {
   "cell_type": "code",
   "execution_count": 53,
   "id": "db243da5",
   "metadata": {},
   "outputs": [
    {
     "name": "stdout",
     "output_type": "stream",
     "text": [
      "(1,) 1\n",
      "(2,) 2\n",
      "(5,) 5\n"
     ]
    }
   ],
   "source": [
    "z = np.array([1,2,5])\n",
    "\n",
    "for i in get_combinations(z,1):\n",
    "    print(i,compute_new_features(i))"
   ]
  },
  {
   "cell_type": "code",
   "execution_count": 71,
   "id": "19f04f0f",
   "metadata": {},
   "outputs": [],
   "source": [
    "def polynomail_transform(X,degree):\n",
    "    ###########################################################################################################\n",
    "    if X.ndim == 1:\n",
    "        X = X.reshape(-1,1)       #Important Step\n",
    "    ##########################################################################################################\n",
    "    X_t = np.transpose(X)\n",
    "    features = [np.ones(len(X))]\n",
    "    \n",
    "    for degree in range(1,degree+1):\n",
    "        for items in get_combinations(X_t,degree):\n",
    "            features.append(compute_new_features(items))\n",
    "    \n",
    "    print(X)\n",
    "    \n",
    "    return np.asarray(features).transpose()\n",
    "    "
   ]
  },
  {
   "cell_type": "code",
   "execution_count": 72,
   "id": "0bb8f444",
   "metadata": {},
   "outputs": [
    {
     "name": "stdout",
     "output_type": "stream",
     "text": [
      "[[5]\n",
      " [4]]\n"
     ]
    },
    {
     "data": {
      "text/plain": [
       "array([[ 1.,  5., 25.],\n",
       "       [ 1.,  4., 16.]])"
      ]
     },
     "execution_count": 72,
     "metadata": {},
     "output_type": "execute_result"
    }
   ],
   "source": [
    "z = np.array([5,4])\n",
    "polynomail_transform(z,2)"
   ]
  },
  {
   "cell_type": "markdown",
   "id": "31d9407b",
   "metadata": {},
   "source": [
    "### Creating dataset"
   ]
  },
  {
   "cell_type": "code",
   "execution_count": 74,
   "id": "91d96cda",
   "metadata": {},
   "outputs": [],
   "source": [
    "from sklearn.datasets import make_regression\n",
    "X,y,coeff = make_regression(n_samples=100,n_features=10,n_informative=10,bias=1,n_targets=5,shuffle=True,coef=True,random_state=0)"
   ]
  },
  {
   "cell_type": "markdown",
   "id": "9739e058",
   "metadata": {},
   "source": [
    "# Least Square Classifier"
   ]
  },
  {
   "cell_type": "markdown",
   "id": "902c7dab",
   "metadata": {},
   "source": [
    "### One Hot Encoder"
   ]
  },
  {
   "cell_type": "code",
   "execution_count": 2,
   "id": "8cbbb4d0",
   "metadata": {},
   "outputs": [],
   "source": [
    "class OneHotEncoder():\n",
    "    def encode(self,y):\n",
    "        e = np.eye(len(np.unique(y)))\n",
    "        y_enc = e[y]\n",
    "        return y_enc\n",
    "    \n",
    "    def decode(self,ohm):\n",
    "        return np.argmax(ohm,axis = 1)"
   ]
  },
  {
   "cell_type": "code",
   "execution_count": 3,
   "id": "4784c935",
   "metadata": {},
   "outputs": [],
   "source": [
    "onehot = OneHotEncoder()"
   ]
  },
  {
   "cell_type": "code",
   "execution_count": 5,
   "id": "ff2d3c5a",
   "metadata": {},
   "outputs": [],
   "source": [
    "y = np.array([0,1,0,2,1])\n",
    "y_enc = onehot.encode(y)"
   ]
  },
  {
   "cell_type": "code",
   "execution_count": 6,
   "id": "83777fb1",
   "metadata": {},
   "outputs": [
    {
     "data": {
      "text/plain": [
       "array([0, 1, 0, 2, 1], dtype=int64)"
      ]
     },
     "execution_count": 6,
     "metadata": {},
     "output_type": "execute_result"
    }
   ],
   "source": [
    "onehot.decode(y_enc)"
   ]
  },
  {
   "cell_type": "code",
   "execution_count": 36,
   "id": "e8075055",
   "metadata": {},
   "outputs": [],
   "source": [
    "class LeastSqaureClassifier():\n",
    "    \n",
    "    def predict(self,X:np.ndarray)->np.ndarray:\n",
    "        return np.argmax(X@self.w,axis = 1)\n",
    "    \n",
    "    def predict_internal(self,X:np.ndarray)->np.ndarray:\n",
    "        return X@self.w\n",
    "    \n",
    "    def loss(self,X:np.ndarray,y:np.ndarray)->float:\n",
    "        e = self.predict_internal(X) - y\n",
    "        return (1/2)*(np.transpose(e)@e)\n",
    "    \n",
    "    def calculate_gradient(self,X,y):\n",
    "        return np.transpose(X)@(self.predict_internal(X) - y)\n",
    "    \n",
    "    def fit(self,X,y,lr=0.001,epochs=1000):\n",
    "        self.w = np.zeros(X.shape[-1])\n",
    "        loss_array = []\n",
    "        \n",
    "        for _ in range(epochs):\n",
    "            loss = self.loss(X,y)\n",
    "            loss_array.append(loss)\n",
    "            \n",
    "            dJdw = self.calculate_gradient(X,y)\n",
    "            \n",
    "            self.w -= lr*dJdw\n",
    "            \n",
    "        return loss_array\n",
    "        \n",
    "        "
   ]
  },
  {
   "cell_type": "code",
   "execution_count": 37,
   "id": "d272c9d4",
   "metadata": {},
   "outputs": [],
   "source": [
    "from sklearn.datasets import make_classification\n",
    "X,y = make_classification()"
   ]
  },
  {
   "cell_type": "code",
   "execution_count": 38,
   "id": "f06ce68f",
   "metadata": {},
   "outputs": [],
   "source": [
    "from sklearn.model_selection import train_test_split\n",
    "X_train,X_test,y_train,y_test = train_test_split(X,y,test_size=0.2,random_state=0)"
   ]
  },
  {
   "cell_type": "code",
   "execution_count": 39,
   "id": "8e3f71d5",
   "metadata": {},
   "outputs": [],
   "source": [
    "lsc = LeastSqaureClassifier()"
   ]
  },
  {
   "cell_type": "code",
   "execution_count": 40,
   "id": "b740648c",
   "metadata": {},
   "outputs": [],
   "source": [
    "errors = lsc.fit(X_train,y_train)"
   ]
  },
  {
   "cell_type": "code",
   "execution_count": 41,
   "id": "59e3f781",
   "metadata": {},
   "outputs": [
    {
     "data": {
      "image/png": "[encoded data removed]",
      "text/plain": [
       "<Figure size 432x288 with 1 Axes>"
      ]
     },
     "metadata": {
      "needs_background": "light"
     },
     "output_type": "display_data"
    }
   ],
   "source": [
    "plt.plot(errors,'-r')\n",
    "plt.title(\"Training curve\")\n",
    "plt.xlabel(\"Iter #\")\n",
    "plt.ylabel(\"$\\mathbf{J(w)}$\")\n",
    "plt.grid(True)\n",
    "plt.show()"
   ]
  },
  {
   "cell_type": "code",
   "execution_count": 44,
   "id": "4ced57fc",
   "metadata": {},
   "outputs": [
    {
     "data": {
      "text/plain": [
       "array([ 0.01936146,  0.0326172 ,  0.00264069, -0.00362658, -0.00674934,\n",
       "        0.03171486,  0.16493717, -0.03350599, -0.07065528, -0.01018498,\n",
       "        0.05899744,  0.02316266, -0.10898587, -0.13203149, -0.1213345 ,\n",
       "        0.07293616,  0.05663921,  0.00990823, -0.00487973,  0.07228633])"
      ]
     },
     "execution_count": 44,
     "metadata": {},
     "output_type": "execute_result"
    }
   ],
   "source": [
    "lsc.w"
   ]
  },
  {
   "cell_type": "markdown",
   "id": "7a4da2ce",
   "metadata": {},
   "source": [
    "# Perceptron"
   ]
  },
  {
   "cell_type": "code",
   "execution_count": 85,
   "id": "d523018d",
   "metadata": {},
   "outputs": [],
   "source": [
    "class Perceptron():\n",
    "    \n",
    "    def predict(self,X:np.ndarray)->np.ndarray:\n",
    "        z = X@self.w\n",
    "        return np.where(z>=0,1,0)\n",
    "    \n",
    "    def loss(self,X:np.ndarray,y:np.ndarray)-> float:\n",
    "        return np.sum(np.maximum(np.zeros(y.shape[0]),-1*self.predict(X)@y))\n",
    "    \n",
    "    def fit(self,X,y,lr=0.001,epochs=500):\n",
    "        self.w = np.zeros(X.shape[-1])\n",
    "        self.errors_all = []\n",
    "        \n",
    "        \n",
    "        for _ in range(epochs):\n",
    "            error = 0\n",
    "            for x,y in zip(X,y):\n",
    "                \n",
    "                \n",
    "                self.w +=  lr*(y - self.predict(x))*x\n",
    "                error = np.maximum(0,-1*y*self.predict(x)) \n",
    "                self.errors_all.append(errors)\n",
    "                \n",
    "            return errors\n",
    "        \n",
    "    def confusion_matrix(self,y_test,y_pred):\n",
    "        confusion_matrix = np.zeros((len(np.unique(y_test)),len(np.unique(y_test))))\n",
    "        \n",
    "        for true,predicted in zip(y_test,y_pred):\n",
    "            confusion_matrix[true,predicted] += 1\n",
    "            \n",
    "        return confusion_matrix"
   ]
  },
  {
   "cell_type": "code",
   "execution_count": 86,
   "id": "ee2c2a18",
   "metadata": {},
   "outputs": [],
   "source": [
    "perceptron = Perceptron()"
   ]
  },
  {
   "cell_type": "code",
   "execution_count": 87,
   "id": "b2ff83c8",
   "metadata": {},
   "outputs": [
    {
     "data": {
      "text/plain": [
       "[19.5,\n",
       " 16.081424661799616,\n",
       " 14.254862080226227,\n",
       " 13.254558999988177,\n",
       " 12.687484751777683,\n",
       " 12.35104471161539,\n",
       " 12.14012464821628,\n",
       " 11.999649881092706,\n",
       " 11.900343158377293,\n",
       " 11.826313455502577,\n",
       " 11.76868346334306,\n",
       " 11.722303307451606,\n",
       " 11.68404466595933,\n",
       " 11.651906587886323,\n",
       " 11.624540077009328,\n",
       " 11.600990174934251,\n",
       " 11.580552134179612,\n",
       " 11.562688304011676,\n",
       " 11.546977986390605,\n",
       " 11.533085695833243,\n",
       " 11.520740062401947,\n",
       " 11.509719157037747,\n",
       " 11.49983987921662,\n",
       " 11.490950039778708,\n",
       " 11.48292231276995,\n",
       " 11.47564953329254,\n",
       " 11.469040994397211,\n",
       " 11.463019502670697,\n",
       " 11.45751901979191,\n",
       " 11.452482762237894,\n",
       " 11.447861662432267,\n",
       " 11.443613116968802,\n",
       " 11.43969996404692,\n",
       " 11.43608964471306,\n",
       " 11.432753512053734,\n",
       " 11.429666259892839,\n",
       " 11.426805448336335,\n",
       " 11.424151108061043,\n",
       " 11.421685408841142,\n",
       " 11.419392380656927,\n",
       " 11.41725767799647,\n",
       " 11.415268379766596,\n",
       " 11.41341281867154,\n",
       " 11.411680435071855,\n",
       " 11.410061651261564,\n",
       " 11.408547762845455,\n",
       " 11.407130844497516,\n",
       " 11.405803667865095,\n",
       " 11.404559629774585,\n",
       " 11.40339268921192,\n",
       " 11.402297311809164,\n",
       " 11.401268420778901,\n",
       " 11.400301353410253,\n",
       " 11.399391822381478,\n",
       " 11.398535881260212,\n",
       " 11.397729893658248,\n",
       " 11.396970505587193,\n",
       " 11.396254620627245,\n",
       " 11.395579377576503,\n",
       " 11.39494213029424,\n",
       " 11.39434042949025,\n",
       " 11.393772006245321,\n",
       " 11.393234757075279,\n",
       " 11.392726730374857,\n",
       " 11.392246114097615,\n",
       " 11.391791224545436,\n",
       " 11.391360496155958,\n",
       " 11.39095247218911,\n",
       " 11.390565796225019,\n",
       " 11.390199204395236,\n",
       " 11.389851518277688,\n",
       " 11.389521638393067,\n",
       " 11.38920853824698,\n",
       " 11.388911258867797,\n",
       " 11.388628903795272,\n",
       " 11.388360634479398,\n",
       " 11.388105666053065,\n",
       " 11.387863263445478,\n",
       " 11.38763273780658,\n",
       " 11.387413443215493,\n",
       " 11.387204773648477,\n",
       " 11.387006160184317,\n",
       " 11.386817068426893,\n",
       " 11.386636996126697,\n",
       " 11.386465470984628,\n",
       " 11.386302048622888,\n",
       " 11.386146310709185,\n",
       " 11.38599786322167,\n",
       " 11.385856334843087,\n",
       " 11.385721375473675,\n",
       " 11.385592654853259,\n",
       " 11.38546986128375,\n",
       " 11.385352700444091,\n",
       " 11.385240894290282,\n",
       " 11.385134180033841,\n",
       " 11.385032309192514,\n",
       " 11.384935046707644,\n",
       " 11.384842170123054,\n",
       " 11.384753468820668,\n",
       " 11.384668743308596,\n",
       " 11.384587804557684,\n",
       " 11.384510473382829,\n",
       " 11.384436579865778,\n",
       " 11.384365962816275,\n",
       " 11.384298469268717,\n",
       " 11.384233954011732,\n",
       " 11.38417227914828,\n",
       " 11.384113313684011,\n",
       " 11.384056933141936,\n",
       " 11.384003019201424,\n",
       " 11.383951459359881,\n",
       " 11.383902146615492,\n",
       " 11.383854979169495,\n",
       " 11.383809860146727,\n",
       " 11.38376669733309,\n",
       " 11.383725402928846,\n",
       " 11.383685893316617,\n",
       " 11.383648088843131,\n",
       " 11.383611913613775,\n",
       " 11.383577295299123,\n",
       " 11.383544164952617,\n",
       " 11.383512456838718,\n",
       " 11.383482108270801,\n",
       " 11.383453059458214,\n",
       " 11.383425253361864,\n",
       " 11.383398635557839,\n",
       " 11.383373154108535,\n",
       " 11.383348759440825,\n",
       " 11.383325404230824,\n",
       " 11.383303043294893,\n",
       " 11.383281633486416,\n",
       " 11.3832611335981,\n",
       " 11.383241504269407,\n",
       " 11.383222707898808,\n",
       " 11.383204708560628,\n",
       " 11.383187471926156,\n",
       " 11.383170965188814,\n",
       " 11.383155156993137,\n",
       " 11.383140017367325,\n",
       " 11.38312551765922,\n",
       " 11.38311163047547,\n",
       " 11.38309832962369,\n",
       " 11.38308559005753,\n",
       " 11.383073387824385,\n",
       " 11.383061700015718,\n",
       " 11.38305050471974,\n",
       " 11.383039780976425,\n",
       " 11.38302950873464,\n",
       " 11.383019668811379,\n",
       " 11.383010242852892,\n",
       " 11.38300121329768,\n",
       " 11.38299256334123,\n",
       " 11.382984276902402,\n",
       " 11.382976338591403,\n",
       " 11.382968733679228,\n",
       " 11.382961448068528,\n",
       " 11.38295446826584,\n",
       " 11.382947781355073,\n",
       " 11.38294137497222,\n",
       " 11.38293523728121,\n",
       " 11.382929356950903,\n",
       " 11.382923723133061,\n",
       " 11.382918325441377,\n",
       " 11.382913153931417,\n",
       " 11.382908199081474,\n",
       " 11.38290345177427,\n",
       " 11.382898903279496,\n",
       " 11.382894545237107,\n",
       " 11.382890369641377,\n",
       " 11.382886368825652,\n",
       " 11.382882535447783,\n",
       " 11.382878862476192,\n",
       " 11.382875343176568,\n",
       " 11.382871971099139,\n",
       " 11.382868740066487,\n",
       " 11.38286564416193,\n",
       " 11.382862677718382,\n",
       " 11.382859835307713,\n",
       " 11.382857111730559,\n",
       " 11.382854502006602,\n",
       " 11.38285200136524,\n",
       " 11.382849605236675,\n",
       " 11.382847309243392,\n",
       " 11.382845109191997,\n",
       " 11.382843001065412,\n",
       " 11.382840981015399,\n",
       " 11.382839045355416,\n",
       " 11.382837190553772,\n",
       " 11.382835413227077,\n",
       " 11.382833710133978,\n",
       " 11.38283207816915,\n",
       " 11.382830514357565,\n",
       " 11.38282901584898,\n",
       " 11.382827579912686,\n",
       " 11.382826203932462,\n",
       " 11.382824885401746,\n",
       " 11.38282362191903,\n",
       " 11.382822411183419,\n",
       " 11.38282125099041,\n",
       " 11.382820139227835,\n",
       " 11.382819073871968,\n",
       " 11.382818052983815,\n",
       " 11.382817074705557,\n",
       " 11.382816137257125,\n",
       " 11.38281523893295,\n",
       " 11.382814378098825,\n",
       " 11.382813553188914,\n",
       " 11.382812762702878,\n",
       " 11.382812005203133,\n",
       " 11.382811279312218,\n",
       " 11.382810583710263,\n",
       " 11.38280991713259,\n",
       " 11.382809278367386,\n",
       " 11.382808666253503,\n",
       " 11.382808079678313,\n",
       " 11.382807517575698,\n",
       " 11.38280697892409,\n",
       " 11.382806462744608,\n",
       " 11.38280596809927,\n",
       " 11.38280549408928,\n",
       " 11.382805039853396,\n",
       " 11.382804604566347,\n",
       " 11.382804187437337,\n",
       " 11.382803787708589,\n",
       " 11.382803404653988,\n",
       " 11.38280303757773,\n",
       " 11.382802685813077,\n",
       " 11.382802348721123,\n",
       " 11.382802025689644,\n",
       " 11.382801716131976,\n",
       " 11.382801419485943,\n",
       " 11.382801135212846,\n",
       " 11.38280086279647,\n",
       " 11.38280060174215,\n",
       " 11.382800351575868,\n",
       " 11.382800111843395,\n",
       " 11.382799882109452,\n",
       " 11.382799661956934,\n",
       " 11.382799450986145,\n",
       " 11.382799248814067,\n",
       " 11.382799055073662,\n",
       " 11.382798869413218,\n",
       " 11.382798691495692,\n",
       " 11.382798520998108,\n",
       " 11.38279835761097,\n",
       " 11.382798201037685,\n",
       " 11.382798050994051,\n",
       " 11.382797907207708,\n",
       " 11.382797769417673,\n",
       " 11.38279763737384,\n",
       " 11.38279751083655,\n",
       " 11.38279738957613,\n",
       " 11.382797273372498,\n",
       " 11.382797162014747,\n",
       " 11.382797055300772,\n",
       " 11.382796953036898,\n",
       " 11.38279685503753,\n",
       " 11.382796761124812,\n",
       " 11.382796671128311,\n",
       " 11.382796584884701,\n",
       " 11.382796502237468,\n",
       " 11.382796423036634,\n",
       " 11.382796347138463,\n",
       " 11.38279627440523,\n",
       " 11.382796204704938,\n",
       " 11.38279613791111,\n",
       " 11.382796073902536,\n",
       " 11.382796012563066,\n",
       " 11.38279595378139,\n",
       " 11.382795897450844,\n",
       " 11.382795843469212,\n",
       " 11.382795791738541,\n",
       " 11.38279574216496,\n",
       " 11.382795694658519,\n",
       " 11.382795649133019,\n",
       " 11.382795605505846,\n",
       " 11.382795563697844,\n",
       " 11.382795523633149,\n",
       " 11.382795485239072,\n",
       " 11.38279544844594,\n",
       " 11.382795413186997,\n",
       " 11.38279537939827,\n",
       " 11.38279534701845,\n",
       " 11.382795315988783,\n",
       " 11.382795286252975,\n",
       " 11.38279525775707,\n",
       " 11.382795230449364,\n",
       " 11.382795204280313,\n",
       " 11.382795179202436,\n",
       " 11.38279515517023,\n",
       " 11.382795132140096,\n",
       " 11.382795110070244,\n",
       " 11.38279508892064,\n",
       " 11.382795068652904,\n",
       " 11.382795049230264,\n",
       " 11.382795030617487,\n",
       " 11.382795012780797,\n",
       " 11.382794995687838,\n",
       " 11.382794979307594,\n",
       " 11.382794963610351,\n",
       " 11.382794948567625,\n",
       " 11.382794934152127,\n",
       " 11.382794920337702,\n",
       " 11.382794907099285,\n",
       " 11.382794894412864,\n",
       " 11.382794882255418,\n",
       " 11.382794870604888,\n",
       " 11.382794859440143,\n",
       " 11.382794848740925,\n",
       " 11.38279483848782,\n",
       " 11.382794828662231,\n",
       " 11.382794819246326,\n",
       " 11.382794810223029,\n",
       " 11.382794801575969,\n",
       " 11.382794793289452,\n",
       " 11.382794785348448,\n",
       " 11.382794777738553,\n",
       " 11.38279477044596,\n",
       " 11.382794763457436,\n",
       " 11.382794756760303,\n",
       " 11.382794750342413,\n",
       " 11.382794744192122,\n",
       " 11.382794738298271,\n",
       " 11.382794732650169,\n",
       " 11.382794727237565,\n",
       " 11.382794722050647,\n",
       " 11.382794717079998,\n",
       " 11.382794712316603,\n",
       " 11.382794707751822,\n",
       " 11.382794703377371,\n",
       " 11.382794699185315,\n",
       " 11.382794695168048,\n",
       " 11.382794691318285,\n",
       " 11.382794687629037,\n",
       " 11.382794684093614,\n",
       " 11.382794680705604,\n",
       " 11.38279467745886,\n",
       " 11.382794674347487,\n",
       " 11.382794671365845,\n",
       " 11.382794668508524,\n",
       " 11.38279466577034,\n",
       " 11.382794663146324,\n",
       " 11.382794660631717,\n",
       " 11.38279465822196,\n",
       " 11.382794655912678,\n",
       " 11.38279465369968,\n",
       " 11.382794651578955,\n",
       " 11.382794649546653,\n",
       " 11.38279464759909,\n",
       " 11.38279464573273,\n",
       " 11.382794643944187,\n",
       " 11.38279464223022,\n",
       " 11.382794640587719,\n",
       " 11.382794639013698,\n",
       " 11.38279463750531,\n",
       " 11.38279463605981,\n",
       " 11.382794634674584,\n",
       " 11.382794633347114,\n",
       " 11.38279463207499,\n",
       " 11.382794630855914,\n",
       " 11.382794629687663,\n",
       " 11.382794628568124,\n",
       " 11.382794627495262,\n",
       " 11.382794626467135,\n",
       " 11.382794625481875,\n",
       " 11.382794624537697,\n",
       " 11.382794623632886,\n",
       " 11.3827946227658,\n",
       " 11.382794621934867,\n",
       " 11.382794621138583,\n",
       " 11.382794620375495,\n",
       " 11.38279461964423,\n",
       " 11.382794618943452,\n",
       " 11.382794618271891,\n",
       " 11.382794617628333,\n",
       " 11.382794617011609,\n",
       " 11.382794616420597,\n",
       " 11.382794615854229,\n",
       " 11.382794615311475,\n",
       " 11.38279461479135,\n",
       " 11.382794614292912,\n",
       " 11.382794613815257,\n",
       " 11.38279461335752,\n",
       " 11.382794612918866,\n",
       " 11.382794612498502,\n",
       " 11.382794612095665,\n",
       " 11.382794611709624,\n",
       " 11.38279461133968,\n",
       " 11.38279461098516,\n",
       " 11.382794610645421,\n",
       " 11.382794610319849,\n",
       " 11.38279461000785,\n",
       " 11.38279460970886,\n",
       " 11.382794609422337,\n",
       " 11.382794609147762,\n",
       " 11.382794608884634,\n",
       " 11.382794608632476,\n",
       " 11.382794608390833,\n",
       " 11.382794608159266,\n",
       " 11.382794607937353,\n",
       " 11.38279460772469,\n",
       " 11.3827946075209,\n",
       " 11.382794607325604,\n",
       " 11.382794607138448,\n",
       " 11.382794606959099,\n",
       " 11.382794606787227,\n",
       " 11.382794606622522,\n",
       " 11.382794606464682,\n",
       " 11.382794606313425,\n",
       " 11.382794606168474,\n",
       " 11.382794606029568,\n",
       " 11.382794605896454,\n",
       " 11.382794605768886,\n",
       " 11.382794605646641,\n",
       " 11.38279460552949,\n",
       " 11.382794605417228,\n",
       " 11.382794605309645,\n",
       " 11.382794605206545,\n",
       " 11.382794605107744,\n",
       " 11.382794605013066,\n",
       " 11.382794604922333,\n",
       " 11.382794604835382,\n",
       " 11.38279460475206,\n",
       " 11.38279460467221,\n",
       " 11.382794604595691,\n",
       " 11.38279460452236,\n",
       " 11.382794604452087,\n",
       " 11.382794604384744,\n",
       " 11.38279460432021,\n",
       " 11.382794604258367,\n",
       " 11.3827946041991,\n",
       " 11.382794604142305,\n",
       " 11.382794604087879,\n",
       " 11.382794604035723,\n",
       " 11.382794603985742,\n",
       " 11.382794603937842,\n",
       " 11.382794603891941,\n",
       " 11.382794603847955,\n",
       " 11.3827946038058,\n",
       " 11.382794603765404,\n",
       " 11.382794603726694,\n",
       " 11.382794603689597,\n",
       " 11.382794603654045,\n",
       " 11.382794603619978,\n",
       " 11.382794603587328,\n",
       " 11.382794603556043,\n",
       " 11.38279460352606,\n",
       " 11.382794603497329,\n",
       " 11.382794603469794,\n",
       " 11.382794603443408,\n",
       " 11.382794603418123,\n",
       " 11.38279460339389,\n",
       " 11.38279460337067,\n",
       " 11.382794603348417,\n",
       " 11.382794603327092,\n",
       " 11.382794603306657,\n",
       " 11.38279460328707,\n",
       " 11.382794603268305,\n",
       " 11.382794603250321,\n",
       " 11.382794603233084,\n",
       " 11.382794603216567,\n",
       " 11.38279460320074,\n",
       " 11.382794603185573,\n",
       " 11.382794603171035,\n",
       " 11.382794603157109,\n",
       " 11.38279460314376,\n",
       " 11.382794603130968,\n",
       " 11.382794603118707,\n",
       " 11.38279460310696,\n",
       " 11.382794603095702,\n",
       " 11.382794603084914,\n",
       " 11.382794603074576,\n",
       " 11.382794603064669,\n",
       " 11.382794603055174,\n",
       " 11.382794603046076,\n",
       " 11.382794603037356,\n",
       " 11.382794603029001,\n",
       " 11.382794603020994,\n",
       " 11.38279460301332,\n",
       " 11.382794603005966,\n",
       " 11.38279460299892,\n",
       " 11.382794602992167,\n",
       " 11.382794602985696,\n",
       " 11.382794602979494,\n",
       " 11.382794602973549,\n",
       " 11.382794602967856,\n",
       " 11.382794602962399,\n",
       " 11.382794602957167,\n",
       " 11.382794602952156,\n",
       " 11.382794602947353,\n",
       " 11.382794602942749,\n",
       " 11.382794602938338,\n",
       " 11.382794602934112,\n",
       " 11.38279460293006,\n",
       " 11.382794602926179,\n",
       " 11.38279460292246,\n",
       " 11.382794602918892,\n",
       " 11.382794602915478,\n",
       " 11.382794602912202,\n",
       " 11.382794602909065,\n",
       " 11.38279460290606,\n",
       " 11.382794602903179,\n",
       " 11.382794602900418,\n",
       " 11.382794602897771,\n",
       " 11.382794602895235,\n",
       " 11.382794602892806,\n",
       " 11.382794602890478,\n",
       " 11.382794602888245,\n",
       " 11.382794602886108,\n",
       " 11.382794602884058,\n",
       " 11.382794602882093,\n",
       " 11.382794602880212,\n",
       " 11.382794602878407,\n",
       " 11.38279460287668,\n",
       " 11.382794602875023,\n",
       " 11.382794602873437,\n",
       " 11.382794602871916,\n",
       " 11.382794602870458,\n",
       " 11.382794602869062,\n",
       " 11.382794602867722,\n",
       " 11.38279460286644,\n",
       " 11.38279460286521,\n",
       " 11.382794602864035,\n",
       " 11.382794602862903,\n",
       " 11.382794602861821,\n",
       " 11.382794602860784,\n",
       " 11.382794602859793,\n",
       " 11.38279460285884,\n",
       " 11.382794602857928,\n",
       " 11.382794602857054,\n",
       " 11.382794602856215,\n",
       " 11.382794602855412,\n",
       " 11.382794602854641,\n",
       " 11.382794602853904,\n",
       " 11.382794602853199,\n",
       " 11.38279460285252,\n",
       " 11.382794602851874,\n",
       " 11.382794602851249,\n",
       " 11.382794602850655,\n",
       " 11.382794602850083,\n",
       " 11.382794602849536,\n",
       " 11.382794602849012,\n",
       " 11.38279460284851,\n",
       " 11.382794602848026,\n",
       " 11.382794602847564,\n",
       " 11.382794602847124,\n",
       " 11.3827946028467,\n",
       " 11.382794602846293,\n",
       " 11.382794602845903,\n",
       " 11.38279460284553,\n",
       " 11.382794602845175,\n",
       " 11.382794602844829,\n",
       " 11.382794602844502,\n",
       " 11.38279460284419,\n",
       " 11.382794602843887,\n",
       " 11.3827946028436,\n",
       " 11.38279460284332,\n",
       " 11.382794602843056,\n",
       " 11.3827946028428,\n",
       " 11.382794602842559,\n",
       " 11.382794602842324,\n",
       " 11.3827946028421,\n",
       " 11.382794602841885,\n",
       " 11.382794602841681,\n",
       " 11.382794602841482,\n",
       " 11.382794602841294,\n",
       " 11.382794602841113,\n",
       " 11.38279460284094,\n",
       " 11.382794602840773,\n",
       " 11.382794602840615,\n",
       " 11.382794602840463,\n",
       " 11.382794602840317,\n",
       " 11.382794602840175,\n",
       " 11.382794602840043,\n",
       " 11.382794602839914,\n",
       " 11.382794602839791,\n",
       " 11.382794602839672,\n",
       " 11.38279460283956,\n",
       " 11.38279460283945,\n",
       " 11.382794602839347,\n",
       " 11.382794602839246,\n",
       " 11.382794602839152,\n",
       " 11.38279460283906,\n",
       " 11.382794602838974,\n",
       " 11.382794602838889,\n",
       " 11.382794602838807,\n",
       " 11.38279460283873,\n",
       " 11.382794602838658,\n",
       " 11.382794602838587,\n",
       " 11.38279460283852,\n",
       " 11.382794602838453,\n",
       " 11.382794602838391,\n",
       " 11.382794602838331,\n",
       " 11.382794602838274,\n",
       " 11.382794602838219,\n",
       " 11.382794602838166,\n",
       " 11.382794602838114,\n",
       " 11.382794602838068,\n",
       " 11.38279460283802,\n",
       " 11.382794602837976,\n",
       " 11.382794602837933,\n",
       " 11.382794602837892,\n",
       " 11.382794602837855,\n",
       " 11.382794602837816,\n",
       " 11.38279460283778,\n",
       " 11.382794602837746,\n",
       " 11.382794602837713,\n",
       " 11.382794602837683,\n",
       " 11.38279460283765,\n",
       " 11.382794602837622,\n",
       " 11.382794602837594,\n",
       " 11.382794602837569,\n",
       " 11.382794602837544,\n",
       " 11.382794602837519,\n",
       " 11.382794602837496,\n",
       " 11.382794602837473,\n",
       " 11.382794602837452,\n",
       " 11.382794602837432,\n",
       " 11.38279460283741,\n",
       " 11.382794602837391,\n",
       " 11.382794602837373,\n",
       " 11.382794602837357,\n",
       " 11.38279460283734,\n",
       " 11.382794602837324,\n",
       " 11.382794602837308,\n",
       " 11.382794602837293,\n",
       " 11.38279460283728,\n",
       " 11.382794602837267,\n",
       " 11.382794602837253,\n",
       " 11.38279460283724,\n",
       " 11.382794602837228,\n",
       " 11.382794602837219,\n",
       " 11.382794602837208,\n",
       " 11.382794602837198,\n",
       " 11.382794602837187,\n",
       " 11.382794602837176,\n",
       " 11.38279460283717,\n",
       " 11.382794602837158,\n",
       " 11.38279460283715,\n",
       " 11.382794602837143,\n",
       " 11.382794602837135,\n",
       " 11.382794602837127,\n",
       " 11.382794602837121,\n",
       " 11.382794602837114,\n",
       " 11.382794602837105,\n",
       " 11.382794602837102,\n",
       " 11.382794602837093,\n",
       " 11.38279460283709,\n",
       " 11.382794602837084,\n",
       " 11.382794602837077,\n",
       " 11.382794602837073,\n",
       " 11.38279460283707,\n",
       " 11.382794602837064,\n",
       " 11.38279460283706,\n",
       " 11.382794602837055,\n",
       " 11.382794602837052,\n",
       " 11.382794602837045,\n",
       " 11.382794602837043,\n",
       " 11.382794602837041,\n",
       " 11.382794602837038,\n",
       " 11.382794602837032,\n",
       " 11.38279460283703,\n",
       " 11.382794602837027,\n",
       " 11.382794602837023,\n",
       " 11.38279460283702,\n",
       " 11.382794602837018,\n",
       " 11.382794602837016,\n",
       " 11.382794602837013,\n",
       " 11.382794602837011,\n",
       " 11.38279460283701,\n",
       " 11.382794602837006,\n",
       " 11.382794602837006,\n",
       " 11.382794602837002,\n",
       " 11.382794602837002,\n",
       " 11.382794602836999,\n",
       " 11.382794602836997,\n",
       " 11.382794602836995,\n",
       " 11.382794602836993,\n",
       " 11.382794602836992,\n",
       " 11.382794602836992,\n",
       " 11.382794602836992,\n",
       " 11.382794602836988,\n",
       " 11.382794602836988,\n",
       " 11.382794602836984,\n",
       " 11.382794602836984,\n",
       " 11.382794602836983,\n",
       " 11.382794602836983,\n",
       " 11.38279460283698,\n",
       " 11.38279460283698,\n",
       " 11.382794602836979,\n",
       " 11.382794602836979,\n",
       " 11.382794602836977,\n",
       " 11.382794602836977,\n",
       " 11.382794602836974,\n",
       " 11.382794602836974,\n",
       " 11.382794602836974,\n",
       " 11.382794602836972,\n",
       " 11.382794602836974,\n",
       " 11.382794602836974,\n",
       " 11.38279460283697,\n",
       " 11.382794602836972,\n",
       " 11.38279460283697,\n",
       " 11.38279460283697,\n",
       " 11.382794602836968,\n",
       " 11.382794602836968,\n",
       " 11.382794602836968,\n",
       " 11.382794602836967,\n",
       " 11.382794602836968,\n",
       " 11.382794602836967,\n",
       " 11.382794602836967,\n",
       " 11.382794602836967,\n",
       " 11.382794602836967,\n",
       " 11.382794602836965,\n",
       " 11.382794602836967,\n",
       " 11.382794602836965,\n",
       " 11.382794602836965,\n",
       " 11.382794602836965,\n",
       " 11.382794602836963,\n",
       " 11.382794602836963,\n",
       " 11.382794602836965,\n",
       " 11.382794602836963,\n",
       " 11.382794602836963,\n",
       " 11.382794602836963,\n",
       " 11.382794602836963,\n",
       " 11.382794602836961,\n",
       " 11.382794602836961,\n",
       " 11.382794602836961,\n",
       " 11.382794602836961,\n",
       " 11.382794602836961,\n",
       " 11.382794602836961,\n",
       " 11.38279460283696,\n",
       " 11.38279460283696,\n",
       " 11.38279460283696,\n",
       " 11.38279460283696,\n",
       " 11.38279460283696,\n",
       " 11.382794602836961,\n",
       " 11.38279460283696,\n",
       " 11.38279460283696,\n",
       " 11.38279460283696,\n",
       " 11.38279460283696,\n",
       " 11.38279460283696,\n",
       " 11.38279460283696,\n",
       " 11.38279460283696,\n",
       " 11.38279460283696,\n",
       " 11.38279460283696,\n",
       " 11.38279460283696,\n",
       " 11.38279460283696,\n",
       " 11.38279460283696,\n",
       " 11.38279460283696,\n",
       " 11.38279460283696,\n",
       " 11.382794602836958,\n",
       " 11.382794602836958,\n",
       " 11.382794602836958,\n",
       " 11.38279460283696,\n",
       " 11.382794602836958,\n",
       " 11.38279460283696,\n",
       " 11.382794602836958,\n",
       " 11.38279460283696,\n",
       " 11.38279460283696,\n",
       " 11.382794602836958,\n",
       " 11.382794602836958,\n",
       " 11.382794602836958,\n",
       " 11.382794602836958,\n",
       " 11.382794602836958,\n",
       " 11.382794602836958,\n",
       " 11.382794602836958,\n",
       " 11.382794602836958,\n",
       " 11.382794602836958,\n",
       " 11.382794602836958,\n",
       " 11.382794602836958,\n",
       " 11.382794602836956,\n",
       " 11.382794602836958,\n",
       " 11.382794602836958,\n",
       " 11.382794602836956,\n",
       " 11.38279460283696,\n",
       " 11.382794602836958,\n",
       " 11.38279460283696,\n",
       " 11.382794602836956,\n",
       " 11.382794602836956,\n",
       " 11.382794602836956,\n",
       " 11.382794602836958,\n",
       " 11.382794602836956,\n",
       " 11.382794602836958,\n",
       " 11.382794602836958,\n",
       " 11.382794602836958,\n",
       " 11.382794602836956,\n",
       " 11.382794602836956,\n",
       " 11.382794602836956,\n",
       " 11.382794602836956,\n",
       " 11.382794602836956,\n",
       " 11.382794602836958,\n",
       " 11.382794602836958,\n",
       " 11.382794602836958,\n",
       " 11.382794602836956,\n",
       " 11.382794602836958,\n",
       " 11.382794602836958,\n",
       " 11.382794602836958,\n",
       " 11.382794602836958,\n",
       " 11.382794602836956,\n",
       " 11.382794602836956,\n",
       " 11.382794602836958,\n",
       " 11.382794602836958,\n",
       " 11.382794602836958,\n",
       " 11.382794602836956,\n",
       " 11.382794602836958,\n",
       " 11.382794602836958,\n",
       " 11.382794602836958,\n",
       " 11.382794602836958,\n",
       " 11.382794602836956,\n",
       " 11.382794602836958,\n",
       " 11.382794602836956,\n",
       " 11.382794602836956,\n",
       " 11.382794602836956,\n",
       " 11.382794602836956,\n",
       " 11.382794602836958,\n",
       " 11.382794602836958,\n",
       " 11.382794602836956,\n",
       " 11.38279460283696,\n",
       " 11.382794602836956,\n",
       " 11.382794602836958,\n",
       " 11.382794602836958,\n",
       " 11.382794602836958,\n",
       " 11.382794602836958,\n",
       " 11.382794602836958,\n",
       " 11.382794602836958,\n",
       " 11.382794602836956,\n",
       " 11.382794602836958,\n",
       " 11.382794602836956,\n",
       " 11.382794602836958,\n",
       " 11.382794602836956,\n",
       " 11.382794602836956,\n",
       " 11.382794602836956,\n",
       " 11.382794602836956,\n",
       " 11.382794602836956,\n",
       " 11.382794602836956,\n",
       " 11.382794602836956,\n",
       " 11.382794602836956,\n",
       " 11.382794602836958,\n",
       " 11.382794602836956,\n",
       " 11.382794602836958,\n",
       " 11.382794602836958,\n",
       " 11.382794602836958,\n",
       " 11.382794602836956,\n",
       " 11.382794602836958,\n",
       " 11.382794602836958,\n",
       " 11.382794602836956,\n",
       " 11.382794602836956,\n",
       " 11.382794602836956,\n",
       " 11.382794602836956,\n",
       " 11.382794602836956,\n",
       " 11.38279460283696,\n",
       " 11.382794602836958,\n",
       " 11.382794602836956,\n",
       " 11.382794602836956,\n",
       " 11.382794602836958,\n",
       " 11.382794602836958,\n",
       " 11.382794602836956,\n",
       " 11.382794602836956,\n",
       " 11.38279460283696,\n",
       " 11.382794602836956,\n",
       " 11.382794602836958,\n",
       " 11.382794602836958,\n",
       " 11.382794602836958,\n",
       " 11.382794602836956,\n",
       " 11.382794602836956,\n",
       " 11.382794602836956,\n",
       " 11.382794602836956,\n",
       " 11.382794602836958,\n",
       " 11.382794602836958,\n",
       " 11.382794602836956,\n",
       " 11.382794602836958,\n",
       " 11.382794602836956,\n",
       " 11.382794602836956,\n",
       " 11.382794602836956,\n",
       " 11.382794602836956,\n",
       " 11.382794602836956,\n",
       " 11.382794602836956,\n",
       " 11.382794602836958,\n",
       " 11.382794602836958,\n",
       " 11.382794602836956,\n",
       " 11.382794602836958,\n",
       " 11.382794602836956,\n",
       " 11.382794602836958,\n",
       " 11.382794602836958,\n",
       " 11.382794602836958,\n",
       " 11.382794602836958,\n",
       " 11.382794602836956,\n",
       " 11.382794602836956,\n",
       " 11.382794602836958,\n",
       " 11.382794602836958,\n",
       " 11.382794602836956,\n",
       " 11.382794602836956,\n",
       " 11.382794602836956,\n",
       " 11.382794602836956,\n",
       " 11.382794602836956,\n",
       " 11.382794602836956,\n",
       " 11.382794602836956,\n",
       " 11.382794602836958,\n",
       " 11.382794602836956,\n",
       " 11.382794602836956,\n",
       " 11.382794602836956,\n",
       " 11.382794602836958,\n",
       " 11.382794602836956,\n",
       " 11.382794602836958,\n",
       " 11.382794602836956,\n",
       " 11.382794602836956,\n",
       " 11.382794602836956,\n",
       " 11.382794602836958,\n",
       " 11.382794602836956,\n",
       " 11.382794602836958,\n",
       " 11.382794602836958,\n",
       " 11.382794602836956,\n",
       " 11.382794602836958,\n",
       " 11.382794602836956,\n",
       " 11.382794602836956,\n",
       " 11.382794602836956,\n",
       " 11.382794602836958,\n",
       " 11.382794602836956,\n",
       " 11.382794602836956,\n",
       " 11.382794602836958,\n",
       " 11.382794602836956,\n",
       " 11.382794602836958,\n",
       " 11.382794602836956,\n",
       " 11.382794602836956,\n",
       " 11.382794602836956,\n",
       " 11.382794602836956,\n",
       " 11.382794602836956,\n",
       " 11.382794602836956,\n",
       " 11.382794602836956,\n",
       " 11.382794602836958,\n",
       " 11.382794602836956,\n",
       " 11.382794602836956,\n",
       " 11.382794602836956,\n",
       " 11.382794602836956,\n",
       " 11.382794602836958,\n",
       " 11.382794602836956,\n",
       " 11.382794602836958,\n",
       " 11.382794602836956,\n",
       " 11.382794602836958,\n",
       " 11.382794602836956,\n",
       " 11.382794602836956,\n",
       " 11.382794602836956,\n",
       " 11.382794602836956,\n",
       " 11.382794602836956,\n",
       " 11.382794602836956,\n",
       " 11.382794602836958,\n",
       " 11.382794602836958,\n",
       " 11.382794602836956,\n",
       " 11.382794602836958,\n",
       " 11.382794602836956,\n",
       " 11.382794602836956,\n",
       " 11.382794602836956,\n",
       " 11.382794602836958,\n",
       " 11.382794602836958,\n",
       " 11.382794602836958,\n",
       " 11.382794602836958,\n",
       " 11.382794602836956,\n",
       " 11.382794602836956,\n",
       " 11.382794602836958,\n",
       " 11.382794602836956,\n",
       " 11.382794602836958,\n",
       " 11.382794602836956,\n",
       " 11.382794602836958,\n",
       " 11.382794602836956,\n",
       " 11.382794602836956,\n",
       " 11.382794602836956,\n",
       " 11.382794602836956,\n",
       " 11.382794602836956,\n",
       " 11.382794602836956,\n",
       " 11.382794602836956,\n",
       " 11.382794602836956,\n",
       " 11.382794602836958,\n",
       " 11.382794602836956,\n",
       " 11.382794602836958,\n",
       " 11.382794602836956,\n",
       " 11.382794602836956,\n",
       " 11.382794602836958,\n",
       " 11.382794602836956,\n",
       " 11.382794602836956,\n",
       " 11.382794602836958,\n",
       " 11.382794602836956,\n",
       " 11.382794602836956,\n",
       " 11.382794602836958,\n",
       " 11.382794602836958,\n",
       " 11.382794602836958,\n",
       " 11.382794602836956,\n",
       " 11.382794602836958,\n",
       " 11.382794602836956,\n",
       " 11.382794602836956,\n",
       " 11.382794602836958,\n",
       " 11.382794602836956,\n",
       " 11.382794602836956,\n",
       " 11.382794602836958,\n",
       " 11.382794602836956,\n",
       " 11.382794602836956,\n",
       " 11.382794602836958,\n",
       " 11.382794602836956,\n",
       " 11.382794602836956,\n",
       " 11.382794602836958,\n",
       " 11.382794602836958]"
      ]
     },
     "execution_count": 87,
     "metadata": {},
     "output_type": "execute_result"
    }
   ],
   "source": [
    "perceptron.fit(X_train,y_train)"
   ]
  },
  {
   "cell_type": "code",
   "execution_count": 88,
   "id": "1628c87d",
   "metadata": {},
   "outputs": [],
   "source": [
    "y_pred = perceptron.predict(X_test)"
   ]
  },
  {
   "cell_type": "code",
   "execution_count": 89,
   "id": "900fdeb2",
   "metadata": {},
   "outputs": [
    {
     "data": {
      "text/plain": [
       "array([1, 1, 0, 1, 0, 1, 1, 1, 0, 1, 0, 0, 0, 0, 1, 1, 1, 1, 1, 0])"
      ]
     },
     "execution_count": 89,
     "metadata": {},
     "output_type": "execute_result"
    }
   ],
   "source": [
    "y_test"
   ]
  },
  {
   "cell_type": "code",
   "execution_count": 90,
   "id": "612a668e",
   "metadata": {},
   "outputs": [
    {
     "data": {
      "text/plain": [
       "array([[ 8.,  0.],\n",
       "       [ 2., 10.]])"
      ]
     },
     "execution_count": 90,
     "metadata": {},
     "output_type": "execute_result"
    }
   ],
   "source": [
    "perceptron.confusion_matrix(y_test,y_pred)"
   ]
  },
  {
   "cell_type": "markdown",
   "id": "9725db68",
   "metadata": {},
   "source": [
    "# Second Perceptron"
   ]
  },
  {
   "cell_type": "code",
   "execution_count": 131,
   "id": "66b652e9",
   "metadata": {},
   "outputs": [],
   "source": [
    "class Perceptron():\n",
    "    \n",
    "    def predict(self,X:np.ndarray):\n",
    "        z = X@self.w\n",
    "        return np.where(z>=0,1,0)\n",
    "    \n",
    "    def fit(self,X:np.ndarray,y:np.ndarray,epochs:int=500,lr:float=0.001)->np.ndarray:\n",
    "        self.w = np.zeros(X.shape[-1])\n",
    "        self.errors_all = []\n",
    "        self.weights =[]\n",
    "        for _ in range(epochs):\n",
    "            error = 0\n",
    "            for x,target in zip(X,y):\n",
    "                error = np.sum(np.maximum(0,-1*target*self.predict(x)))\n",
    "                self.w = self.w + lr*(target - self.predict(x))*x\n",
    "                \n",
    "                self.errors_all.append(error)\n",
    "                self.weights.append(self.w)\n",
    "        return self.errors_all,self.weights\n",
    "    \n",
    "    def confusion_matrix(self,target,predicted):\n",
    "        n = len(np.unique(y_test))\n",
    "        confusion_matrix = np.zeros((n,n))\n",
    "        \n",
    "        for test,pred in zip(target,predicted):\n",
    "            confusion_matrix[test,pred] += 1\n",
    "            \n",
    "        return confusion_matrix        "
   ]
  },
  {
   "cell_type": "code",
   "execution_count": 132,
   "id": "87a11ba1",
   "metadata": {},
   "outputs": [],
   "source": [
    "per = Perceptron()"
   ]
  },
  {
   "cell_type": "code",
   "execution_count": 133,
   "id": "73e3e784",
   "metadata": {},
   "outputs": [],
   "source": [
    "errors,weights = per.fit(X_train,y_train)"
   ]
  },
  {
   "cell_type": "code",
   "execution_count": 134,
   "id": "6106c2ab",
   "metadata": {},
   "outputs": [],
   "source": [
    "y_pred = per.predict(X_test)"
   ]
  },
  {
   "cell_type": "code",
   "execution_count": 135,
   "id": "7f542bb0",
   "metadata": {},
   "outputs": [
    {
     "data": {
      "text/plain": [
       "array([1, 1, 0, 1, 0, 1, 1, 1, 0, 1, 0, 0, 0, 0, 1, 1, 1, 1, 1, 0])"
      ]
     },
     "execution_count": 135,
     "metadata": {},
     "output_type": "execute_result"
    }
   ],
   "source": [
    "y_test"
   ]
  },
  {
   "cell_type": "code",
   "execution_count": 137,
   "id": "4a1f87d4",
   "metadata": {},
   "outputs": [],
   "source": [
    "cm = per.confusion_matrix(y_test,y_pred)"
   ]
  },
  {
   "cell_type": "code",
   "execution_count": 141,
   "id": "dd3066ac",
   "metadata": {},
   "outputs": [
    {
     "data": {
      "text/plain": [
       "0.7"
      ]
     },
     "execution_count": 141,
     "metadata": {},
     "output_type": "execute_result"
    }
   ],
   "source": [
    "(cm[0][0] + cm[1][1])/np.sum(cm)"
   ]
  },
  {
   "cell_type": "code",
   "execution_count": 142,
   "id": "9b5ba40e",
   "metadata": {},
   "outputs": [
    {
     "data": {
      "text/plain": [
       "array([[8., 0.],\n",
       "       [6., 6.]])"
      ]
     },
     "execution_count": 142,
     "metadata": {},
     "output_type": "execute_result"
    }
   ],
   "source": [
    "cm"
   ]
  },
  {
   "cell_type": "markdown",
   "id": "87c9fb8a",
   "metadata": {},
   "source": [
    "# Linear Regression Again"
   ]
  },
  {
   "cell_type": "code",
   "execution_count": 1,
   "id": "35039909",
   "metadata": {},
   "outputs": [],
   "source": [
    "import numpy as np\n",
    "import matplotlib.pyplot as plt"
   ]
  },
  {
   "cell_type": "markdown",
   "id": "c4ac9f24",
   "metadata": {},
   "source": [
    "### Generating data"
   ]
  },
  {
   "cell_type": "code",
   "execution_count": 12,
   "id": "871585e6",
   "metadata": {},
   "outputs": [],
   "source": [
    "def create_dataset(n):\n",
    "    X = np.random.normal(size=n)\n",
    "    \n",
    "    y = 4 + 3*X + np.random.normal(n)\n",
    "    \n",
    "    return X,y"
   ]
  },
  {
   "cell_type": "code",
   "execution_count": 13,
   "id": "49e9dc1e",
   "metadata": {},
   "outputs": [],
   "source": [
    "X,y = create_dataset(100)"
   ]
  },
  {
   "cell_type": "code",
   "execution_count": 14,
   "id": "494d2b16",
   "metadata": {},
   "outputs": [
    {
     "data": {
      "image/png": "[encoded data removed]",
      "text/plain": [
       "<Figure size 432x288 with 1 Axes>"
      ]
     },
     "metadata": {
      "needs_background": "light"
     },
     "output_type": "display_data"
    }
   ],
   "source": [
    "plt.scatter(X,y)\n",
    "plt.grid(True)\n",
    "plt.xlabel(\"X\")\n",
    "plt.ylabel(\"y\")\n",
    "plt.show()"
   ]
  },
  {
   "cell_type": "code",
   "execution_count": 18,
   "id": "cb1d2e49",
   "metadata": {},
   "outputs": [],
   "source": [
    "def add_dummy_feature(X):\n",
    "    return np.column_stack((np.ones(X.shape[0]),X))"
   ]
  },
  {
   "cell_type": "code",
   "execution_count": 19,
   "id": "042497cf",
   "metadata": {},
   "outputs": [],
   "source": [
    "X_new = add_dummy_feature(X)"
   ]
  },
  {
   "cell_type": "code",
   "execution_count": 24,
   "id": "4f09f0da",
   "metadata": {},
   "outputs": [
    {
     "data": {
      "text/plain": [
       "array([[ 1.        , -0.43208229],\n",
       "       [ 1.        ,  1.16106446],\n",
       "       [ 1.        ,  1.46576043],\n",
       "       [ 1.        ,  0.50050677],\n",
       "       [ 1.        ,  0.44798622]])"
      ]
     },
     "execution_count": 24,
     "metadata": {},
     "output_type": "execute_result"
    }
   ],
   "source": [
    "X_new[:5]"
   ]
  },
  {
   "cell_type": "code",
   "execution_count": 58,
   "id": "1c749b5f",
   "metadata": {},
   "outputs": [],
   "source": [
    "class LinearRegression():\n",
    "    \n",
    "    def predict(self,X:np.ndarray)->np.ndarray:\n",
    "        return X@self.w\n",
    "    \n",
    "    def loss(self,X:np.ndarray,y:np.ndarray)->np.ndarray:\n",
    "        return (1/2)*(np.transpose(self.predict(X) - y)@(self.predict(X) - y))\n",
    "    \n",
    "    def fit(self,X:np.ndarray,y:np.ndarray,lr:float=10,epochs:int=500):\n",
    "        self.w = np.zeros(X.shape[-1])\n",
    "        self.errors = []\n",
    "        \n",
    "        for _ in range(epochs):\n",
    "            loss = self.loss(X,y)\n",
    "            self.errors.append(loss)\n",
    "            \n",
    "            dJdw = np.transpose(X)@(self.predict(X) - y)\n",
    "            \n",
    "            self.w = self.w - lr*dJdw\n",
    "            \n",
    "        return self.w,self.errors"
   ]
  },
  {
   "cell_type": "code",
   "execution_count": 59,
   "id": "e448faf4",
   "metadata": {},
   "outputs": [],
   "source": [
    "from sklearn.model_selection import train_test_split\n",
    "X_train,X_test,y_train,y_test = train_test_split(X_new,y,test_size=0.2,random_state=0)"
   ]
  },
  {
   "cell_type": "code",
   "execution_count": 60,
   "id": "c541c9ba",
   "metadata": {},
   "outputs": [],
   "source": [
    "w,e = lin_reg.fit(X_train,y_train)"
   ]
  },
  {
   "cell_type": "code",
   "execution_count": 61,
   "id": "654a21a2",
   "metadata": {},
   "outputs": [
    {
     "data": {
      "text/plain": [
       "array([108.03371318, 102.82353468, 107.63583848, 101.20596589,\n",
       "       105.63294082, 103.1778706 , 101.44749986, 106.22267732,\n",
       "       106.59550147, 100.88346208, 101.50902804, 106.83399607,\n",
       "        99.44521271, 100.68233602, 101.48885391, 104.21285638,\n",
       "       105.99252765, 109.80268584, 103.46514771, 101.84615375])"
      ]
     },
     "execution_count": 61,
     "metadata": {},
     "output_type": "execute_result"
    }
   ],
   "source": [
    "lin_reg.predict(X_test)"
   ]
  },
  {
   "cell_type": "code",
   "execution_count": 62,
   "id": "928be9c9",
   "metadata": {},
   "outputs": [
    {
     "data": {
      "text/plain": [
       "array([108.03371318, 102.82353468, 107.63583848, 101.20596589,\n",
       "       105.63294082, 103.1778706 , 101.44749986, 106.22267732,\n",
       "       106.59550147, 100.88346208, 101.50902804, 106.83399607,\n",
       "        99.44521271, 100.68233602, 101.48885391, 104.21285638,\n",
       "       105.99252765, 109.80268584, 103.46514771, 101.84615375])"
      ]
     },
     "execution_count": 62,
     "metadata": {},
     "output_type": "execute_result"
    }
   ],
   "source": [
    "y_test"
   ]
  },
  {
   "cell_type": "code",
   "execution_count": 63,
   "id": "35f1fe07",
   "metadata": {},
   "outputs": [
    {
     "data": {
      "text/plain": [
       "[<matplotlib.lines.Line2D at 0x292d70601c0>]"
      ]
     },
     "execution_count": 63,
     "metadata": {},
     "output_type": "execute_result"
    },
    {
     "data": {
      "image/png": "[encoded data removed]",
      "text/plain": [
       "<Figure size 432x288 with 1 Axes>"
      ]
     },
     "metadata": {
      "needs_background": "light"
     },
     "output_type": "display_data"
    }
   ],
   "source": [
    "plt.plot(e)"
   ]
  },
  {
   "cell_type": "markdown",
   "id": "9e0cbe18",
   "metadata": {},
   "source": [
    "# Polynomial Regression"
   ]
  },
  {
   "cell_type": "markdown",
   "id": "0c71dd83",
   "metadata": {},
   "source": [
    "### Generating dataset"
   ]
  },
  {
   "cell_type": "code",
   "execution_count": 2,
   "id": "5a272a10",
   "metadata": {},
   "outputs": [],
   "source": [
    "def create_nonlin_dataset(n):\n",
    "    X = np.random.uniform(0,10,n)\n",
    "    \n",
    "    y = 3 - 2*X + X**2\n",
    "    \n",
    "    return X,y"
   ]
  },
  {
   "cell_type": "code",
   "execution_count": 3,
   "id": "b2879288",
   "metadata": {},
   "outputs": [],
   "source": [
    "X,y = create_nonlin_dataset(100)"
   ]
  },
  {
   "cell_type": "code",
   "execution_count": 4,
   "id": "87a18e75",
   "metadata": {},
   "outputs": [
    {
     "data": {
      "image/png": "[encoded data removed]",
      "text/plain": [
       "<Figure size 432x288 with 1 Axes>"
      ]
     },
     "metadata": {
      "needs_background": "light"
     },
     "output_type": "display_data"
    }
   ],
   "source": [
    "plt.plot(X,y,'.b')\n",
    "plt.xlabel(\"X\")\n",
    "plt.ylabel(\"y\")\n",
    "plt.show()"
   ]
  },
  {
   "cell_type": "code",
   "execution_count": 73,
   "id": "245096d2",
   "metadata": {},
   "outputs": [],
   "source": [
    "def add_dummy_feature(X):\n",
    "    return np.column_stack((np.ones(X.shape[0]),X))"
   ]
  },
  {
   "cell_type": "code",
   "execution_count": 5,
   "id": "7338f579",
   "metadata": {},
   "outputs": [],
   "source": [
    "import itertools\n",
    "import functools\n",
    "def polynomial_transform(X,degree):\n",
    "    def get_combinations(X,degree):\n",
    "        return itertools.combinations_with_replacement(X,degree)\n",
    "    \n",
    "    def get_features(items):\n",
    "        return functools.reduce(lambda x,y:x*y,items)\n",
    "    \n",
    "    \n",
    "    X = np.array(X)\n",
    "    X = X.reshape(-1,1)\n",
    "    X_t = np.transpose(X)\n",
    "    features = [np.ones(len(X))]\n",
    "    \n",
    "    for degree in range(1,degree+1):\n",
    "        for items in get_combinations(X_t,degree):\n",
    "            features.append(get_features(items))\n",
    "            \n",
    "    return np.array(features).transpose()"
   ]
  },
  {
   "cell_type": "code",
   "execution_count": 7,
   "id": "90783b9e",
   "metadata": {},
   "outputs": [
    {
     "data": {
      "text/plain": [
       "array([[  1.,   4.,  16.,  64.],\n",
       "       [  1.,   5.,  25., 125.]])"
      ]
     },
     "execution_count": 7,
     "metadata": {},
     "output_type": "execute_result"
    }
   ],
   "source": [
    "z = np.array([4,5])\n",
    "polynomial_transform(z,3)"
   ]
  },
  {
   "cell_type": "code",
   "execution_count": 81,
   "id": "b5ce2749",
   "metadata": {},
   "outputs": [],
   "source": [
    "class LinearRegression():\n",
    "    \n",
    "    def predict(self,X:np.ndarray)->np.ndarray:\n",
    "        return X@self.w\n",
    "    \n",
    "    def loss(self,X:np.ndarray,y:np.ndarray)->np.ndarray:\n",
    "        return (1/2)*(np.transpose(self.predict(X) - y)@(self.predict(X) - y))\n",
    "    \n",
    "    def fit(self,X:np.ndarray,y:np.ndarray,lr:float=10,epochs:int=500):\n",
    "        self.w = np.zeros(X.shape[-1])\n",
    "        self.errors = []\n",
    "        \n",
    "        for _ in range(epochs):\n",
    "            loss = self.loss(X,y)\n",
    "            self.errors.append(loss)\n",
    "            \n",
    "            dJdw = np.transpose(X)@(self.predict(X) - y)\n",
    "            \n",
    "            self.w = self.w - lr*dJdw\n",
    "            \n",
    "        return self.w,self.errors"
   ]
  },
  {
   "cell_type": "code",
   "execution_count": 83,
   "id": "2ebfe086",
   "metadata": {},
   "outputs": [],
   "source": [
    "poly_reg = LinearRegression()"
   ]
  },
  {
   "cell_type": "code",
   "execution_count": 84,
   "id": "675d5d7a",
   "metadata": {},
   "outputs": [],
   "source": [
    "X_poly = polynomial_transform(X,2)"
   ]
  },
  {
   "cell_type": "code",
   "execution_count": 85,
   "id": "cc86776a",
   "metadata": {},
   "outputs": [
    {
     "data": {
      "text/plain": [
       "array([[ 1.        ,  7.26662058, 52.80377465],\n",
       "       [ 1.        ,  8.65972728, 74.99087656],\n",
       "       [ 1.        ,  1.41104285,  1.99104191],\n",
       "       [ 1.        ,  1.40657466,  1.97845228],\n",
       "       [ 1.        ,  7.80970626, 60.99151188]])"
      ]
     },
     "execution_count": 85,
     "metadata": {},
     "output_type": "execute_result"
    }
   ],
   "source": [
    "X_poly[:5,:]"
   ]
  },
  {
   "cell_type": "code",
   "execution_count": 86,
   "id": "495166d6",
   "metadata": {},
   "outputs": [
    {
     "name": "stderr",
     "output_type": "stream",
     "text": [
      "C:\\Users\\user\\AppData\\Local\\Temp/ipykernel_12732/1491670194.py:7: RuntimeWarning: overflow encountered in matmul\n",
      "  return (1/2)*(np.transpose(self.predict(X) - y)@(self.predict(X) - y))\n",
      "C:\\Users\\user\\AppData\\Local\\Temp/ipykernel_12732/1491670194.py:17: RuntimeWarning: overflow encountered in matmul\n",
      "  dJdw = np.transpose(X)@(self.predict(X) - y)\n",
      "C:\\Users\\user\\AppData\\Local\\Temp/ipykernel_12732/1491670194.py:19: RuntimeWarning: overflow encountered in multiply\n",
      "  self.w = self.w - lr*dJdw\n",
      "C:\\Users\\user\\AppData\\Local\\Temp/ipykernel_12732/1491670194.py:19: RuntimeWarning: invalid value encountered in subtract\n",
      "  self.w = self.w - lr*dJdw\n"
     ]
    }
   ],
   "source": [
    "weights,errors = poly_reg.fit(X_poly,y)"
   ]
  },
  {
   "cell_type": "code",
   "execution_count": 88,
   "id": "a2946c9b",
   "metadata": {},
   "outputs": [],
   "source": [
    "?np.random.multivariate_normal"
   ]
  },
  {
   "cell_type": "markdown",
   "id": "43f3d359",
   "metadata": {},
   "source": [
    "# Least Square Classificaion"
   ]
  },
  {
   "cell_type": "code",
   "execution_count": 97,
   "id": "7ea4ec70",
   "metadata": {},
   "outputs": [],
   "source": [
    "from sklearn.datasets import make_classification\n",
    "X,y = make_classification(n_samples=100)"
   ]
  },
  {
   "cell_type": "code",
   "execution_count": 101,
   "id": "6903f383",
   "metadata": {},
   "outputs": [],
   "source": [
    "from sklearn.model_selection import train_test_split\n",
    "X_train,X_test,y_train,y_test = train_test_split(X,y,test_size=0.2)"
   ]
  },
  {
   "cell_type": "code",
   "execution_count": 132,
   "id": "879ba5a7",
   "metadata": {},
   "outputs": [],
   "source": [
    "class LeastSquareClassifier():\n",
    "    \n",
    "    def predict(self,X):\n",
    "        z = X@self.w\n",
    "        return np.where(z>=0,1,0)\n",
    "    \n",
    "    def predict_internal(self,X):\n",
    "        return X@self.w\n",
    "    \n",
    "    def loss(self,X,y):\n",
    "        return (1/2)*(np.transpose(self.predict_internal(X) - y)@(self.predict_internal(X) -y))\n",
    "    \n",
    "    def fit(self,X,y):\n",
    "        self.w = np.linalg.pinv(X)@y\n",
    "        return self.w\n",
    "    \n",
    "    def calcualte_gradient(self,X,y):\n",
    "        return np.transpose(X)@(self.predict_internal(X) - y)\n",
    "    \n",
    "    def update_weights(self,lr,grad):\n",
    "        self.w -= lr*grad\n",
    "        return self.w\n",
    "    \n",
    "    def gradient_desecent(self,X,y,lr=0.001,epochs=500):\n",
    "        self.w = np.zeros(X.shape[-1])\n",
    "        self.loss_array = []\n",
    "        \n",
    "        for _ in range(epochs):\n",
    "            loss = self.loss(X,y)\n",
    "            self.loss_array.append(loss)\n",
    "            \n",
    "            dJdw = self.calcualte_gradient(X,y)\n",
    "            \n",
    "            self.w = self.update_weights(lr,dJdw)\n",
    "            \n",
    "        return self.w,self.loss_array\n",
    "    \n",
    "    def confusion_matrix(self,y_test,y_pred):\n",
    "        n = len(np.unique(y_test))\n",
    "        confusion_matrix = np.zeros((n,n))\n",
    "        \n",
    "        for t,p in zip(y_test,y_pred):\n",
    "            confusion_matrix[t,p] +=1\n",
    "            \n",
    "        return confusion_matrix"
   ]
  },
  {
   "cell_type": "code",
   "execution_count": 133,
   "id": "4e365672",
   "metadata": {},
   "outputs": [],
   "source": [
    "lsc = LeastSquareClassifier()"
   ]
  },
  {
   "cell_type": "code",
   "execution_count": 134,
   "id": "03bb62e5",
   "metadata": {},
   "outputs": [
    {
     "data": {
      "text/plain": [
       "array([ 0.14827122, -0.0823796 , -0.05052427,  0.10596449, -0.13366875,\n",
       "       -0.06212089, -0.10150127, -0.00251978,  0.04310323,  0.06530997,\n",
       "       -0.02607732,  0.01444023,  0.08937218,  0.05269616, -0.09624336,\n",
       "       -0.08783346, -0.15804736, -0.12412037,  0.25261349, -0.04398485])"
      ]
     },
     "execution_count": 134,
     "metadata": {},
     "output_type": "execute_result"
    }
   ],
   "source": [
    "lsc.fit(X_train,y_train)"
   ]
  },
  {
   "cell_type": "code",
   "execution_count": 135,
   "id": "c1fdbe34",
   "metadata": {},
   "outputs": [],
   "source": [
    "y_pred = lsc.predict(X_test)"
   ]
  },
  {
   "cell_type": "code",
   "execution_count": 136,
   "id": "bf3d25c2",
   "metadata": {},
   "outputs": [
    {
     "data": {
      "text/plain": [
       "array([[ 6.,  1.],\n",
       "       [ 3., 10.]])"
      ]
     },
     "execution_count": 136,
     "metadata": {},
     "output_type": "execute_result"
    }
   ],
   "source": [
    "lsc.confusion_matrix(y_test,y_pred)"
   ]
  },
  {
   "cell_type": "code",
   "execution_count": 137,
   "id": "973dfc84",
   "metadata": {},
   "outputs": [
    {
     "data": {
      "text/plain": [
       "array([1, 0, 0, 0, 0, 0, 1, 0, 1, 1, 1, 1, 1, 0, 0, 1, 0, 1, 1, 1])"
      ]
     },
     "execution_count": 137,
     "metadata": {},
     "output_type": "execute_result"
    }
   ],
   "source": [
    "y_pred"
   ]
  },
  {
   "cell_type": "code",
   "execution_count": 138,
   "id": "7fc36db7",
   "metadata": {},
   "outputs": [
    {
     "data": {
      "text/plain": [
       "array([1, 0, 0, 1, 0, 0, 1, 0, 1, 1, 1, 1, 1, 0, 1, 1, 1, 1, 1, 0])"
      ]
     },
     "execution_count": 138,
     "metadata": {},
     "output_type": "execute_result"
    }
   ],
   "source": [
    "y_test"
   ]
  },
  {
   "cell_type": "code",
   "execution_count": 139,
   "id": "d2a781ba",
   "metadata": {},
   "outputs": [],
   "source": [
    "weights,errors = lsc.gradient_desecent(X_train,y_train)"
   ]
  },
  {
   "cell_type": "code",
   "execution_count": 140,
   "id": "d2d9fd40",
   "metadata": {},
   "outputs": [
    {
     "data": {
      "text/plain": [
       "array([ 0.14827122, -0.08237959, -0.05052425,  0.10596444, -0.1336687 ,\n",
       "       -0.06212087, -0.10150121, -0.00251978,  0.04310319,  0.06530989,\n",
       "       -0.0260773 ,  0.01444021,  0.08937218,  0.05269615, -0.09624332,\n",
       "       -0.08783349, -0.15804731, -0.12412037,  0.25261348, -0.04398486])"
      ]
     },
     "execution_count": 140,
     "metadata": {},
     "output_type": "execute_result"
    }
   ],
   "source": [
    "weights"
   ]
  },
  {
   "cell_type": "code",
   "execution_count": 141,
   "id": "5ccbcb08",
   "metadata": {},
   "outputs": [
    {
     "data": {
      "text/plain": [
       "[18.5,\n",
       " 16.150774868323154,\n",
       " 14.608102104360022,\n",
       " 13.54748618919502,\n",
       " 12.787608885405925,\n",
       " 12.22356671282739,\n",
       " 11.792277697495262,\n",
       " 11.454256439723416,\n",
       " 11.18380425800652,\n",
       " 10.96358631063693,\n",
       " 10.781537987297975,\n",
       " 10.629037061623356,\n",
       " 10.499783324719258,\n",
       " 10.389086687914565,\n",
       " 10.293399555044072,\n",
       " 10.21000058527103,\n",
       " 10.136775536243693,\n",
       " 10.072062299468271,\n",
       " 10.014539511677413,\n",
       " 9.963145397168486,\n",
       " 9.917017955691039,\n",
       " 9.87545043791424,\n",
       " 9.837857897785334,\n",
       " 9.803751849528359,\n",
       " 9.772720905156795,\n",
       " 9.744415859205645,\n",
       " 9.71853810458884,\n",
       " 9.694830561262759,\n",
       " 9.673070513760234,\n",
       " 9.65306390911988,\n",
       " 9.634640780170571,\n",
       " 9.617651542367115,\n",
       " 9.601963973773282,\n",
       " 9.587460733314867,\n",
       " 9.574037306356384,\n",
       " 9.561600292077117,\n",
       " 9.550065966272623,\n",
       " 9.539359067715068,\n",
       " 9.529411767259223,\n",
       " 9.52016278735426,\n",
       " 9.511556646156647,\n",
       " 9.50354300551206,\n",
       " 9.49607610603708,\n",
       " 9.489114275647298,\n",
       " 9.482619500344647,\n",
       " 9.476557048041167,\n",
       " 9.47089513777145,\n",
       " 9.465604647916567,\n",
       " 9.460658858093748,\n",
       " 9.456033220208234,\n",
       " 9.451705154855429,\n",
       " 9.447653869832568,\n",
       " 9.443860197993228,\n",
       " 9.44030645207351,\n",
       " 9.436976294450218,\n",
       " 9.433854620070445,\n",
       " 9.430927451027944,\n",
       " 9.42818184146202,\n",
       " 9.425605791625234,\n",
       " 9.423188170112308,\n",
       " 9.420918643367685,\n",
       " 9.418787611696999,\n",
       " 9.416786151100837,\n",
       " 9.414905960329506,\n",
       " 9.413139312627598,\n",
       " 9.411479011697875,\n",
       " 9.409918351467073,\n",
       " 9.408451079282646,\n",
       " 9.407071362210061,\n",
       " 9.405773756136048,\n",
       " 9.40455317741448,\n",
       " 9.403404876819398,\n",
       " 9.402324415594027,\n",
       " 9.401307643406327,\n",
       " 9.400350678040772,\n",
       " 9.399449886673112,\n",
       " 9.39860186858993,\n",
       " 9.39780343922838,\n",
       " 9.39705161542344,\n",
       " 9.396343601760783,\n",
       " 9.395676777942974,\n",
       " 9.395048687085271,\n",
       " 9.394457024865066,\n",
       " 9.393899629455886,\n",
       " 9.393374472183124,\n",
       " 9.392879648844271,\n",
       " 9.392413371641457,\n",
       " 9.391973961678687,\n",
       " 9.391559841980257,\n",
       " 9.391169530990576,\n",
       " 9.39080163651897,\n",
       " 9.39045485009611,\n",
       " 9.390127941711471,\n",
       " 9.389819754903751,\n",
       " 9.389529202178462,\n",
       " 9.38925526072899,\n",
       " 9.388996968439297,\n",
       " 9.388753420148191,\n",
       " 9.38852376415666,\n",
       " 9.388307198961195,\n",
       " 9.388102970197338,\n",
       " 9.38791036777893,\n",
       " 9.387728723219585,\n",
       " 9.387557407123964,\n",
       " 9.387395826837363,\n",
       " 9.387243424242882,\n",
       " 9.387099673696403,\n",
       " 9.386964080090099,\n",
       " 9.38683617703607,\n",
       " 9.386715525162163,\n",
       " 9.386601710512647,\n",
       " 9.386494343046952,\n",
       " 9.386393055230108,\n",
       " 9.386297500709016,\n",
       " 9.386207353069022,\n",
       " 9.386122304665719,\n",
       " 9.386042065527207,\n",
       " 9.385966362322323,\n",
       " 9.385894937390766,\n",
       " 9.385827547831209,\n",
       " 9.385763964643761,\n",
       " 9.385703971923498,\n",
       " 9.385647366101809,\n",
       " 9.385593955232672,\n",
       " 9.385543558321103,\n",
       " 9.385496004691184,\n",
       " 9.38545113339126,\n",
       " 9.385408792634072,\n",
       " 9.385368839269685,\n",
       " 9.385331138289262,\n",
       " 9.385295562357797,\n",
       " 9.3852619913741,\n",
       " 9.385230312056374,\n",
       " 9.385200417551896,\n",
       " 9.385172207069335,\n",
       " 9.385145585532367,\n",
       " 9.385120463253353,\n",
       " 9.385096755625856,\n",
       " 9.385074382834919,\n",
       " 9.385053269584038,\n",
       " 9.385033344837861,\n",
       " 9.385014541579684,\n",
       " 9.38499679658288,\n",
       " 9.384980050195463,\n",
       " 9.384964246136978,\n",
       " 9.384949331307068,\n",
       " 9.38493525560496,\n",
       " 9.3849219717593,\n",
       " 9.384909435167716,\n",
       " 9.384897603745522,\n",
       " 9.384886437783077,\n",
       " 9.384875899811268,\n",
       " 9.384865954474659,\n",
       " 9.38485656841187,\n",
       " 9.384847710142754,\n",
       " 9.38483934996201,\n",
       " 9.38483145983882,\n",
       " 9.38482401332221,\n",
       " 9.38481698545177,\n",
       " 9.384810352673457,\n",
       " 9.384804092760156,\n",
       " 9.38479818473677,\n",
       " 9.38479260880953,\n",
       " 9.38478734629933,\n",
       " 9.384782379578837,\n",
       " 9.384777692013143,\n",
       " 9.384773267903801,\n",
       " 9.384769092436017,\n",
       " 9.384765151628816,\n",
       " 9.384761432288048,\n",
       " 9.384757921962041,\n",
       " 9.384754608899751,\n",
       " 9.384751482011294,\n",
       " 9.38474853083069,\n",
       " 9.384745745480723,\n",
       " 9.384743116639779,\n",
       " 9.384740635510562,\n",
       " 9.384738293790555,\n",
       " 9.384736083644185,\n",
       " 9.384733997676515,\n",
       " 9.384732028908456,\n",
       " 9.384730170753356,\n",
       " 9.384728416994903,\n",
       " 9.384726761766306,\n",
       " 9.384725199530605,\n",
       " 9.384723725062132,\n",
       " 9.384722333428988,\n",
       " 9.384721019976514,\n",
       " 9.384719780311706,\n",
       " 9.384718610288484,\n",
       " 9.38471750599382,\n",
       " 9.384716463734614,\n",
       " 9.38471548002534,\n",
       " 9.384714551576362,\n",
       " 9.384713675282935,\n",
       " 9.384712848214782,\n",
       " 9.384712067606312,\n",
       " 9.38471133084735,\n",
       " 9.384710635474393,\n",
       " 9.384709979162373,\n",
       " 9.384709359716872,\n",
       " 9.384708775066784,\n",
       " 9.384708223257366,\n",
       " 9.384707702443722,\n",
       " 9.384707210884605,\n",
       " 9.384706746936608,\n",
       " 9.384706309048664,\n",
       " 9.384705895756838,\n",
       " 9.38470550567946,\n",
       " 9.384705137512473,\n",
       " 9.384704790025095,\n",
       " 9.38470446205568,\n",
       " 9.384704152507855,\n",
       " 9.384703860346832,\n",
       " 9.384703584595957,\n",
       " 9.38470332433345,\n",
       " 9.384703078689306,\n",
       " 9.384702846842398,\n",
       " 9.384702628017727,\n",
       " 9.38470242148383,\n",
       " 9.384702226550333,\n",
       " 9.384702042565642,\n",
       " 9.384701868914775,\n",
       " 9.384701705017283,\n",
       " 9.384701550325332,\n",
       " 9.384701404321856,\n",
       " 9.38470126651884,\n",
       " 9.384701136455678,\n",
       " 9.384701013697633,\n",
       " 9.384700897834398,\n",
       " 9.384700788478703,\n",
       " 9.38470068526504,\n",
       " 9.384700587848423,\n",
       " 9.384700495903251,\n",
       " 9.38470040912221,\n",
       " 9.384700327215246,\n",
       " 9.384700249908597,\n",
       " 9.384700176943884,\n",
       " 9.384700108077233,\n",
       " 9.384700043078471,\n",
       " 9.384699981730353,\n",
       " 9.384699923827839,\n",
       " 9.384699869177403,\n",
       " 9.384699817596385,\n",
       " 9.384699768912398,\n",
       " 9.38469972296272,\n",
       " 9.384699679593783,\n",
       " 9.384699638660637,\n",
       " 9.384699600026472,\n",
       " 9.384699563562169,\n",
       " 9.384699529145859,\n",
       " 9.38469949666251,\n",
       " 9.384699466003564,\n",
       " 9.38469943706655,\n",
       " 9.384699409754756,\n",
       " 9.384699383976901,\n",
       " 9.384699359646834,\n",
       " 9.38469933668324,\n",
       " 9.384699315009374,\n",
       " 9.384699294552794,\n",
       " 9.384699275245136,\n",
       " 9.384699257021872,\n",
       " 9.384699239822092,\n",
       " 9.384699223588317,\n",
       " 9.384699208266294,\n",
       " 9.38469919380481,\n",
       " 9.384699180155536,\n",
       " 9.384699167272858,\n",
       " 9.384699155113715,\n",
       " 9.384699143637475,\n",
       " 9.38469913280578,\n",
       " 9.384699122582434,\n",
       " 9.384699112933266,\n",
       " 9.38469910382603,\n",
       " 9.384699095230289,\n",
       " 9.384699087117312,\n",
       " 9.384699079459992,\n",
       " 9.38469907223273,\n",
       " 9.384699065411377,\n",
       " 9.384699058973133,\n",
       " 9.384699052896485,\n",
       " 9.384699047161122,\n",
       " 9.384699041747876,\n",
       " 9.384699036638654,\n",
       " 9.384699031816385,\n",
       " 9.38469902726495,\n",
       " 9.38469902296914,\n",
       " 9.384699018914596,\n",
       " 9.384699015087769,\n",
       " 9.384699011475867,\n",
       " 9.384699008066821,\n",
       " 9.384699004849242,\n",
       " 9.384699001812368,\n",
       " 9.38469899894606,\n",
       " 9.38469899624073,\n",
       " 9.384698993687339,\n",
       " 9.384698991277356,\n",
       " 9.384698989002725,\n",
       " 9.384698986855845,\n",
       " 9.38469898482954,\n",
       " 9.384698982917039,\n",
       " 9.38469898111195,\n",
       " 9.384698979408242,\n",
       " 9.384698977800216,\n",
       " 9.384698976282506,\n",
       " 9.384698974850032,\n",
       " 9.384698973498011,\n",
       " 9.384698972221926,\n",
       " 9.384698971017507,\n",
       " 9.384698969880732,\n",
       " 9.384698968807804,\n",
       " 9.384698967795135,\n",
       " 9.384698966839338,\n",
       " 9.384698965937222,\n",
       " 9.384698965085775,\n",
       " 9.384698964282144,\n",
       " 9.38469896352365,\n",
       " 9.384698962807754,\n",
       " 9.384698962132065,\n",
       " 9.384698961494326,\n",
       " 9.384698960892402,\n",
       " 9.384698960324284,\n",
       " 9.384698959788075,\n",
       " 9.38469895928198,\n",
       " 9.38469895880431,\n",
       " 9.384698958353468,\n",
       " 9.384698957927945,\n",
       " 9.384698957526322,\n",
       " 9.384698957147254,\n",
       " 9.384698956789475,\n",
       " 9.38469895645179,\n",
       " 9.384698956133072,\n",
       " 9.384698955832254,\n",
       " 9.38469895554833,\n",
       " 9.384698955280353,\n",
       " 9.384698955027424,\n",
       " 9.384698954788703,\n",
       " 9.384698954563389,\n",
       " 9.384698954350728,\n",
       " 9.38469895415001,\n",
       " 9.384698953960568,\n",
       " 9.384698953781763,\n",
       " 9.384698953613,\n",
       " 9.384698953453718,\n",
       " 9.384698953303378,\n",
       " 9.384698953161484,\n",
       " 9.38469895302756,\n",
       " 9.384698952901154,\n",
       " 9.38469895278185,\n",
       " 9.384698952669247,\n",
       " 9.384698952562967,\n",
       " 9.384698952462657,\n",
       " 9.38469895236798,\n",
       " 9.384698952278619,\n",
       " 9.384698952194277,\n",
       " 9.384698952114674,\n",
       " 9.38469895203954,\n",
       " 9.384698951968627,\n",
       " 9.384698951901697,\n",
       " 9.384698951838525,\n",
       " 9.384698951778901,\n",
       " 9.384698951722626,\n",
       " 9.38469895166951,\n",
       " 9.384698951619379,\n",
       " 9.384698951572062,\n",
       " 9.384698951527405,\n",
       " 9.384698951485253,\n",
       " 9.38469895144547,\n",
       " 9.384698951407922,\n",
       " 9.384698951372481,\n",
       " 9.38469895133903,\n",
       " 9.38469895130746,\n",
       " 9.384698951277663,\n",
       " 9.384698951249538,\n",
       " 9.384698951222994,\n",
       " 9.38469895119794,\n",
       " 9.384698951174293,\n",
       " 9.384698951151973,\n",
       " 9.384698951130908,\n",
       " 9.384698951111027,\n",
       " 9.384698951092261,\n",
       " 9.384698951074549,\n",
       " 9.384698951057832,\n",
       " 9.384698951042054,\n",
       " 9.384698951027161,\n",
       " 9.384698951013107,\n",
       " 9.38469895099984,\n",
       " 9.38469895098732,\n",
       " 9.384698950975503,\n",
       " 9.38469895096435,\n",
       " 9.384698950953819,\n",
       " 9.384698950943882,\n",
       " 9.384698950934505,\n",
       " 9.384698950925653,\n",
       " 9.3846989509173,\n",
       " 9.384698950909414,\n",
       " 9.38469895090197,\n",
       " 9.384698950894947,\n",
       " 9.384698950888318,\n",
       " 9.384698950882058,\n",
       " 9.384698950876153,\n",
       " 9.384698950870579,\n",
       " 9.384698950865317,\n",
       " 9.38469895086035,\n",
       " 9.384698950855665,\n",
       " 9.384698950851242,\n",
       " 9.384698950847067,\n",
       " 9.384698950843124,\n",
       " 9.384698950839404,\n",
       " 9.384698950835896,\n",
       " 9.38469895083258,\n",
       " 9.384698950829454,\n",
       " 9.3846989508265,\n",
       " 9.384698950823715,\n",
       " 9.384698950821086,\n",
       " 9.384698950818606,\n",
       " 9.384698950816261,\n",
       " 9.384698950814052,\n",
       " 9.384698950811966,\n",
       " 9.384698950809998,\n",
       " 9.384698950808136,\n",
       " 9.384698950806381,\n",
       " 9.384698950804726,\n",
       " 9.384698950803164,\n",
       " 9.384698950801688,\n",
       " 9.384698950800296,\n",
       " 9.384698950798981,\n",
       " 9.384698950797741,\n",
       " 9.384698950796572,\n",
       " 9.384698950795466,\n",
       " 9.384698950794423,\n",
       " 9.384698950793439,\n",
       " 9.38469895079251,\n",
       " 9.384698950791634,\n",
       " 9.384698950790806,\n",
       " 9.384698950790025,\n",
       " 9.384698950789288,\n",
       " 9.384698950788591,\n",
       " 9.384698950787934,\n",
       " 9.384698950787316,\n",
       " 9.38469895078673,\n",
       " 9.384698950786177,\n",
       " 9.384698950785657,\n",
       " 9.384698950785165,\n",
       " 9.384698950784701,\n",
       " 9.384698950784262,\n",
       " 9.38469895078385,\n",
       " 9.38469895078346,\n",
       " 9.384698950783092,\n",
       " 9.384698950782743,\n",
       " 9.384698950782413,\n",
       " 9.384698950782104,\n",
       " 9.384698950781813,\n",
       " 9.384698950781535,\n",
       " 9.384698950781274,\n",
       " 9.38469895078103,\n",
       " 9.384698950780798,\n",
       " 9.384698950780578,\n",
       " 9.384698950780372,\n",
       " 9.384698950780178,\n",
       " 9.384698950779994,\n",
       " 9.384698950779818,\n",
       " 9.384698950779654,\n",
       " 9.3846989507795,\n",
       " 9.384698950779354,\n",
       " 9.384698950779217,\n",
       " 9.384698950779086,\n",
       " 9.384698950778963,\n",
       " 9.384698950778848,\n",
       " 9.384698950778738,\n",
       " 9.384698950778635,\n",
       " 9.384698950778537,\n",
       " 9.384698950778445,\n",
       " 9.384698950778358,\n",
       " 9.384698950778276,\n",
       " 9.384698950778198,\n",
       " 9.384698950778127,\n",
       " 9.384698950778057,\n",
       " 9.384698950777992,\n",
       " 9.384698950777931,\n",
       " 9.384698950777874,\n",
       " 9.384698950777818,\n",
       " 9.384698950777764,\n",
       " 9.384698950777718,\n",
       " 9.384698950777672,\n",
       " 9.384698950777628,\n",
       " 9.384698950777587,\n",
       " 9.384698950777548,\n",
       " 9.384698950777512,\n",
       " 9.384698950777477,\n",
       " 9.384698950777445,\n",
       " 9.384698950777413,\n",
       " 9.384698950777386,\n",
       " 9.384698950777357,\n",
       " 9.384698950777333,\n",
       " 9.384698950777308,\n",
       " 9.384698950777285,\n",
       " 9.384698950777263,\n",
       " 9.384698950777242,\n",
       " 9.384698950777224]"
      ]
     },
     "execution_count": 141,
     "metadata": {},
     "output_type": "execute_result"
    }
   ],
   "source": [
    "errors"
   ]
  },
  {
   "cell_type": "code",
   "execution_count": 142,
   "id": "54cbe048",
   "metadata": {},
   "outputs": [],
   "source": [
    "y_grad_pred = lsc.predict(X_test)"
   ]
  },
  {
   "cell_type": "code",
   "execution_count": 143,
   "id": "e351a700",
   "metadata": {},
   "outputs": [
    {
     "data": {
      "text/plain": [
       "array([[ 6.,  1.],\n",
       "       [ 3., 10.]])"
      ]
     },
     "execution_count": 143,
     "metadata": {},
     "output_type": "execute_result"
    }
   ],
   "source": [
    "lsc.confusion_matrix(y_test,y_grad_pred)"
   ]
  },
  {
   "cell_type": "code",
   "execution_count": 144,
   "id": "665a6046",
   "metadata": {},
   "outputs": [],
   "source": [
    "x1 = np.random.normal(2,2,size = 100).reshape(50,2)\n",
    "x2 = np.random.normal(10,2,size = 100).reshape(50,2)"
   ]
  },
  {
   "cell_type": "code",
   "execution_count": 147,
   "id": "a03ae73c",
   "metadata": {},
   "outputs": [
    {
     "data": {
      "text/plain": [
       "<matplotlib.collections.PathCollection at 0x221e9b5a6a0>"
      ]
     },
     "execution_count": 147,
     "metadata": {},
     "output_type": "execute_result"
    },
    {
     "data": {
      "image/png": "[encoded data removed]",
      "text/plain": [
       "<Figure size 432x288 with 1 Axes>"
      ]
     },
     "metadata": {
      "needs_background": "light"
     },
     "output_type": "display_data"
    }
   ],
   "source": [
    "plt.scatter(x1[:,0],x1[:,1])\n",
    "plt.scatter(x2[:,0],x2[:,1])\n"
   ]
  },
  {
   "cell_type": "code",
   "execution_count": 148,
   "id": "53bc34ea",
   "metadata": {},
   "outputs": [],
   "source": [
    "y1 = np.zeros(x1.shape[0])\n",
    "y2 = np.ones(x2.shape[0])"
   ]
  },
  {
   "cell_type": "code",
   "execution_count": 151,
   "id": "8304b146",
   "metadata": {},
   "outputs": [
    {
     "data": {
      "text/plain": [
       "(100, 2)"
      ]
     },
     "execution_count": 151,
     "metadata": {},
     "output_type": "execute_result"
    }
   ],
   "source": [
    "X = np.row_stack((x1,x2))\n",
    "X.shape"
   ]
  },
  {
   "cell_type": "code",
   "execution_count": 164,
   "id": "f9d5ca02",
   "metadata": {},
   "outputs": [],
   "source": [
    "y = np.concatenate([y1,y2],axis = 0).astype(int)"
   ]
  },
  {
   "cell_type": "code",
   "execution_count": 165,
   "id": "f5fd8342",
   "metadata": {},
   "outputs": [],
   "source": [
    "X = np.column_stack((np.ones(X.shape[0]),X))"
   ]
  },
  {
   "cell_type": "code",
   "execution_count": 166,
   "id": "602d3a76",
   "metadata": {},
   "outputs": [],
   "source": []
  },
  {
   "cell_type": "code",
   "execution_count": 167,
   "id": "71438da4",
   "metadata": {},
   "outputs": [],
   "source": [
    "def one_hot_encode(y):\n",
    "    e = np.eye(len(np.unique(y)))\n",
    "    y_enc = e[y]\n",
    "    \n",
    "    return y_enc"
   ]
  },
  {
   "cell_type": "code",
   "execution_count": 172,
   "id": "838681a1",
   "metadata": {},
   "outputs": [],
   "source": [
    "y_enc = one_hot_encode(y)"
   ]
  },
  {
   "cell_type": "code",
   "execution_count": 175,
   "id": "223e8ab8",
   "metadata": {},
   "outputs": [
    {
     "ename": "IndexError",
     "evalue": "index 5 is out of bounds for axis 1 with size 2",
     "output_type": "error",
     "traceback": [
      "\u001b[1;31m---------------------------------------------------------------------------\u001b[0m",
      "\u001b[1;31mIndexError\u001b[0m                                Traceback (most recent call last)",
      "\u001b[1;32m~\\AppData\\Local\\Temp/ipykernel_12732/2158011600.py\u001b[0m in \u001b[0;36m<module>\u001b[1;34m\u001b[0m\n\u001b[1;32m----> 1\u001b[1;33m \u001b[0my_enc\u001b[0m\u001b[1;33m[\u001b[0m\u001b[1;33m:\u001b[0m\u001b[1;33m,\u001b[0m\u001b[1;36m5\u001b[0m\u001b[1;33m]\u001b[0m\u001b[1;33m\u001b[0m\u001b[1;33m\u001b[0m\u001b[0m\n\u001b[0m",
      "\u001b[1;31mIndexError\u001b[0m: index 5 is out of bounds for axis 1 with size 2"
     ]
    }
   ],
   "source": [
    "y_enc[:,5]"
   ]
  },
  {
   "cell_type": "code",
   "execution_count": 174,
   "id": "0262db0b",
   "metadata": {},
   "outputs": [],
   "source": [
    "from sklearn.model_selection import train_test_split\n",
    "X_train,X_test,y_train,y_test = train_test_split(X,y_enc,test_size=0.2,random_state=0)"
   ]
  },
  {
   "cell_type": "code",
   "execution_count": null,
   "id": "ff0d4ed2",
   "metadata": {},
   "outputs": [],
   "source": []
  }
 ],
 "metadata": {
  "kernelspec": {
   "display_name": "Python 3 (ipykernel)",
   "language": "python",
   "name": "python3"
  },
  "language_info": {
   "codemirror_mode": {
    "name": "ipython",
    "version": 3
   },
   "file_extension": ".py",
   "mimetype": "text/x-python",
   "name": "python",
   "nbconvert_exporter": "python",
   "pygments_lexer": "ipython3",
   "version": "3.9.7"
  }
 },
 "nbformat": 4,
 "nbformat_minor": 5
}
