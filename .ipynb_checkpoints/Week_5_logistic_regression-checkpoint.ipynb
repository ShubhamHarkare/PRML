{
 "cells": [
  {
   "cell_type": "code",
   "execution_count": 1,
   "id": "f6a92224-5bd2-452a-8fea-fdb1fea7ccea",
   "metadata": {},
   "outputs": [],
   "source": [
    "import numpy as np\n",
    "import matplotlib.pyplot as plt\n",
    "import seaborn as sns"
   ]
  },
  {
   "cell_type": "markdown",
   "id": "393c62fd-d0f2-4349-b365-475c298ee286",
   "metadata": {},
   "source": [
    "## Creating dataset"
   ]
  },
  {
   "cell_type": "code",
   "execution_count": 9,
   "id": "0e824ffa-5c6d-457b-b217-c979fda24e38",
   "metadata": {},
   "outputs": [],
   "source": [
    "def create_dataset():\n",
    "    x0 = np.random.normal(size=50).reshape(-1,2) - 1\n",
    "    x1 = np.random.normal(size = 50).reshape(-1,2) + 1\n",
    "    return np.concatenate([x0,x1]), np.concatenate([np.zeros(25),np.ones(25)])"
   ]
  },
  {
   "cell_type": "code",
   "execution_count": 10,
   "id": "aabb6a22-6ed0-4287-98b5-5b6fb1f960a2",
   "metadata": {},
   "outputs": [],
   "source": [
    "X,y = create_dataset()"
   ]
  },
  {
   "cell_type": "markdown",
   "id": "43415766-7070-4d4c-aac7-5e7669f93b15",
   "metadata": {},
   "source": [
    "## Train Test split"
   ]
  },
  {
   "cell_type": "code",
   "execution_count": 12,
   "id": "7c824858-fce9-4d81-ad32-c7a688b04f9f",
   "metadata": {},
   "outputs": [],
   "source": [
    "from sklearn.model_selection import train_test_split\n",
    "X_train,X_test,y_train,y_test = train_test_split(X,y)"
   ]
  },
  {
   "cell_type": "code",
   "execution_count": 14,
   "id": "7f8322ed-a2fb-49b9-8dfa-4065cd8273a5",
   "metadata": {},
   "outputs": [
    {
     "data": {
      "image/png": "[encoded data removed]",
      "text/plain": [
       "<Figure size 576x576 with 1 Axes>"
      ]
     },
     "metadata": {},
     "output_type": "display_data"
    }
   ],
   "source": [
    "sns.set_style('white')\n",
    "f = plt.figure(figsize=(8,8))\n",
    "sns.set_context(\"notebook\",font_scale=1.5,rc={'lines.linewidth':2.5})\n",
    "\n",
    "sns.scatterplot(data=X_train,x = X_train[:,-2],y = X_train[:,-1],hue=y_train)\n",
    "plt.xlabel(\"x_1\")\n",
    "plt.ylabel(\"x_2\")\n",
    "plt.show()"
   ]
  },
  {
   "cell_type": "code",
   "execution_count": 96,
   "id": "b802c8ed-0bd7-44ce-91e0-66d4602de16c",
   "metadata": {},
   "outputs": [],
   "source": [
    "class LogisticRegression():\n",
    "    \n",
    "    def set_weight_vector(self):\n",
    "        self.w = w\n",
    "        \n",
    "    def linear_combination(self,X:np.ndarray) -> np.ndarray:\n",
    "        return X @ self.w\n",
    "    \n",
    "    def sigmoid(self,z:np.ndarray) -> np.ndarray:\n",
    "        return 1/(1 + np.exp(-z))\n",
    "    \n",
    "    def activation(self,X:np.ndarray) -> np.ndarray:\n",
    "        return self.sigmoid(self.linear_combination(X))\n",
    "    \n",
    "    def predict(self,X:np.ndarray,threshold:float = 0.5):\n",
    "        return (self.activation(X) > threshold).astype(int)\n",
    "    \n",
    "    def loss(self,X:np.ndarray,y:np.ndarray,reg_rate:float) -> float:\n",
    "        return -1*(y@np.log(self.activation(X)) + (1-y)@(1 - np.log(self.activation(X)))) + reg_rate*(np.transpose(self.w)@self.w)\n",
    "    \n",
    "    def calculate_gradient(self,X:np.ndarray,y:np.ndarray,reg_rate:float) -> np.ndarray:\n",
    "        return np.transpose(X)@(self.activation(X) - y) + reg_rate*self.w \n",
    "    \n",
    "    def update_weights(self,lr:float,grad:np.ndarray) -> np.ndarray:\n",
    "        return (self.w - lr*grad)\n",
    "    \n",
    "    def gradient_descent(self,X:np.ndarray,y:np.ndarray,num_epochs:int,reg_rate:float,lr:float) -> np.ndarray:\n",
    "        self.w = np.zeros(X.shape[-1])\n",
    "        self.errors = []\n",
    "        self.weights = []\n",
    "        for i in np.arange(num_epochs):\n",
    "            self.weights.append(self.w)\n",
    "            dJdw = self.calculate_gradient(X,y,reg_rate)\n",
    "            self.w = self.update_weights(lr,dJdw)\n",
    "            error = self.loss(X,y,reg_rate)\n",
    "            self.errors.append(error)\n",
    "            \n",
    "        return self.w"
   ]
  },
  {
   "cell_type": "code",
   "execution_count": 97,
   "id": "285eb01a-af45-4660-a8d8-47921b9c7785",
   "metadata": {},
   "outputs": [],
   "source": [
    "log_reg = LogisticRegression()"
   ]
  },
  {
   "cell_type": "code",
   "execution_count": 98,
   "id": "4b0ed721-ffac-4bb1-b10f-2c1122557d4d",
   "metadata": {},
   "outputs": [],
   "source": [
    "log_reg.w = np.random.randn(X_train.shape[-1])"
   ]
  },
  {
   "cell_type": "code",
   "execution_count": 99,
   "id": "7491f434-0672-40e4-9e0e-24f4d3566e3f",
   "metadata": {},
   "outputs": [],
   "source": [
    "lc = log_reg.linear_combination(X_train)"
   ]
  },
  {
   "cell_type": "code",
   "execution_count": 100,
   "id": "bf4c2bd8-66c3-421a-af71-c22b282c059c",
   "metadata": {},
   "outputs": [
    {
     "data": {
      "text/plain": [
       "array([0.76614159, 0.61983416, 0.34844427, 0.09140308, 0.1002353 ,\n",
       "       0.19088801, 0.82341584, 0.7491362 , 0.52603083, 0.41766218,\n",
       "       0.5939224 , 0.11666503, 0.10159417, 0.5865976 , 0.00755861,\n",
       "       0.2981404 , 0.95421699, 0.1397361 , 0.58916261, 0.74629841,\n",
       "       0.78408192, 0.19503101, 0.20129623, 0.93597377, 0.34554801,\n",
       "       0.93974288, 0.68085169, 0.92604564, 0.21767411, 0.66836969,\n",
       "       0.29067577, 0.96496551, 0.95316857, 0.78441837, 0.68005112,\n",
       "       0.42484567, 0.90725028])"
      ]
     },
     "execution_count": 100,
     "metadata": {},
     "output_type": "execute_result"
    }
   ],
   "source": [
    "log_reg.activation(X_train)"
   ]
  },
  {
   "cell_type": "code",
   "execution_count": 101,
   "id": "3f974c55-d866-4b2b-b4b3-1f05e5f5a46a",
   "metadata": {},
   "outputs": [
    {
     "data": {
      "text/plain": [
       "array([1, 1, 0, 0, 0, 0, 1, 1, 1, 0, 1, 0, 0, 1, 0, 0, 1, 0, 1, 1, 1, 0,\n",
       "       0, 1, 0, 1, 1, 1, 0, 1, 0, 1, 1, 1, 1, 0, 1])"
      ]
     },
     "execution_count": 101,
     "metadata": {},
     "output_type": "execute_result"
    }
   ],
   "source": [
    "log_reg.predict(X_train)"
   ]
  },
  {
   "cell_type": "code",
   "execution_count": 102,
   "id": "09789c17-8345-4103-a2fe-667601f02475",
   "metadata": {},
   "outputs": [
    {
     "data": {
      "text/plain": [
       "1.0948226406763553"
      ]
     },
     "execution_count": 102,
     "metadata": {},
     "output_type": "execute_result"
    }
   ],
   "source": [
    "log_reg.loss(X_train,y_train,0)"
   ]
  },
  {
   "cell_type": "code",
   "execution_count": 103,
   "id": "2b00ef24-d2f5-4c78-aa1a-9af2a74b0e4e",
   "metadata": {},
   "outputs": [
    {
     "data": {
      "text/plain": [
       "array([-34.0811824 , -22.89811875])"
      ]
     },
     "execution_count": 103,
     "metadata": {},
     "output_type": "execute_result"
    }
   ],
   "source": [
    "log_reg.calculate_gradient(X_train,y_train,0)"
   ]
  },
  {
   "cell_type": "code",
   "execution_count": 104,
   "id": "6bdcd6e3-eec3-4434-b213-a0ad602adc76",
   "metadata": {},
   "outputs": [
    {
     "data": {
      "text/plain": [
       "array([-1.33528282,  0.14253807])"
      ]
     },
     "execution_count": 104,
     "metadata": {},
     "output_type": "execute_result"
    }
   ],
   "source": [
    "log_reg.w"
   ]
  },
  {
   "cell_type": "code",
   "execution_count": 105,
   "id": "146c0bdb-caec-400d-ae6e-b09a7de5afc8",
   "metadata": {},
   "outputs": [
    {
     "data": {
      "text/plain": [
       "array([-0.994471  ,  0.37151926])"
      ]
     },
     "execution_count": 105,
     "metadata": {},
     "output_type": "execute_result"
    }
   ],
   "source": [
    "log_reg.update_weights(0.01,log_reg.calculate_gradient(X_train,y_train,0))"
   ]
  },
  {
   "cell_type": "code",
   "execution_count": 127,
   "id": "ed25e6dd-9f82-4514-a362-259c7da05bb1",
   "metadata": {},
   "outputs": [
    {
     "data": {
      "text/plain": [
       "array([3.56052337, 2.56235381])"
      ]
     },
     "execution_count": 127,
     "metadata": {},
     "output_type": "execute_result"
    }
   ],
   "source": [
    "log_reg.gradient_descent(X_train,y_train,10000,0,0.001)"
   ]
  },
  {
   "cell_type": "code",
   "execution_count": 128,
   "id": "239aee1d-28d2-4da9-91d2-6cdca7f45f76",
   "metadata": {},
   "outputs": [],
   "source": [
    "def plot_learning_curves(err):\n",
    "    plt.plot(np.arange(len(err)),err,'r-')\n",
    "    plt.xlabel(\"Iter#\")\n",
    "    plt.ylabel(\"$\\mathbf{J(w)}$\")"
   ]
  },
  {
   "cell_type": "code",
   "execution_count": 129,
   "id": "8003b5e0-361c-4d7e-873f-738f7bf5fda0",
   "metadata": {},
   "outputs": [
    {
     "data": {
      "image/png": "[encoded data removed]",
      "text/plain": [
       "<Figure size 432x288 with 1 Axes>"
      ]
     },
     "metadata": {},
     "output_type": "display_data"
    }
   ],
   "source": [
    "plot_learning_curves(log_reg.errors)"
   ]
  },
  {
   "cell_type": "code",
   "execution_count": null,
   "id": "4fa567d4-811b-4478-bf95-0d349a631b18",
   "metadata": {},
   "outputs": [],
   "source": []
  }
 ],
 "metadata": {
  "kernelspec": {
   "display_name": "Python 3 (ipykernel)",
   "language": "python",
   "name": "python3"
  },
  "language_info": {
   "codemirror_mode": {
    "name": "ipython",
    "version": 3
   },
   "file_extension": ".py",
   "mimetype": "text/x-python",
   "name": "python",
   "nbconvert_exporter": "python",
   "pygments_lexer": "ipython3",
   "version": "3.9.7"
  }
 },
 "nbformat": 4,
 "nbformat_minor": 5
}
