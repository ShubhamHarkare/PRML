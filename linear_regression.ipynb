{
 "cells": [
  {
   "cell_type": "code",
   "execution_count": 1,
   "id": "49bedeaa",
   "metadata": {},
   "outputs": [],
   "source": [
    "import numpy as np\n",
    "import matplotlib.pyplot as plt"
   ]
  },
  {
   "cell_type": "code",
   "execution_count": 61,
   "id": "48e200a3",
   "metadata": {},
   "outputs": [],
   "source": [
    "X = np.random.normal(size=100,)"
   ]
  },
  {
   "cell_type": "code",
   "execution_count": 62,
   "id": "5421cbae",
   "metadata": {},
   "outputs": [],
   "source": [
    "y = 3 + 4*X + np.random.normal(size=100)"
   ]
  },
  {
   "cell_type": "code",
   "execution_count": 63,
   "id": "eac3c864",
   "metadata": {},
   "outputs": [
    {
     "data": {
      "text/plain": [
       "[<matplotlib.lines.Line2D at 0x2d67f3451c0>]"
      ]
     },
     "execution_count": 63,
     "metadata": {},
     "output_type": "execute_result"
    },
    {
     "data": {
      "image/png": "[encoded data removed]",
      "text/plain": [
       "<Figure size 432x288 with 1 Axes>"
      ]
     },
     "metadata": {
      "needs_background": "light"
     },
     "output_type": "display_data"
    }
   ],
   "source": [
    "plt.plot(X,y,'.b')"
   ]
  },
  {
   "cell_type": "code",
   "execution_count": 64,
   "id": "4715f28b",
   "metadata": {},
   "outputs": [],
   "source": [
    "X = np.column_stack((np.ones(X.shape[0]),X))"
   ]
  },
  {
   "cell_type": "code",
   "execution_count": 65,
   "id": "c7bb523b",
   "metadata": {},
   "outputs": [],
   "source": [
    "class LinearRegresssion():\n",
    "    def predict(self,X):\n",
    "        return X@self.w\n",
    "    \n",
    "    def loss(self,X,y):\n",
    "        e = (self.predict(X) - y)\n",
    "        \n",
    "        return (1/2)*(np.transpose(e)@e)\n",
    "    \n",
    "    def calculate_gradient(self,X,y):\n",
    "        return np.transpose(X)@(self.predict(X) - y)\n",
    "    \n",
    "    def update_weights(self,lr,grad):\n",
    "        self.w -= lr*grad\n",
    "        return self.w\n",
    "    \n",
    "    def gradient_descent(self,X,y,lr=0.001,epochs=10):\n",
    "        self.w = np.zeros(X.shape[-1])\n",
    "        self.gradient_errors =[]\n",
    "        \n",
    "        for _ in range(epochs):\n",
    "            loss = self.loss(X,y)\n",
    "            self.gradient_errors.append(loss)\n",
    "            \n",
    "            dJdw = self.calculate_gradient(X,y)\n",
    "            \n",
    "            self.w = self.update_weights(lr,dJdw)\n",
    "            \n",
    "        return self.w,self.gradient_errors\n",
    "        \n",
    "    def mini_batch_gradient_descent(self,X,y,batch_size=1,lr=0.001,epochs=100):\n",
    "        self.w = np.zeros(X.shape[-1])\n",
    "        self.w_all = []\n",
    "        self.error_all = []\n",
    "        mini_batch_id = 0\n",
    "        \n",
    "        for _ in range(epochs):\n",
    "            shuffled_indices = np.random.permutation(X.shape[0])\n",
    "            X_shuffled = X[shuffled_indices]\n",
    "            y_shuffled = y[shuffled_indices]\n",
    "            \n",
    "            for i in range(0,X.shape[0],batch_size):\n",
    "                mini_batch_id += 1\n",
    "                xi = X_shuffled[i:i+batch_size]\n",
    "                yi = y_shuffled[i:i+batch_size]\n",
    "                \n",
    "                \n",
    "                self.w_all.append(self.w)\n",
    "                self.error_all.append(self.loss(xi,yi))\n",
    "                \n",
    "                dJdw = 2/batch_size * self.calculate_gradient(xi,yi)\n",
    "                self.w = self.update_weights(lr,dJdw)\n",
    "                \n",
    "                \n",
    "    \n",
    "        return self.w_all,self.error_all"
   ]
  },
  {
   "cell_type": "code",
   "execution_count": 66,
   "id": "7d2ad226",
   "metadata": {},
   "outputs": [],
   "source": [
    "lin_reg = LinearRegresssion()"
   ]
  },
  {
   "cell_type": "code",
   "execution_count": 67,
   "id": "8ff8b6e5",
   "metadata": {},
   "outputs": [],
   "source": [
    "weights,ge = lin_reg.gradient_descent(X,y)"
   ]
  },
  {
   "cell_type": "code",
   "execution_count": 68,
   "id": "d2862867",
   "metadata": {},
   "outputs": [
    {
     "data": {
      "text/plain": [
       "array([1.94816647, 2.40697037])"
      ]
     },
     "execution_count": 68,
     "metadata": {},
     "output_type": "execute_result"
    }
   ],
   "source": [
    "weights"
   ]
  },
  {
   "cell_type": "code",
   "execution_count": 69,
   "id": "d4000a2d",
   "metadata": {
    "scrolled": true
   },
   "outputs": [],
   "source": [
    "weights,errors = lin_reg.mini_batch_gradient_descent(X,y)"
   ]
  },
  {
   "cell_type": "code",
   "execution_count": 70,
   "id": "ded9988c",
   "metadata": {},
   "outputs": [
    {
     "data": {
      "text/plain": [
       "array([3.0222396 , 4.06950562])"
      ]
     },
     "execution_count": 70,
     "metadata": {},
     "output_type": "execute_result"
    }
   ],
   "source": [
    "weights[-1]"
   ]
  },
  {
   "cell_type": "code",
   "execution_count": 105,
   "id": "2a68a8ef",
   "metadata": {},
   "outputs": [],
   "source": [
    "class LinearRegression2():\n",
    "    def predict(self,X):\n",
    "        return X@self.w\n",
    "    def loss(self,X,y):\n",
    "        e = (self.predict(X) - y)\n",
    "        return (1/2)*np.transpose(e)@e\n",
    "    def calculate_gradient(self,X,y):\n",
    "        return np.transpose(X)@(self.predict(X) - y)\n",
    "    \n",
    "    def update_weights(self,lr,grad):\n",
    "        return (lr*grad)\n",
    "    \n",
    "    \n",
    "    def gradient_descent(self,X,y,lr=0.01,epochs=500):\n",
    "        self.w = np.zeros(X.shape[-1])\n",
    "        self.w_all = []\n",
    "        self.errors_all = []\n",
    "        \n",
    "        for _ in range(epochs):\n",
    "            self.errors_all.append(self.loss(X,y))\n",
    "            dJdw = self.calculate_gradient(X,y)\n",
    "            \n",
    "            self.w -= self.update_weights(lr,dJdw)\n",
    "            self.w_all.append(self.w)\n",
    "            \n",
    "        return self.w_all,self.errors_all\n",
    "    \n",
    "    def mbgd(self,X,y,batch_size,lr=0.01,epochs=500):\n",
    "        self.w = np.zeros(X.shape[-1])\n",
    "        self.w_all = []\n",
    "        self.errors_all = []\n",
    "        \n",
    "        for _ in range(epochs):\n",
    "            shuffled_index = np.random.permutation(X.shape[0])\n",
    "            \n",
    "            X_shuffled = X[shuffled_index]\n",
    "            y_shuffled = y[shuffled_index]\n",
    "            \n",
    "            for i in range(0,X.shape[0],batch_size):\n",
    "                xi = X_shuffled[i:i+batch_size]\n",
    "                yi = y_shuffled[i:i+batch_size]\n",
    "                self.w_all.append(self.w)\n",
    "                self.errors_all.append(self.loss(xi,yi))\n",
    "                \n",
    "                dJdw = (2/batch_size)*self.calculate_gradient(xi,yi)\n",
    "                \n",
    "                self.w -= self.update_weights(lr,dJdw)\n",
    "                \n",
    "        return self.errors_all,self.w_all\n",
    "    "
   ]
  },
  {
   "cell_type": "code",
   "execution_count": 106,
   "id": "7b19f22c",
   "metadata": {},
   "outputs": [],
   "source": [
    "lin_reg = LinearRegression2()"
   ]
  },
  {
   "cell_type": "code",
   "execution_count": 107,
   "id": "ff1e7dec",
   "metadata": {},
   "outputs": [],
   "source": [
    "w,e = lin_reg.gradient_descent(X,y)"
   ]
  },
  {
   "cell_type": "code",
   "execution_count": 108,
   "id": "4ba7a417",
   "metadata": {},
   "outputs": [
    {
     "data": {
      "text/plain": [
       "47.81940854497563"
      ]
     },
     "execution_count": 108,
     "metadata": {},
     "output_type": "execute_result"
    }
   ],
   "source": [
    "e[-1]"
   ]
  },
  {
   "cell_type": "code",
   "execution_count": 109,
   "id": "31124cd2",
   "metadata": {},
   "outputs": [
    {
     "data": {
      "text/plain": [
       "[<matplotlib.lines.Line2D at 0x2d6290df1c0>]"
      ]
     },
     "execution_count": 109,
     "metadata": {},
     "output_type": "execute_result"
    },
    {
     "data": {
      "image/png": "[encoded data removed]",
      "text/plain": [
       "<Figure size 432x288 with 1 Axes>"
      ]
     },
     "metadata": {
      "needs_background": "light"
     },
     "output_type": "display_data"
    }
   ],
   "source": [
    "plt.plot(e)"
   ]
  },
  {
   "cell_type": "code",
   "execution_count": 116,
   "id": "82f87344",
   "metadata": {},
   "outputs": [],
   "source": [
    "e_mbdg,w_mbgd = lin_reg.mbgd(X,y,batch_size=10)"
   ]
  },
  {
   "cell_type": "code",
   "execution_count": 117,
   "id": "22617e80",
   "metadata": {},
   "outputs": [
    {
     "data": {
      "text/plain": [
       "array([3.02259905, 4.07184799])"
      ]
     },
     "execution_count": 117,
     "metadata": {},
     "output_type": "execute_result"
    }
   ],
   "source": [
    "w_mbgd[-1]"
   ]
  },
  {
   "cell_type": "code",
   "execution_count": 118,
   "id": "57cabe4c",
   "metadata": {},
   "outputs": [
    {
     "data": {
      "text/plain": [
       "6.704976256994061"
      ]
     },
     "execution_count": 118,
     "metadata": {},
     "output_type": "execute_result"
    }
   ],
   "source": [
    "e_mbdg[-1]"
   ]
  },
  {
   "cell_type": "code",
   "execution_count": null,
   "id": "46fd5614",
   "metadata": {},
   "outputs": [],
   "source": []
  }
 ],
 "metadata": {
  "kernelspec": {
   "display_name": "Python 3 (ipykernel)",
   "language": "python",
   "name": "python3"
  },
  "language_info": {
   "codemirror_mode": {
    "name": "ipython",
    "version": 3
   },
   "file_extension": ".py",
   "mimetype": "text/x-python",
   "name": "python",
   "nbconvert_exporter": "python",
   "pygments_lexer": "ipython3",
   "version": "3.9.7"
  }
 },
 "nbformat": 4,
 "nbformat_minor": 5
}
