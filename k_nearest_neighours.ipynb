{
 "cells": [
  {
   "cell_type": "code",
   "execution_count": 2,
   "id": "9c7f080d",
   "metadata": {},
   "outputs": [],
   "source": [
    "import numpy as np\n",
    "import matplotlib.pyplot as plt\n",
    "import seaborn as sns\n",
    "plt.style.use('seaborn')\n",
    "from scipy import stats\n",
    "\n",
    "from sklearn.datasets import make_blobs,make_classification\n",
    "from sklearn.model_selection import train_test_split"
   ]
  },
  {
   "cell_type": "markdown",
   "id": "7bfb1c1a",
   "metadata": {},
   "source": [
    "## Distance Computation"
   ]
  },
  {
   "cell_type": "code",
   "execution_count": 8,
   "id": "fcfb03e2",
   "metadata": {},
   "outputs": [],
   "source": [
    "def EuclidianDistance(x1,x2):\n",
    "    return np.sqrt(np.sum((x1 - x2)**2,axis = 1))\n",
    "\n",
    "def ManhattanDistance(x1,x2):\n",
    "    return np.sum(np.abs(x1 - x2),axis = 1)"
   ]
  },
  {
   "cell_type": "code",
   "execution_count": 10,
   "id": "f10b149f",
   "metadata": {},
   "outputs": [],
   "source": [
    "class KNN():\n",
    "    def __init__(self,k,distance_metric = EuclidianDistance,task_type = \"Classification\"):\n",
    "        self.k = k\n",
    "        self.distance_metric = distance_metric\n",
    "        self.task_type = task_type\n",
    "        \n",
    "    def fit(self,X,y):\n",
    "        self._X = X\n",
    "        self._y = y\n",
    "        \n",
    "    def predict(self,X,newExample):\n",
    "        distance_vector = distance_metric(self._X,newExample)\n",
    "        \n",
    "        k_nearest_neigbours_indices = np.argpartition(distance_vector,self.k)[:self.k]\n",
    "        \n",
    "        k_nearest_neigbours = self._y[k_nearest_neigbours_indices]\n",
    "        \n",
    "        if self.task_type == \"Classification\":\n",
    "            label = stats.mode(k_nearest_neigbours)[0]\n",
    "            \n",
    "        else:\n",
    "            label = k_nearest_neigbours.mean()\n",
    "            \n",
    "        return label,k_nearest_neigbours_indices\n",
    "    \n",
    "    def eval(self,X_test,y_test):\n",
    "        if self.task_type == \"Classification\":\n",
    "            y_predicted = np.zeros(y_test.shape)\n",
    "            for i in range(y_test.shape[0]):\n",
    "                y_predicted[i],_ = self.predict(X_test[i,:])\n",
    "                \n",
    "            error = np.mean(y_test==y_predicted,axis = 0)\n",
    "            \n",
    "        else:\n",
    "            y_predicted = np.zeros(y_test.shape)\n",
    "            for i in range(y_test.shape[0]):\n",
    "                y_predicted[i] = self.predict(X_test[i,:])\n",
    "                \n",
    "            error_vector = y_predicted - y_test\n",
    "            error = np.sqrt((error_vector.T@error_vector)/error_vector.ravel().shape[0])\n",
    "            \n",
    "        "
   ]
  },
  {
   "cell_type": "code",
   "execution_count": null,
   "id": "01e1eea1",
   "metadata": {},
   "outputs": [],
   "source": []
  }
 ],
 "metadata": {
  "kernelspec": {
   "display_name": "Python 3 (ipykernel)",
   "language": "python",
   "name": "python3"
  },
  "language_info": {
   "codemirror_mode": {
    "name": "ipython",
    "version": 3
   },
   "file_extension": ".py",
   "mimetype": "text/x-python",
   "name": "python",
   "nbconvert_exporter": "python",
   "pygments_lexer": "ipython3",
   "version": "3.9.7"
  }
 },
 "nbformat": 4,
 "nbformat_minor": 5
}
