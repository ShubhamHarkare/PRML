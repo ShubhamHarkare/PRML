{
 "cells": [
  {
   "cell_type": "code",
   "execution_count": 1,
   "id": "c0d8e3ba",
   "metadata": {},
   "outputs": [],
   "source": [
    "import numpy as np\n",
    "import pandas as pd"
   ]
  },
  {
   "cell_type": "code",
   "execution_count": 2,
   "id": "8ba63c84",
   "metadata": {},
   "outputs": [
    {
     "data": {
      "text/plain": [
       "2.220446049250313e-16"
      ]
     },
     "execution_count": 2,
     "metadata": {},
     "output_type": "execute_result"
    }
   ],
   "source": [
    "eps = np.finfo(float).eps\n",
    "eps"
   ]
  },
  {
   "cell_type": "code",
   "execution_count": 3,
   "id": "7dcb17a0",
   "metadata": {},
   "outputs": [],
   "source": [
    "df = pd.read_csv(\"play_tennis.csv\")"
   ]
  },
  {
   "cell_type": "code",
   "execution_count": 4,
   "id": "4e12a11e",
   "metadata": {},
   "outputs": [
    {
     "data": {
      "text/plain": [
       "Index(['day', 'outlook', 'temp', 'humidity', 'wind', 'play'], dtype='object')"
      ]
     },
     "execution_count": 4,
     "metadata": {},
     "output_type": "execute_result"
    }
   ],
   "source": [
    "df.keys()"
   ]
  },
  {
   "cell_type": "code",
   "execution_count": 5,
   "id": "5503f81a",
   "metadata": {},
   "outputs": [],
   "source": [
    "def calculate_overall_entropy(df):\n",
    "    target = df.keys()[-1]\n",
    "    \n",
    "    values,counts = np.unique(df[target],return_counts=True)\n",
    "    \n",
    "    counts = counts/np.sum(counts)\n",
    "    \n",
    "    \n",
    "    return np.sum(-counts*np.log2(counts))\n",
    "    "
   ]
  },
  {
   "cell_type": "code",
   "execution_count": 6,
   "id": "0403f25b",
   "metadata": {},
   "outputs": [
    {
     "data": {
      "text/plain": [
       "0.9402859586706311"
      ]
     },
     "execution_count": 6,
     "metadata": {},
     "output_type": "execute_result"
    }
   ],
   "source": [
    "calculate_overall_entropy(df)"
   ]
  },
  {
   "cell_type": "code",
   "execution_count": 7,
   "id": "e6349809",
   "metadata": {},
   "outputs": [],
   "source": [
    "def calculate_entropy_of_attribute(df,attribute):\n",
    "    target = df.keys()[-1]\n",
    "    values_in_target = np.unique(df[target])\n",
    "    \n",
    "    values_in_attribute = np.unique(df[attribute])\n",
    "    \n",
    "    attribute_entropy = 0\n",
    "    for value_in_attribute in values_in_attribute:\n",
    "        overall_entropy = 0\n",
    "        for value_in_target in values_in_target:\n",
    "            \n",
    "            num = len(df[attribute][df[attribute]==value_in_attribute][df[target]==value_in_target])\n",
    "            den = len(df[attribute][df[attribute]==value_in_attribute])\n",
    "            \n",
    "            p = num/(den+eps)\n",
    "            overall_entropy += -p*np.log2(p+eps)\n",
    "        p2 = den/len(df)\n",
    "        attribute_entropy += p2*overall_entropy\n",
    "        \n",
    "    return abs(attribute_entropy)"
   ]
  },
  {
   "cell_type": "code",
   "execution_count": 8,
   "id": "438c0692",
   "metadata": {},
   "outputs": [
    {
     "name": "stdout",
     "output_type": "stream",
     "text": [
      "outlook,0.6935361388961914\n",
      "temp,0.9110633930116756\n",
      "humidity,0.7884504573082889\n",
      "wind,0.892158928262361\n"
     ]
    }
   ],
   "source": [
    "for att in df.keys()[1:-1]:\n",
    "    print(f'{att},{calculate_entropy_of_attribute(df,att)}')"
   ]
  },
  {
   "cell_type": "markdown",
   "id": "ac9a238a",
   "metadata": {},
   "source": [
    "# Finding the best attribute for node"
   ]
  },
  {
   "cell_type": "code",
   "execution_count": 9,
   "id": "32755b8e",
   "metadata": {},
   "outputs": [],
   "source": [
    "def find_best_attribute(df):\n",
    "    target = df.keys()[-1]\n",
    "    IG = []\n",
    "    \n",
    "    for atts in df.keys()[1:-1]:\n",
    "        IG.append(calculate_overall_entropy(df) - calculate_entropy_of_attribute(df,atts))\n",
    "    best_attribute_to_divide = np.argmax(IG)+1\n",
    "    \n",
    "    return df.keys()[best_attribute_to_divide]"
   ]
  },
  {
   "cell_type": "code",
   "execution_count": 10,
   "id": "540c1579",
   "metadata": {},
   "outputs": [
    {
     "data": {
      "text/plain": [
       "'outlook'"
      ]
     },
     "execution_count": 10,
     "metadata": {},
     "output_type": "execute_result"
    }
   ],
   "source": [
    "find_best_attribute(df)"
   ]
  },
  {
   "cell_type": "code",
   "execution_count": 21,
   "id": "9a33f366",
   "metadata": {},
   "outputs": [],
   "source": [
    "def buildTree(df,tree=None):\n",
    "    target = df.keys()[-1]\n",
    "    \n",
    "    node  = find_best_attribute(df)\n",
    "    \n",
    "    attValue = np.unique(df[node])\n",
    "    \n",
    "    if tree==None:\n",
    "        tree = {}\n",
    "        tree[node] ={}\n",
    "    for value in attValue:\n",
    "        print(df[df[node]==value].reset_index(drop=True))"
   ]
  },
  {
   "cell_type": "code",
   "execution_count": 22,
   "id": "6eb400e9",
   "metadata": {},
   "outputs": [
    {
     "name": "stdout",
     "output_type": "stream",
     "text": [
      "   day   outlook  temp humidity    wind play\n",
      "0   D3  Overcast   Hot     High    Weak  Yes\n",
      "1   D7  Overcast  Cool   Normal  Strong  Yes\n",
      "2  D12  Overcast  Mild     High  Strong  Yes\n",
      "3  D13  Overcast   Hot   Normal    Weak  Yes\n",
      "   day outlook  temp humidity    wind play\n",
      "0   D4    Rain  Mild     High    Weak  Yes\n",
      "1   D5    Rain  Cool   Normal    Weak  Yes\n",
      "2   D6    Rain  Cool   Normal  Strong   No\n",
      "3  D10    Rain  Mild   Normal    Weak  Yes\n",
      "4  D14    Rain  Mild     High  Strong   No\n",
      "   day outlook  temp humidity    wind play\n",
      "0   D1   Sunny   Hot     High    Weak   No\n",
      "1   D2   Sunny   Hot     High  Strong   No\n",
      "2   D8   Sunny  Mild     High    Weak   No\n",
      "3   D9   Sunny  Cool   Normal    Weak  Yes\n",
      "4  D11   Sunny  Mild   Normal  Strong  Yes\n"
     ]
    }
   ],
   "source": [
    "buildTree(df)"
   ]
  },
  {
   "cell_type": "code",
   "execution_count": null,
   "id": "1c082164",
   "metadata": {},
   "outputs": [],
   "source": []
  }
 ],
 "metadata": {
  "kernelspec": {
   "display_name": "Python 3 (ipykernel)",
   "language": "python",
   "name": "python3"
  },
  "language_info": {
   "codemirror_mode": {
    "name": "ipython",
    "version": 3
   },
   "file_extension": ".py",
   "mimetype": "text/x-python",
   "name": "python",
   "nbconvert_exporter": "python",
   "pygments_lexer": "ipython3",
   "version": "3.9.7"
  }
 },
 "nbformat": 4,
 "nbformat_minor": 5
}
