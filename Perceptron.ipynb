{
 "cells": [
  {
   "cell_type": "code",
   "execution_count": 1,
   "id": "31d4cdc0",
   "metadata": {},
   "outputs": [],
   "source": [
    "import numpy as np\n",
    "from sklearn.datasets import make_classification"
   ]
  },
  {
   "cell_type": "code",
   "execution_count": null,
   "id": "5f685050",
   "metadata": {},
   "outputs": [],
   "source": []
  },
  {
   "cell_type": "code",
   "execution_count": 10,
   "id": "a5f4ffab",
   "metadata": {},
   "outputs": [],
   "source": [
    "X,y = make_classification(n_samples=100,n_classes=2)"
   ]
  },
  {
   "cell_type": "code",
   "execution_count": 11,
   "id": "c9ed205c",
   "metadata": {},
   "outputs": [
    {
     "data": {
      "text/plain": [
       "(100, 20)"
      ]
     },
     "execution_count": 11,
     "metadata": {},
     "output_type": "execute_result"
    }
   ],
   "source": [
    "X.shape"
   ]
  },
  {
   "cell_type": "code",
   "execution_count": 12,
   "id": "f2f60bf5",
   "metadata": {},
   "outputs": [],
   "source": [
    "from sklearn.model_selection import train_test_split\n",
    "X_train,X_test,y_train,y_test = train_test_split(X,y,test_size=0.2)"
   ]
  },
  {
   "cell_type": "code",
   "execution_count": 55,
   "id": "878c5a89",
   "metadata": {},
   "outputs": [],
   "source": [
    "class Perceptron():\n",
    "    \n",
    "    def predict(self,X):\n",
    "        z = X@self.w\n",
    "        return np.where(z>=0,1,0)\n",
    "    \n",
    "    def fit(self,X,y,lr=0.001,epochs=100):\n",
    "        self.w_all = []\n",
    "        self.errors_all = []\n",
    "        \n",
    "        for _ in range(epochs):\n",
    "            self.w = np.zeros(X.shape[-1])\n",
    "            error = 0\n",
    "            for xi,target in zip(X,y):\n",
    "                error = np.maximum(0,-1*target*self.predict(xi))\n",
    "                self.w += lr*(target - self.predict(xi))*xi \n",
    "                \n",
    "                self.w_all.append(self.w)\n",
    "                self.errors_all.append(error)\n",
    "        return self.w_all,self.errors_all\n",
    "    \n",
    "    def confusion_matrix(self,y_test,y_pred):\n",
    "        n  = len(np.unique(y_test))\n",
    "        \n",
    "        confusion_matrix = np.zeros((n,n))\n",
    "        \n",
    "        for t,p in zip(y_test,y_pred):\n",
    "            confusion_matrix[t,p] += 1\n",
    "            \n",
    "        return confusion_matrix"
   ]
  },
  {
   "cell_type": "code",
   "execution_count": 56,
   "id": "7f9ba0d3",
   "metadata": {},
   "outputs": [],
   "source": [
    "perceptron = Perceptron()"
   ]
  },
  {
   "cell_type": "code",
   "execution_count": 57,
   "id": "f024a086",
   "metadata": {},
   "outputs": [],
   "source": [
    "weights,error = perceptron.fit(X_train,y_train)"
   ]
  },
  {
   "cell_type": "code",
   "execution_count": 58,
   "id": "db742c0c",
   "metadata": {},
   "outputs": [
    {
     "data": {
      "text/plain": [
       "array([0, 1, 0, 1, 0, 1, 0, 1, 1, 0, 0, 0, 1, 0, 0, 0, 1, 1, 0, 0])"
      ]
     },
     "execution_count": 58,
     "metadata": {},
     "output_type": "execute_result"
    }
   ],
   "source": [
    "perceptron.predict(X_test)"
   ]
  },
  {
   "cell_type": "code",
   "execution_count": 59,
   "id": "8f5b47df",
   "metadata": {},
   "outputs": [
    {
     "data": {
      "text/plain": [
       "array([0, 1, 0, 1, 0, 1, 1, 1, 0, 0, 1, 0, 0, 0, 0, 0, 1, 1, 0, 0])"
      ]
     },
     "execution_count": 59,
     "metadata": {},
     "output_type": "execute_result"
    }
   ],
   "source": [
    "y_test"
   ]
  },
  {
   "cell_type": "code",
   "execution_count": 60,
   "id": "6f0afcbb",
   "metadata": {},
   "outputs": [
    {
     "data": {
      "text/plain": [
       "array([[10.,  2.],\n",
       "       [ 2.,  6.]])"
      ]
     },
     "execution_count": 60,
     "metadata": {},
     "output_type": "execute_result"
    }
   ],
   "source": [
    "perceptron.confusion_matrix(y_test,perceptron.predict(X_test))"
   ]
  },
  {
   "cell_type": "code",
   "execution_count": null,
   "id": "cb907f0a",
   "metadata": {},
   "outputs": [],
   "source": []
  }
 ],
 "metadata": {
  "kernelspec": {
   "display_name": "Python 3 (ipykernel)",
   "language": "python",
   "name": "python3"
  },
  "language_info": {
   "codemirror_mode": {
    "name": "ipython",
    "version": 3
   },
   "file_extension": ".py",
   "mimetype": "text/x-python",
   "name": "python",
   "nbconvert_exporter": "python",
   "pygments_lexer": "ipython3",
   "version": "3.9.7"
  }
 },
 "nbformat": 4,
 "nbformat_minor": 5
}
