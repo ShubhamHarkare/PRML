{
 "cells": [
  {
   "cell_type": "markdown",
   "id": "9ba0efa4-4af9-46a6-8792-0477eaabed80",
   "metadata": {
    "jp-MarkdownHeadingCollapsed": true,
    "tags": []
   },
   "source": [
    "# Importing neccessary libraries"
   ]
  },
  {
   "cell_type": "code",
   "execution_count": 150,
   "id": "1b65d4b0-a781-426b-b1b2-f795d98073bc",
   "metadata": {},
   "outputs": [],
   "source": [
    "import numpy as np\n",
    "import seaborn as sns\n",
    "import matplotlib.pyplot as plt"
   ]
  },
  {
   "cell_type": "markdown",
   "id": "63e0dd51-cd5b-41a5-b5fd-43d5fa162d0f",
   "metadata": {
    "jp-MarkdownHeadingCollapsed": true,
    "tags": []
   },
   "source": [
    "# Generating dataset from normal distrivution with (2,2) and (10,10)"
   ]
  },
  {
   "cell_type": "code",
   "execution_count": 73,
   "id": "74f40ae7-2767-4296-ad1b-0aa97dc10fa8",
   "metadata": {},
   "outputs": [],
   "source": [
    "X_1 = np.random.normal(2,2,size=100).reshape(50,2)\n",
    "X_2 = np.random.normal(10,10,size = 100).reshape(-1,2)"
   ]
  },
  {
   "cell_type": "markdown",
   "id": "7b8ce5bf-9676-4e17-a00d-41d1e1246e5d",
   "metadata": {
    "jp-MarkdownHeadingCollapsed": true,
    "tags": []
   },
   "source": [
    "# Scatter plot of the the generated datapoints"
   ]
  },
  {
   "cell_type": "code",
   "execution_count": 74,
   "id": "988b2c64-952c-4003-b364-e5a887786d14",
   "metadata": {},
   "outputs": [
    {
     "data": {
      "text/plain": [
       "<matplotlib.collections.PathCollection at 0x1719718c970>"
      ]
     },
     "execution_count": 74,
     "metadata": {},
     "output_type": "execute_result"
    },
    {
     "data": {
      "image/png": "[encoded data removed]",
      "text/plain": [
       "<Figure size 432x288 with 1 Axes>"
      ]
     },
     "metadata": {
      "needs_background": "light"
     },
     "output_type": "display_data"
    }
   ],
   "source": [
    "plt.scatter(X_1[:,0],X_1[:,1])\n",
    "plt.scatter(X_2[:,0],X_2[:,1])\n"
   ]
  },
  {
   "cell_type": "code",
   "execution_count": 75,
   "id": "1c4efbe7-d59a-4600-9c8b-b31c1f1fad15",
   "metadata": {},
   "outputs": [
    {
     "data": {
      "text/plain": [
       "((50, 2), (50, 2))"
      ]
     },
     "execution_count": 75,
     "metadata": {},
     "output_type": "execute_result"
    }
   ],
   "source": [
    "X_1.shape,X_2.shape"
   ]
  },
  {
   "cell_type": "code",
   "execution_count": 76,
   "id": "28db3117-aac4-4675-a248-a260e2646d21",
   "metadata": {},
   "outputs": [
    {
     "name": "stderr",
     "output_type": "stream",
     "text": [
      "C:\\Users\\user\\AppData\\Local\\Temp/ipykernel_15584/1416648981.py:2: DeprecationWarning: `np.int` is a deprecated alias for the builtin `int`. To silence this warning, use `int` by itself. Doing this will not modify any behavior and is safe. When replacing `np.int`, you may wish to use e.g. `np.int64` or `np.int32` to specify the precision. If you wish to review your current use, check the release note link for additional information.\n",
      "Deprecated in NumPy 1.20; for more details and guidance: https://numpy.org/devdocs/release/1.20.0-notes.html#deprecations\n",
      "  y = np.concatenate((np.zeros(X_1.shape[0]),np.ones(X_2.shape[0]))).astype(np.int)\n"
     ]
    }
   ],
   "source": [
    "X = np.concatenate((X_1,X_2))\n",
    "y = np.concatenate((np.zeros(X_1.shape[0]),np.ones(X_2.shape[0]))).astype(np.int)"
   ]
  },
  {
   "cell_type": "code",
   "execution_count": 77,
   "id": "b38c4379-be40-4d0f-9e76-f86dc3bed511",
   "metadata": {},
   "outputs": [
    {
     "data": {
      "text/plain": [
       "(100, 2)"
      ]
     },
     "execution_count": 77,
     "metadata": {},
     "output_type": "execute_result"
    }
   ],
   "source": [
    "X.shape"
   ]
  },
  {
   "cell_type": "code",
   "execution_count": 78,
   "id": "d54a669c-a2d2-4252-9858-7d254c72f11d",
   "metadata": {},
   "outputs": [],
   "source": [
    "X = np.column_stack((np.ones(X.shape[0]),X))"
   ]
  },
  {
   "cell_type": "code",
   "execution_count": 79,
   "id": "8ca48f0c-4bc4-4461-a575-3cf4426127c9",
   "metadata": {},
   "outputs": [
    {
     "data": {
      "text/plain": [
       "(100, 3)"
      ]
     },
     "execution_count": 79,
     "metadata": {},
     "output_type": "execute_result"
    }
   ],
   "source": [
    "X.shape"
   ]
  },
  {
   "cell_type": "markdown",
   "id": "c5ddc37b-552b-4f2d-aba7-7b5d9a2f43f4",
   "metadata": {
    "jp-MarkdownHeadingCollapsed": true,
    "tags": []
   },
   "source": [
    "# Randomizing the dataset"
   ]
  },
  {
   "cell_type": "code",
   "execution_count": 80,
   "id": "62bb3aec-b93c-47b5-bbef-b1af27d2d0a6",
   "metadata": {},
   "outputs": [],
   "source": [
    "a = np.random.permutation(100)"
   ]
  },
  {
   "cell_type": "code",
   "execution_count": 82,
   "id": "41e90944-ee37-471c-903b-78375370cfb1",
   "metadata": {},
   "outputs": [],
   "source": [
    "X = X[a]\n",
    "y = y[a]"
   ]
  },
  {
   "cell_type": "markdown",
   "id": "dfcd1c6a-cf61-4837-aaf2-b2e04585f79f",
   "metadata": {
    "jp-MarkdownHeadingCollapsed": true,
    "tags": []
   },
   "source": [
    "# OneHot Encoding the label vector"
   ]
  },
  {
   "cell_type": "code",
   "execution_count": 88,
   "id": "1b7015c5-44ba-4487-aac8-09fdcc171d1c",
   "metadata": {},
   "outputs": [],
   "source": [
    "def encoode(label):\n",
    "    encoded = np.zeros((label.shape[0],np.unique(label).shape[0]))\n",
    "    encoded[np.arange(label.shape[0]),label] = 1\n",
    "    return encoded"
   ]
  },
  {
   "cell_type": "code",
   "execution_count": 104,
   "id": "6725adc2-571a-495c-bdbd-7301a477fa41",
   "metadata": {},
   "outputs": [],
   "source": [
    "y_enc = encoode(y)"
   ]
  },
  {
   "cell_type": "code",
   "execution_count": 106,
   "id": "3433fbc8-48ec-435f-aaaa-78fe4d90f2a9",
   "metadata": {},
   "outputs": [],
   "source": [
    "from sklearn.model_selection import train_test_split\n",
    "X_train,X_test,y_train,y_test = train_test_split(X,y_enc,test_size=0.2,random_state=0)"
   ]
  },
  {
   "cell_type": "code",
   "execution_count": 107,
   "id": "24583bdb-bb11-4801-ae5c-1f6885540eaa",
   "metadata": {},
   "outputs": [
    {
     "data": {
      "text/plain": [
       "((80, 3), (80, 2), (20, 3), (20, 2))"
      ]
     },
     "execution_count": 107,
     "metadata": {},
     "output_type": "execute_result"
    }
   ],
   "source": [
    "X_train.shape,y_train.shape,X_test.shape,y_test.shape"
   ]
  },
  {
   "cell_type": "code",
   "execution_count": 108,
   "id": "5c9c990c-46dd-4c80-b738-da6cb579b677",
   "metadata": {},
   "outputs": [],
   "source": [
    "# e  =np.eye(2).astype(np.int)\n",
    "# y_encode = e[y]\n",
    "# y_encode"
   ]
  },
  {
   "cell_type": "markdown",
   "id": "8906cfb1-31a0-478f-b49d-88fbd5bbbdf8",
   "metadata": {
    "jp-MarkdownHeadingCollapsed": true,
    "tags": []
   },
   "source": [
    "# Predict Function"
   ]
  },
  {
   "cell_type": "code",
   "execution_count": 126,
   "id": "4b89c557-350b-4cae-a5a1-bea686c6c454",
   "metadata": {},
   "outputs": [],
   "source": [
    "def predict(X:np.ndarray,w:np.ndarray) -> np.ndarray:\n",
    "    return np.argmax(X @ w,axis=1)"
   ]
  },
  {
   "cell_type": "code",
   "execution_count": 133,
   "id": "e47341f4-aed2-4807-bd6c-2a86dd0ffcf1",
   "metadata": {},
   "outputs": [
    {
     "data": {
      "text/plain": [
       "array([[0.46962872, 0.27741636],\n",
       "       [0.27112091, 0.65866406],\n",
       "       [0.97373607, 0.41588947]])"
      ]
     },
     "execution_count": 133,
     "metadata": {},
     "output_type": "execute_result"
    }
   ],
   "source": [
    "w = np.random.rand(X_train.shape[-1],y_train.shape[-1])\n",
    "w"
   ]
  },
  {
   "cell_type": "code",
   "execution_count": 151,
   "id": "32578fab-39a3-495a-8812-51e4a4401f6f",
   "metadata": {},
   "outputs": [],
   "source": [
    "y_hat  = predict(X_train,w)"
   ]
  },
  {
   "cell_type": "markdown",
   "id": "3e3915f4-032a-4cd3-9969-5101fc7cd9f1",
   "metadata": {
    "jp-MarkdownHeadingCollapsed": true,
    "tags": []
   },
   "source": [
    "# Loss Function"
   ]
  },
  {
   "cell_type": "code",
   "execution_count": 172,
   "id": "3fc561dc-83c4-401d-aa78-52c6af20f304",
   "metadata": {},
   "outputs": [],
   "source": [
    "def loss(X:np.ndarray,y:np.ndarray,w:np.ndarray)->float:\n",
    "    e = y - X@w\n",
    "    return (1/2)*(np.trace(np.transpose(e)@e))\n",
    "    \n",
    "    "
   ]
  },
  {
   "cell_type": "code",
   "execution_count": 173,
   "id": "8af4829b-7188-469c-bfe9-3caae6991cbd",
   "metadata": {},
   "outputs": [
    {
     "data": {
      "text/plain": [
       "8712.774003506567"
      ]
     },
     "execution_count": 173,
     "metadata": {},
     "output_type": "execute_result"
    }
   ],
   "source": [
    "loss(X_train,y_train,w)"
   ]
  },
  {
   "cell_type": "markdown",
   "id": "b3af7546-9491-4eed-9b74-e11159c7dffc",
   "metadata": {
    "jp-MarkdownHeadingCollapsed": true,
    "tags": []
   },
   "source": [
    "# Fitting the weights using Normal equation"
   ]
  },
  {
   "cell_type": "code",
   "execution_count": 174,
   "id": "d0dba04f-b173-4f9d-8ea7-d51d727c268c",
   "metadata": {},
   "outputs": [],
   "source": [
    "def fit(X:np.ndarray,y:np.ndarray) -> np.ndarray:\n",
    "    w = np.zeros((X.shape[-1],y.shape[-1]))\n",
    "    w = np.linalg.pinv(np.transpose(X)@X)@np.transpose(X)@y\n",
    "    return w"
   ]
  },
  {
   "cell_type": "code",
   "execution_count": 175,
   "id": "88c67f17-5d55-4fa2-933b-cea3963b80ba",
   "metadata": {},
   "outputs": [],
   "source": [
    "w_new = fit(X_train,y_train)"
   ]
  },
  {
   "cell_type": "code",
   "execution_count": 176,
   "id": "595f26eb-5c9e-41d8-b9e7-23a1c86bff5b",
   "metadata": {},
   "outputs": [
    {
     "data": {
      "text/plain": [
       "10.906918831915778"
      ]
     },
     "execution_count": 176,
     "metadata": {},
     "output_type": "execute_result"
    }
   ],
   "source": [
    "loss(X_train,y_train,w_new)"
   ]
  },
  {
   "cell_type": "markdown",
   "id": "b3285c6e-95c8-47ba-8682-915a18f025fd",
   "metadata": {
    "jp-MarkdownHeadingCollapsed": true,
    "tags": []
   },
   "source": [
    "# Calaulate the gradient "
   ]
  },
  {
   "cell_type": "code",
   "execution_count": 184,
   "id": "305ea6b1-7ec2-41be-b541-3d0f248a7149",
   "metadata": {},
   "outputs": [],
   "source": [
    "def grad(X:np.ndarray,y:np.ndarray,w:np.ndarray) -> np.ndarray:\n",
    "    dJdw = X.T@(X@w - y)\n",
    "    return dJdw"
   ]
  },
  {
   "cell_type": "code",
   "execution_count": 186,
   "id": "e58cfb88-f388-4b54-85ff-4ae3442a5f6a",
   "metadata": {},
   "outputs": [
    {
     "data": {
      "text/plain": [
       "array([[ 606.13224153,  459.50009978],\n",
       "       [5443.82067142, 6347.86641051],\n",
       "       [9733.00231871, 5565.25788262]])"
      ]
     },
     "execution_count": 186,
     "metadata": {},
     "output_type": "execute_result"
    }
   ],
   "source": [
    "grad(X_train,y_train,w)"
   ]
  },
  {
   "cell_type": "code",
   "execution_count": 191,
   "id": "b501b2c2-26e7-4a70-a349-75748600f39e",
   "metadata": {},
   "outputs": [],
   "source": [
    "def update_weigth(X:np.ndarray,y:np.ndarray,w:np.ndarray,lr:float) -> np.ndarray:\n",
    "    return w - lr*grad(X,y,w)"
   ]
  },
  {
   "cell_type": "code",
   "execution_count": 197,
   "id": "a67e2d88-c3c6-4013-bf6d-9d659f573faf",
   "metadata": {},
   "outputs": [
    {
     "data": {
      "text/plain": [
       "array([[ -5.59169369,  -4.31758464],\n",
       "       [-54.1670858 , -62.82000005],\n",
       "       [-96.35628711, -55.23668935]])"
      ]
     },
     "execution_count": 197,
     "metadata": {},
     "output_type": "execute_result"
    }
   ],
   "source": [
    "update_weigth(X_train,y_train,w,0.01)"
   ]
  },
  {
   "cell_type": "markdown",
   "id": "62e6d309-9da1-43f6-a5a9-7c02a46abdbd",
   "metadata": {
    "jp-MarkdownHeadingCollapsed": true,
    "tags": []
   },
   "source": [
    "# Gradient Descent"
   ]
  },
  {
   "cell_type": "code",
   "execution_count": 201,
   "id": "3975dbfb-1275-4562-811a-9c1af18f66dc",
   "metadata": {},
   "outputs": [],
   "source": [
    "def gradient_descent(X:np.ndarray,y:np.ndarray,num_epochs:int,lr:float) -> np.ndarray:\n",
    "    w = np.zeros((X.shape[-1],y.shape[-1]))\n",
    "    for i in np.arange(0,num_epochs):\n",
    "        w = update_weigth(X,y,w,lr)\n",
    "    return w"
   ]
  },
  {
   "cell_type": "code",
   "execution_count": 221,
   "id": "cf59ea47-f1a6-472e-a39f-97046b05ccfb",
   "metadata": {},
   "outputs": [],
   "source": [
    "w = gradient_descent(X_train,y_train,100000,0.00001)"
   ]
  },
  {
   "cell_type": "code",
   "execution_count": 222,
   "id": "d0208b71-26c7-4c95-9f36-80b0744633c7",
   "metadata": {},
   "outputs": [
    {
     "data": {
      "text/plain": [
       "10.906918831915778"
      ]
     },
     "execution_count": 222,
     "metadata": {},
     "output_type": "execute_result"
    }
   ],
   "source": [
    "loss(X_train,y_train,w)"
   ]
  },
  {
   "cell_type": "code",
   "execution_count": 225,
   "id": "21c17c78-f9b9-488c-bac9-e41c4df34b19",
   "metadata": {},
   "outputs": [],
   "source": [
    "y_hat = predict(X_test,w)"
   ]
  },
  {
   "cell_type": "code",
   "execution_count": 227,
   "id": "86b4fc6a-bd7b-45f8-9aec-a97897cb3770",
   "metadata": {},
   "outputs": [
    {
     "data": {
      "text/plain": [
       "((20,), (20, 2))"
      ]
     },
     "execution_count": 227,
     "metadata": {},
     "output_type": "execute_result"
    }
   ],
   "source": [
    "y_hat.shape,y_test.shape"
   ]
  },
  {
   "cell_type": "code",
   "execution_count": 228,
   "id": "3e6c4710-7c8a-4810-a283-7d30c59b0d8f",
   "metadata": {},
   "outputs": [],
   "source": [
    "y_test = np.argmax(y_test,axis=1)"
   ]
  },
  {
   "cell_type": "code",
   "execution_count": 237,
   "id": "2ce7a45d-e5a1-4347-a20f-583fc9e801df",
   "metadata": {},
   "outputs": [],
   "source": [
    "tn = np.where((y_test==0) & (y_hat==0),1,0).sum()\n",
    "tp = np.where((y_test==1) & (y_hat==1),1,0).sum()\n",
    "fp = np.where((y_test==0) & (y_hat==1),1,0).sum()\n",
    "fn = np.where((y_test==1) & (y_hat==0),1,0).sum()"
   ]
  },
  {
   "cell_type": "code",
   "execution_count": 238,
   "id": "2ff3ed66-0a34-4f54-ad7a-519e331d7b65",
   "metadata": {},
   "outputs": [
    {
     "data": {
      "text/plain": [
       "array([[8, 0],\n",
       "       [5, 7]])"
      ]
     },
     "execution_count": 238,
     "metadata": {},
     "output_type": "execute_result"
    }
   ],
   "source": [
    "np.array([\n",
    "    [tn,fp],\n",
    "    [fn,tp]\n",
    "])"
   ]
  },
  {
   "cell_type": "code",
   "execution_count": null,
   "id": "4ba17fcd-7e0b-4d77-ac6f-65ec7cee3dba",
   "metadata": {},
   "outputs": [],
   "source": [
    "def accuracy()"
   ]
  }
 ],
 "metadata": {
  "kernelspec": {
   "display_name": "Python 3 (ipykernel)",
   "language": "python",
   "name": "python3"
  },
  "language_info": {
   "codemirror_mode": {
    "name": "ipython",
    "version": 3
   },
   "file_extension": ".py",
   "mimetype": "text/x-python",
   "name": "python",
   "nbconvert_exporter": "python",
   "pygments_lexer": "ipython3",
   "version": "3.9.7"
  }
 },
 "nbformat": 4,
 "nbformat_minor": 5
}
