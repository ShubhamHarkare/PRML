{
 "cells": [
  {
   "cell_type": "code",
   "execution_count": 5,
   "id": "f6a92224-5bd2-452a-8fea-fdb1fea7ccea",
   "metadata": {},
   "outputs": [],
   "source": [
    "import numpy as np\n",
    "import matplotlib.pyplot as plt\n",
    "import seaborn as sns"
   ]
  },
  {
   "cell_type": "markdown",
   "id": "393c62fd-d0f2-4349-b365-475c298ee286",
   "metadata": {},
   "source": [
    "## Creating dataset"
   ]
  },
  {
   "cell_type": "code",
   "execution_count": 6,
   "id": "0e824ffa-5c6d-457b-b217-c979fda24e38",
   "metadata": {},
   "outputs": [],
   "source": [
    "def create_dataset():\n",
    "    x0 = np.random.normal(size=50).reshape(-1,2) - 1\n",
    "    x1 = np.random.normal(size = 50).reshape(-1,2) + 1\n",
    "    return np.concatenate([x0,x1]), np.concatenate([np.zeros(25),np.ones(25)])"
   ]
  },
  {
   "cell_type": "code",
   "execution_count": 7,
   "id": "aabb6a22-6ed0-4287-98b5-5b6fb1f960a2",
   "metadata": {},
   "outputs": [],
   "source": [
    "X,y = create_dataset()"
   ]
  },
  {
   "cell_type": "code",
   "execution_count": 8,
   "id": "ddd8f8cc-b26d-44a8-ad65-494d918cdd93",
   "metadata": {},
   "outputs": [],
   "source": [
    "assert X.shape[0] == y.shape[0]"
   ]
  },
  {
   "cell_type": "code",
   "execution_count": 9,
   "id": "feb1d8b7-2f42-4e4d-b605-3b4c74c05cb2",
   "metadata": {},
   "outputs": [],
   "source": [
    "X = np.column_stack((np.ones(X.shape[0]),X))"
   ]
  },
  {
   "cell_type": "markdown",
   "id": "43415766-7070-4d4c-aac7-5e7669f93b15",
   "metadata": {},
   "source": [
    "## Train Test split"
   ]
  },
  {
   "cell_type": "code",
   "execution_count": 10,
   "id": "7c824858-fce9-4d81-ad32-c7a688b04f9f",
   "metadata": {},
   "outputs": [],
   "source": [
    "from sklearn.model_selection import train_test_split\n",
    "X_train,X_test,y_train,y_test = train_test_split(X,y)"
   ]
  },
  {
   "cell_type": "code",
   "execution_count": 11,
   "id": "7f8322ed-a2fb-49b9-8dfa-4065cd8273a5",
   "metadata": {},
   "outputs": [
    {
     "data": {
      "image/png": "[encoded data removed]",
      "text/plain": [
       "<Figure size 576x576 with 1 Axes>"
      ]
     },
     "metadata": {},
     "output_type": "display_data"
    }
   ],
   "source": [
    "sns.set_style('white')\n",
    "f = plt.figure(figsize=(8,8))\n",
    "sns.set_context(\"notebook\",font_scale=1.5,rc={'lines.linewidth':2.5})\n",
    "\n",
    "sns.scatterplot(data=X_train,x = X_train[:,-2],y = X_train[:,-1],hue=y_train)\n",
    "plt.xlabel(\"x_1\")\n",
    "plt.ylabel(\"x_2\")\n",
    "plt.show()"
   ]
  },
  {
   "cell_type": "markdown",
   "id": "bc210fee-8968-4871-92e6-ba39d450b5dc",
   "metadata": {},
   "source": [
    "## Logistic Regression class"
   ]
  },
  {
   "cell_type": "code",
   "execution_count": 12,
   "id": "b802c8ed-0bd7-44ce-91e0-66d4602de16c",
   "metadata": {},
   "outputs": [],
   "source": [
    "class LogisticRegression():\n",
    "    \n",
    "    def set_weight_vector(self,w):\n",
    "        self.w = w\n",
    "        \n",
    "    def linear_combination(self,X:np.ndarray) -> np.ndarray:\n",
    "        return X @ self.w\n",
    "    \n",
    "    def sigmoid(self,z:np.ndarray) -> np.ndarray:\n",
    "        return 1/(1 + np.exp(-z))\n",
    "    \n",
    "    def activation(self,X:np.ndarray) -> np.ndarray:\n",
    "        return self.sigmoid(self.linear_combination(X))\n",
    "    \n",
    "    def predict(self,X:np.ndarray,threshold:float = 0.5):\n",
    "        return (self.activation(X) > threshold).astype(int)\n",
    "    \n",
    "    def loss(self,X:np.ndarray,y:np.ndarray,reg_rate:float) -> float:\n",
    "        e1 = y@np.log(self.activation(X))\n",
    "        e2 = (1-y)@np.log(1 - self.activation(X))\n",
    "        reg_err = reg_rate*(np.transpose(self.w)@self.w)\n",
    "        \n",
    "        return -1*(e1 + e2) + reg_err\n",
    "    \n",
    "    def calculate_gradient(self,X:np.ndarray,y:np.ndarray,reg_rate:float) -> np.ndarray:\n",
    "        return np.transpose(X)@(self.activation(X) - y) + reg_rate*self.w \n",
    "    \n",
    "    def update_weights(self,lr:float,grad:np.ndarray) -> np.ndarray:\n",
    "        return (self.w - lr*grad)\n",
    "    \n",
    "    def gradient_descent(self,X:np.ndarray,y:np.ndarray,num_epochs:int,reg_rate:float,lr:float) -> np.ndarray:\n",
    "        self.w = np.zeros(X.shape[1])\n",
    "        self.errors = []\n",
    "        self.weights = []\n",
    "        for i in np.arange(num_epochs):\n",
    "            self.weights.append(self.w)\n",
    "            dJdw = self.calculate_gradient(X,y,reg_rate)\n",
    "            self.w = self.update_weights(lr,dJdw)\n",
    "            self.errors.append(self.loss(X,y,reg_rate))\n",
    "        return self.w"
   ]
  },
  {
   "cell_type": "code",
   "execution_count": 13,
   "id": "285eb01a-af45-4660-a8d8-47921b9c7785",
   "metadata": {},
   "outputs": [],
   "source": [
    "log_reg = LogisticRegression()"
   ]
  },
  {
   "cell_type": "markdown",
   "id": "29785a49-e607-4649-8043-e0b20d187e01",
   "metadata": {},
   "source": [
    "## Learning Curves"
   ]
  },
  {
   "cell_type": "code",
   "execution_count": 11,
   "id": "239aee1d-28d2-4da9-91d2-6cdca7f45f76",
   "metadata": {},
   "outputs": [],
   "source": [
    "def plot_learning_curves(err):\n",
    "    plt.plot(np.arange(len(err)),err,'r-')\n",
    "    plt.xlabel(\"Iter#\")\n",
    "    plt.ylabel(\"$\\mathbf{J(w)}$\")"
   ]
  },
  {
   "cell_type": "code",
   "execution_count": 12,
   "id": "4fa567d4-811b-4478-bf95-0d349a631b18",
   "metadata": {},
   "outputs": [
    {
     "data": {
      "text/plain": [
       "array([0.84208276, 2.02259197, 2.33605608])"
      ]
     },
     "execution_count": 12,
     "metadata": {},
     "output_type": "execute_result"
    }
   ],
   "source": [
    "log_reg.gradient_descent(X_train,y_train,1000,0,0.01)"
   ]
  },
  {
   "cell_type": "code",
   "execution_count": 13,
   "id": "5632a12e-f1f7-49c5-934b-802522ba4989",
   "metadata": {},
   "outputs": [
    {
     "data": {
      "image/png": "[encoded data removed]",
      "text/plain": [
       "<Figure size 432x288 with 1 Axes>"
      ]
     },
     "metadata": {},
     "output_type": "display_data"
    }
   ],
   "source": [
    "plot_learning_curves(log_reg.errors)"
   ]
  },
  {
   "cell_type": "code",
   "execution_count": 14,
   "id": "5fe76bd1-59c4-4f51-a768-5b42b1766cab",
   "metadata": {},
   "outputs": [],
   "source": [
    "y_hat = log_reg.predict(X_test)"
   ]
  },
  {
   "cell_type": "code",
   "execution_count": 15,
   "id": "a4e6b2ca-c84e-4267-9e1a-b5f2c4b665d7",
   "metadata": {},
   "outputs": [],
   "source": [
    "assert y_hat.shape == y_test.shape"
   ]
  },
  {
   "cell_type": "code",
   "execution_count": 16,
   "id": "deeda4d7-fca6-44da-bd67-42f448e547c5",
   "metadata": {},
   "outputs": [
    {
     "data": {
      "text/plain": [
       "array([[1., 1.],\n",
       "       [0., 0.],\n",
       "       [1., 1.],\n",
       "       [1., 1.],\n",
       "       [0., 0.],\n",
       "       [1., 1.],\n",
       "       [0., 0.],\n",
       "       [0., 0.],\n",
       "       [0., 0.],\n",
       "       [0., 0.],\n",
       "       [1., 1.],\n",
       "       [1., 1.],\n",
       "       [0., 0.]])"
      ]
     },
     "execution_count": 16,
     "metadata": {},
     "output_type": "execute_result"
    }
   ],
   "source": [
    "np.column_stack([y_hat,y_test])"
   ]
  },
  {
   "cell_type": "markdown",
   "id": "9a0f1d59-9213-40fa-a3b7-2e115236823d",
   "metadata": {},
   "source": [
    "## Non-linearly seperable model"
   ]
  },
  {
   "cell_type": "code",
   "execution_count": 34,
   "id": "0dc1dd92-7c97-44f7-ae26-cf16ea6c9aa4",
   "metadata": {},
   "outputs": [],
   "source": [
    "from sklearn.datasets import make_circles\n",
    "feature_matrix, label_vector = make_circles()"
   ]
  },
  {
   "cell_type": "code",
   "execution_count": 35,
   "id": "90f34e5f-3d60-4c2a-b0c4-f1964fc0589a",
   "metadata": {},
   "outputs": [],
   "source": [
    "assert feature_matrix.shape[0] == label_vector.shape[0]"
   ]
  },
  {
   "cell_type": "code",
   "execution_count": 36,
   "id": "c513a7ca-bf43-4f67-9c3c-4be03cdb67e6",
   "metadata": {},
   "outputs": [],
   "source": [
    "import itertools\n",
    "import functools\n",
    "\n",
    "def get_combinations(x,degree):\n",
    "    return itertools.combinations_with_replacement(x,degree)\n",
    "\n",
    "\n",
    "def compute_new_features(items):\n",
    "    return functools.reduce(lambda x,y: x*y,items)"
   ]
  },
  {
   "cell_type": "code",
   "execution_count": 37,
   "id": "8f877360-0a57-4da0-8ca4-6aa731296cfa",
   "metadata": {},
   "outputs": [],
   "source": [
    "import numpy as np\n",
    "import functools\n",
    "import itertools\n",
    "\n",
    "def polynomail_transform(x,degree,logging=False):\n",
    "    x = np.array(x)\n",
    "    if x.ndim == 1:\n",
    "        x = x[:,None] # If the input is of one dimension then this converts it into a featrue matrix\n",
    "    x_t = np.transpose(x)\n",
    "    features = [np.ones(len(x))]\n",
    "    \n",
    "    if logging:\n",
    "        print(\"Input:\",x)\n",
    "    for degree in range(1,degree+1):\n",
    "        for items in get_combinations(x_t,degree):\n",
    "            features.append(compute_new_features(items))\n",
    "            if logging:\n",
    "                print(items,':',compute_new_features(items) )\n",
    "    if logging:\n",
    "        print(np.asarray(features).transpose())\n",
    "    return np.asarray(features).transpose()"
   ]
  },
  {
   "cell_type": "code",
   "execution_count": 38,
   "id": "e1ece023-48e4-41c0-8db6-6a253619b59c",
   "metadata": {},
   "outputs": [],
   "source": [
    "x_poly = polynomail_transform(feature_matrix,degree=2)"
   ]
  },
  {
   "cell_type": "code",
   "execution_count": 39,
   "id": "4d3ef84b-b096-4c13-bbb1-308324082c99",
   "metadata": {},
   "outputs": [
    {
     "name": "stdout",
     "output_type": "stream",
     "text": [
      "Features before transformation: 2\n",
      "Features after transformation: 6\n"
     ]
    }
   ],
   "source": [
    "print(f'Features before transformation: {feature_matrix.shape[1]}')\n",
    "print(f'Features after transformation: {x_poly.shape[1]}')"
   ]
  },
  {
   "cell_type": "code",
   "execution_count": 40,
   "id": "3fdc79eb-47a8-40cc-87eb-d52916cf4712",
   "metadata": {},
   "outputs": [],
   "source": [
    "x_train,x_test,y_train,y_test = train_test_split(x_poly,label_vector)"
   ]
  },
  {
   "cell_type": "code",
   "execution_count": 41,
   "id": "edfd1a91-4d1d-4951-8caf-33de68e0e598",
   "metadata": {},
   "outputs": [],
   "source": [
    "assert x_train.shape[0] == y_train.shape[0]\n",
    "assert x_test.shape[0] == y_test.shape[0]"
   ]
  },
  {
   "cell_type": "code",
   "execution_count": 42,
   "id": "938ba5a7-fa66-4096-bd93-b2d5acbb5ba3",
   "metadata": {},
   "outputs": [
    {
     "data": {
      "image/png": "[encoded data removed]",
      "text/plain": [
       "<Figure size 576x576 with 1 Axes>"
      ]
     },
     "metadata": {},
     "output_type": "display_data"
    }
   ],
   "source": [
    "plt.figure(figsize=(8,8))\n",
    "sns.scatterplot(data=x_train,x = x_train[:,-1],y = x_train[:,-2],hue=y_train)\n",
    "plt.xlabel(\"${x_1}$\")\n",
    "plt.ylabel(\"${x_2}$\")\n",
    "plt.show()"
   ]
  },
  {
   "cell_type": "code",
   "execution_count": 43,
   "id": "ef60a099-2dc6-48ed-83b1-a6bd66f55cfd",
   "metadata": {},
   "outputs": [],
   "source": [
    "log_reg_poly = LogisticRegression()"
   ]
  },
  {
   "cell_type": "code",
   "execution_count": 46,
   "id": "9c39f0c1-974f-4fff-b012-fbd40d5d52fe",
   "metadata": {},
   "outputs": [
    {
     "data": {
      "text/plain": [
       "array([ 20.30752203,   0.03347575,  -0.13679106, -24.87660844,\n",
       "        -0.1416683 , -24.75152524])"
      ]
     },
     "execution_count": 46,
     "metadata": {},
     "output_type": "execute_result"
    }
   ],
   "source": [
    "log_reg_poly.gradient_descent(x_train,y_train,10000,0,0.01)"
   ]
  },
  {
   "cell_type": "code",
   "execution_count": 47,
   "id": "b4cc5624-5ec8-46c9-a8aa-a1760f0ed798",
   "metadata": {},
   "outputs": [
    {
     "data": {
      "image/png": "[encoded data removed]",
      "text/plain": [
       "<Figure size 432x288 with 1 Axes>"
      ]
     },
     "metadata": {},
     "output_type": "display_data"
    }
   ],
   "source": [
    "plot_learning_curves(log_reg_poly.errors)"
   ]
  },
  {
   "cell_type": "code",
   "execution_count": 49,
   "id": "3e148790-e870-4af5-9621-2d3c8721549b",
   "metadata": {},
   "outputs": [],
   "source": [
    "y_test_hat = log_reg_poly.predict(x_test)"
   ]
  },
  {
   "cell_type": "code",
   "execution_count": 50,
   "id": "3abc998f-48b6-4b0e-8b34-3e1f340fbb4b",
   "metadata": {},
   "outputs": [
    {
     "name": "stdout",
     "output_type": "stream",
     "text": [
      "              precision    recall  f1-score   support\n",
      "\n",
      "           0       1.00      1.00      1.00        13\n",
      "           1       1.00      1.00      1.00        12\n",
      "\n",
      "    accuracy                           1.00        25\n",
      "   macro avg       1.00      1.00      1.00        25\n",
      "weighted avg       1.00      1.00      1.00        25\n",
      "\n"
     ]
    }
   ],
   "source": [
    "from sklearn.metrics import classification_report\n",
    "print(classification_report(y_test,y_test_hat,zero_division=0))"
   ]
  },
  {
   "cell_type": "markdown",
   "id": "e9ede655-4408-4e1f-b8a2-b27f09c1e2dc",
   "metadata": {},
   "source": [
    "# Logistic Regression Visualization"
   ]
  },
  {
   "cell_type": "code",
   "execution_count": 51,
   "id": "5a4f0955-dc5b-40cb-a6ad-d4ca63caa95e",
   "metadata": {},
   "outputs": [],
   "source": [
    "from matplotlib import cm\n",
    "from matplotlib.colors import colorConverter,ListedColormap"
   ]
  },
  {
   "cell_type": "markdown",
   "id": "39334b33-a407-4385-b712-7715ea93e510",
   "metadata": {},
   "source": [
    "### Step by Step proccess of visualization\n",
    "**1.** Generate the grid of weight vectors\n",
    "**2.** For each point in the grid calculate the crossentropy loss on fixed training set\n",
    "**3.** Plot countours of weight and loss"
   ]
  },
  {
   "cell_type": "code",
   "execution_count": 64,
   "id": "456a1023-24e9-4f09-9886-1ca5542cce53",
   "metadata": {},
   "outputs": [],
   "source": [
    "log_res_vis = LogisticRegression()"
   ]
  },
  {
   "cell_type": "code",
   "execution_count": 65,
   "id": "2c067c1a-cccc-462a-9f86-e252c5404f30",
   "metadata": {},
   "outputs": [],
   "source": [
    "feature_matrix,label_vector = create_dataset()"
   ]
  },
  {
   "cell_type": "code",
   "execution_count": 66,
   "id": "79aec38c-b76b-4203-8aa4-42e352e98b27",
   "metadata": {},
   "outputs": [],
   "source": [
    "feature_matrix_bias = polynomail_transform(feature_matrix,degree=1)\n",
    "x_train,x_test,y_train,y_test = train_test_split(feature_matrix_bias,label_vector)"
   ]
  },
  {
   "cell_type": "markdown",
   "id": "1db7b6b0-20e0-4994-baf8-8d82f06f5e2d",
   "metadata": {},
   "source": [
    "### Create grid of 25 weights"
   ]
  },
  {
   "cell_type": "code",
   "execution_count": 67,
   "id": "da03f118-fa73-4c96-a533-5bbb30575019",
   "metadata": {},
   "outputs": [],
   "source": [
    "point_count = 25\n",
    "w1 = np.linspace(-5,5,num=point_count)\n",
    "w2 = np.linspace(-5,5,num=point_count)\n",
    "w1_list, w2_list = np.meshgrid(w1,w2)"
   ]
  },
  {
   "cell_type": "markdown",
   "id": "d1e6422e-eb30-4243-9958-fac9f8fb4711",
   "metadata": {},
   "source": [
    "### Calculate loss at each grid"
   ]
  },
  {
   "cell_type": "code",
   "execution_count": 68,
   "id": "4e584dab-9c63-4cc2-a0b4-2731f5c7ae12",
   "metadata": {},
   "outputs": [],
   "source": [
    "loss = np.zeros((point_count,point_count))\n",
    "for i in range(point_count):\n",
    "    for j in range(point_count):\n",
    "        weight_vector = np.array([0,w1_list[i,j],w2_list[i,j]])\n",
    "        log_res_vis.set_weight_vector(weight_vector)\n",
    "        loss[i,j] = log_res_vis.loss(x_train,y_train,reg_rate=0)"
   ]
  },
  {
   "cell_type": "code",
   "execution_count": 71,
   "id": "76015744-aba8-4e00-b4ac-7e4f6abb8f49",
   "metadata": {},
   "outputs": [
    {
     "data": {
      "image/png": "[encoded data removed]",
      "text/plain": [
       "<Figure size 432x288 with 2 Axes>"
      ]
     },
     "metadata": {},
     "output_type": "display_data"
    }
   ],
   "source": [
    "plt.figure(figsize=(6,4))\n",
    "plt.contourf(w1_list,w2_list,loss,20,cmap = cm.viridis)\n",
    "cbar = plt.colorbar()\n",
    "cbar.ax.set_ylabel(\"$J(\\mathbf{w})$\")\n",
    "plt.xlabel('$w_1$')\n",
    "plt.ylabel('$w_2$')\n",
    "plt.title(\"Loss Function Countour\")\n",
    "plt.grid()\n",
    "plt.show()"
   ]
  },
  {
   "cell_type": "code",
   "execution_count": 73,
   "id": "ab43e8d5-3701-401d-8428-b68e6fcb4823",
   "metadata": {},
   "outputs": [
    {
     "data": {
      "text/plain": [
       "array([0.82709756, 4.23524864, 4.23367771])"
      ]
     },
     "execution_count": 73,
     "metadata": {},
     "output_type": "execute_result"
    }
   ],
   "source": [
    "log_res_vis.gradient_descent(x_train,y_train,num_epochs=1000,reg_rate=0,lr=0.01)"
   ]
  },
  {
   "cell_type": "markdown",
   "id": "38d30c08-a0c5-4b51-9510-26c48abc51c3",
   "metadata": {},
   "source": [
    "### Gradient Descent Trajectory"
   ]
  },
  {
   "cell_type": "code",
   "execution_count": 88,
   "id": "7b178e7d-185b-4c44-864e-72e86a24f82f",
   "metadata": {},
   "outputs": [
    {
     "data": {
      "image/png": "[encoded data removed]",
      "text/plain": [
       "<Figure size 432x288 with 2 Axes>"
      ]
     },
     "metadata": {},
     "output_type": "display_data"
    }
   ],
   "source": [
    "plt.figure(figsize=(6,4))\n",
    "plt.contourf(w1_list,w2_list,loss,20,alpha = 0.75,cmap = cm.viridis)\n",
    "cbar = plt.colorbar()\n",
    "cbar.ax.set_ylabel('loss')\n",
    "plt.xlabel(\"${w_1}$\")\n",
    "plt.ylabel(\"${w_2}$\")\n",
    "\n",
    "#Plotting the weights after few epochs\n",
    "for i in range(1,900,100):\n",
    "    w1 = log_res_vis.weights[(i - 1)]\n",
    "    w2 = log_res_vis.weights[(i+100)]\n",
    "    \n",
    "    plt.plot(w1[1],w1[2],marker = 'o',color = 'c')\n",
    "    plt.plot([w1[1],w2[1]],[w1[2],w2[2]],linestyle = '-',color='b')\n",
    "    \n",
    "w1 = log_res_vis.weights[-1]\n",
    "plt.plot(w1[1],w1[2],marker = 'o',color = 'r')\n",
    "\n",
    "plt.grid()\n",
    "plt.show()"
   ]
  },
  {
   "cell_type": "code",
   "execution_count": 3,
   "id": "322f8ea9-fc76-4651-9be0-04bd2ba7ece1",
   "metadata": {},
   "outputs": [],
   "source": [
    "w = np.array([0.1,0.2,0.3])"
   ]
  },
  {
   "cell_type": "code",
   "execution_count": 6,
   "id": "1222214d",
   "metadata": {},
   "outputs": [
    {
     "data": {
      "text/plain": [
       "0.37416573867739417"
      ]
     },
     "execution_count": 6,
     "metadata": {},
     "output_type": "execute_result"
    }
   ],
   "source": [
    "np.sqrt(np.dot(w,w))"
   ]
  },
  {
   "cell_type": "code",
   "execution_count": null,
   "id": "7a14cf0c",
   "metadata": {},
   "outputs": [],
   "source": [
    "X = np.array([])"
   ]
  }
 ],
 "metadata": {
  "kernelspec": {
   "display_name": "Python 3 (ipykernel)",
   "language": "python",
   "name": "python3"
  },
  "language_info": {
   "codemirror_mode": {
    "name": "ipython",
    "version": 3
   },
   "file_extension": ".py",
   "mimetype": "text/x-python",
   "name": "python",
   "nbconvert_exporter": "python",
   "pygments_lexer": "ipython3",
   "version": "3.9.7"
  }
 },
 "nbformat": 4,
 "nbformat_minor": 5
}
