{
 "cells": [
  {
   "cell_type": "markdown",
   "id": "f8645c36-9b17-44e3-a9e7-2fa6c5e38c51",
   "metadata": {},
   "source": [
    "# Perceptron learning"
   ]
  },
  {
   "cell_type": "code",
   "execution_count": 1,
   "id": "4f0dd763-01a2-41fb-8cdf-cf4df1b7587c",
   "metadata": {},
   "outputs": [],
   "source": [
    "import numpy as np\n",
    "import matplotlib.pyplot as plt"
   ]
  },
  {
   "cell_type": "code",
   "execution_count": 2,
   "id": "7ca91ad6-b822-4287-86b9-ca6c674e8c40",
   "metadata": {},
   "outputs": [],
   "source": [
    "x1 = np.random.normal(loc= -3,size=100).reshape(-1,2)\n",
    "x2 = np.random.normal(loc = 3,size=100).reshape(-1,2)"
   ]
  },
  {
   "cell_type": "code",
   "execution_count": null,
   "id": "ffa04ca7-9426-4244-94a1-21a2eb3e9dca",
   "metadata": {},
   "outputs": [],
   "source": []
  }
 ],
 "metadata": {
  "kernelspec": {
   "display_name": "Python 3 (ipykernel)",
   "language": "python",
   "name": "python3"
  },
  "language_info": {
   "codemirror_mode": {
    "name": "ipython",
    "version": 3
   },
   "file_extension": ".py",
   "mimetype": "text/x-python",
   "name": "python",
   "nbconvert_exporter": "python",
   "pygments_lexer": "ipython3",
   "version": "3.9.7"
  }
 },
 "nbformat": 4,
 "nbformat_minor": 5
}
