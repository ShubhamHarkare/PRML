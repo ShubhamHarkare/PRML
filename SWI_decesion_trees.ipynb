{
 "cells": [
  {
   "cell_type": "code",
   "execution_count": 1,
   "id": "8b86e650",
   "metadata": {},
   "outputs": [],
   "source": [
    "import numpy as np\n",
    "import pandas as pd"
   ]
  },
  {
   "cell_type": "code",
   "execution_count": 2,
   "id": "10587244",
   "metadata": {},
   "outputs": [
    {
     "data": {
      "text/plain": [
       "2.220446049250313e-16"
      ]
     },
     "execution_count": 2,
     "metadata": {},
     "output_type": "execute_result"
    }
   ],
   "source": [
    "eps = np.finfo(float).eps\n",
    "eps"
   ]
  },
  {
   "cell_type": "markdown",
   "id": "b80d438d",
   "metadata": {},
   "source": [
    "# Generating Dataset"
   ]
  },
  {
   "cell_type": "code",
   "execution_count": 3,
   "id": "5cad47f4",
   "metadata": {},
   "outputs": [],
   "source": [
    "Age = 'junior,middle,senior,senior,middle,junior,junior,middle,middle,junior,junior,senior,middle,junior,junior,senior,senior'.split(',')\n",
    "Married = 'yes,no,no,no,yes,no,yes,yes,no,no,no,yes,yes,no,no,yes,yes'.split(',')\n",
    "Salary = 'high,low,low,low,high,high,low,high,low,low,high,low,high,high,high,high,high'.split(',')\n",
    "Home_owner = 'yes,yes,no,yes,yes,yes,yes,no,no,no,yes,no,yes,yes,no,yes,no'.split(',')\n",
    "Loan_worthy = 'yes,no,no,no,yes,yes,yes,yes,no,no,no,yes,yes,yes,no,yes,yes'.split(',')"
   ]
  },
  {
   "cell_type": "code",
   "execution_count": 4,
   "id": "77e54266",
   "metadata": {},
   "outputs": [],
   "source": [
    "df = pd.DataFrame()"
   ]
  },
  {
   "cell_type": "code",
   "execution_count": 14,
   "id": "f13984b1",
   "metadata": {},
   "outputs": [],
   "source": [
    "df[\"Age\"] = Age\n",
    "df[\"Married\"] = Married\n",
    "df['Salary'] = Salary\n",
    "df[\"Home_owner\"] = Home_owner\n",
    "df['Loan_worthy'] = Loan_worthy"
   ]
  },
  {
   "cell_type": "code",
   "execution_count": 15,
   "id": "04dd7085",
   "metadata": {},
   "outputs": [
    {
     "data": {
      "text/plain": [
       "(17, 5)"
      ]
     },
     "execution_count": 15,
     "metadata": {},
     "output_type": "execute_result"
    }
   ],
   "source": [
    "df.shape"
   ]
  },
  {
   "cell_type": "code",
   "execution_count": 16,
   "id": "05de61f0",
   "metadata": {},
   "outputs": [
    {
     "data": {
      "text/html": [
       "<div>\n",
       "<style scoped>\n",
       "    .dataframe tbody tr th:only-of-type {\n",
       "        vertical-align: middle;\n",
       "    }\n",
       "\n",
       "    .dataframe tbody tr th {\n",
       "        vertical-align: top;\n",
       "    }\n",
       "\n",
       "    .dataframe thead th {\n",
       "        text-align: right;\n",
       "    }\n",
       "</style>\n",
       "<table border=\"1\" class=\"dataframe\">\n",
       "  <thead>\n",
       "    <tr style=\"text-align: right;\">\n",
       "      <th></th>\n",
       "      <th>Age</th>\n",
       "      <th>Married</th>\n",
       "      <th>Salary</th>\n",
       "      <th>Home_owner</th>\n",
       "      <th>Loan_worthy</th>\n",
       "    </tr>\n",
       "  </thead>\n",
       "  <tbody>\n",
       "    <tr>\n",
       "      <th>0</th>\n",
       "      <td>junior</td>\n",
       "      <td>yes</td>\n",
       "      <td>high</td>\n",
       "      <td>yes</td>\n",
       "      <td>yes</td>\n",
       "    </tr>\n",
       "    <tr>\n",
       "      <th>1</th>\n",
       "      <td>middle</td>\n",
       "      <td>no</td>\n",
       "      <td>low</td>\n",
       "      <td>yes</td>\n",
       "      <td>no</td>\n",
       "    </tr>\n",
       "    <tr>\n",
       "      <th>2</th>\n",
       "      <td>senior</td>\n",
       "      <td>no</td>\n",
       "      <td>low</td>\n",
       "      <td>no</td>\n",
       "      <td>no</td>\n",
       "    </tr>\n",
       "    <tr>\n",
       "      <th>3</th>\n",
       "      <td>senior</td>\n",
       "      <td>no</td>\n",
       "      <td>low</td>\n",
       "      <td>yes</td>\n",
       "      <td>no</td>\n",
       "    </tr>\n",
       "    <tr>\n",
       "      <th>4</th>\n",
       "      <td>middle</td>\n",
       "      <td>yes</td>\n",
       "      <td>high</td>\n",
       "      <td>yes</td>\n",
       "      <td>yes</td>\n",
       "    </tr>\n",
       "    <tr>\n",
       "      <th>5</th>\n",
       "      <td>junior</td>\n",
       "      <td>no</td>\n",
       "      <td>high</td>\n",
       "      <td>yes</td>\n",
       "      <td>yes</td>\n",
       "    </tr>\n",
       "    <tr>\n",
       "      <th>6</th>\n",
       "      <td>junior</td>\n",
       "      <td>yes</td>\n",
       "      <td>low</td>\n",
       "      <td>yes</td>\n",
       "      <td>yes</td>\n",
       "    </tr>\n",
       "    <tr>\n",
       "      <th>7</th>\n",
       "      <td>middle</td>\n",
       "      <td>yes</td>\n",
       "      <td>high</td>\n",
       "      <td>no</td>\n",
       "      <td>yes</td>\n",
       "    </tr>\n",
       "    <tr>\n",
       "      <th>8</th>\n",
       "      <td>middle</td>\n",
       "      <td>no</td>\n",
       "      <td>low</td>\n",
       "      <td>no</td>\n",
       "      <td>no</td>\n",
       "    </tr>\n",
       "    <tr>\n",
       "      <th>9</th>\n",
       "      <td>junior</td>\n",
       "      <td>no</td>\n",
       "      <td>low</td>\n",
       "      <td>no</td>\n",
       "      <td>no</td>\n",
       "    </tr>\n",
       "    <tr>\n",
       "      <th>10</th>\n",
       "      <td>junior</td>\n",
       "      <td>no</td>\n",
       "      <td>high</td>\n",
       "      <td>yes</td>\n",
       "      <td>no</td>\n",
       "    </tr>\n",
       "    <tr>\n",
       "      <th>11</th>\n",
       "      <td>senior</td>\n",
       "      <td>yes</td>\n",
       "      <td>low</td>\n",
       "      <td>no</td>\n",
       "      <td>yes</td>\n",
       "    </tr>\n",
       "    <tr>\n",
       "      <th>12</th>\n",
       "      <td>middle</td>\n",
       "      <td>yes</td>\n",
       "      <td>high</td>\n",
       "      <td>yes</td>\n",
       "      <td>yes</td>\n",
       "    </tr>\n",
       "    <tr>\n",
       "      <th>13</th>\n",
       "      <td>junior</td>\n",
       "      <td>no</td>\n",
       "      <td>high</td>\n",
       "      <td>yes</td>\n",
       "      <td>yes</td>\n",
       "    </tr>\n",
       "    <tr>\n",
       "      <th>14</th>\n",
       "      <td>junior</td>\n",
       "      <td>no</td>\n",
       "      <td>high</td>\n",
       "      <td>no</td>\n",
       "      <td>no</td>\n",
       "    </tr>\n",
       "    <tr>\n",
       "      <th>15</th>\n",
       "      <td>senior</td>\n",
       "      <td>yes</td>\n",
       "      <td>high</td>\n",
       "      <td>yes</td>\n",
       "      <td>yes</td>\n",
       "    </tr>\n",
       "    <tr>\n",
       "      <th>16</th>\n",
       "      <td>senior</td>\n",
       "      <td>yes</td>\n",
       "      <td>high</td>\n",
       "      <td>no</td>\n",
       "      <td>yes</td>\n",
       "    </tr>\n",
       "  </tbody>\n",
       "</table>\n",
       "</div>"
      ],
      "text/plain": [
       "       Age Married Salary Home_owner Loan_worthy\n",
       "0   junior     yes   high        yes         yes\n",
       "1   middle      no    low        yes          no\n",
       "2   senior      no    low         no          no\n",
       "3   senior      no    low        yes          no\n",
       "4   middle     yes   high        yes         yes\n",
       "5   junior      no   high        yes         yes\n",
       "6   junior     yes    low        yes         yes\n",
       "7   middle     yes   high         no         yes\n",
       "8   middle      no    low         no          no\n",
       "9   junior      no    low         no          no\n",
       "10  junior      no   high        yes          no\n",
       "11  senior     yes    low         no         yes\n",
       "12  middle     yes   high        yes         yes\n",
       "13  junior      no   high        yes         yes\n",
       "14  junior      no   high         no          no\n",
       "15  senior     yes   high        yes         yes\n",
       "16  senior     yes   high         no         yes"
      ]
     },
     "execution_count": 16,
     "metadata": {},
     "output_type": "execute_result"
    }
   ],
   "source": [
    "df"
   ]
  },
  {
   "cell_type": "markdown",
   "id": "5f68aef6",
   "metadata": {},
   "source": [
    "### Finding entropy of the entire dataset"
   ]
  },
  {
   "cell_type": "code",
   "execution_count": 17,
   "id": "10975d42",
   "metadata": {},
   "outputs": [
    {
     "data": {
      "text/plain": [
       "0.977417817528171"
      ]
     },
     "execution_count": 17,
     "metadata": {},
     "output_type": "execute_result"
    }
   ],
   "source": [
    "def entire_entropy(df):\n",
    "    target = df.keys()[-1]\n",
    "    values,counts = np.unique(df[target],return_counts=True)\n",
    "    p = counts/np.sum(counts)\n",
    "    entropy = -p*np.log2(p+eps) \n",
    "    return np.sum(entropy)\n",
    "entire_entropy(df)"
   ]
  },
  {
   "cell_type": "markdown",
   "id": "9c0c0b43",
   "metadata": {},
   "source": [
    "### Finding the gini index of the dataset"
   ]
  },
  {
   "cell_type": "code",
   "execution_count": 18,
   "id": "6d074ad5",
   "metadata": {},
   "outputs": [
    {
     "data": {
      "text/plain": [
       "0.4844290657439446"
      ]
     },
     "execution_count": 18,
     "metadata": {},
     "output_type": "execute_result"
    }
   ],
   "source": [
    "def entire_gini(df):\n",
    "    target = df.keys()[-1]\n",
    "    values,counts = np.unique(df[target],return_counts=True)\n",
    "    p = counts/np.sum(counts)\n",
    "    \n",
    "    return np.sum(p*(1-p))\n",
    "    \n",
    "entire_gini(df)"
   ]
  },
  {
   "cell_type": "markdown",
   "id": "03ec4d5e",
   "metadata": {},
   "source": [
    "### Entropy of attribute"
   ]
  },
  {
   "cell_type": "code",
   "execution_count": 19,
   "id": "761c8d6a",
   "metadata": {},
   "outputs": [],
   "source": [
    "def entropy_attribute(df,attribute):\n",
    "    target = df.keys()[-1]\n",
    "    values_in_target = np.unique(df[target])\n",
    "    \n",
    "    values_in_attribute = np.unique(df[attribute])\n",
    "    attribute_entropy = 0\n",
    "    \n",
    "    for value_a in values_in_attribute:\n",
    "        overall_entropy = 0\n",
    "        for value__t in values_in_target:\n",
    "            num = len(df[attribute][df[attribute]==value_a][df[target]==value__t])\n",
    "            den = len(df[attribute][df[attribute]==value_a])\n",
    "            p = num/(den+eps)\n",
    "            overall_entropy += -p*np.log2(p+eps)\n",
    "            \n",
    "        p2 = den/len(df)\n",
    "        attribute_entropy += p2*overall_entropy\n",
    "    return abs(attribute_entropy)"
   ]
  },
  {
   "cell_type": "code",
   "execution_count": 20,
   "id": "8f1b6614",
   "metadata": {},
   "outputs": [
    {
     "data": {
      "text/plain": [
       "0.976829582163908"
      ]
     },
     "execution_count": 20,
     "metadata": {},
     "output_type": "execute_result"
    }
   ],
   "source": [
    "entropy_attribute(df,'Age')"
   ]
  },
  {
   "cell_type": "code",
   "execution_count": 21,
   "id": "28139d24",
   "metadata": {},
   "outputs": [
    {
     "data": {
      "text/plain": [
       "'Married'"
      ]
     },
     "execution_count": 21,
     "metadata": {},
     "output_type": "execute_result"
    }
   ],
   "source": [
    "def best_attribute_to_divide(df):\n",
    "    target = df.keys()[-1]\n",
    "    attributes = df.keys()[:-1]\n",
    "    E = []\n",
    "    for attribute in attributes:\n",
    "        E.append(entropy_attribute(df,attribute))\n",
    "    best_attribute = np.argmin(E)\n",
    "    return attributes[best_attribute]\n",
    "best_attribute_to_divide(df)"
   ]
  },
  {
   "cell_type": "markdown",
   "id": "d56b4270",
   "metadata": {},
   "source": [
    "# Decesion Trees For Rergression"
   ]
  },
  {
   "cell_type": "code",
   "execution_count": 22,
   "id": "52575670",
   "metadata": {},
   "outputs": [],
   "source": [
    "present_price = np.array([5.59, 9.54, 9.85, 4.15, 6.87, 9.83, 8.12, 8.61, 8.89, 8.92]).reshape(10, -1)\n",
    "km_driven = np.array([27000, 43000, 6900, 5200, 42450, 2071, 18796, 33429, 20273, 42376]).reshape(10, -1)\n",
    "age = np.array([8, 9, 5, 11, 8, 4, 7, 7, 6, 7]).reshape(10, -1)\n",
    "selling_price = np.array([3.35, 4.75, 7.25, 2.85, 4.6, 9.25, 6.75, 6.5, 8.75, 7.45]).reshape(10, -1)"
   ]
  },
  {
   "cell_type": "code",
   "execution_count": 23,
   "id": "fd7dec6d",
   "metadata": {},
   "outputs": [],
   "source": [
    "df = np.concatenate([present_price,km_driven,age,selling_price],axis=1)"
   ]
  },
  {
   "cell_type": "code",
   "execution_count": 24,
   "id": "5502532c",
   "metadata": {},
   "outputs": [
    {
     "data": {
      "text/plain": [
       "array([[5.5900e+00, 2.7000e+04, 8.0000e+00, 3.3500e+00],\n",
       "       [9.5400e+00, 4.3000e+04, 9.0000e+00, 4.7500e+00],\n",
       "       [9.8500e+00, 6.9000e+03, 5.0000e+00, 7.2500e+00],\n",
       "       [4.1500e+00, 5.2000e+03, 1.1000e+01, 2.8500e+00],\n",
       "       [6.8700e+00, 4.2450e+04, 8.0000e+00, 4.6000e+00],\n",
       "       [9.8300e+00, 2.0710e+03, 4.0000e+00, 9.2500e+00],\n",
       "       [8.1200e+00, 1.8796e+04, 7.0000e+00, 6.7500e+00],\n",
       "       [8.6100e+00, 3.3429e+04, 7.0000e+00, 6.5000e+00],\n",
       "       [8.8900e+00, 2.0273e+04, 6.0000e+00, 8.7500e+00],\n",
       "       [8.9200e+00, 4.2376e+04, 7.0000e+00, 7.4500e+00]])"
      ]
     },
     "execution_count": 24,
     "metadata": {},
     "output_type": "execute_result"
    }
   ],
   "source": [
    "df"
   ]
  },
  {
   "cell_type": "markdown",
   "id": "9b11e0bd",
   "metadata": {},
   "source": [
    "### Split function"
   ]
  },
  {
   "cell_type": "code",
   "execution_count": 25,
   "id": "d1de6bfe",
   "metadata": {},
   "outputs": [],
   "source": [
    "def split(dataset,features_index,threshold):\n",
    "    right = []\n",
    "    left = []\n",
    "    for rows in dataset:\n",
    "        if rows[features_index]>=threshold:\n",
    "            right.append(rows)\n",
    "        else:\n",
    "            left.append(rows)\n",
    "        \n",
    "    return np.array(right),np.array(left)\n",
    "data_right,data_left = split(df,0,6)"
   ]
  },
  {
   "cell_type": "code",
   "execution_count": 26,
   "id": "6bacc88f",
   "metadata": {},
   "outputs": [
    {
     "data": {
      "text/plain": [
       "2.3256249999999996"
      ]
     },
     "execution_count": 26,
     "metadata": {},
     "output_type": "execute_result"
    }
   ],
   "source": [
    "def variance_reduction(df,l_child,r_child):\n",
    "    weight_l = len(l_child)/len(df)\n",
    "    weight_2 = len(r_child)/len(df)\n",
    "    \n",
    "    reduction = np.var(df) - (weight_l*np.var(l_child) + weight_2*np.var(r_child))\n",
    "    \n",
    "    return reduction\n",
    "variance_reduction(df[:,-1],data_left[:,-1],data_right[:,-1])"
   ]
  },
  {
   "cell_type": "code",
   "execution_count": 27,
   "id": "7d399b47",
   "metadata": {},
   "outputs": [
    {
     "data": {
      "text/plain": [
       "3.1"
      ]
     },
     "execution_count": 27,
     "metadata": {},
     "output_type": "execute_result"
    }
   ],
   "source": [
    "def node_value(Y):\n",
    "    return np.sum(Y)/len(Y)\n",
    "\n",
    "node_value(data_left[:,-1])"
   ]
  },
  {
   "cell_type": "code",
   "execution_count": 40,
   "id": "4a74970a",
   "metadata": {},
   "outputs": [],
   "source": [
    "def get_best_split(dataset):\n",
    "    n_samples,n_features = dataset.shape\n",
    "    best_split={}\n",
    "    max_var_red = -float('inf')\n",
    "    \n",
    "    for feature_index in range(n_features):\n",
    "        features_values = dataset[:,feature_index]\n",
    "        possible_thresholds = np.unique(features_values)\n",
    "        \n",
    "        \n",
    "        for threshold in possible_thresholds:\n",
    "            dataset_left,dataset_right = split(dataset,feature_index,threshold)\n",
    "            \n",
    "            if(len(dataset_left)>0) and len(dataset_right)>0:\n",
    "                y,left__y,right__y = dataset[:,-1],dataset_left[:,-1],dataset_right[:,-1]\n",
    "                \n",
    "                curr_var_red = variance_reduction(y,left__y,right__y)\n",
    "                \n",
    "                if curr_var_red> max_var_red:\n",
    "                    best_split['feature_index'] = feature_index\n",
    "                    best_split['threshold'] = threshold\n",
    "                    best_split['dataset_left'] = dataset_left\n",
    "                    best_split['dataset_right'] = dataset_right\n",
    "                    best_split['var_reduced'] = curr_var_red\n",
    "                    \n",
    "                    max_var_red=curr_var_red\n",
    "                     \n",
    "    return best_split\n",
    "    \n",
    "    \n",
    "    \n",
    "    "
   ]
  },
  {
   "cell_type": "code",
   "execution_count": 41,
   "id": "1eebfe4e",
   "metadata": {},
   "outputs": [
    {
     "data": {
      "text/plain": [
       "{'feature_index': 2,\n",
       " 'threshold': 8.0,\n",
       " 'dataset_left': array([[5.590e+00, 2.700e+04, 8.000e+00, 3.350e+00],\n",
       "        [9.540e+00, 4.300e+04, 9.000e+00, 4.750e+00],\n",
       "        [4.150e+00, 5.200e+03, 1.100e+01, 2.850e+00],\n",
       "        [6.870e+00, 4.245e+04, 8.000e+00, 4.600e+00]]),\n",
       " 'dataset_right': array([[9.8500e+00, 6.9000e+03, 5.0000e+00, 7.2500e+00],\n",
       "        [9.8300e+00, 2.0710e+03, 4.0000e+00, 9.2500e+00],\n",
       "        [8.1200e+00, 1.8796e+04, 7.0000e+00, 6.7500e+00],\n",
       "        [8.6100e+00, 3.3429e+04, 7.0000e+00, 6.5000e+00],\n",
       "        [8.8900e+00, 2.0273e+04, 6.0000e+00, 8.7500e+00],\n",
       "        [8.9200e+00, 4.2376e+04, 7.0000e+00, 7.4500e+00]]),\n",
       " 'var_reduced': 3.412604166666666}"
      ]
     },
     "execution_count": 41,
     "metadata": {},
     "output_type": "execute_result"
    }
   ],
   "source": [
    "get_best_split(df)"
   ]
  },
  {
   "cell_type": "code",
   "execution_count": null,
   "id": "4143e2a0",
   "metadata": {},
   "outputs": [],
   "source": []
  }
 ],
 "metadata": {
  "kernelspec": {
   "display_name": "Python 3 (ipykernel)",
   "language": "python",
   "name": "python3"
  },
  "language_info": {
   "codemirror_mode": {
    "name": "ipython",
    "version": 3
   },
   "file_extension": ".py",
   "mimetype": "text/x-python",
   "name": "python",
   "nbconvert_exporter": "python",
   "pygments_lexer": "ipython3",
   "version": "3.9.7"
  }
 },
 "nbformat": 4,
 "nbformat_minor": 5
}
