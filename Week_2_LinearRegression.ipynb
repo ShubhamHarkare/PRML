{
 "cells": [
  {
   "cell_type": "markdown",
   "id": "cd866d9c",
   "metadata": {},
   "source": [
    "## Linear Regression"
   ]
  },
  {
   "cell_type": "markdown",
   "id": "512a8ec7",
   "metadata": {},
   "source": [
    "###     1. Training data"
   ]
  },
  {
   "cell_type": "code",
   "execution_count": 1,
   "id": "b90bc20b",
   "metadata": {},
   "outputs": [],
   "source": [
    "from IPython.display import display,Math,Latex\n",
    "import numpy as np\n",
    "import matplotlib.pyplot as plt\n",
    "import seaborn as sns"
   ]
  },
  {
   "cell_type": "code",
   "execution_count": 5,
   "id": "08ef8977",
   "metadata": {},
   "outputs": [],
   "source": [
    "w1 = 3\n",
    "w0 =4\n",
    "n =100\n",
    "\n",
    "\n",
    "X = 10*np.random.rand(n,)\n",
    "\n",
    "y = w0 + w1*X + np.random.randn(n,)"
   ]
  },
  {
   "cell_type": "code",
   "execution_count": 6,
   "id": "128db908",
   "metadata": {},
   "outputs": [
    {
     "data": {
      "text/plain": [
       "((100,), (100,))"
      ]
     },
     "execution_count": 6,
     "metadata": {},
     "output_type": "execute_result"
    }
   ],
   "source": [
    "X.shape,y.shape"
   ]
  },
  {
   "cell_type": "markdown",
   "id": "0194f84f",
   "metadata": {},
   "source": [
    "### 2. Train-test split"
   ]
  },
  {
   "cell_type": "code",
   "execution_count": 7,
   "id": "57514e3a",
   "metadata": {},
   "outputs": [],
   "source": [
    "from sklearn.model_selection import train_test_split\n",
    "\n",
    "X_train,X_test,y_train,y_test = train_test_split(X,y,test_size=0.2,random_state=0)"
   ]
  },
  {
   "cell_type": "code",
   "execution_count": 8,
   "id": "e574a9d2",
   "metadata": {},
   "outputs": [
    {
     "data": {
      "text/plain": [
       "((80,), (80,), (20,), (20,))"
      ]
     },
     "execution_count": 8,
     "metadata": {},
     "output_type": "execute_result"
    }
   ],
   "source": [
    "X_train.shape,y_train.shape,X_test.shape,y_test.shape"
   ]
  },
  {
   "cell_type": "code",
   "execution_count": 9,
   "id": "2baa0a91",
   "metadata": {},
   "outputs": [
    {
     "data": {
      "image/png": "[encoded data removed]",
      "text/plain": [
       "<Figure size 432x288 with 1 Axes>"
      ]
     },
     "metadata": {
      "needs_background": "light"
     },
     "output_type": "display_data"
    }
   ],
   "source": [
    "plt.plot(X_train,y_train,'bo')\n",
    "plt.grid(True)\n",
    "plt.xlabel(\"Data\")\n",
    "plt.ylabel(\"Label\")\n",
    "plt.show()\n"
   ]
  },
  {
   "cell_type": "markdown",
   "id": "d33bca0d",
   "metadata": {},
   "source": [
    "### 3. Adding dummy features"
   ]
  },
  {
   "cell_type": "code",
   "execution_count": 2,
   "id": "1b5638c2",
   "metadata": {},
   "outputs": [],
   "source": [
    "def add_dummy_features(X:np.ndarray):\n",
    "    return np.column_stack((np.ones(X.shape[0]),X))"
   ]
  },
  {
   "cell_type": "code",
   "execution_count": 3,
   "id": "210e03f5",
   "metadata": {},
   "outputs": [],
   "source": [
    "X = add_dummy_features(np.array([[3,2,5],[9,4,7]]))"
   ]
  },
  {
   "cell_type": "code",
   "execution_count": 4,
   "id": "1b6f0864-d072-4112-b404-1e6a69c1f592",
   "metadata": {},
   "outputs": [
    {
     "data": {
      "text/plain": [
       "array([[1., 3., 2., 5.],\n",
       "       [1., 9., 4., 7.]])"
      ]
     },
     "execution_count": 4,
     "metadata": {},
     "output_type": "execute_result"
    }
   ],
   "source": [
    "X"
   ]
  },
  {
   "cell_type": "code",
   "execution_count": 50,
   "id": "6d343dad",
   "metadata": {},
   "outputs": [],
   "source": [
    "def predict(X,w):\n",
    "    assert X.shape[-1] == w.shape[0],f\"{X.shape} and {w.shape} are not compatible\"\n",
    "    return X @ w"
   ]
  },
  {
   "cell_type": "code",
   "execution_count": 72,
   "id": "c50a97e7",
   "metadata": {},
   "outputs": [],
   "source": [
    "w = np.array([1,1,1,1])"
   ]
  },
  {
   "cell_type": "code",
   "execution_count": 52,
   "id": "79a88dd9",
   "metadata": {},
   "outputs": [
    {
     "data": {
      "text/plain": [
       "array([11., 21.])"
      ]
     },
     "execution_count": 52,
     "metadata": {},
     "output_type": "execute_result"
    }
   ],
   "source": [
    "predict(X,w)"
   ]
  },
  {
   "cell_type": "code",
   "execution_count": 53,
   "id": "b7ed1514",
   "metadata": {},
   "outputs": [],
   "source": [
    "def loss(X,w,y):\n",
    "    e = predict(X,w) - y\n",
    "    return (1/2)*np.transpose(e)@e"
   ]
  },
  {
   "cell_type": "code",
   "execution_count": 54,
   "id": "bb29fd7d",
   "metadata": {},
   "outputs": [],
   "source": [
    "y = np.array([6,11])"
   ]
  },
  {
   "cell_type": "code",
   "execution_count": 55,
   "id": "809ce975",
   "metadata": {},
   "outputs": [
    {
     "data": {
      "text/plain": [
       "62.5"
      ]
     },
     "execution_count": 55,
     "metadata": {},
     "output_type": "execute_result"
    }
   ],
   "source": [
    "loss(X,w,y)"
   ]
  },
  {
   "cell_type": "markdown",
   "id": "ebb830fb",
   "metadata": {},
   "source": [
    "$${Derivative = X^{T}(Xw - Y)}$$"
   ]
  },
  {
   "cell_type": "code",
   "execution_count": 74,
   "id": "e93bfe27",
   "metadata": {},
   "outputs": [],
   "source": [
    "def calculate_gradient(X,y,w):\n",
    "    djdw = np.transpose(X)@(predict(X,w) - y)\n",
    "    return djdw"
   ]
  },
  {
   "cell_type": "code",
   "execution_count": 75,
   "id": "c4472b02",
   "metadata": {},
   "outputs": [],
   "source": [
    "djdw = calculate_gradient(X,y,w)"
   ]
  },
  {
   "cell_type": "code",
   "execution_count": 76,
   "id": "ec461a8a",
   "metadata": {},
   "outputs": [],
   "source": [
    "def weight_update(lr,grad,w):\n",
    "    return (w-lr*grad)"
   ]
  },
  {
   "cell_type": "code",
   "execution_count": 77,
   "id": "c3343bdf",
   "metadata": {},
   "outputs": [
    {
     "data": {
      "text/plain": [
       "array([ -14., -104.,  -49.,  -94.])"
      ]
     },
     "execution_count": 77,
     "metadata": {},
     "output_type": "execute_result"
    }
   ],
   "source": [
    "weight_update(1,djdw,w)"
   ]
  },
  {
   "cell_type": "code",
   "execution_count": 82,
   "id": "eb5516bb",
   "metadata": {},
   "outputs": [
    {
     "ename": "SyntaxError",
     "evalue": "positional argument follows keyword argument (Temp/ipykernel_656/2014409710.py, line 10)",
     "output_type": "error",
     "traceback": [
      "\u001b[1;36m  File \u001b[1;32m\"C:\\Users\\user\\AppData\\Local\\Temp/ipykernel_656/2014409710.py\"\u001b[1;36m, line \u001b[1;32m10\u001b[0m\n\u001b[1;33m    weight_update(lr=0.01,djdw,w)\u001b[0m\n\u001b[1;37m                                ^\u001b[0m\n\u001b[1;31mSyntaxError\u001b[0m\u001b[1;31m:\u001b[0m positional argument follows keyword argument\n"
     ]
    }
   ],
   "source": [
    "def gradient_descent(X,y,w,num_epochs,):\n",
    "    w_all = []\n",
    "    err_all = []\n",
    "    \n",
    "    for i in range(0,num_epochs):\n",
    "        w_all.append(w)\n",
    "        err_all.append(loss(X,w,y))\n",
    "        djdw = calculate_gradient(X,y,w)\n",
    "        print(i,err_all[-1])\n",
    "        weight_update(djdw,w)\n",
    "        \n",
    "    "
   ]
  },
  {
   "cell_type": "code",
   "execution_count": 81,
   "id": "a098abfa",
   "metadata": {},
   "outputs": [
    {
     "name": "stdout",
     "output_type": "stream",
     "text": [
      "0 62.5\n"
     ]
    },
    {
     "ename": "NameError",
     "evalue": "name 'lr' is not defined",
     "output_type": "error",
     "traceback": [
      "\u001b[1;31m---------------------------------------------------------------------------\u001b[0m",
      "\u001b[1;31mNameError\u001b[0m                                 Traceback (most recent call last)",
      "\u001b[1;32m~\\AppData\\Local\\Temp/ipykernel_656/475410078.py\u001b[0m in \u001b[0;36m<module>\u001b[1;34m\u001b[0m\n\u001b[1;32m----> 1\u001b[1;33m \u001b[0mgradient_descent\u001b[0m\u001b[1;33m(\u001b[0m\u001b[0mX\u001b[0m\u001b[1;33m,\u001b[0m\u001b[0my\u001b[0m\u001b[1;33m,\u001b[0m\u001b[0mw\u001b[0m\u001b[1;33m,\u001b[0m\u001b[1;36m10\u001b[0m\u001b[1;33m)\u001b[0m\u001b[1;33m\u001b[0m\u001b[1;33m\u001b[0m\u001b[0m\n\u001b[0m",
      "\u001b[1;32m~\\AppData\\Local\\Temp/ipykernel_656/277457308.py\u001b[0m in \u001b[0;36mgradient_descent\u001b[1;34m(X, y, w, num_epochs)\u001b[0m\n\u001b[0;32m      8\u001b[0m         \u001b[0mdjdw\u001b[0m \u001b[1;33m=\u001b[0m \u001b[0mcalculate_gradient\u001b[0m\u001b[1;33m(\u001b[0m\u001b[0mX\u001b[0m\u001b[1;33m,\u001b[0m\u001b[0my\u001b[0m\u001b[1;33m,\u001b[0m\u001b[0mw\u001b[0m\u001b[1;33m)\u001b[0m\u001b[1;33m\u001b[0m\u001b[1;33m\u001b[0m\u001b[0m\n\u001b[0;32m      9\u001b[0m         \u001b[0mprint\u001b[0m\u001b[1;33m(\u001b[0m\u001b[0mi\u001b[0m\u001b[1;33m,\u001b[0m\u001b[0merr_all\u001b[0m\u001b[1;33m[\u001b[0m\u001b[1;33m-\u001b[0m\u001b[1;36m1\u001b[0m\u001b[1;33m]\u001b[0m\u001b[1;33m)\u001b[0m\u001b[1;33m\u001b[0m\u001b[1;33m\u001b[0m\u001b[0m\n\u001b[1;32m---> 10\u001b[1;33m         \u001b[0mweight_update\u001b[0m\u001b[1;33m(\u001b[0m\u001b[0mlr\u001b[0m\u001b[1;33m,\u001b[0m\u001b[0mdjdw\u001b[0m\u001b[1;33m,\u001b[0m\u001b[0mw\u001b[0m\u001b[1;33m)\u001b[0m\u001b[1;33m\u001b[0m\u001b[1;33m\u001b[0m\u001b[0m\n\u001b[0m\u001b[0;32m     11\u001b[0m \u001b[1;33m\u001b[0m\u001b[0m\n\u001b[0;32m     12\u001b[0m \u001b[1;33m\u001b[0m\u001b[0m\n",
      "\u001b[1;31mNameError\u001b[0m: name 'lr' is not defined"
     ]
    }
   ],
   "source": [
    "gradient_descent(X,y,w,10)"
   ]
  },
  {
   "cell_type": "code",
   "execution_count": 176,
   "id": "e4e3d044",
   "metadata": {},
   "outputs": [],
   "source": [
    "class LinearRegression():\n",
    "    def __init__(self):\n",
    "        self.t0 = 20\n",
    "        self.t1 = 100\n",
    "        \n",
    "    def predict(self,X:np.ndarray):\n",
    "        return X @ self.w\n",
    "    \n",
    "    def loss(self,X:np.ndarray,y:np.ndarray) -> float:\n",
    "        e = self.predict(X)\n",
    "        return (1/2)*(np.transpose(e)@e)\n",
    "    def rmse(self,X:np.ndarray,y:np.ndarray) -> float:\n",
    "        return np.sqrt((2/X.shape[0])*self.loss(X,y))\n",
    "    \n",
    "    def calculate_gradient(self,X:np.ndarray,y:np.ndarray) -> np.ndarray:\n",
    "        return np.transpose(X)@(self.predict(X) - y)\n",
    "    \n",
    "    def weight_update(self,lr:float,grad:np.ndarray) -> np.ndarray:\n",
    "        return self.w - (lr*grad)\n",
    "    \n",
    "    def gradient_descent(self,X:np.ndarray,y:np.ndarray,lr:float,num_epoch:int) -> np.ndarray:\n",
    "        self.w = np.zeros(X.shape[-1])\n",
    "        w_all = []\n",
    "        err_all = []\n",
    "        \n",
    "        for epoch in range(num_epoch):\n",
    "            w_all.append(self.w)\n",
    "            err_all.append(self.loss(X,y))\n",
    "            dJdw = self.calculate_gradient(X,y)\n",
    "            self.w = self.weight_update(lr,dJdw)\n",
    "\n",
    "        return self.w,w_all,err_all\n",
    "    \n",
    "    "
   ]
  },
  {
   "cell_type": "code",
   "execution_count": 177,
   "id": "743802d7",
   "metadata": {},
   "outputs": [],
   "source": [
    "linreg = LinearRegression()"
   ]
  },
  {
   "cell_type": "code",
   "execution_count": 178,
   "id": "5b1f2744",
   "metadata": {},
   "outputs": [],
   "source": [
    "X = np.array([[1,1,3,5],[1,1,4,7]])\n"
   ]
  },
  {
   "cell_type": "code",
   "execution_count": 179,
   "id": "12cb5e84",
   "metadata": {},
   "outputs": [],
   "source": [
    "y = np.array([9,11])"
   ]
  },
  {
   "cell_type": "code",
   "execution_count": 180,
   "id": "c22464a4",
   "metadata": {},
   "outputs": [],
   "source": [
    "linreg.w = np.array([1,1,1,1])"
   ]
  },
  {
   "cell_type": "code",
   "execution_count": 181,
   "id": "8df49ba9",
   "metadata": {},
   "outputs": [
    {
     "data": {
      "text/plain": [
       "array([10, 13])"
      ]
     },
     "execution_count": 181,
     "metadata": {},
     "output_type": "execute_result"
    }
   ],
   "source": [
    "linreg.predict(X)"
   ]
  },
  {
   "cell_type": "code",
   "execution_count": 182,
   "id": "9f1429fa",
   "metadata": {},
   "outputs": [
    {
     "data": {
      "text/plain": [
       "134.5"
      ]
     },
     "execution_count": 182,
     "metadata": {},
     "output_type": "execute_result"
    }
   ],
   "source": [
    "linreg.loss(X,y)"
   ]
  },
  {
   "cell_type": "code",
   "execution_count": 183,
   "id": "eba75e87",
   "metadata": {},
   "outputs": [
    {
     "data": {
      "text/plain": [
       "11.597413504743201"
      ]
     },
     "execution_count": 183,
     "metadata": {},
     "output_type": "execute_result"
    }
   ],
   "source": [
    "linreg.rmse(X,y)"
   ]
  },
  {
   "cell_type": "code",
   "execution_count": 184,
   "id": "268d2597",
   "metadata": {},
   "outputs": [],
   "source": [
    "grad = linreg.calculate_gradient(X,y)"
   ]
  },
  {
   "cell_type": "code",
   "execution_count": 185,
   "id": "36c59194",
   "metadata": {},
   "outputs": [
    {
     "data": {
      "text/plain": [
       "array([0.97, 0.97, 0.89, 0.81])"
      ]
     },
     "execution_count": 185,
     "metadata": {},
     "output_type": "execute_result"
    }
   ],
   "source": [
    "linreg.weight_update(0.01,grad)"
   ]
  },
  {
   "cell_type": "code",
   "execution_count": 186,
   "id": "17067c92",
   "metadata": {},
   "outputs": [],
   "source": [
    "w,w_all,err = linreg.gradient_descent(X,y,0.01,10)"
   ]
  },
  {
   "cell_type": "code",
   "execution_count": 187,
   "id": "62c03a1f",
   "metadata": {},
   "outputs": [
    {
     "data": {
      "text/plain": [
       "[array([0., 0., 0., 0.]),\n",
       " array([0.2 , 0.2 , 0.71, 1.22]),\n",
       " array([0.1959, 0.1959, 0.6899, 1.1839]),\n",
       " array([0.197703, 0.197703, 0.690922, 1.184141]),\n",
       " array([0.19933342, 0.19933342, 0.69133245, 1.18333148]),\n",
       " array([0.20096703, 0.20096703, 0.69176012, 1.18255321]),\n",
       " array([0.20259876, 0.20259876, 0.69218683, 1.18177489]),\n",
       " array([0.20422874, 0.20422874, 0.69261309, 1.18099743]),\n",
       " array([0.20585699, 0.20585699, 0.6930389 , 1.18022081]),\n",
       " array([0.20748349, 0.20748349, 0.69346425, 1.17944501])]"
      ]
     },
     "execution_count": 187,
     "metadata": {},
     "output_type": "execute_result"
    }
   ],
   "source": [
    "w_all"
   ]
  },
  {
   "cell_type": "code",
   "execution_count": 188,
   "id": "6b809b58",
   "metadata": {},
   "outputs": [
    {
     "data": {
      "text/plain": [
       "[<matplotlib.lines.Line2D at 0x2040d3875e0>]"
      ]
     },
     "execution_count": 188,
     "metadata": {},
     "output_type": "execute_result"
    },
    {
     "data": {
      "image/png": "[encoded data removed]",
      "text/plain": [
       "<Figure size 432x288 with 1 Axes>"
      ]
     },
     "metadata": {
      "needs_background": "light"
     },
     "output_type": "display_data"
    }
   ],
   "source": [
    "plt.plot(np.arange(0,10),err)"
   ]
  },
  {
   "cell_type": "code",
   "execution_count": null,
   "id": "d1b378f6",
   "metadata": {},
   "outputs": [],
   "source": []
  }
 ],
 "metadata": {
  "kernelspec": {
   "display_name": "Python 3 (ipykernel)",
   "language": "python",
   "name": "python3"
  },
  "language_info": {
   "codemirror_mode": {
    "name": "ipython",
    "version": 3
   },
   "file_extension": ".py",
   "mimetype": "text/x-python",
   "name": "python",
   "nbconvert_exporter": "python",
   "pygments_lexer": "ipython3",
   "version": "3.9.7"
  }
 },
 "nbformat": 4,
 "nbformat_minor": 5
}
